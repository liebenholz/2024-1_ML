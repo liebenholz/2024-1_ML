{
  "nbformat": 4,
  "nbformat_minor": 0,
  "metadata": {
    "colab": {
      "provenance": [],
      "toc_visible": true
    },
    "kernelspec": {
      "name": "python3",
      "display_name": "Python 3"
    },
    "language_info": {
      "name": "python"
    }
  },
  "cells": [
    {
      "cell_type": "markdown",
      "source": [
        "# Installing Libraries"
      ],
      "metadata": {
        "id": "pSdr4TGRbAvC"
      }
    },
    {
      "cell_type": "code",
      "execution_count": null,
      "metadata": {
        "id": "B8-SMDK0azoe"
      },
      "outputs": [],
      "source": [
        "!pip install -q scikit-learn==1.4.1.post1 numpy pandas altair"
      ]
    },
    {
      "cell_type": "markdown",
      "source": [
        "# Ensemble Learning\n",
        "\n",
        "수업 시간에 다룬 많은 Ensemble 방법론들은 [sklearn.ensemble](https://scikit-learn.org/stable/modules/classes.html#module-sklearn.ensemble) 패키지 내에 구현되어 있다.\n",
        "\n",
        "이번 실습에서는 [Iris](https://scikit-learn.org/stable/modules/generated/sklearn.datasets.load_iris.html#sklearn.datasets.load_iris)나 [make_moons](https://scikit-learn.org/stable/modules/generated/sklearn.datasets.make_moons.html#sklearn.datasets.make_moons) 대신에, 보다 특성값 공간이 큰 데이터를 활용해보자."
      ],
      "metadata": {
        "id": "U3Y453MQbXPT"
      }
    },
    {
      "cell_type": "code",
      "source": [
        "from sklearn.datasets import load_breast_cancer\n",
        "\n",
        "\n",
        "data = load_breast_cancer()\n",
        "print(data.DESCR)"
      ],
      "metadata": {
        "colab": {
          "base_uri": "https://localhost:8080/"
        },
        "id": "qTfHHb8GAPXD",
        "outputId": "25e66e48-b78d-4c19-a29c-515e39e887a7"
      },
      "execution_count": null,
      "outputs": [
        {
          "output_type": "stream",
          "name": "stdout",
          "text": [
            ".. _breast_cancer_dataset:\n",
            "\n",
            "Breast cancer wisconsin (diagnostic) dataset\n",
            "--------------------------------------------\n",
            "\n",
            "**Data Set Characteristics:**\n",
            "\n",
            "    :Number of Instances: 569\n",
            "\n",
            "    :Number of Attributes: 30 numeric, predictive attributes and the class\n",
            "\n",
            "    :Attribute Information:\n",
            "        - radius (mean of distances from center to points on the perimeter)\n",
            "        - texture (standard deviation of gray-scale values)\n",
            "        - perimeter\n",
            "        - area\n",
            "        - smoothness (local variation in radius lengths)\n",
            "        - compactness (perimeter^2 / area - 1.0)\n",
            "        - concavity (severity of concave portions of the contour)\n",
            "        - concave points (number of concave portions of the contour)\n",
            "        - symmetry\n",
            "        - fractal dimension (\"coastline approximation\" - 1)\n",
            "\n",
            "        The mean, standard error, and \"worst\" or largest (mean of the three\n",
            "        worst/largest values) of these features were computed for each image,\n",
            "        resulting in 30 features.  For instance, field 0 is Mean Radius, field\n",
            "        10 is Radius SE, field 20 is Worst Radius.\n",
            "\n",
            "        - class:\n",
            "                - WDBC-Malignant\n",
            "                - WDBC-Benign\n",
            "\n",
            "    :Summary Statistics:\n",
            "\n",
            "    ===================================== ====== ======\n",
            "                                           Min    Max\n",
            "    ===================================== ====== ======\n",
            "    radius (mean):                        6.981  28.11\n",
            "    texture (mean):                       9.71   39.28\n",
            "    perimeter (mean):                     43.79  188.5\n",
            "    area (mean):                          143.5  2501.0\n",
            "    smoothness (mean):                    0.053  0.163\n",
            "    compactness (mean):                   0.019  0.345\n",
            "    concavity (mean):                     0.0    0.427\n",
            "    concave points (mean):                0.0    0.201\n",
            "    symmetry (mean):                      0.106  0.304\n",
            "    fractal dimension (mean):             0.05   0.097\n",
            "    radius (standard error):              0.112  2.873\n",
            "    texture (standard error):             0.36   4.885\n",
            "    perimeter (standard error):           0.757  21.98\n",
            "    area (standard error):                6.802  542.2\n",
            "    smoothness (standard error):          0.002  0.031\n",
            "    compactness (standard error):         0.002  0.135\n",
            "    concavity (standard error):           0.0    0.396\n",
            "    concave points (standard error):      0.0    0.053\n",
            "    symmetry (standard error):            0.008  0.079\n",
            "    fractal dimension (standard error):   0.001  0.03\n",
            "    radius (worst):                       7.93   36.04\n",
            "    texture (worst):                      12.02  49.54\n",
            "    perimeter (worst):                    50.41  251.2\n",
            "    area (worst):                         185.2  4254.0\n",
            "    smoothness (worst):                   0.071  0.223\n",
            "    compactness (worst):                  0.027  1.058\n",
            "    concavity (worst):                    0.0    1.252\n",
            "    concave points (worst):               0.0    0.291\n",
            "    symmetry (worst):                     0.156  0.664\n",
            "    fractal dimension (worst):            0.055  0.208\n",
            "    ===================================== ====== ======\n",
            "\n",
            "    :Missing Attribute Values: None\n",
            "\n",
            "    :Class Distribution: 212 - Malignant, 357 - Benign\n",
            "\n",
            "    :Creator:  Dr. William H. Wolberg, W. Nick Street, Olvi L. Mangasarian\n",
            "\n",
            "    :Donor: Nick Street\n",
            "\n",
            "    :Date: November, 1995\n",
            "\n",
            "This is a copy of UCI ML Breast Cancer Wisconsin (Diagnostic) datasets.\n",
            "https://goo.gl/U2Uwz2\n",
            "\n",
            "Features are computed from a digitized image of a fine needle\n",
            "aspirate (FNA) of a breast mass.  They describe\n",
            "characteristics of the cell nuclei present in the image.\n",
            "\n",
            "Separating plane described above was obtained using\n",
            "Multisurface Method-Tree (MSM-T) [K. P. Bennett, \"Decision Tree\n",
            "Construction Via Linear Programming.\" Proceedings of the 4th\n",
            "Midwest Artificial Intelligence and Cognitive Science Society,\n",
            "pp. 97-101, 1992], a classification method which uses linear\n",
            "programming to construct a decision tree.  Relevant features\n",
            "were selected using an exhaustive search in the space of 1-4\n",
            "features and 1-3 separating planes.\n",
            "\n",
            "The actual linear program used to obtain the separating plane\n",
            "in the 3-dimensional space is that described in:\n",
            "[K. P. Bennett and O. L. Mangasarian: \"Robust Linear\n",
            "Programming Discrimination of Two Linearly Inseparable Sets\",\n",
            "Optimization Methods and Software 1, 1992, 23-34].\n",
            "\n",
            "This database is also available through the UW CS ftp server:\n",
            "\n",
            "ftp ftp.cs.wisc.edu\n",
            "cd math-prog/cpo-dataset/machine-learn/WDBC/\n",
            "\n",
            ".. topic:: References\n",
            "\n",
            "   - W.N. Street, W.H. Wolberg and O.L. Mangasarian. Nuclear feature extraction \n",
            "     for breast tumor diagnosis. IS&T/SPIE 1993 International Symposium on \n",
            "     Electronic Imaging: Science and Technology, volume 1905, pages 861-870,\n",
            "     San Jose, CA, 1993.\n",
            "   - O.L. Mangasarian, W.N. Street and W.H. Wolberg. Breast cancer diagnosis and \n",
            "     prognosis via linear programming. Operations Research, 43(4), pages 570-577, \n",
            "     July-August 1995.\n",
            "   - W.H. Wolberg, W.N. Street, and O.L. Mangasarian. Machine learning techniques\n",
            "     to diagnose breast cancer from fine-needle aspirates. Cancer Letters 77 (1994) \n",
            "     163-171.\n"
          ]
        }
      ]
    },
    {
      "cell_type": "markdown",
      "source": [
        "보다시피, 특성값 공간은 30개로 Iris의 3개, make_moons의 2개보다 훨씬 많다."
      ],
      "metadata": {
        "id": "VwaHc_GCBzAB"
      }
    },
    {
      "cell_type": "code",
      "source": [
        "from sklearn.datasets import load_breast_cancer\n",
        "from sklearn.model_selection import StratifiedShuffleSplit\n",
        "\n",
        "X, y = data.data, data.target\n",
        "\n",
        "I_train, I_test = next(StratifiedShuffleSplit(n_splits=1, test_size=0.4, random_state=42).split(X, y))\n",
        "X_train, y_train = X[I_train], y[I_train]\n",
        "X_test, y_test = X[I_test], y[I_test]"
      ],
      "metadata": {
        "id": "65jcb6jTcgtH"
      },
      "execution_count": null,
      "outputs": []
    },
    {
      "cell_type": "markdown",
      "source": [
        "[sklearn.model_selection.StratifiedShuffleSplit](https://scikit-learn.org/stable/modules/generated/sklearn.model_selection.StratifiedShuffleSplit.html#sklearn.model_selection.StratifiedShuffleSplit)은 전체 데이터를 두 데이터 셋으로 나눈다. 한 데이터 셋의 샘플 수는 전체 샘플 수의 **(1 - test_size)**배, 나머지는 전체 샘플 수의 **test_size** 배이다. 이 때, 두 데이터 셋의 클래스 레이블 비율은 동일하게 분배된다. 예를 들어, 전체 데이터의 클래스 레이블의 비율이 0: 0.4  vs. 1: 0.6이라고 하자. 그럼, 이 함수를 이용해서 두 데이터 셋으로 나눠도 각 데이터 셋의 클래스 레이블 비율은 0: 0.4  vs. 1: 0.6으로 같다. 이처럼, 전체 데이터를 나눴을 때, 원래 전체 데이터가 가지고 있는 특성(즉, 클래스 레이블의 비율)은 유지되는 것을 Stratification 이라고 한다.\n",
        "\n",
        "실제로 비율이 같은지 확인해보자."
      ],
      "metadata": {
        "id": "SfjdxlQUdhs9"
      }
    },
    {
      "cell_type": "code",
      "source": [
        "import numpy as np\n",
        "\n",
        "\n",
        "print('y:', np.unique(y, return_counts=True))\n",
        "print('y_train:', np.unique(y_train, return_counts=True))\n",
        "print('y_test:', np.unique(y_test, return_counts=True))"
      ],
      "metadata": {
        "colab": {
          "base_uri": "https://localhost:8080/"
        },
        "id": "CJDSKNU-gF7n",
        "outputId": "0c7b9e12-68e0-464d-9662-379a9fde54ad"
      },
      "execution_count": null,
      "outputs": [
        {
          "output_type": "stream",
          "name": "stdout",
          "text": [
            "y: (array([0, 1]), array([212, 357]))\n",
            "y_train: (array([0, 1]), array([127, 214]))\n",
            "y_test: (array([0, 1]), array([ 85, 143]))\n"
          ]
        }
      ]
    },
    {
      "cell_type": "markdown",
      "source": [
        "## Bagging\n",
        "비선형 데이터에 대해서, Decision Tree와 Bagging을 적용한 Decision Tree가 어떻게 차이나는지 확인해보자. Bagging의 scikit-learn 구현체는 [sklearn.ensemble.BaggingClassifier](https://scikit-learn.org/stable/modules/generated/sklearn.ensemble.BaggingClassifier.html#sklearn.ensemble.BaggingClassifier)이다."
      ],
      "metadata": {
        "id": "Bpkvt-bLbt4G"
      }
    },
    {
      "cell_type": "code",
      "source": [
        "from sklearn.ensemble import BaggingClassifier\n",
        "from sklearn.tree import DecisionTreeClassifier\n",
        "\n",
        "\n",
        "model_single = DecisionTreeClassifier(random_state=42).fit(\n",
        "    X_train, y_train\n",
        ")\n",
        "\n",
        "model_bagging = BaggingClassifier(\n",
        "    estimator=DecisionTreeClassifier(random_state=42), # Weak Learner의 인스턴스\n",
        "    n_estimators=100, # 훈련시킬 Weak Learner의 개수\n",
        "    bootstrap=True, # Bootstrap 적용 여부; True 라면 복원 추출이 된다.\n",
        "    max_samples=0.5, # Weak Learner를 훈련시킬 때 사용할 데이터의 수; 전체 중 50%의 데이터를 추출한다.\n",
        "    random_state=42\n",
        ").fit(\n",
        "    X_train, y_train\n",
        ")"
      ],
      "metadata": {
        "id": "N_S84KaMbdN-"
      },
      "execution_count": null,
      "outputs": []
    },
    {
      "cell_type": "markdown",
      "source": [
        "성능 측정은 개인 과제 #2에서 사용하고 있는 Accuracy를 활용해보자."
      ],
      "metadata": {
        "id": "VOKv99xjgg_3"
      }
    },
    {
      "cell_type": "code",
      "source": [
        "from sklearn.metrics import accuracy_score\n",
        "\n",
        "\n",
        "print('# Training performance')\n",
        "print('- Single: ', accuracy_score(y_train, model_single.predict(X_train)))\n",
        "print('- Bagging: ', accuracy_score(y_train, model_bagging.predict(X_train)))\n",
        "\n",
        "print('# Validation performance')\n",
        "print('- Single: ', accuracy_score(y_test, model_single.predict(X_test)))\n",
        "print('- Bagging: ', accuracy_score(y_test, model_bagging.predict(X_test)))\n"
      ],
      "metadata": {
        "colab": {
          "base_uri": "https://localhost:8080/"
        },
        "id": "vb5TjmVGgfy7",
        "outputId": "64a369bc-6722-4aef-b49f-e3c70a76a99a"
      },
      "execution_count": null,
      "outputs": [
        {
          "output_type": "stream",
          "name": "stdout",
          "text": [
            "# Training performance\n",
            "- Single:  1.0\n",
            "- Bagging:  0.9912023460410557\n",
            "# Validation performance\n",
            "- Single:  0.9298245614035088\n",
            "- Bagging:  0.9517543859649122\n"
          ]
        }
      ]
    },
    {
      "cell_type": "markdown",
      "source": [
        "보다시피, 훈련 데이터에 대해서는 Decision Tree가 더 좋은 성능을 나타냈다. 하지만, 검증 데이터에 대해서는 Bagging이 보다 좋은 성능을 내었다.\n",
        "즉, Decision Tree는 다소 과대적합되었고, Bagging은 일반화 성능이 더 좋을 것이라고 추정할 수 있다."
      ],
      "metadata": {
        "id": "dKJpd4Z4gwBf"
      }
    },
    {
      "cell_type": "markdown",
      "source": [
        "## Pasting\n",
        "Pasting을 적용하는 것은 간단하다. [sklearn.ensemble.BaggingClassifier](https://scikit-learn.org/stable/modules/generated/sklearn.ensemble.BaggingClassifier.html#sklearn.ensemble.BaggingClassifier)의 초매개변수 중 하나인 **bootstrap**을 **False**로 바꿔주기만 하면 된다."
      ],
      "metadata": {
        "id": "2apOSobljC6R"
      }
    },
    {
      "cell_type": "code",
      "source": [
        "from sklearn.ensemble import BaggingClassifier\n",
        "from sklearn.tree import DecisionTreeClassifier\n",
        "\n",
        "\n",
        "model_pasting = BaggingClassifier(\n",
        "    estimator=DecisionTreeClassifier(random_state=42), # Weak Learner의 인스턴스\n",
        "    n_estimators=100, # 훈련시킬 Weak Learner의 개수\n",
        "    bootstrap=False, # Bootstrap 적용 여부; False 라면 비복원 추출이 된다.\n",
        "    max_samples=0.5, # Weak Learner를 훈련시킬 때 사용할 데이터의 수; 전체 중 50%의 데이터를 추출한다.\n",
        "    random_state=42\n",
        ").fit(\n",
        "    X_train, y_train\n",
        ")"
      ],
      "metadata": {
        "id": "clLSRNCPjmVS"
      },
      "execution_count": null,
      "outputs": []
    },
    {
      "cell_type": "code",
      "source": [
        "from sklearn.metrics import accuracy_score\n",
        "\n",
        "\n",
        "print('# Training performance')\n",
        "print('- Single: ', accuracy_score(y_train, model_single.predict(X_train)))\n",
        "print('- Pasting: ', accuracy_score(y_train, model_pasting.predict(X_train)))\n",
        "\n",
        "print('# Validation performance')\n",
        "print('- Single: ', accuracy_score(y_test, model_single.predict(X_test)))\n",
        "print('- Pasting: ', accuracy_score(y_test, model_pasting.predict(X_test)))\n"
      ],
      "metadata": {
        "colab": {
          "base_uri": "https://localhost:8080/"
        },
        "id": "8NSQWGQ1jt64",
        "outputId": "95a82277-8aa6-4083-b9b8-07a132907739"
      },
      "execution_count": null,
      "outputs": [
        {
          "output_type": "stream",
          "name": "stdout",
          "text": [
            "# Training performance\n",
            "- Single:  1.0\n",
            "- Pasting:  0.9970674486803519\n",
            "# Validation performance\n",
            "- Single:  0.9298245614035088\n",
            "- Pasting:  0.9517543859649122\n"
          ]
        }
      ]
    },
    {
      "cell_type": "markdown",
      "source": [
        "Bagging과 비교하면 Pasting의 경우 아주 조금 더 훈련 데이터 셋에 대해 학습을 잘 했으며, 검증 데이터 셋에 대해서는 같은 성능을 보인다."
      ],
      "metadata": {
        "id": "1jVZlGB1jK8D"
      }
    },
    {
      "cell_type": "markdown",
      "source": [
        "## Random Subspace\n",
        "이번엔 특성값 중 일부만 활용해서 Weak Learner들을 훈련시켜보자."
      ],
      "metadata": {
        "id": "cp80xqU6_No8"
      }
    },
    {
      "cell_type": "code",
      "source": [
        "from sklearn.ensemble import BaggingClassifier\n",
        "from sklearn.tree import DecisionTreeClassifier\n",
        "\n",
        "\n",
        "model_rs = BaggingClassifier(\n",
        "    estimator=DecisionTreeClassifier(random_state=42), # Weak Learner의 인스턴스\n",
        "    n_estimators=100, # 훈련시킬 Weak Learner의 개수\n",
        "    bootstrap=False, # Bootstrap 적용 여부; False 라면 복원 추출이 된다.\n",
        "    max_samples=1.0, # Weak Learner를 훈련시킬 때 사용할 데이터의 수; 전체 데이터를 다 활용한다.\n",
        "    max_features=0.5, # 원본 데이터의 특성값들 중 반만 사용해보자\n",
        "    random_state=42\n",
        ").fit(\n",
        "    X_train, y_train\n",
        ")"
      ],
      "metadata": {
        "id": "iimvi3Zi_dPg"
      },
      "execution_count": null,
      "outputs": []
    },
    {
      "cell_type": "code",
      "source": [
        "from sklearn.metrics import accuracy_score\n",
        "\n",
        "\n",
        "print('# Training performance')\n",
        "print('- Single: ', accuracy_score(y_train, model_single.predict(X_train)))\n",
        "print('- Random Subspace: ', accuracy_score(y_train, model_rs.predict(X_train)))\n",
        "\n",
        "print('# Validation performance')\n",
        "print('- Single: ', accuracy_score(y_test, model_single.predict(X_test)))\n",
        "print('- Random Subspace: ', accuracy_score(y_test, model_rs.predict(X_test)))"
      ],
      "metadata": {
        "colab": {
          "base_uri": "https://localhost:8080/"
        },
        "id": "fhuQHSSsj5Cu",
        "outputId": "a155e8a6-afc0-477f-ec4d-b4cd6b4f53ee"
      },
      "execution_count": null,
      "outputs": [
        {
          "output_type": "stream",
          "name": "stdout",
          "text": [
            "# Training performance\n",
            "- Single:  1.0\n",
            "- Pasting:  1.0\n",
            "# Validation performance\n",
            "- Single:  0.9298245614035088\n",
            "- Pasting:  0.956140350877193\n"
          ]
        }
      ]
    },
    {
      "cell_type": "markdown",
      "source": [
        "검증 데이터에 대한 성능이 Pasting과 Bagging 보다 더 올랐음을 확인할 수 있다."
      ],
      "metadata": {
        "id": "sr-fVfu1_1Mb"
      }
    },
    {
      "cell_type": "markdown",
      "source": [
        "## Random Patch\n",
        "이번엔 특성값 공간과 샘플들을 모두 무작위로 뽑되, 특성값과 샘플 모두 비복원 추출로 뽑아보자."
      ],
      "metadata": {
        "id": "hC4clwT2Cii2"
      }
    },
    {
      "cell_type": "code",
      "source": [
        "from sklearn.ensemble import BaggingClassifier\n",
        "from sklearn.tree import DecisionTreeClassifier\n",
        "\n",
        "\n",
        "model_rp = BaggingClassifier(\n",
        "    estimator=DecisionTreeClassifier(random_state=42), # Weak Learner의 인스턴스\n",
        "    n_estimators=100, # 훈련시킬 Weak Learner의 개수\n",
        "    bootstrap=True, # 샘플에 대한 Bootstrap 적용 여부; True 라면 비복원 추출이 된다.\n",
        "    bootstrap_features=True, # 특성값에 대한 Bootstrap 적용 여부; True 라면 비복원 추출이 된다.\n",
        "    max_samples=0.5, # Weak Learner를 훈련시킬 때 사용할 데이터의 수; 50%의 데이터만 활용한다.\n",
        "    max_features=0.5, # 원본 데이터의 특성값들 중 반만 사용해보자\n",
        "    random_state=42\n",
        ").fit(\n",
        "    X_train, y_train\n",
        ")"
      ],
      "metadata": {
        "id": "ZebEmYvcCp3-"
      },
      "execution_count": null,
      "outputs": []
    },
    {
      "cell_type": "code",
      "source": [
        "from sklearn.metrics import accuracy_score\n",
        "\n",
        "\n",
        "print('# Training performance')\n",
        "print('- Single: ', accuracy_score(y_train, model_single.predict(X_train)))\n",
        "print('- Random Patch: ', accuracy_score(y_train, model_rp.predict(X_train)))\n",
        "\n",
        "print('# Validation performance')\n",
        "print('- Single: ', accuracy_score(y_test, model_single.predict(X_test)))\n",
        "print('- Random Patch: ', accuracy_score(y_test, model_rp.predict(X_test)))"
      ],
      "metadata": {
        "colab": {
          "base_uri": "https://localhost:8080/"
        },
        "id": "GlX3sn4CDEvj",
        "outputId": "43e9032d-ad42-42fa-910c-1af7f11815b7"
      },
      "execution_count": null,
      "outputs": [
        {
          "output_type": "stream",
          "name": "stdout",
          "text": [
            "# Training performance\n",
            "- Single:  1.0\n",
            "- Pasting:  0.9912023460410557\n",
            "# Validation performance\n",
            "- Single:  0.9298245614035088\n",
            "- Pasting:  0.956140350877193\n"
          ]
        }
      ]
    },
    {
      "cell_type": "markdown",
      "source": [
        "훈련 데이터 셋에 대한 성능은 Random Subspace보다 조금 떨어졌고, 검증 데이터 셋에 대한 성능은 유지되었다."
      ],
      "metadata": {
        "id": "UQAwTByGDTcn"
      }
    },
    {
      "cell_type": "markdown",
      "source": [
        "## Voting\n",
        "이번엔 서로 다른 알고리즘으로 훈련된 Weak Learner들의 예측 결과를 합쳐보자."
      ],
      "metadata": {
        "id": "rX1MLYFxKI7M"
      }
    },
    {
      "cell_type": "code",
      "source": [
        "from sklearn.ensemble import VotingClassifier\n",
        "from sklearn.svm import SVC\n",
        "from sklearn.tree import DecisionTreeClassifier\n",
        "from sklearn.linear_model import LogisticRegression\n",
        "\n",
        "\n",
        "model_hard_voting = VotingClassifier(\n",
        "    estimators = [\n",
        "        ('svc-rbf', SVC(kernel='rbf', probability=True, random_state=42)),\n",
        "        ('svc-poly', SVC(kernel='poly', probability=True, random_state=42)),\n",
        "        ('dt', DecisionTreeClassifier(random_state=42))\n",
        "    ], # 일반적인 학습 모델들\n",
        "    voting='hard' # Hard Voting\n",
        ").fit(\n",
        "    X_train, y_train\n",
        ")\n",
        "\n",
        "model_soft_voting = VotingClassifier(\n",
        "    estimators = [\n",
        "        ('svc-rbf', SVC(kernel='rbf', probability=True, random_state=42)),\n",
        "        ('svc-poly', SVC(kernel='poly', probability=True, random_state=42)),\n",
        "        ('dt', DecisionTreeClassifier(random_state=42))\n",
        "    ], # 일반적인 학습 모델들\n",
        "    voting='soft' # Soft Voting\n",
        ").fit(\n",
        "    X_train, y_train\n",
        ")"
      ],
      "metadata": {
        "id": "i8TvEGw5KQVD"
      },
      "execution_count": null,
      "outputs": []
    },
    {
      "cell_type": "code",
      "source": [
        "from sklearn.metrics import accuracy_score\n",
        "\n",
        "\n",
        "print('# Training performance')\n",
        "print('- Single: ', accuracy_score(y_train, model_single.predict(X_train)))\n",
        "print('- Hard Voting: ', accuracy_score(y_train, model_hard_voting.predict(X_train)))\n",
        "print('- Soft Voting: ', accuracy_score(y_train, model_soft_voting.predict(X_train)))\n",
        "\n",
        "print('# Validation performance')\n",
        "print('- Single: ', accuracy_score(y_test, model_single.predict(X_test)))\n",
        "print('- Hard Voting: ', accuracy_score(y_test, model_hard_voting.predict(X_test)))\n",
        "print('- Soft Voting: ', accuracy_score(y_test, model_soft_voting.predict(X_test)))"
      ],
      "metadata": {
        "colab": {
          "base_uri": "https://localhost:8080/"
        },
        "id": "ZUmy9C_7KZQE",
        "outputId": "928ff319-24f4-47fc-8c87-4c1d69903ba2"
      },
      "execution_count": null,
      "outputs": [
        {
          "output_type": "stream",
          "name": "stdout",
          "text": [
            "# Training performance\n",
            "- Single:  1.0\n",
            "- Hard Voting:  0.9149560117302052\n",
            "- Soft Voting:  0.9589442815249267\n",
            "# Validation performance\n",
            "- Single:  0.9298245614035088\n",
            "- Hard Voting:  0.9078947368421053\n",
            "- Soft Voting:  0.9342105263157895\n"
          ]
        }
      ]
    },
    {
      "cell_type": "markdown",
      "source": [
        "Hard Voting은 단일 모델보다 성능이 떨어졌다. 대신 Soft Voting은 성능이 괜찮은 것을 볼 수 있다. 실제로  [sklearn.ensemble.BaggingClassifier](https://scikit-learn.org/stable/modules/generated/sklearn.ensemble.BaggingClassifier.html#sklearn.ensemble.BaggingClassifier)의 경우 Weak Learner들이 **predict_proba** 함수를 지원하지 않을때만 Hard Voting이 이용되며, 기본적으로는 Soft Voting을 활용한다."
      ],
      "metadata": {
        "id": "cHl1pPPlKv6G"
      }
    },
    {
      "cell_type": "markdown",
      "source": [
        "## Stacking\n",
        "이번엔 Voting 대신, 서로 다른 알고리즘으로 훈련된 Weak Learner들의 예측 결과를 입력으로 사용하는 또 다른 학습 모델을 사용해보자. 바로 Stacking 기법이다. Stacking은 [sklearn.ensemble.StackingClassifier](https://scikit-learn.org/stable/modules/generated/sklearn.ensemble.StackingClassifier.html#sklearn.ensemble.StackingClassifier) 구현체를 활용하면 쉽게 사용할 수 있다."
      ],
      "metadata": {
        "id": "lw-FL_TvDjV3"
      }
    },
    {
      "cell_type": "code",
      "source": [
        "from sklearn.ensemble import StackingClassifier\n",
        "from sklearn.svm import SVC, LinearSVC\n",
        "from sklearn.tree import DecisionTreeClassifier\n",
        "from sklearn.linear_model import LogisticRegression\n",
        "\n",
        "\n",
        "model_stack = StackingClassifier(\n",
        "    estimators = [\n",
        "        ('svc-rbf', SVC(kernel='rbf', probability=True, random_state=42)),\n",
        "        ('svc-poly', SVC(kernel='poly', probability=True, random_state=42)),\n",
        "        ('dt', DecisionTreeClassifier(random_state=42))\n",
        "    ], # 일반적인 학습 모델들\n",
        "    final_estimator=LogisticRegression(random_state=42) # Meta-learner\n",
        ").fit(\n",
        "    X_train, y_train\n",
        ")"
      ],
      "metadata": {
        "id": "6E-skdbaESIp"
      },
      "execution_count": null,
      "outputs": []
    },
    {
      "cell_type": "code",
      "source": [
        "from sklearn.metrics import accuracy_score\n",
        "\n",
        "\n",
        "print('# Training performance')\n",
        "print('- Single: ', accuracy_score(y_train, model_single.predict(X_train)))\n",
        "print('- Stacking: ', accuracy_score(y_train, model_stack.predict(X_train)))\n",
        "\n",
        "print('# Validation performance')\n",
        "print('- Single: ', accuracy_score(y_test, model_single.predict(X_test)))\n",
        "print('- Stacking: ', accuracy_score(y_test, model_stack.predict(X_test)))"
      ],
      "metadata": {
        "colab": {
          "base_uri": "https://localhost:8080/"
        },
        "id": "mmjnjH-BJZlV",
        "outputId": "b9f9eb67-3f8f-42b3-a49e-4a01d5ec765f"
      },
      "execution_count": null,
      "outputs": [
        {
          "output_type": "stream",
          "name": "stdout",
          "text": [
            "# Training performance\n",
            "- Single:  1.0\n",
            "- Pasting:  0.9618768328445748\n",
            "# Validation performance\n",
            "- Single:  0.9298245614035088\n",
            "- Pasting:  0.9342105263157895\n"
          ]
        }
      ]
    },
    {
      "cell_type": "markdown",
      "source": [
        "## Boosting\n",
        "Boosting은 다음 시간에 Adaptive Boosting과 Gradient Boosting을 배우면서 해보자."
      ],
      "metadata": {
        "id": "jkPcIHIgDnpc"
      }
    },
    {
      "cell_type": "markdown",
      "source": [
        "# Random Forest\n",
        "\n",
        "일반적인 Ensemble Learning 기법 말고, 아예 이에 특화시킨 기계 학습 알고리즘을 활용해보자. 먼저 [sklearn.ensemble.RandomForestClassifier](https://scikit-learn.org/stable/modules/generated/sklearn.ensemble.RandomForestClassifier.html#sklearn.ensemble.RandomForestClassifier)에 구현되어 있는 Random Forest다."
      ],
      "metadata": {
        "id": "ZT_Y_O_fJ4K7"
      }
    },
    {
      "cell_type": "code",
      "source": [
        "from sklearn.ensemble import RandomForestClassifier\n",
        "\n",
        "\n",
        "model_rf = RandomForestClassifier(\n",
        "    n_estimators=100, # 500개의 Decision Tree를 만든다\n",
        "    max_depth=5, # 각 Decision Tree의 깊이는 5로 제한한다\n",
        "    max_features='sqrt', # 30개의 특성값 공간 중 약 5개만 사용한다\n",
        "    max_samples=0.5, # 전체 훈련 샘플 중 50%만 Bootstrap한다\n",
        "    random_state=42\n",
        ").fit(\n",
        "    X_train, y_train\n",
        ")"
      ],
      "metadata": {
        "id": "tPt915NbMSmz"
      },
      "execution_count": null,
      "outputs": []
    },
    {
      "cell_type": "code",
      "source": [
        "from sklearn.metrics import accuracy_score\n",
        "\n",
        "\n",
        "print('# Training performance')\n",
        "print('- Single: ', accuracy_score(y_train, model_single.predict(X_train)))\n",
        "print('- Random Forest: ', accuracy_score(y_train, model_rf.predict(X_train)))\n",
        "\n",
        "print('# Validation performance')\n",
        "print('- Single: ', accuracy_score(y_test, model_single.predict(X_test)))\n",
        "print('- Random Forest: ', accuracy_score(y_test, model_rf.predict(X_test)))"
      ],
      "metadata": {
        "colab": {
          "base_uri": "https://localhost:8080/"
        },
        "id": "_Nxe5isYM-lq",
        "outputId": "c9cec57e-d99b-480d-f57a-d828e632afd1"
      },
      "execution_count": null,
      "outputs": [
        {
          "output_type": "stream",
          "name": "stdout",
          "text": [
            "# Training performance\n",
            "- Single:  1.0\n",
            "- Random Forest:  0.9882697947214076\n",
            "# Validation performance\n",
            "- Single:  0.9298245614035088\n",
            "- Random Forest:  0.9473684210526315\n"
          ]
        }
      ]
    },
    {
      "cell_type": "markdown",
      "source": [
        "위에서 사용한 초매개변수 이외에도 [sklearn.tree.DecisionTreeClassifier](https://scikit-learn.org/stable/modules/generated/sklearn.tree.DecisionTreeClassifier.html#sklearn.tree.DecisionTreeClassifier)에서 활용되는 다양한 초매개변수들을 거의 동일하게 사용할 수 있다. 보다 세부적인 것은 API 문서를 참조하자."
      ],
      "metadata": {
        "id": "kzbAEA2ANT9-"
      }
    },
    {
      "cell_type": "markdown",
      "source": [
        "# ExtraTrees\n",
        "이번엔 Decision Tree의 분할 방법조차도 무작위로 하는 [sklearn.ensemble.ExtraTrees](https://scikit-learn.org/stable/modules/generated/sklearn.ensemble.ExtraTreesClassifier.html#sklearn.ensemble.ExtraTreesClassifier)를 활용해보자."
      ],
      "metadata": {
        "id": "NdiK2SrxNlcI"
      }
    },
    {
      "cell_type": "code",
      "source": [
        "from sklearn.ensemble import ExtraTreesClassifier\n",
        "\n",
        "\n",
        "model_et = RandomForestClassifier(\n",
        "    n_estimators=100, # 500개의 Decision Tree를 만든다\n",
        "    max_depth=5, # 각 Decision Tree의 깊이는 5로 제한한다\n",
        "    max_features='sqrt', # 30개의 특성값 공간 중 약 5개만 사용한다\n",
        "    max_samples=0.5, # 전체 훈련 샘플 중 50%만 Bootstrap한다\n",
        "    random_state=42\n",
        ").fit(\n",
        "    X_train, y_train\n",
        ")"
      ],
      "metadata": {
        "id": "5rcwwEVhNt6r"
      },
      "execution_count": null,
      "outputs": []
    },
    {
      "cell_type": "code",
      "source": [
        "from sklearn.metrics import accuracy_score\n",
        "\n",
        "\n",
        "print('# Training performance')\n",
        "print('- Single: ', accuracy_score(y_train, model_single.predict(X_train)))\n",
        "print('- Random Forest: ', accuracy_score(y_train, model_et.predict(X_train)))\n",
        "\n",
        "print('# Validation performance')\n",
        "print('- Single: ', accuracy_score(y_test, model_single.predict(X_test)))\n",
        "print('- Random Forest: ', accuracy_score(y_test, model_et.predict(X_test)))"
      ],
      "metadata": {
        "colab": {
          "base_uri": "https://localhost:8080/"
        },
        "id": "hcba4YU2NzIp",
        "outputId": "f9e4bcd9-ce33-4582-ecae-6ca22b81eaa5"
      },
      "execution_count": null,
      "outputs": [
        {
          "output_type": "stream",
          "name": "stdout",
          "text": [
            "# Training performance\n",
            "- Single:  1.0\n",
            "- Random Forest:  0.9882697947214076\n",
            "# Validation performance\n",
            "- Single:  0.9298245614035088\n",
            "- Random Forest:  0.9473684210526315\n"
          ]
        }
      ]
    },
    {
      "cell_type": "markdown",
      "source": [
        "보다시피, ExtraTrees의 많은 초매개변수가 Random Forest와 거의 유사하다."
      ],
      "metadata": {
        "id": "qH9mR2vzN3uC"
      }
    },
    {
      "cell_type": "markdown",
      "source": [
        "주의: 위에서 보여준 성능의 경향은 어디까지나 여기에 사용한 데이터에 한한 것이다. 절대 일반적인 것이 아니며, 데이터의 성질에 따라 언제든지 달라질 수 있으니 유의해야 한다."
      ],
      "metadata": {
        "id": "n8UPxxMmOHR4"
      }
    }
  ]
}