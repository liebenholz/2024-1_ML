{
  "nbformat": 4,
  "nbformat_minor": 0,
  "metadata": {
    "colab": {
      "provenance": []
    },
    "kernelspec": {
      "name": "python3",
      "display_name": "Python 3"
    },
    "language_info": {
      "name": "python"
    },
    "widgets": {
      "application/vnd.jupyter.widget-state+json": {
        "69d495142bbe436f829d8ddff83285fd": {
          "model_module": "@jupyter-widgets/controls",
          "model_name": "HBoxModel",
          "model_module_version": "1.5.0",
          "state": {
            "_dom_classes": [],
            "_model_module": "@jupyter-widgets/controls",
            "_model_module_version": "1.5.0",
            "_model_name": "HBoxModel",
            "_view_count": null,
            "_view_module": "@jupyter-widgets/controls",
            "_view_module_version": "1.5.0",
            "_view_name": "HBoxView",
            "box_style": "",
            "children": [
              "IPY_MODEL_92b686600a4f4e0883a0521ccc3b3493",
              "IPY_MODEL_9602928d02da450993536e123d1e710a",
              "IPY_MODEL_73f6fb8066564defaa590cd125aadc6d"
            ],
            "layout": "IPY_MODEL_96d5090d2c294f79a57965439be7360d"
          }
        },
        "92b686600a4f4e0883a0521ccc3b3493": {
          "model_module": "@jupyter-widgets/controls",
          "model_name": "HTMLModel",
          "model_module_version": "1.5.0",
          "state": {
            "_dom_classes": [],
            "_model_module": "@jupyter-widgets/controls",
            "_model_module_version": "1.5.0",
            "_model_name": "HTMLModel",
            "_view_count": null,
            "_view_module": "@jupyter-widgets/controls",
            "_view_module_version": "1.5.0",
            "_view_name": "HTMLView",
            "description": "",
            "description_tooltip": null,
            "layout": "IPY_MODEL_c2d0c66740584673ad62306f43ddaa40",
            "placeholder": "​",
            "style": "IPY_MODEL_6bb00e64c26647c6a10207db2ec5205c",
            "value": "Best trial: 33. Best value: 0.550938: 100%"
          }
        },
        "9602928d02da450993536e123d1e710a": {
          "model_module": "@jupyter-widgets/controls",
          "model_name": "FloatProgressModel",
          "model_module_version": "1.5.0",
          "state": {
            "_dom_classes": [],
            "_model_module": "@jupyter-widgets/controls",
            "_model_module_version": "1.5.0",
            "_model_name": "FloatProgressModel",
            "_view_count": null,
            "_view_module": "@jupyter-widgets/controls",
            "_view_module_version": "1.5.0",
            "_view_name": "ProgressView",
            "bar_style": "success",
            "description": "",
            "description_tooltip": null,
            "layout": "IPY_MODEL_d0aa55b1085c42c4a9992ee8726ccb06",
            "max": 50,
            "min": 0,
            "orientation": "horizontal",
            "style": "IPY_MODEL_fafc6f92721a45189753a849b79358b0",
            "value": 50
          }
        },
        "73f6fb8066564defaa590cd125aadc6d": {
          "model_module": "@jupyter-widgets/controls",
          "model_name": "HTMLModel",
          "model_module_version": "1.5.0",
          "state": {
            "_dom_classes": [],
            "_model_module": "@jupyter-widgets/controls",
            "_model_module_version": "1.5.0",
            "_model_name": "HTMLModel",
            "_view_count": null,
            "_view_module": "@jupyter-widgets/controls",
            "_view_module_version": "1.5.0",
            "_view_name": "HTMLView",
            "description": "",
            "description_tooltip": null,
            "layout": "IPY_MODEL_4cad9afa58a44dddb4891f81d1b4536a",
            "placeholder": "​",
            "style": "IPY_MODEL_26346145f3b54611a9a133f972b526b4",
            "value": " 50/50 [06:43&lt;00:00,  8.96s/it]"
          }
        },
        "96d5090d2c294f79a57965439be7360d": {
          "model_module": "@jupyter-widgets/base",
          "model_name": "LayoutModel",
          "model_module_version": "1.2.0",
          "state": {
            "_model_module": "@jupyter-widgets/base",
            "_model_module_version": "1.2.0",
            "_model_name": "LayoutModel",
            "_view_count": null,
            "_view_module": "@jupyter-widgets/base",
            "_view_module_version": "1.2.0",
            "_view_name": "LayoutView",
            "align_content": null,
            "align_items": null,
            "align_self": null,
            "border": null,
            "bottom": null,
            "display": null,
            "flex": null,
            "flex_flow": null,
            "grid_area": null,
            "grid_auto_columns": null,
            "grid_auto_flow": null,
            "grid_auto_rows": null,
            "grid_column": null,
            "grid_gap": null,
            "grid_row": null,
            "grid_template_areas": null,
            "grid_template_columns": null,
            "grid_template_rows": null,
            "height": null,
            "justify_content": null,
            "justify_items": null,
            "left": null,
            "margin": null,
            "max_height": null,
            "max_width": null,
            "min_height": null,
            "min_width": null,
            "object_fit": null,
            "object_position": null,
            "order": null,
            "overflow": null,
            "overflow_x": null,
            "overflow_y": null,
            "padding": null,
            "right": null,
            "top": null,
            "visibility": null,
            "width": null
          }
        },
        "c2d0c66740584673ad62306f43ddaa40": {
          "model_module": "@jupyter-widgets/base",
          "model_name": "LayoutModel",
          "model_module_version": "1.2.0",
          "state": {
            "_model_module": "@jupyter-widgets/base",
            "_model_module_version": "1.2.0",
            "_model_name": "LayoutModel",
            "_view_count": null,
            "_view_module": "@jupyter-widgets/base",
            "_view_module_version": "1.2.0",
            "_view_name": "LayoutView",
            "align_content": null,
            "align_items": null,
            "align_self": null,
            "border": null,
            "bottom": null,
            "display": null,
            "flex": null,
            "flex_flow": null,
            "grid_area": null,
            "grid_auto_columns": null,
            "grid_auto_flow": null,
            "grid_auto_rows": null,
            "grid_column": null,
            "grid_gap": null,
            "grid_row": null,
            "grid_template_areas": null,
            "grid_template_columns": null,
            "grid_template_rows": null,
            "height": null,
            "justify_content": null,
            "justify_items": null,
            "left": null,
            "margin": null,
            "max_height": null,
            "max_width": null,
            "min_height": null,
            "min_width": null,
            "object_fit": null,
            "object_position": null,
            "order": null,
            "overflow": null,
            "overflow_x": null,
            "overflow_y": null,
            "padding": null,
            "right": null,
            "top": null,
            "visibility": null,
            "width": null
          }
        },
        "6bb00e64c26647c6a10207db2ec5205c": {
          "model_module": "@jupyter-widgets/controls",
          "model_name": "DescriptionStyleModel",
          "model_module_version": "1.5.0",
          "state": {
            "_model_module": "@jupyter-widgets/controls",
            "_model_module_version": "1.5.0",
            "_model_name": "DescriptionStyleModel",
            "_view_count": null,
            "_view_module": "@jupyter-widgets/base",
            "_view_module_version": "1.2.0",
            "_view_name": "StyleView",
            "description_width": ""
          }
        },
        "d0aa55b1085c42c4a9992ee8726ccb06": {
          "model_module": "@jupyter-widgets/base",
          "model_name": "LayoutModel",
          "model_module_version": "1.2.0",
          "state": {
            "_model_module": "@jupyter-widgets/base",
            "_model_module_version": "1.2.0",
            "_model_name": "LayoutModel",
            "_view_count": null,
            "_view_module": "@jupyter-widgets/base",
            "_view_module_version": "1.2.0",
            "_view_name": "LayoutView",
            "align_content": null,
            "align_items": null,
            "align_self": null,
            "border": null,
            "bottom": null,
            "display": null,
            "flex": null,
            "flex_flow": null,
            "grid_area": null,
            "grid_auto_columns": null,
            "grid_auto_flow": null,
            "grid_auto_rows": null,
            "grid_column": null,
            "grid_gap": null,
            "grid_row": null,
            "grid_template_areas": null,
            "grid_template_columns": null,
            "grid_template_rows": null,
            "height": null,
            "justify_content": null,
            "justify_items": null,
            "left": null,
            "margin": null,
            "max_height": null,
            "max_width": null,
            "min_height": null,
            "min_width": null,
            "object_fit": null,
            "object_position": null,
            "order": null,
            "overflow": null,
            "overflow_x": null,
            "overflow_y": null,
            "padding": null,
            "right": null,
            "top": null,
            "visibility": null,
            "width": null
          }
        },
        "fafc6f92721a45189753a849b79358b0": {
          "model_module": "@jupyter-widgets/controls",
          "model_name": "ProgressStyleModel",
          "model_module_version": "1.5.0",
          "state": {
            "_model_module": "@jupyter-widgets/controls",
            "_model_module_version": "1.5.0",
            "_model_name": "ProgressStyleModel",
            "_view_count": null,
            "_view_module": "@jupyter-widgets/base",
            "_view_module_version": "1.2.0",
            "_view_name": "StyleView",
            "bar_color": null,
            "description_width": ""
          }
        },
        "4cad9afa58a44dddb4891f81d1b4536a": {
          "model_module": "@jupyter-widgets/base",
          "model_name": "LayoutModel",
          "model_module_version": "1.2.0",
          "state": {
            "_model_module": "@jupyter-widgets/base",
            "_model_module_version": "1.2.0",
            "_model_name": "LayoutModel",
            "_view_count": null,
            "_view_module": "@jupyter-widgets/base",
            "_view_module_version": "1.2.0",
            "_view_name": "LayoutView",
            "align_content": null,
            "align_items": null,
            "align_self": null,
            "border": null,
            "bottom": null,
            "display": null,
            "flex": null,
            "flex_flow": null,
            "grid_area": null,
            "grid_auto_columns": null,
            "grid_auto_flow": null,
            "grid_auto_rows": null,
            "grid_column": null,
            "grid_gap": null,
            "grid_row": null,
            "grid_template_areas": null,
            "grid_template_columns": null,
            "grid_template_rows": null,
            "height": null,
            "justify_content": null,
            "justify_items": null,
            "left": null,
            "margin": null,
            "max_height": null,
            "max_width": null,
            "min_height": null,
            "min_width": null,
            "object_fit": null,
            "object_position": null,
            "order": null,
            "overflow": null,
            "overflow_x": null,
            "overflow_y": null,
            "padding": null,
            "right": null,
            "top": null,
            "visibility": null,
            "width": null
          }
        },
        "26346145f3b54611a9a133f972b526b4": {
          "model_module": "@jupyter-widgets/controls",
          "model_name": "DescriptionStyleModel",
          "model_module_version": "1.5.0",
          "state": {
            "_model_module": "@jupyter-widgets/controls",
            "_model_module_version": "1.5.0",
            "_model_name": "DescriptionStyleModel",
            "_view_count": null,
            "_view_module": "@jupyter-widgets/base",
            "_view_module_version": "1.2.0",
            "_view_name": "StyleView",
            "description_width": ""
          }
        }
      }
    }
  },
  "cells": [
    {
      "cell_type": "markdown",
      "source": [
        "# Installing Libraries"
      ],
      "metadata": {
        "id": "6DJB8_4IK3Eg"
      }
    },
    {
      "cell_type": "code",
      "source": [
        "!pip install -q numpy pandas altair scikit-learn scikit-optimize hyperopt optuna"
      ],
      "metadata": {
        "id": "fNQv_d-iNJpk",
        "colab": {
          "base_uri": "https://localhost:8080/"
        },
        "outputId": "fa4094da-17e4-48d3-ab55-fb26b9fd7101"
      },
      "execution_count": null,
      "outputs": [
        {
          "output_type": "stream",
          "name": "stdout",
          "text": [
            "\u001b[2K     \u001b[90m━━━━━━━━━━━━━━━━━━━━━━━━━━━━━━━━━━━━━━━━\u001b[0m \u001b[32m107.7/107.7 kB\u001b[0m \u001b[31m2.0 MB/s\u001b[0m eta \u001b[36m0:00:00\u001b[0m\n",
            "\u001b[2K     \u001b[90m━━━━━━━━━━━━━━━━━━━━━━━━━━━━━━━━━━━━━━━━\u001b[0m \u001b[32m380.1/380.1 kB\u001b[0m \u001b[31m6.9 MB/s\u001b[0m eta \u001b[36m0:00:00\u001b[0m\n",
            "\u001b[2K     \u001b[90m━━━━━━━━━━━━━━━━━━━━━━━━━━━━━━━━━━━━━━━━\u001b[0m \u001b[32m233.4/233.4 kB\u001b[0m \u001b[31m6.6 MB/s\u001b[0m eta \u001b[36m0:00:00\u001b[0m\n",
            "\u001b[2K     \u001b[90m━━━━━━━━━━━━━━━━━━━━━━━━━━━━━━━━━━━━━━━━\u001b[0m \u001b[32m78.8/78.8 kB\u001b[0m \u001b[31m5.8 MB/s\u001b[0m eta \u001b[36m0:00:00\u001b[0m\n",
            "\u001b[?25h"
          ]
        }
      ]
    },
    {
      "cell_type": "markdown",
      "source": [
        "이번 실습에서는 (1) Exhaustive Search를 위해서 scikit-learn의 [sklearn.model_selection](https://scikit-learn.org/stable/modules/classes.html#module-sklearn.model_selection) 모듈 내에서 제공하고 있는 여러 초매개변수 최적화 방법, (2) Bayesian Optimization을 위해 [scikit-optimize](https://scikit-optimize.github.io/stable/index.html), (3) Tree Parzen Estimator를 위해 [hyperopt](https://hyperopt.github.io/hyperopt/) 및 [optuna](https://optuna.readthedocs.io/en/stable/index.html)를 사용한다."
      ],
      "metadata": {
        "id": "XJenFwCDNUTg"
      }
    },
    {
      "cell_type": "markdown",
      "source": [
        "# Data Preparation"
      ],
      "metadata": {
        "id": "8TEU8XdaO9Ci"
      }
    },
    {
      "cell_type": "markdown",
      "source": [
        "데이터로는 은행의 전화 마케팅 성공 여부를 예측하는 [Banking Dataset - Marketing Targets](https://www.kaggle.com/datasets/prakharrathi25/banking-dataset-marketing-targets)을 사용해보겠다."
      ],
      "metadata": {
        "id": "cWj1tQfDXiPA"
      }
    },
    {
      "cell_type": "code",
      "source": [
        "import pandas as pd\n",
        "\n",
        "\n",
        "URL_TRAIN = 'https://drive.usercontent.google.com/download?export=download&confirm=t&id=1_XXEOnEr8hUqNhFDu8x4Z7Rvb-4ZUTcm'\n",
        "TRAIN = pd.read_csv(URL_TRAIN, sep=';')\n",
        "TRAIN"
      ],
      "metadata": {
        "colab": {
          "base_uri": "https://localhost:8080/",
          "height": 424
        },
        "id": "SOAfIlTVO_NJ",
        "outputId": "d68d1555-f635-4204-a5ac-4152e232acec"
      },
      "execution_count": null,
      "outputs": [
        {
          "output_type": "execute_result",
          "data": {
            "text/plain": [
              "       age           job   marital  education default  balance housing loan  \\\n",
              "0       58    management   married   tertiary      no     2143     yes   no   \n",
              "1       44    technician    single  secondary      no       29     yes   no   \n",
              "2       33  entrepreneur   married  secondary      no        2     yes  yes   \n",
              "3       47   blue-collar   married    unknown      no     1506     yes   no   \n",
              "4       33       unknown    single    unknown      no        1      no   no   \n",
              "...    ...           ...       ...        ...     ...      ...     ...  ...   \n",
              "45206   51    technician   married   tertiary      no      825      no   no   \n",
              "45207   71       retired  divorced    primary      no     1729      no   no   \n",
              "45208   72       retired   married  secondary      no     5715      no   no   \n",
              "45209   57   blue-collar   married  secondary      no      668      no   no   \n",
              "45210   37  entrepreneur   married  secondary      no     2971      no   no   \n",
              "\n",
              "         contact  day month  duration  campaign  pdays  previous poutcome    y  \n",
              "0        unknown    5   may       261         1     -1         0  unknown   no  \n",
              "1        unknown    5   may       151         1     -1         0  unknown   no  \n",
              "2        unknown    5   may        76         1     -1         0  unknown   no  \n",
              "3        unknown    5   may        92         1     -1         0  unknown   no  \n",
              "4        unknown    5   may       198         1     -1         0  unknown   no  \n",
              "...          ...  ...   ...       ...       ...    ...       ...      ...  ...  \n",
              "45206   cellular   17   nov       977         3     -1         0  unknown  yes  \n",
              "45207   cellular   17   nov       456         2     -1         0  unknown  yes  \n",
              "45208   cellular   17   nov      1127         5    184         3  success  yes  \n",
              "45209  telephone   17   nov       508         4     -1         0  unknown   no  \n",
              "45210   cellular   17   nov       361         2    188        11    other   no  \n",
              "\n",
              "[45211 rows x 17 columns]"
            ],
            "text/html": [
              "\n",
              "  <div id=\"df-1ad2c712-234d-41f5-9ecb-3b3ad352c400\" class=\"colab-df-container\">\n",
              "    <div>\n",
              "<style scoped>\n",
              "    .dataframe tbody tr th:only-of-type {\n",
              "        vertical-align: middle;\n",
              "    }\n",
              "\n",
              "    .dataframe tbody tr th {\n",
              "        vertical-align: top;\n",
              "    }\n",
              "\n",
              "    .dataframe thead th {\n",
              "        text-align: right;\n",
              "    }\n",
              "</style>\n",
              "<table border=\"1\" class=\"dataframe\">\n",
              "  <thead>\n",
              "    <tr style=\"text-align: right;\">\n",
              "      <th></th>\n",
              "      <th>age</th>\n",
              "      <th>job</th>\n",
              "      <th>marital</th>\n",
              "      <th>education</th>\n",
              "      <th>default</th>\n",
              "      <th>balance</th>\n",
              "      <th>housing</th>\n",
              "      <th>loan</th>\n",
              "      <th>contact</th>\n",
              "      <th>day</th>\n",
              "      <th>month</th>\n",
              "      <th>duration</th>\n",
              "      <th>campaign</th>\n",
              "      <th>pdays</th>\n",
              "      <th>previous</th>\n",
              "      <th>poutcome</th>\n",
              "      <th>y</th>\n",
              "    </tr>\n",
              "  </thead>\n",
              "  <tbody>\n",
              "    <tr>\n",
              "      <th>0</th>\n",
              "      <td>58</td>\n",
              "      <td>management</td>\n",
              "      <td>married</td>\n",
              "      <td>tertiary</td>\n",
              "      <td>no</td>\n",
              "      <td>2143</td>\n",
              "      <td>yes</td>\n",
              "      <td>no</td>\n",
              "      <td>unknown</td>\n",
              "      <td>5</td>\n",
              "      <td>may</td>\n",
              "      <td>261</td>\n",
              "      <td>1</td>\n",
              "      <td>-1</td>\n",
              "      <td>0</td>\n",
              "      <td>unknown</td>\n",
              "      <td>no</td>\n",
              "    </tr>\n",
              "    <tr>\n",
              "      <th>1</th>\n",
              "      <td>44</td>\n",
              "      <td>technician</td>\n",
              "      <td>single</td>\n",
              "      <td>secondary</td>\n",
              "      <td>no</td>\n",
              "      <td>29</td>\n",
              "      <td>yes</td>\n",
              "      <td>no</td>\n",
              "      <td>unknown</td>\n",
              "      <td>5</td>\n",
              "      <td>may</td>\n",
              "      <td>151</td>\n",
              "      <td>1</td>\n",
              "      <td>-1</td>\n",
              "      <td>0</td>\n",
              "      <td>unknown</td>\n",
              "      <td>no</td>\n",
              "    </tr>\n",
              "    <tr>\n",
              "      <th>2</th>\n",
              "      <td>33</td>\n",
              "      <td>entrepreneur</td>\n",
              "      <td>married</td>\n",
              "      <td>secondary</td>\n",
              "      <td>no</td>\n",
              "      <td>2</td>\n",
              "      <td>yes</td>\n",
              "      <td>yes</td>\n",
              "      <td>unknown</td>\n",
              "      <td>5</td>\n",
              "      <td>may</td>\n",
              "      <td>76</td>\n",
              "      <td>1</td>\n",
              "      <td>-1</td>\n",
              "      <td>0</td>\n",
              "      <td>unknown</td>\n",
              "      <td>no</td>\n",
              "    </tr>\n",
              "    <tr>\n",
              "      <th>3</th>\n",
              "      <td>47</td>\n",
              "      <td>blue-collar</td>\n",
              "      <td>married</td>\n",
              "      <td>unknown</td>\n",
              "      <td>no</td>\n",
              "      <td>1506</td>\n",
              "      <td>yes</td>\n",
              "      <td>no</td>\n",
              "      <td>unknown</td>\n",
              "      <td>5</td>\n",
              "      <td>may</td>\n",
              "      <td>92</td>\n",
              "      <td>1</td>\n",
              "      <td>-1</td>\n",
              "      <td>0</td>\n",
              "      <td>unknown</td>\n",
              "      <td>no</td>\n",
              "    </tr>\n",
              "    <tr>\n",
              "      <th>4</th>\n",
              "      <td>33</td>\n",
              "      <td>unknown</td>\n",
              "      <td>single</td>\n",
              "      <td>unknown</td>\n",
              "      <td>no</td>\n",
              "      <td>1</td>\n",
              "      <td>no</td>\n",
              "      <td>no</td>\n",
              "      <td>unknown</td>\n",
              "      <td>5</td>\n",
              "      <td>may</td>\n",
              "      <td>198</td>\n",
              "      <td>1</td>\n",
              "      <td>-1</td>\n",
              "      <td>0</td>\n",
              "      <td>unknown</td>\n",
              "      <td>no</td>\n",
              "    </tr>\n",
              "    <tr>\n",
              "      <th>...</th>\n",
              "      <td>...</td>\n",
              "      <td>...</td>\n",
              "      <td>...</td>\n",
              "      <td>...</td>\n",
              "      <td>...</td>\n",
              "      <td>...</td>\n",
              "      <td>...</td>\n",
              "      <td>...</td>\n",
              "      <td>...</td>\n",
              "      <td>...</td>\n",
              "      <td>...</td>\n",
              "      <td>...</td>\n",
              "      <td>...</td>\n",
              "      <td>...</td>\n",
              "      <td>...</td>\n",
              "      <td>...</td>\n",
              "      <td>...</td>\n",
              "    </tr>\n",
              "    <tr>\n",
              "      <th>45206</th>\n",
              "      <td>51</td>\n",
              "      <td>technician</td>\n",
              "      <td>married</td>\n",
              "      <td>tertiary</td>\n",
              "      <td>no</td>\n",
              "      <td>825</td>\n",
              "      <td>no</td>\n",
              "      <td>no</td>\n",
              "      <td>cellular</td>\n",
              "      <td>17</td>\n",
              "      <td>nov</td>\n",
              "      <td>977</td>\n",
              "      <td>3</td>\n",
              "      <td>-1</td>\n",
              "      <td>0</td>\n",
              "      <td>unknown</td>\n",
              "      <td>yes</td>\n",
              "    </tr>\n",
              "    <tr>\n",
              "      <th>45207</th>\n",
              "      <td>71</td>\n",
              "      <td>retired</td>\n",
              "      <td>divorced</td>\n",
              "      <td>primary</td>\n",
              "      <td>no</td>\n",
              "      <td>1729</td>\n",
              "      <td>no</td>\n",
              "      <td>no</td>\n",
              "      <td>cellular</td>\n",
              "      <td>17</td>\n",
              "      <td>nov</td>\n",
              "      <td>456</td>\n",
              "      <td>2</td>\n",
              "      <td>-1</td>\n",
              "      <td>0</td>\n",
              "      <td>unknown</td>\n",
              "      <td>yes</td>\n",
              "    </tr>\n",
              "    <tr>\n",
              "      <th>45208</th>\n",
              "      <td>72</td>\n",
              "      <td>retired</td>\n",
              "      <td>married</td>\n",
              "      <td>secondary</td>\n",
              "      <td>no</td>\n",
              "      <td>5715</td>\n",
              "      <td>no</td>\n",
              "      <td>no</td>\n",
              "      <td>cellular</td>\n",
              "      <td>17</td>\n",
              "      <td>nov</td>\n",
              "      <td>1127</td>\n",
              "      <td>5</td>\n",
              "      <td>184</td>\n",
              "      <td>3</td>\n",
              "      <td>success</td>\n",
              "      <td>yes</td>\n",
              "    </tr>\n",
              "    <tr>\n",
              "      <th>45209</th>\n",
              "      <td>57</td>\n",
              "      <td>blue-collar</td>\n",
              "      <td>married</td>\n",
              "      <td>secondary</td>\n",
              "      <td>no</td>\n",
              "      <td>668</td>\n",
              "      <td>no</td>\n",
              "      <td>no</td>\n",
              "      <td>telephone</td>\n",
              "      <td>17</td>\n",
              "      <td>nov</td>\n",
              "      <td>508</td>\n",
              "      <td>4</td>\n",
              "      <td>-1</td>\n",
              "      <td>0</td>\n",
              "      <td>unknown</td>\n",
              "      <td>no</td>\n",
              "    </tr>\n",
              "    <tr>\n",
              "      <th>45210</th>\n",
              "      <td>37</td>\n",
              "      <td>entrepreneur</td>\n",
              "      <td>married</td>\n",
              "      <td>secondary</td>\n",
              "      <td>no</td>\n",
              "      <td>2971</td>\n",
              "      <td>no</td>\n",
              "      <td>no</td>\n",
              "      <td>cellular</td>\n",
              "      <td>17</td>\n",
              "      <td>nov</td>\n",
              "      <td>361</td>\n",
              "      <td>2</td>\n",
              "      <td>188</td>\n",
              "      <td>11</td>\n",
              "      <td>other</td>\n",
              "      <td>no</td>\n",
              "    </tr>\n",
              "  </tbody>\n",
              "</table>\n",
              "<p>45211 rows × 17 columns</p>\n",
              "</div>\n",
              "    <div class=\"colab-df-buttons\">\n",
              "\n",
              "  <div class=\"colab-df-container\">\n",
              "    <button class=\"colab-df-convert\" onclick=\"convertToInteractive('df-1ad2c712-234d-41f5-9ecb-3b3ad352c400')\"\n",
              "            title=\"Convert this dataframe to an interactive table.\"\n",
              "            style=\"display:none;\">\n",
              "\n",
              "  <svg xmlns=\"http://www.w3.org/2000/svg\" height=\"24px\" viewBox=\"0 -960 960 960\">\n",
              "    <path d=\"M120-120v-720h720v720H120Zm60-500h600v-160H180v160Zm220 220h160v-160H400v160Zm0 220h160v-160H400v160ZM180-400h160v-160H180v160Zm440 0h160v-160H620v160ZM180-180h160v-160H180v160Zm440 0h160v-160H620v160Z\"/>\n",
              "  </svg>\n",
              "    </button>\n",
              "\n",
              "  <style>\n",
              "    .colab-df-container {\n",
              "      display:flex;\n",
              "      gap: 12px;\n",
              "    }\n",
              "\n",
              "    .colab-df-convert {\n",
              "      background-color: #E8F0FE;\n",
              "      border: none;\n",
              "      border-radius: 50%;\n",
              "      cursor: pointer;\n",
              "      display: none;\n",
              "      fill: #1967D2;\n",
              "      height: 32px;\n",
              "      padding: 0 0 0 0;\n",
              "      width: 32px;\n",
              "    }\n",
              "\n",
              "    .colab-df-convert:hover {\n",
              "      background-color: #E2EBFA;\n",
              "      box-shadow: 0px 1px 2px rgba(60, 64, 67, 0.3), 0px 1px 3px 1px rgba(60, 64, 67, 0.15);\n",
              "      fill: #174EA6;\n",
              "    }\n",
              "\n",
              "    .colab-df-buttons div {\n",
              "      margin-bottom: 4px;\n",
              "    }\n",
              "\n",
              "    [theme=dark] .colab-df-convert {\n",
              "      background-color: #3B4455;\n",
              "      fill: #D2E3FC;\n",
              "    }\n",
              "\n",
              "    [theme=dark] .colab-df-convert:hover {\n",
              "      background-color: #434B5C;\n",
              "      box-shadow: 0px 1px 3px 1px rgba(0, 0, 0, 0.15);\n",
              "      filter: drop-shadow(0px 1px 2px rgba(0, 0, 0, 0.3));\n",
              "      fill: #FFFFFF;\n",
              "    }\n",
              "  </style>\n",
              "\n",
              "    <script>\n",
              "      const buttonEl =\n",
              "        document.querySelector('#df-1ad2c712-234d-41f5-9ecb-3b3ad352c400 button.colab-df-convert');\n",
              "      buttonEl.style.display =\n",
              "        google.colab.kernel.accessAllowed ? 'block' : 'none';\n",
              "\n",
              "      async function convertToInteractive(key) {\n",
              "        const element = document.querySelector('#df-1ad2c712-234d-41f5-9ecb-3b3ad352c400');\n",
              "        const dataTable =\n",
              "          await google.colab.kernel.invokeFunction('convertToInteractive',\n",
              "                                                    [key], {});\n",
              "        if (!dataTable) return;\n",
              "\n",
              "        const docLinkHtml = 'Like what you see? Visit the ' +\n",
              "          '<a target=\"_blank\" href=https://colab.research.google.com/notebooks/data_table.ipynb>data table notebook</a>'\n",
              "          + ' to learn more about interactive tables.';\n",
              "        element.innerHTML = '';\n",
              "        dataTable['output_type'] = 'display_data';\n",
              "        await google.colab.output.renderOutput(dataTable, element);\n",
              "        const docLink = document.createElement('div');\n",
              "        docLink.innerHTML = docLinkHtml;\n",
              "        element.appendChild(docLink);\n",
              "      }\n",
              "    </script>\n",
              "  </div>\n",
              "\n",
              "\n",
              "<div id=\"df-36a8a55f-35ec-41fb-be26-b9afb58de41c\">\n",
              "  <button class=\"colab-df-quickchart\" onclick=\"quickchart('df-36a8a55f-35ec-41fb-be26-b9afb58de41c')\"\n",
              "            title=\"Suggest charts\"\n",
              "            style=\"display:none;\">\n",
              "\n",
              "<svg xmlns=\"http://www.w3.org/2000/svg\" height=\"24px\"viewBox=\"0 0 24 24\"\n",
              "     width=\"24px\">\n",
              "    <g>\n",
              "        <path d=\"M19 3H5c-1.1 0-2 .9-2 2v14c0 1.1.9 2 2 2h14c1.1 0 2-.9 2-2V5c0-1.1-.9-2-2-2zM9 17H7v-7h2v7zm4 0h-2V7h2v10zm4 0h-2v-4h2v4z\"/>\n",
              "    </g>\n",
              "</svg>\n",
              "  </button>\n",
              "\n",
              "<style>\n",
              "  .colab-df-quickchart {\n",
              "      --bg-color: #E8F0FE;\n",
              "      --fill-color: #1967D2;\n",
              "      --hover-bg-color: #E2EBFA;\n",
              "      --hover-fill-color: #174EA6;\n",
              "      --disabled-fill-color: #AAA;\n",
              "      --disabled-bg-color: #DDD;\n",
              "  }\n",
              "\n",
              "  [theme=dark] .colab-df-quickchart {\n",
              "      --bg-color: #3B4455;\n",
              "      --fill-color: #D2E3FC;\n",
              "      --hover-bg-color: #434B5C;\n",
              "      --hover-fill-color: #FFFFFF;\n",
              "      --disabled-bg-color: #3B4455;\n",
              "      --disabled-fill-color: #666;\n",
              "  }\n",
              "\n",
              "  .colab-df-quickchart {\n",
              "    background-color: var(--bg-color);\n",
              "    border: none;\n",
              "    border-radius: 50%;\n",
              "    cursor: pointer;\n",
              "    display: none;\n",
              "    fill: var(--fill-color);\n",
              "    height: 32px;\n",
              "    padding: 0;\n",
              "    width: 32px;\n",
              "  }\n",
              "\n",
              "  .colab-df-quickchart:hover {\n",
              "    background-color: var(--hover-bg-color);\n",
              "    box-shadow: 0 1px 2px rgba(60, 64, 67, 0.3), 0 1px 3px 1px rgba(60, 64, 67, 0.15);\n",
              "    fill: var(--button-hover-fill-color);\n",
              "  }\n",
              "\n",
              "  .colab-df-quickchart-complete:disabled,\n",
              "  .colab-df-quickchart-complete:disabled:hover {\n",
              "    background-color: var(--disabled-bg-color);\n",
              "    fill: var(--disabled-fill-color);\n",
              "    box-shadow: none;\n",
              "  }\n",
              "\n",
              "  .colab-df-spinner {\n",
              "    border: 2px solid var(--fill-color);\n",
              "    border-color: transparent;\n",
              "    border-bottom-color: var(--fill-color);\n",
              "    animation:\n",
              "      spin 1s steps(1) infinite;\n",
              "  }\n",
              "\n",
              "  @keyframes spin {\n",
              "    0% {\n",
              "      border-color: transparent;\n",
              "      border-bottom-color: var(--fill-color);\n",
              "      border-left-color: var(--fill-color);\n",
              "    }\n",
              "    20% {\n",
              "      border-color: transparent;\n",
              "      border-left-color: var(--fill-color);\n",
              "      border-top-color: var(--fill-color);\n",
              "    }\n",
              "    30% {\n",
              "      border-color: transparent;\n",
              "      border-left-color: var(--fill-color);\n",
              "      border-top-color: var(--fill-color);\n",
              "      border-right-color: var(--fill-color);\n",
              "    }\n",
              "    40% {\n",
              "      border-color: transparent;\n",
              "      border-right-color: var(--fill-color);\n",
              "      border-top-color: var(--fill-color);\n",
              "    }\n",
              "    60% {\n",
              "      border-color: transparent;\n",
              "      border-right-color: var(--fill-color);\n",
              "    }\n",
              "    80% {\n",
              "      border-color: transparent;\n",
              "      border-right-color: var(--fill-color);\n",
              "      border-bottom-color: var(--fill-color);\n",
              "    }\n",
              "    90% {\n",
              "      border-color: transparent;\n",
              "      border-bottom-color: var(--fill-color);\n",
              "    }\n",
              "  }\n",
              "</style>\n",
              "\n",
              "  <script>\n",
              "    async function quickchart(key) {\n",
              "      const quickchartButtonEl =\n",
              "        document.querySelector('#' + key + ' button');\n",
              "      quickchartButtonEl.disabled = true;  // To prevent multiple clicks.\n",
              "      quickchartButtonEl.classList.add('colab-df-spinner');\n",
              "      try {\n",
              "        const charts = await google.colab.kernel.invokeFunction(\n",
              "            'suggestCharts', [key], {});\n",
              "      } catch (error) {\n",
              "        console.error('Error during call to suggestCharts:', error);\n",
              "      }\n",
              "      quickchartButtonEl.classList.remove('colab-df-spinner');\n",
              "      quickchartButtonEl.classList.add('colab-df-quickchart-complete');\n",
              "    }\n",
              "    (() => {\n",
              "      let quickchartButtonEl =\n",
              "        document.querySelector('#df-36a8a55f-35ec-41fb-be26-b9afb58de41c button');\n",
              "      quickchartButtonEl.style.display =\n",
              "        google.colab.kernel.accessAllowed ? 'block' : 'none';\n",
              "    })();\n",
              "  </script>\n",
              "</div>\n",
              "    </div>\n",
              "  </div>\n"
            ],
            "application/vnd.google.colaboratory.intrinsic+json": {
              "type": "dataframe",
              "variable_name": "TRAIN",
              "summary": "{\n  \"name\": \"TRAIN\",\n  \"rows\": 45211,\n  \"fields\": [\n    {\n      \"column\": \"age\",\n      \"properties\": {\n        \"dtype\": \"number\",\n        \"std\": 10,\n        \"min\": 18,\n        \"max\": 95,\n        \"num_unique_values\": 77,\n        \"samples\": [\n          35,\n          34,\n          53\n        ],\n        \"semantic_type\": \"\",\n        \"description\": \"\"\n      }\n    },\n    {\n      \"column\": \"job\",\n      \"properties\": {\n        \"dtype\": \"category\",\n        \"num_unique_values\": 12,\n        \"samples\": [\n          \"housemaid\",\n          \"unemployed\",\n          \"management\"\n        ],\n        \"semantic_type\": \"\",\n        \"description\": \"\"\n      }\n    },\n    {\n      \"column\": \"marital\",\n      \"properties\": {\n        \"dtype\": \"category\",\n        \"num_unique_values\": 3,\n        \"samples\": [\n          \"married\",\n          \"single\",\n          \"divorced\"\n        ],\n        \"semantic_type\": \"\",\n        \"description\": \"\"\n      }\n    },\n    {\n      \"column\": \"education\",\n      \"properties\": {\n        \"dtype\": \"category\",\n        \"num_unique_values\": 4,\n        \"samples\": [\n          \"secondary\",\n          \"primary\",\n          \"tertiary\"\n        ],\n        \"semantic_type\": \"\",\n        \"description\": \"\"\n      }\n    },\n    {\n      \"column\": \"default\",\n      \"properties\": {\n        \"dtype\": \"category\",\n        \"num_unique_values\": 2,\n        \"samples\": [\n          \"yes\",\n          \"no\"\n        ],\n        \"semantic_type\": \"\",\n        \"description\": \"\"\n      }\n    },\n    {\n      \"column\": \"balance\",\n      \"properties\": {\n        \"dtype\": \"number\",\n        \"std\": 3044,\n        \"min\": -8019,\n        \"max\": 102127,\n        \"num_unique_values\": 7168,\n        \"samples\": [\n          3276,\n          43\n        ],\n        \"semantic_type\": \"\",\n        \"description\": \"\"\n      }\n    },\n    {\n      \"column\": \"housing\",\n      \"properties\": {\n        \"dtype\": \"category\",\n        \"num_unique_values\": 2,\n        \"samples\": [\n          \"no\",\n          \"yes\"\n        ],\n        \"semantic_type\": \"\",\n        \"description\": \"\"\n      }\n    },\n    {\n      \"column\": \"loan\",\n      \"properties\": {\n        \"dtype\": \"category\",\n        \"num_unique_values\": 2,\n        \"samples\": [\n          \"yes\",\n          \"no\"\n        ],\n        \"semantic_type\": \"\",\n        \"description\": \"\"\n      }\n    },\n    {\n      \"column\": \"contact\",\n      \"properties\": {\n        \"dtype\": \"category\",\n        \"num_unique_values\": 3,\n        \"samples\": [\n          \"unknown\",\n          \"cellular\"\n        ],\n        \"semantic_type\": \"\",\n        \"description\": \"\"\n      }\n    },\n    {\n      \"column\": \"day\",\n      \"properties\": {\n        \"dtype\": \"number\",\n        \"std\": 8,\n        \"min\": 1,\n        \"max\": 31,\n        \"num_unique_values\": 31,\n        \"samples\": [\n          1,\n          27\n        ],\n        \"semantic_type\": \"\",\n        \"description\": \"\"\n      }\n    },\n    {\n      \"column\": \"month\",\n      \"properties\": {\n        \"dtype\": \"category\",\n        \"num_unique_values\": 12,\n        \"samples\": [\n          \"apr\",\n          \"mar\"\n        ],\n        \"semantic_type\": \"\",\n        \"description\": \"\"\n      }\n    },\n    {\n      \"column\": \"duration\",\n      \"properties\": {\n        \"dtype\": \"number\",\n        \"std\": 257,\n        \"min\": 0,\n        \"max\": 4918,\n        \"num_unique_values\": 1573,\n        \"samples\": [\n          835,\n          1135\n        ],\n        \"semantic_type\": \"\",\n        \"description\": \"\"\n      }\n    },\n    {\n      \"column\": \"campaign\",\n      \"properties\": {\n        \"dtype\": \"number\",\n        \"std\": 3,\n        \"min\": 1,\n        \"max\": 63,\n        \"num_unique_values\": 48,\n        \"samples\": [\n          41,\n          27\n        ],\n        \"semantic_type\": \"\",\n        \"description\": \"\"\n      }\n    },\n    {\n      \"column\": \"pdays\",\n      \"properties\": {\n        \"dtype\": \"number\",\n        \"std\": 100,\n        \"min\": -1,\n        \"max\": 871,\n        \"num_unique_values\": 559,\n        \"samples\": [\n          249,\n          551\n        ],\n        \"semantic_type\": \"\",\n        \"description\": \"\"\n      }\n    },\n    {\n      \"column\": \"previous\",\n      \"properties\": {\n        \"dtype\": \"number\",\n        \"std\": 2,\n        \"min\": 0,\n        \"max\": 275,\n        \"num_unique_values\": 41,\n        \"samples\": [\n          17,\n          9\n        ],\n        \"semantic_type\": \"\",\n        \"description\": \"\"\n      }\n    },\n    {\n      \"column\": \"poutcome\",\n      \"properties\": {\n        \"dtype\": \"category\",\n        \"num_unique_values\": 4,\n        \"samples\": [\n          \"failure\",\n          \"success\"\n        ],\n        \"semantic_type\": \"\",\n        \"description\": \"\"\n      }\n    },\n    {\n      \"column\": \"y\",\n      \"properties\": {\n        \"dtype\": \"category\",\n        \"num_unique_values\": 2,\n        \"samples\": [\n          \"yes\",\n          \"no\"\n        ],\n        \"semantic_type\": \"\",\n        \"description\": \"\"\n      }\n    }\n  ]\n}"
            }
          },
          "metadata": {},
          "execution_count": 2
        }
      ]
    },
    {
      "cell_type": "markdown",
      "source": [
        "보다시피, 위 데이터는 범주형 데이터와 수치형 데이터가 섞여 있다. One-hot Encoding을 통해서 범주형 데이터를 이진값으로 바꿔주자."
      ],
      "metadata": {
        "id": "QvSK07laZk1o"
      }
    },
    {
      "cell_type": "code",
      "source": [
        "import pandas as pd\n",
        "from sklearn.preprocessing import OneHotEncoder\n",
        "\n",
        "\n",
        "X, y = TRAIN.drop('y', axis=1), TRAIN['y']\n",
        "X_NUM, X_CAT = X.select_dtypes(include='number'), X.select_dtypes(exclude='number')\n",
        "\n",
        "encoder = OneHotEncoder(drop='if_binary', sparse_output=False)\n",
        "X_CAT_ENC = pd.DataFrame(\n",
        "    encoder.fit_transform(X_CAT),\n",
        "    columns=encoder.get_feature_names_out()\n",
        ")\n",
        "X_CAT_ENC.head()"
      ],
      "metadata": {
        "id": "VqajwVWRZ7mL",
        "colab": {
          "base_uri": "https://localhost:8080/",
          "height": 236
        },
        "outputId": "3f3d9dbf-6bec-42d5-9153-8ba185190249"
      },
      "execution_count": null,
      "outputs": [
        {
          "output_type": "execute_result",
          "data": {
            "text/plain": [
              "   job_admin.  job_blue-collar  job_entrepreneur  job_housemaid  \\\n",
              "0         0.0              0.0               0.0            0.0   \n",
              "1         0.0              0.0               0.0            0.0   \n",
              "2         0.0              0.0               1.0            0.0   \n",
              "3         0.0              1.0               0.0            0.0   \n",
              "4         0.0              0.0               0.0            0.0   \n",
              "\n",
              "   job_management  job_retired  job_self-employed  job_services  job_student  \\\n",
              "0             1.0          0.0                0.0           0.0          0.0   \n",
              "1             0.0          0.0                0.0           0.0          0.0   \n",
              "2             0.0          0.0                0.0           0.0          0.0   \n",
              "3             0.0          0.0                0.0           0.0          0.0   \n",
              "4             0.0          0.0                0.0           0.0          0.0   \n",
              "\n",
              "   job_technician  ...  month_jun  month_mar  month_may  month_nov  month_oct  \\\n",
              "0             0.0  ...        0.0        0.0        1.0        0.0        0.0   \n",
              "1             1.0  ...        0.0        0.0        1.0        0.0        0.0   \n",
              "2             0.0  ...        0.0        0.0        1.0        0.0        0.0   \n",
              "3             0.0  ...        0.0        0.0        1.0        0.0        0.0   \n",
              "4             0.0  ...        0.0        0.0        1.0        0.0        0.0   \n",
              "\n",
              "   month_sep  poutcome_failure  poutcome_other  poutcome_success  \\\n",
              "0        0.0               0.0             0.0               0.0   \n",
              "1        0.0               0.0             0.0               0.0   \n",
              "2        0.0               0.0             0.0               0.0   \n",
              "3        0.0               0.0             0.0               0.0   \n",
              "4        0.0               0.0             0.0               0.0   \n",
              "\n",
              "   poutcome_unknown  \n",
              "0               1.0  \n",
              "1               1.0  \n",
              "2               1.0  \n",
              "3               1.0  \n",
              "4               1.0  \n",
              "\n",
              "[5 rows x 41 columns]"
            ],
            "text/html": [
              "\n",
              "  <div id=\"df-a3f28261-6424-43ce-bda9-1891b3536dc3\" class=\"colab-df-container\">\n",
              "    <div>\n",
              "<style scoped>\n",
              "    .dataframe tbody tr th:only-of-type {\n",
              "        vertical-align: middle;\n",
              "    }\n",
              "\n",
              "    .dataframe tbody tr th {\n",
              "        vertical-align: top;\n",
              "    }\n",
              "\n",
              "    .dataframe thead th {\n",
              "        text-align: right;\n",
              "    }\n",
              "</style>\n",
              "<table border=\"1\" class=\"dataframe\">\n",
              "  <thead>\n",
              "    <tr style=\"text-align: right;\">\n",
              "      <th></th>\n",
              "      <th>job_admin.</th>\n",
              "      <th>job_blue-collar</th>\n",
              "      <th>job_entrepreneur</th>\n",
              "      <th>job_housemaid</th>\n",
              "      <th>job_management</th>\n",
              "      <th>job_retired</th>\n",
              "      <th>job_self-employed</th>\n",
              "      <th>job_services</th>\n",
              "      <th>job_student</th>\n",
              "      <th>job_technician</th>\n",
              "      <th>...</th>\n",
              "      <th>month_jun</th>\n",
              "      <th>month_mar</th>\n",
              "      <th>month_may</th>\n",
              "      <th>month_nov</th>\n",
              "      <th>month_oct</th>\n",
              "      <th>month_sep</th>\n",
              "      <th>poutcome_failure</th>\n",
              "      <th>poutcome_other</th>\n",
              "      <th>poutcome_success</th>\n",
              "      <th>poutcome_unknown</th>\n",
              "    </tr>\n",
              "  </thead>\n",
              "  <tbody>\n",
              "    <tr>\n",
              "      <th>0</th>\n",
              "      <td>0.0</td>\n",
              "      <td>0.0</td>\n",
              "      <td>0.0</td>\n",
              "      <td>0.0</td>\n",
              "      <td>1.0</td>\n",
              "      <td>0.0</td>\n",
              "      <td>0.0</td>\n",
              "      <td>0.0</td>\n",
              "      <td>0.0</td>\n",
              "      <td>0.0</td>\n",
              "      <td>...</td>\n",
              "      <td>0.0</td>\n",
              "      <td>0.0</td>\n",
              "      <td>1.0</td>\n",
              "      <td>0.0</td>\n",
              "      <td>0.0</td>\n",
              "      <td>0.0</td>\n",
              "      <td>0.0</td>\n",
              "      <td>0.0</td>\n",
              "      <td>0.0</td>\n",
              "      <td>1.0</td>\n",
              "    </tr>\n",
              "    <tr>\n",
              "      <th>1</th>\n",
              "      <td>0.0</td>\n",
              "      <td>0.0</td>\n",
              "      <td>0.0</td>\n",
              "      <td>0.0</td>\n",
              "      <td>0.0</td>\n",
              "      <td>0.0</td>\n",
              "      <td>0.0</td>\n",
              "      <td>0.0</td>\n",
              "      <td>0.0</td>\n",
              "      <td>1.0</td>\n",
              "      <td>...</td>\n",
              "      <td>0.0</td>\n",
              "      <td>0.0</td>\n",
              "      <td>1.0</td>\n",
              "      <td>0.0</td>\n",
              "      <td>0.0</td>\n",
              "      <td>0.0</td>\n",
              "      <td>0.0</td>\n",
              "      <td>0.0</td>\n",
              "      <td>0.0</td>\n",
              "      <td>1.0</td>\n",
              "    </tr>\n",
              "    <tr>\n",
              "      <th>2</th>\n",
              "      <td>0.0</td>\n",
              "      <td>0.0</td>\n",
              "      <td>1.0</td>\n",
              "      <td>0.0</td>\n",
              "      <td>0.0</td>\n",
              "      <td>0.0</td>\n",
              "      <td>0.0</td>\n",
              "      <td>0.0</td>\n",
              "      <td>0.0</td>\n",
              "      <td>0.0</td>\n",
              "      <td>...</td>\n",
              "      <td>0.0</td>\n",
              "      <td>0.0</td>\n",
              "      <td>1.0</td>\n",
              "      <td>0.0</td>\n",
              "      <td>0.0</td>\n",
              "      <td>0.0</td>\n",
              "      <td>0.0</td>\n",
              "      <td>0.0</td>\n",
              "      <td>0.0</td>\n",
              "      <td>1.0</td>\n",
              "    </tr>\n",
              "    <tr>\n",
              "      <th>3</th>\n",
              "      <td>0.0</td>\n",
              "      <td>1.0</td>\n",
              "      <td>0.0</td>\n",
              "      <td>0.0</td>\n",
              "      <td>0.0</td>\n",
              "      <td>0.0</td>\n",
              "      <td>0.0</td>\n",
              "      <td>0.0</td>\n",
              "      <td>0.0</td>\n",
              "      <td>0.0</td>\n",
              "      <td>...</td>\n",
              "      <td>0.0</td>\n",
              "      <td>0.0</td>\n",
              "      <td>1.0</td>\n",
              "      <td>0.0</td>\n",
              "      <td>0.0</td>\n",
              "      <td>0.0</td>\n",
              "      <td>0.0</td>\n",
              "      <td>0.0</td>\n",
              "      <td>0.0</td>\n",
              "      <td>1.0</td>\n",
              "    </tr>\n",
              "    <tr>\n",
              "      <th>4</th>\n",
              "      <td>0.0</td>\n",
              "      <td>0.0</td>\n",
              "      <td>0.0</td>\n",
              "      <td>0.0</td>\n",
              "      <td>0.0</td>\n",
              "      <td>0.0</td>\n",
              "      <td>0.0</td>\n",
              "      <td>0.0</td>\n",
              "      <td>0.0</td>\n",
              "      <td>0.0</td>\n",
              "      <td>...</td>\n",
              "      <td>0.0</td>\n",
              "      <td>0.0</td>\n",
              "      <td>1.0</td>\n",
              "      <td>0.0</td>\n",
              "      <td>0.0</td>\n",
              "      <td>0.0</td>\n",
              "      <td>0.0</td>\n",
              "      <td>0.0</td>\n",
              "      <td>0.0</td>\n",
              "      <td>1.0</td>\n",
              "    </tr>\n",
              "  </tbody>\n",
              "</table>\n",
              "<p>5 rows × 41 columns</p>\n",
              "</div>\n",
              "    <div class=\"colab-df-buttons\">\n",
              "\n",
              "  <div class=\"colab-df-container\">\n",
              "    <button class=\"colab-df-convert\" onclick=\"convertToInteractive('df-a3f28261-6424-43ce-bda9-1891b3536dc3')\"\n",
              "            title=\"Convert this dataframe to an interactive table.\"\n",
              "            style=\"display:none;\">\n",
              "\n",
              "  <svg xmlns=\"http://www.w3.org/2000/svg\" height=\"24px\" viewBox=\"0 -960 960 960\">\n",
              "    <path d=\"M120-120v-720h720v720H120Zm60-500h600v-160H180v160Zm220 220h160v-160H400v160Zm0 220h160v-160H400v160ZM180-400h160v-160H180v160Zm440 0h160v-160H620v160ZM180-180h160v-160H180v160Zm440 0h160v-160H620v160Z\"/>\n",
              "  </svg>\n",
              "    </button>\n",
              "\n",
              "  <style>\n",
              "    .colab-df-container {\n",
              "      display:flex;\n",
              "      gap: 12px;\n",
              "    }\n",
              "\n",
              "    .colab-df-convert {\n",
              "      background-color: #E8F0FE;\n",
              "      border: none;\n",
              "      border-radius: 50%;\n",
              "      cursor: pointer;\n",
              "      display: none;\n",
              "      fill: #1967D2;\n",
              "      height: 32px;\n",
              "      padding: 0 0 0 0;\n",
              "      width: 32px;\n",
              "    }\n",
              "\n",
              "    .colab-df-convert:hover {\n",
              "      background-color: #E2EBFA;\n",
              "      box-shadow: 0px 1px 2px rgba(60, 64, 67, 0.3), 0px 1px 3px 1px rgba(60, 64, 67, 0.15);\n",
              "      fill: #174EA6;\n",
              "    }\n",
              "\n",
              "    .colab-df-buttons div {\n",
              "      margin-bottom: 4px;\n",
              "    }\n",
              "\n",
              "    [theme=dark] .colab-df-convert {\n",
              "      background-color: #3B4455;\n",
              "      fill: #D2E3FC;\n",
              "    }\n",
              "\n",
              "    [theme=dark] .colab-df-convert:hover {\n",
              "      background-color: #434B5C;\n",
              "      box-shadow: 0px 1px 3px 1px rgba(0, 0, 0, 0.15);\n",
              "      filter: drop-shadow(0px 1px 2px rgba(0, 0, 0, 0.3));\n",
              "      fill: #FFFFFF;\n",
              "    }\n",
              "  </style>\n",
              "\n",
              "    <script>\n",
              "      const buttonEl =\n",
              "        document.querySelector('#df-a3f28261-6424-43ce-bda9-1891b3536dc3 button.colab-df-convert');\n",
              "      buttonEl.style.display =\n",
              "        google.colab.kernel.accessAllowed ? 'block' : 'none';\n",
              "\n",
              "      async function convertToInteractive(key) {\n",
              "        const element = document.querySelector('#df-a3f28261-6424-43ce-bda9-1891b3536dc3');\n",
              "        const dataTable =\n",
              "          await google.colab.kernel.invokeFunction('convertToInteractive',\n",
              "                                                    [key], {});\n",
              "        if (!dataTable) return;\n",
              "\n",
              "        const docLinkHtml = 'Like what you see? Visit the ' +\n",
              "          '<a target=\"_blank\" href=https://colab.research.google.com/notebooks/data_table.ipynb>data table notebook</a>'\n",
              "          + ' to learn more about interactive tables.';\n",
              "        element.innerHTML = '';\n",
              "        dataTable['output_type'] = 'display_data';\n",
              "        await google.colab.output.renderOutput(dataTable, element);\n",
              "        const docLink = document.createElement('div');\n",
              "        docLink.innerHTML = docLinkHtml;\n",
              "        element.appendChild(docLink);\n",
              "      }\n",
              "    </script>\n",
              "  </div>\n",
              "\n",
              "\n",
              "<div id=\"df-a37ecd64-e68d-43ce-ac60-43b4d16cb4f6\">\n",
              "  <button class=\"colab-df-quickchart\" onclick=\"quickchart('df-a37ecd64-e68d-43ce-ac60-43b4d16cb4f6')\"\n",
              "            title=\"Suggest charts\"\n",
              "            style=\"display:none;\">\n",
              "\n",
              "<svg xmlns=\"http://www.w3.org/2000/svg\" height=\"24px\"viewBox=\"0 0 24 24\"\n",
              "     width=\"24px\">\n",
              "    <g>\n",
              "        <path d=\"M19 3H5c-1.1 0-2 .9-2 2v14c0 1.1.9 2 2 2h14c1.1 0 2-.9 2-2V5c0-1.1-.9-2-2-2zM9 17H7v-7h2v7zm4 0h-2V7h2v10zm4 0h-2v-4h2v4z\"/>\n",
              "    </g>\n",
              "</svg>\n",
              "  </button>\n",
              "\n",
              "<style>\n",
              "  .colab-df-quickchart {\n",
              "      --bg-color: #E8F0FE;\n",
              "      --fill-color: #1967D2;\n",
              "      --hover-bg-color: #E2EBFA;\n",
              "      --hover-fill-color: #174EA6;\n",
              "      --disabled-fill-color: #AAA;\n",
              "      --disabled-bg-color: #DDD;\n",
              "  }\n",
              "\n",
              "  [theme=dark] .colab-df-quickchart {\n",
              "      --bg-color: #3B4455;\n",
              "      --fill-color: #D2E3FC;\n",
              "      --hover-bg-color: #434B5C;\n",
              "      --hover-fill-color: #FFFFFF;\n",
              "      --disabled-bg-color: #3B4455;\n",
              "      --disabled-fill-color: #666;\n",
              "  }\n",
              "\n",
              "  .colab-df-quickchart {\n",
              "    background-color: var(--bg-color);\n",
              "    border: none;\n",
              "    border-radius: 50%;\n",
              "    cursor: pointer;\n",
              "    display: none;\n",
              "    fill: var(--fill-color);\n",
              "    height: 32px;\n",
              "    padding: 0;\n",
              "    width: 32px;\n",
              "  }\n",
              "\n",
              "  .colab-df-quickchart:hover {\n",
              "    background-color: var(--hover-bg-color);\n",
              "    box-shadow: 0 1px 2px rgba(60, 64, 67, 0.3), 0 1px 3px 1px rgba(60, 64, 67, 0.15);\n",
              "    fill: var(--button-hover-fill-color);\n",
              "  }\n",
              "\n",
              "  .colab-df-quickchart-complete:disabled,\n",
              "  .colab-df-quickchart-complete:disabled:hover {\n",
              "    background-color: var(--disabled-bg-color);\n",
              "    fill: var(--disabled-fill-color);\n",
              "    box-shadow: none;\n",
              "  }\n",
              "\n",
              "  .colab-df-spinner {\n",
              "    border: 2px solid var(--fill-color);\n",
              "    border-color: transparent;\n",
              "    border-bottom-color: var(--fill-color);\n",
              "    animation:\n",
              "      spin 1s steps(1) infinite;\n",
              "  }\n",
              "\n",
              "  @keyframes spin {\n",
              "    0% {\n",
              "      border-color: transparent;\n",
              "      border-bottom-color: var(--fill-color);\n",
              "      border-left-color: var(--fill-color);\n",
              "    }\n",
              "    20% {\n",
              "      border-color: transparent;\n",
              "      border-left-color: var(--fill-color);\n",
              "      border-top-color: var(--fill-color);\n",
              "    }\n",
              "    30% {\n",
              "      border-color: transparent;\n",
              "      border-left-color: var(--fill-color);\n",
              "      border-top-color: var(--fill-color);\n",
              "      border-right-color: var(--fill-color);\n",
              "    }\n",
              "    40% {\n",
              "      border-color: transparent;\n",
              "      border-right-color: var(--fill-color);\n",
              "      border-top-color: var(--fill-color);\n",
              "    }\n",
              "    60% {\n",
              "      border-color: transparent;\n",
              "      border-right-color: var(--fill-color);\n",
              "    }\n",
              "    80% {\n",
              "      border-color: transparent;\n",
              "      border-right-color: var(--fill-color);\n",
              "      border-bottom-color: var(--fill-color);\n",
              "    }\n",
              "    90% {\n",
              "      border-color: transparent;\n",
              "      border-bottom-color: var(--fill-color);\n",
              "    }\n",
              "  }\n",
              "</style>\n",
              "\n",
              "  <script>\n",
              "    async function quickchart(key) {\n",
              "      const quickchartButtonEl =\n",
              "        document.querySelector('#' + key + ' button');\n",
              "      quickchartButtonEl.disabled = true;  // To prevent multiple clicks.\n",
              "      quickchartButtonEl.classList.add('colab-df-spinner');\n",
              "      try {\n",
              "        const charts = await google.colab.kernel.invokeFunction(\n",
              "            'suggestCharts', [key], {});\n",
              "      } catch (error) {\n",
              "        console.error('Error during call to suggestCharts:', error);\n",
              "      }\n",
              "      quickchartButtonEl.classList.remove('colab-df-spinner');\n",
              "      quickchartButtonEl.classList.add('colab-df-quickchart-complete');\n",
              "    }\n",
              "    (() => {\n",
              "      let quickchartButtonEl =\n",
              "        document.querySelector('#df-a37ecd64-e68d-43ce-ac60-43b4d16cb4f6 button');\n",
              "      quickchartButtonEl.style.display =\n",
              "        google.colab.kernel.accessAllowed ? 'block' : 'none';\n",
              "    })();\n",
              "  </script>\n",
              "</div>\n",
              "    </div>\n",
              "  </div>\n"
            ],
            "application/vnd.google.colaboratory.intrinsic+json": {
              "type": "dataframe",
              "variable_name": "X_CAT_ENC"
            }
          },
          "metadata": {},
          "execution_count": 3
        }
      ]
    },
    {
      "cell_type": "markdown",
      "source": [
        "One-hot Encoding된 범주형 데이터와 원래 수치형 데이터를 하나의 데이터로 합쳐주자."
      ],
      "metadata": {
        "id": "bc2tpSd3bSk8"
      }
    },
    {
      "cell_type": "code",
      "source": [
        "import pandas as pd\n",
        "\n",
        "\n",
        "X = pd.concat([X_NUM, X_CAT_ENC], axis=1)\n",
        "X"
      ],
      "metadata": {
        "id": "HjiOYAGCbca1",
        "colab": {
          "base_uri": "https://localhost:8080/",
          "height": 424
        },
        "outputId": "9c94ae00-e00c-49a2-fc87-6c3ec56342b3"
      },
      "execution_count": null,
      "outputs": [
        {
          "output_type": "execute_result",
          "data": {
            "text/plain": [
              "       age  balance  day  duration  campaign  pdays  previous  job_admin.  \\\n",
              "0       58     2143    5       261         1     -1         0         0.0   \n",
              "1       44       29    5       151         1     -1         0         0.0   \n",
              "2       33        2    5        76         1     -1         0         0.0   \n",
              "3       47     1506    5        92         1     -1         0         0.0   \n",
              "4       33        1    5       198         1     -1         0         0.0   \n",
              "...    ...      ...  ...       ...       ...    ...       ...         ...   \n",
              "45206   51      825   17       977         3     -1         0         0.0   \n",
              "45207   71     1729   17       456         2     -1         0         0.0   \n",
              "45208   72     5715   17      1127         5    184         3         0.0   \n",
              "45209   57      668   17       508         4     -1         0         0.0   \n",
              "45210   37     2971   17       361         2    188        11         0.0   \n",
              "\n",
              "       job_blue-collar  job_entrepreneur  ...  month_jun  month_mar  \\\n",
              "0                  0.0               0.0  ...        0.0        0.0   \n",
              "1                  0.0               0.0  ...        0.0        0.0   \n",
              "2                  0.0               1.0  ...        0.0        0.0   \n",
              "3                  1.0               0.0  ...        0.0        0.0   \n",
              "4                  0.0               0.0  ...        0.0        0.0   \n",
              "...                ...               ...  ...        ...        ...   \n",
              "45206              0.0               0.0  ...        0.0        0.0   \n",
              "45207              0.0               0.0  ...        0.0        0.0   \n",
              "45208              0.0               0.0  ...        0.0        0.0   \n",
              "45209              1.0               0.0  ...        0.0        0.0   \n",
              "45210              0.0               1.0  ...        0.0        0.0   \n",
              "\n",
              "       month_may  month_nov  month_oct  month_sep  poutcome_failure  \\\n",
              "0            1.0        0.0        0.0        0.0               0.0   \n",
              "1            1.0        0.0        0.0        0.0               0.0   \n",
              "2            1.0        0.0        0.0        0.0               0.0   \n",
              "3            1.0        0.0        0.0        0.0               0.0   \n",
              "4            1.0        0.0        0.0        0.0               0.0   \n",
              "...          ...        ...        ...        ...               ...   \n",
              "45206        0.0        1.0        0.0        0.0               0.0   \n",
              "45207        0.0        1.0        0.0        0.0               0.0   \n",
              "45208        0.0        1.0        0.0        0.0               0.0   \n",
              "45209        0.0        1.0        0.0        0.0               0.0   \n",
              "45210        0.0        1.0        0.0        0.0               0.0   \n",
              "\n",
              "       poutcome_other  poutcome_success  poutcome_unknown  \n",
              "0                 0.0               0.0               1.0  \n",
              "1                 0.0               0.0               1.0  \n",
              "2                 0.0               0.0               1.0  \n",
              "3                 0.0               0.0               1.0  \n",
              "4                 0.0               0.0               1.0  \n",
              "...               ...               ...               ...  \n",
              "45206             0.0               0.0               1.0  \n",
              "45207             0.0               0.0               1.0  \n",
              "45208             0.0               1.0               0.0  \n",
              "45209             0.0               0.0               1.0  \n",
              "45210             1.0               0.0               0.0  \n",
              "\n",
              "[45211 rows x 48 columns]"
            ],
            "text/html": [
              "\n",
              "  <div id=\"df-52e89391-3dbc-4242-9e35-d81bdd38a72e\" class=\"colab-df-container\">\n",
              "    <div>\n",
              "<style scoped>\n",
              "    .dataframe tbody tr th:only-of-type {\n",
              "        vertical-align: middle;\n",
              "    }\n",
              "\n",
              "    .dataframe tbody tr th {\n",
              "        vertical-align: top;\n",
              "    }\n",
              "\n",
              "    .dataframe thead th {\n",
              "        text-align: right;\n",
              "    }\n",
              "</style>\n",
              "<table border=\"1\" class=\"dataframe\">\n",
              "  <thead>\n",
              "    <tr style=\"text-align: right;\">\n",
              "      <th></th>\n",
              "      <th>age</th>\n",
              "      <th>balance</th>\n",
              "      <th>day</th>\n",
              "      <th>duration</th>\n",
              "      <th>campaign</th>\n",
              "      <th>pdays</th>\n",
              "      <th>previous</th>\n",
              "      <th>job_admin.</th>\n",
              "      <th>job_blue-collar</th>\n",
              "      <th>job_entrepreneur</th>\n",
              "      <th>...</th>\n",
              "      <th>month_jun</th>\n",
              "      <th>month_mar</th>\n",
              "      <th>month_may</th>\n",
              "      <th>month_nov</th>\n",
              "      <th>month_oct</th>\n",
              "      <th>month_sep</th>\n",
              "      <th>poutcome_failure</th>\n",
              "      <th>poutcome_other</th>\n",
              "      <th>poutcome_success</th>\n",
              "      <th>poutcome_unknown</th>\n",
              "    </tr>\n",
              "  </thead>\n",
              "  <tbody>\n",
              "    <tr>\n",
              "      <th>0</th>\n",
              "      <td>58</td>\n",
              "      <td>2143</td>\n",
              "      <td>5</td>\n",
              "      <td>261</td>\n",
              "      <td>1</td>\n",
              "      <td>-1</td>\n",
              "      <td>0</td>\n",
              "      <td>0.0</td>\n",
              "      <td>0.0</td>\n",
              "      <td>0.0</td>\n",
              "      <td>...</td>\n",
              "      <td>0.0</td>\n",
              "      <td>0.0</td>\n",
              "      <td>1.0</td>\n",
              "      <td>0.0</td>\n",
              "      <td>0.0</td>\n",
              "      <td>0.0</td>\n",
              "      <td>0.0</td>\n",
              "      <td>0.0</td>\n",
              "      <td>0.0</td>\n",
              "      <td>1.0</td>\n",
              "    </tr>\n",
              "    <tr>\n",
              "      <th>1</th>\n",
              "      <td>44</td>\n",
              "      <td>29</td>\n",
              "      <td>5</td>\n",
              "      <td>151</td>\n",
              "      <td>1</td>\n",
              "      <td>-1</td>\n",
              "      <td>0</td>\n",
              "      <td>0.0</td>\n",
              "      <td>0.0</td>\n",
              "      <td>0.0</td>\n",
              "      <td>...</td>\n",
              "      <td>0.0</td>\n",
              "      <td>0.0</td>\n",
              "      <td>1.0</td>\n",
              "      <td>0.0</td>\n",
              "      <td>0.0</td>\n",
              "      <td>0.0</td>\n",
              "      <td>0.0</td>\n",
              "      <td>0.0</td>\n",
              "      <td>0.0</td>\n",
              "      <td>1.0</td>\n",
              "    </tr>\n",
              "    <tr>\n",
              "      <th>2</th>\n",
              "      <td>33</td>\n",
              "      <td>2</td>\n",
              "      <td>5</td>\n",
              "      <td>76</td>\n",
              "      <td>1</td>\n",
              "      <td>-1</td>\n",
              "      <td>0</td>\n",
              "      <td>0.0</td>\n",
              "      <td>0.0</td>\n",
              "      <td>1.0</td>\n",
              "      <td>...</td>\n",
              "      <td>0.0</td>\n",
              "      <td>0.0</td>\n",
              "      <td>1.0</td>\n",
              "      <td>0.0</td>\n",
              "      <td>0.0</td>\n",
              "      <td>0.0</td>\n",
              "      <td>0.0</td>\n",
              "      <td>0.0</td>\n",
              "      <td>0.0</td>\n",
              "      <td>1.0</td>\n",
              "    </tr>\n",
              "    <tr>\n",
              "      <th>3</th>\n",
              "      <td>47</td>\n",
              "      <td>1506</td>\n",
              "      <td>5</td>\n",
              "      <td>92</td>\n",
              "      <td>1</td>\n",
              "      <td>-1</td>\n",
              "      <td>0</td>\n",
              "      <td>0.0</td>\n",
              "      <td>1.0</td>\n",
              "      <td>0.0</td>\n",
              "      <td>...</td>\n",
              "      <td>0.0</td>\n",
              "      <td>0.0</td>\n",
              "      <td>1.0</td>\n",
              "      <td>0.0</td>\n",
              "      <td>0.0</td>\n",
              "      <td>0.0</td>\n",
              "      <td>0.0</td>\n",
              "      <td>0.0</td>\n",
              "      <td>0.0</td>\n",
              "      <td>1.0</td>\n",
              "    </tr>\n",
              "    <tr>\n",
              "      <th>4</th>\n",
              "      <td>33</td>\n",
              "      <td>1</td>\n",
              "      <td>5</td>\n",
              "      <td>198</td>\n",
              "      <td>1</td>\n",
              "      <td>-1</td>\n",
              "      <td>0</td>\n",
              "      <td>0.0</td>\n",
              "      <td>0.0</td>\n",
              "      <td>0.0</td>\n",
              "      <td>...</td>\n",
              "      <td>0.0</td>\n",
              "      <td>0.0</td>\n",
              "      <td>1.0</td>\n",
              "      <td>0.0</td>\n",
              "      <td>0.0</td>\n",
              "      <td>0.0</td>\n",
              "      <td>0.0</td>\n",
              "      <td>0.0</td>\n",
              "      <td>0.0</td>\n",
              "      <td>1.0</td>\n",
              "    </tr>\n",
              "    <tr>\n",
              "      <th>...</th>\n",
              "      <td>...</td>\n",
              "      <td>...</td>\n",
              "      <td>...</td>\n",
              "      <td>...</td>\n",
              "      <td>...</td>\n",
              "      <td>...</td>\n",
              "      <td>...</td>\n",
              "      <td>...</td>\n",
              "      <td>...</td>\n",
              "      <td>...</td>\n",
              "      <td>...</td>\n",
              "      <td>...</td>\n",
              "      <td>...</td>\n",
              "      <td>...</td>\n",
              "      <td>...</td>\n",
              "      <td>...</td>\n",
              "      <td>...</td>\n",
              "      <td>...</td>\n",
              "      <td>...</td>\n",
              "      <td>...</td>\n",
              "      <td>...</td>\n",
              "    </tr>\n",
              "    <tr>\n",
              "      <th>45206</th>\n",
              "      <td>51</td>\n",
              "      <td>825</td>\n",
              "      <td>17</td>\n",
              "      <td>977</td>\n",
              "      <td>3</td>\n",
              "      <td>-1</td>\n",
              "      <td>0</td>\n",
              "      <td>0.0</td>\n",
              "      <td>0.0</td>\n",
              "      <td>0.0</td>\n",
              "      <td>...</td>\n",
              "      <td>0.0</td>\n",
              "      <td>0.0</td>\n",
              "      <td>0.0</td>\n",
              "      <td>1.0</td>\n",
              "      <td>0.0</td>\n",
              "      <td>0.0</td>\n",
              "      <td>0.0</td>\n",
              "      <td>0.0</td>\n",
              "      <td>0.0</td>\n",
              "      <td>1.0</td>\n",
              "    </tr>\n",
              "    <tr>\n",
              "      <th>45207</th>\n",
              "      <td>71</td>\n",
              "      <td>1729</td>\n",
              "      <td>17</td>\n",
              "      <td>456</td>\n",
              "      <td>2</td>\n",
              "      <td>-1</td>\n",
              "      <td>0</td>\n",
              "      <td>0.0</td>\n",
              "      <td>0.0</td>\n",
              "      <td>0.0</td>\n",
              "      <td>...</td>\n",
              "      <td>0.0</td>\n",
              "      <td>0.0</td>\n",
              "      <td>0.0</td>\n",
              "      <td>1.0</td>\n",
              "      <td>0.0</td>\n",
              "      <td>0.0</td>\n",
              "      <td>0.0</td>\n",
              "      <td>0.0</td>\n",
              "      <td>0.0</td>\n",
              "      <td>1.0</td>\n",
              "    </tr>\n",
              "    <tr>\n",
              "      <th>45208</th>\n",
              "      <td>72</td>\n",
              "      <td>5715</td>\n",
              "      <td>17</td>\n",
              "      <td>1127</td>\n",
              "      <td>5</td>\n",
              "      <td>184</td>\n",
              "      <td>3</td>\n",
              "      <td>0.0</td>\n",
              "      <td>0.0</td>\n",
              "      <td>0.0</td>\n",
              "      <td>...</td>\n",
              "      <td>0.0</td>\n",
              "      <td>0.0</td>\n",
              "      <td>0.0</td>\n",
              "      <td>1.0</td>\n",
              "      <td>0.0</td>\n",
              "      <td>0.0</td>\n",
              "      <td>0.0</td>\n",
              "      <td>0.0</td>\n",
              "      <td>1.0</td>\n",
              "      <td>0.0</td>\n",
              "    </tr>\n",
              "    <tr>\n",
              "      <th>45209</th>\n",
              "      <td>57</td>\n",
              "      <td>668</td>\n",
              "      <td>17</td>\n",
              "      <td>508</td>\n",
              "      <td>4</td>\n",
              "      <td>-1</td>\n",
              "      <td>0</td>\n",
              "      <td>0.0</td>\n",
              "      <td>1.0</td>\n",
              "      <td>0.0</td>\n",
              "      <td>...</td>\n",
              "      <td>0.0</td>\n",
              "      <td>0.0</td>\n",
              "      <td>0.0</td>\n",
              "      <td>1.0</td>\n",
              "      <td>0.0</td>\n",
              "      <td>0.0</td>\n",
              "      <td>0.0</td>\n",
              "      <td>0.0</td>\n",
              "      <td>0.0</td>\n",
              "      <td>1.0</td>\n",
              "    </tr>\n",
              "    <tr>\n",
              "      <th>45210</th>\n",
              "      <td>37</td>\n",
              "      <td>2971</td>\n",
              "      <td>17</td>\n",
              "      <td>361</td>\n",
              "      <td>2</td>\n",
              "      <td>188</td>\n",
              "      <td>11</td>\n",
              "      <td>0.0</td>\n",
              "      <td>0.0</td>\n",
              "      <td>1.0</td>\n",
              "      <td>...</td>\n",
              "      <td>0.0</td>\n",
              "      <td>0.0</td>\n",
              "      <td>0.0</td>\n",
              "      <td>1.0</td>\n",
              "      <td>0.0</td>\n",
              "      <td>0.0</td>\n",
              "      <td>0.0</td>\n",
              "      <td>1.0</td>\n",
              "      <td>0.0</td>\n",
              "      <td>0.0</td>\n",
              "    </tr>\n",
              "  </tbody>\n",
              "</table>\n",
              "<p>45211 rows × 48 columns</p>\n",
              "</div>\n",
              "    <div class=\"colab-df-buttons\">\n",
              "\n",
              "  <div class=\"colab-df-container\">\n",
              "    <button class=\"colab-df-convert\" onclick=\"convertToInteractive('df-52e89391-3dbc-4242-9e35-d81bdd38a72e')\"\n",
              "            title=\"Convert this dataframe to an interactive table.\"\n",
              "            style=\"display:none;\">\n",
              "\n",
              "  <svg xmlns=\"http://www.w3.org/2000/svg\" height=\"24px\" viewBox=\"0 -960 960 960\">\n",
              "    <path d=\"M120-120v-720h720v720H120Zm60-500h600v-160H180v160Zm220 220h160v-160H400v160Zm0 220h160v-160H400v160ZM180-400h160v-160H180v160Zm440 0h160v-160H620v160ZM180-180h160v-160H180v160Zm440 0h160v-160H620v160Z\"/>\n",
              "  </svg>\n",
              "    </button>\n",
              "\n",
              "  <style>\n",
              "    .colab-df-container {\n",
              "      display:flex;\n",
              "      gap: 12px;\n",
              "    }\n",
              "\n",
              "    .colab-df-convert {\n",
              "      background-color: #E8F0FE;\n",
              "      border: none;\n",
              "      border-radius: 50%;\n",
              "      cursor: pointer;\n",
              "      display: none;\n",
              "      fill: #1967D2;\n",
              "      height: 32px;\n",
              "      padding: 0 0 0 0;\n",
              "      width: 32px;\n",
              "    }\n",
              "\n",
              "    .colab-df-convert:hover {\n",
              "      background-color: #E2EBFA;\n",
              "      box-shadow: 0px 1px 2px rgba(60, 64, 67, 0.3), 0px 1px 3px 1px rgba(60, 64, 67, 0.15);\n",
              "      fill: #174EA6;\n",
              "    }\n",
              "\n",
              "    .colab-df-buttons div {\n",
              "      margin-bottom: 4px;\n",
              "    }\n",
              "\n",
              "    [theme=dark] .colab-df-convert {\n",
              "      background-color: #3B4455;\n",
              "      fill: #D2E3FC;\n",
              "    }\n",
              "\n",
              "    [theme=dark] .colab-df-convert:hover {\n",
              "      background-color: #434B5C;\n",
              "      box-shadow: 0px 1px 3px 1px rgba(0, 0, 0, 0.15);\n",
              "      filter: drop-shadow(0px 1px 2px rgba(0, 0, 0, 0.3));\n",
              "      fill: #FFFFFF;\n",
              "    }\n",
              "  </style>\n",
              "\n",
              "    <script>\n",
              "      const buttonEl =\n",
              "        document.querySelector('#df-52e89391-3dbc-4242-9e35-d81bdd38a72e button.colab-df-convert');\n",
              "      buttonEl.style.display =\n",
              "        google.colab.kernel.accessAllowed ? 'block' : 'none';\n",
              "\n",
              "      async function convertToInteractive(key) {\n",
              "        const element = document.querySelector('#df-52e89391-3dbc-4242-9e35-d81bdd38a72e');\n",
              "        const dataTable =\n",
              "          await google.colab.kernel.invokeFunction('convertToInteractive',\n",
              "                                                    [key], {});\n",
              "        if (!dataTable) return;\n",
              "\n",
              "        const docLinkHtml = 'Like what you see? Visit the ' +\n",
              "          '<a target=\"_blank\" href=https://colab.research.google.com/notebooks/data_table.ipynb>data table notebook</a>'\n",
              "          + ' to learn more about interactive tables.';\n",
              "        element.innerHTML = '';\n",
              "        dataTable['output_type'] = 'display_data';\n",
              "        await google.colab.output.renderOutput(dataTable, element);\n",
              "        const docLink = document.createElement('div');\n",
              "        docLink.innerHTML = docLinkHtml;\n",
              "        element.appendChild(docLink);\n",
              "      }\n",
              "    </script>\n",
              "  </div>\n",
              "\n",
              "\n",
              "<div id=\"df-6911cde3-180e-447a-b1ba-7c23455d09a7\">\n",
              "  <button class=\"colab-df-quickchart\" onclick=\"quickchart('df-6911cde3-180e-447a-b1ba-7c23455d09a7')\"\n",
              "            title=\"Suggest charts\"\n",
              "            style=\"display:none;\">\n",
              "\n",
              "<svg xmlns=\"http://www.w3.org/2000/svg\" height=\"24px\"viewBox=\"0 0 24 24\"\n",
              "     width=\"24px\">\n",
              "    <g>\n",
              "        <path d=\"M19 3H5c-1.1 0-2 .9-2 2v14c0 1.1.9 2 2 2h14c1.1 0 2-.9 2-2V5c0-1.1-.9-2-2-2zM9 17H7v-7h2v7zm4 0h-2V7h2v10zm4 0h-2v-4h2v4z\"/>\n",
              "    </g>\n",
              "</svg>\n",
              "  </button>\n",
              "\n",
              "<style>\n",
              "  .colab-df-quickchart {\n",
              "      --bg-color: #E8F0FE;\n",
              "      --fill-color: #1967D2;\n",
              "      --hover-bg-color: #E2EBFA;\n",
              "      --hover-fill-color: #174EA6;\n",
              "      --disabled-fill-color: #AAA;\n",
              "      --disabled-bg-color: #DDD;\n",
              "  }\n",
              "\n",
              "  [theme=dark] .colab-df-quickchart {\n",
              "      --bg-color: #3B4455;\n",
              "      --fill-color: #D2E3FC;\n",
              "      --hover-bg-color: #434B5C;\n",
              "      --hover-fill-color: #FFFFFF;\n",
              "      --disabled-bg-color: #3B4455;\n",
              "      --disabled-fill-color: #666;\n",
              "  }\n",
              "\n",
              "  .colab-df-quickchart {\n",
              "    background-color: var(--bg-color);\n",
              "    border: none;\n",
              "    border-radius: 50%;\n",
              "    cursor: pointer;\n",
              "    display: none;\n",
              "    fill: var(--fill-color);\n",
              "    height: 32px;\n",
              "    padding: 0;\n",
              "    width: 32px;\n",
              "  }\n",
              "\n",
              "  .colab-df-quickchart:hover {\n",
              "    background-color: var(--hover-bg-color);\n",
              "    box-shadow: 0 1px 2px rgba(60, 64, 67, 0.3), 0 1px 3px 1px rgba(60, 64, 67, 0.15);\n",
              "    fill: var(--button-hover-fill-color);\n",
              "  }\n",
              "\n",
              "  .colab-df-quickchart-complete:disabled,\n",
              "  .colab-df-quickchart-complete:disabled:hover {\n",
              "    background-color: var(--disabled-bg-color);\n",
              "    fill: var(--disabled-fill-color);\n",
              "    box-shadow: none;\n",
              "  }\n",
              "\n",
              "  .colab-df-spinner {\n",
              "    border: 2px solid var(--fill-color);\n",
              "    border-color: transparent;\n",
              "    border-bottom-color: var(--fill-color);\n",
              "    animation:\n",
              "      spin 1s steps(1) infinite;\n",
              "  }\n",
              "\n",
              "  @keyframes spin {\n",
              "    0% {\n",
              "      border-color: transparent;\n",
              "      border-bottom-color: var(--fill-color);\n",
              "      border-left-color: var(--fill-color);\n",
              "    }\n",
              "    20% {\n",
              "      border-color: transparent;\n",
              "      border-left-color: var(--fill-color);\n",
              "      border-top-color: var(--fill-color);\n",
              "    }\n",
              "    30% {\n",
              "      border-color: transparent;\n",
              "      border-left-color: var(--fill-color);\n",
              "      border-top-color: var(--fill-color);\n",
              "      border-right-color: var(--fill-color);\n",
              "    }\n",
              "    40% {\n",
              "      border-color: transparent;\n",
              "      border-right-color: var(--fill-color);\n",
              "      border-top-color: var(--fill-color);\n",
              "    }\n",
              "    60% {\n",
              "      border-color: transparent;\n",
              "      border-right-color: var(--fill-color);\n",
              "    }\n",
              "    80% {\n",
              "      border-color: transparent;\n",
              "      border-right-color: var(--fill-color);\n",
              "      border-bottom-color: var(--fill-color);\n",
              "    }\n",
              "    90% {\n",
              "      border-color: transparent;\n",
              "      border-bottom-color: var(--fill-color);\n",
              "    }\n",
              "  }\n",
              "</style>\n",
              "\n",
              "  <script>\n",
              "    async function quickchart(key) {\n",
              "      const quickchartButtonEl =\n",
              "        document.querySelector('#' + key + ' button');\n",
              "      quickchartButtonEl.disabled = true;  // To prevent multiple clicks.\n",
              "      quickchartButtonEl.classList.add('colab-df-spinner');\n",
              "      try {\n",
              "        const charts = await google.colab.kernel.invokeFunction(\n",
              "            'suggestCharts', [key], {});\n",
              "      } catch (error) {\n",
              "        console.error('Error during call to suggestCharts:', error);\n",
              "      }\n",
              "      quickchartButtonEl.classList.remove('colab-df-spinner');\n",
              "      quickchartButtonEl.classList.add('colab-df-quickchart-complete');\n",
              "    }\n",
              "    (() => {\n",
              "      let quickchartButtonEl =\n",
              "        document.querySelector('#df-6911cde3-180e-447a-b1ba-7c23455d09a7 button');\n",
              "      quickchartButtonEl.style.display =\n",
              "        google.colab.kernel.accessAllowed ? 'block' : 'none';\n",
              "    })();\n",
              "  </script>\n",
              "</div>\n",
              "    </div>\n",
              "  </div>\n"
            ],
            "application/vnd.google.colaboratory.intrinsic+json": {
              "type": "dataframe",
              "variable_name": "X"
            }
          },
          "metadata": {},
          "execution_count": 4
        }
      ]
    },
    {
      "cell_type": "markdown",
      "source": [
        "성능 측정치로는 F1 Score를 활용하겠다. Positive Class을 무엇으로 삼을지 확인하기 위해서 레이블 분포를 살펴보자."
      ],
      "metadata": {
        "id": "aJ2hWF_GY2Gd"
      }
    },
    {
      "cell_type": "code",
      "source": [
        "y.value_counts()"
      ],
      "metadata": {
        "id": "c6Ao2BjMY9WT",
        "colab": {
          "base_uri": "https://localhost:8080/"
        },
        "outputId": "9d7a14cb-55f4-4c21-b90f-0f4f5fc9c4c0"
      },
      "execution_count": null,
      "outputs": [
        {
          "output_type": "execute_result",
          "data": {
            "text/plain": [
              "y\n",
              "no     39922\n",
              "yes     5289\n",
              "Name: count, dtype: int64"
            ]
          },
          "metadata": {},
          "execution_count": 5
        }
      ]
    },
    {
      "cell_type": "markdown",
      "source": [
        "**yes**가 Minority Class이므로, Positive Class로 삼을 것이다. 다음과 같이 yes는 1, no는 0으로 바꿔주자."
      ],
      "metadata": {
        "id": "DbHIsgOyZAoo"
      }
    },
    {
      "cell_type": "code",
      "source": [
        "y = y.replace({'no': 0, 'yes': 1})\n",
        "y.value_counts()"
      ],
      "metadata": {
        "colab": {
          "base_uri": "https://localhost:8080/"
        },
        "id": "H7deTEFlg9Kn",
        "outputId": "2c8a7202-fb42-4f57-9517-4427dd134d99"
      },
      "execution_count": null,
      "outputs": [
        {
          "output_type": "execute_result",
          "data": {
            "text/plain": [
              "y\n",
              "0    39922\n",
              "1     5289\n",
              "Name: count, dtype: int64"
            ]
          },
          "metadata": {},
          "execution_count": 6
        }
      ]
    },
    {
      "cell_type": "markdown",
      "source": [
        "이 데이터를 훈련 데이터셋과 검증 데이터셋으로 분할하자."
      ],
      "metadata": {
        "id": "RC8BZYW1X84h"
      }
    },
    {
      "cell_type": "code",
      "source": [
        "from sklearn.model_selection import StratifiedShuffleSplit\n",
        "\n",
        "\n",
        "splitter = StratifiedShuffleSplit(n_splits=1, test_size=0.4, random_state=42)\n",
        "I_train, I_test = next(splitter.split(X, y))\n",
        "X_train, y_train = X.iloc[I_train].values, y.iloc[I_train].values\n",
        "X_test, y_test = X.iloc[I_test].values, y.iloc[I_test].values"
      ],
      "metadata": {
        "id": "GCrOWKB-YFap"
      },
      "execution_count": null,
      "outputs": []
    },
    {
      "cell_type": "markdown",
      "source": [
        "# Default Performance"
      ],
      "metadata": {
        "id": "pDzIsLibZGNs"
      }
    },
    {
      "cell_type": "markdown",
      "source": [
        "먼저, Random Seed 이외에 아무런 설정도 하지 않은 기본적인 성능을 확인해보자. 학습 모델로는 Random Forest를 활용해보겠다."
      ],
      "metadata": {
        "id": "VNdtHaz-ZOX1"
      }
    },
    {
      "cell_type": "code",
      "source": [
        "from sklearn.ensemble import RandomForestClassifier\n",
        "from sklearn.metrics import f1_score\n",
        "\n",
        "\n",
        "model = RandomForestClassifier(random_state=42)\n",
        "model.fit(X_train, y_train)\n",
        "y_pred = model.predict(X_test)\n",
        "f1_score(y_test, y_pred, pos_label=1)"
      ],
      "metadata": {
        "colab": {
          "base_uri": "https://localhost:8080/"
        },
        "id": "F0fhPHr4cV7F",
        "outputId": "c137e49d-c8bb-4f89-f1b9-423f017486b5"
      },
      "execution_count": null,
      "outputs": [
        {
          "output_type": "execute_result",
          "data": {
            "text/plain": [
              "0.4908759124087591"
            ]
          },
          "metadata": {},
          "execution_count": 9
        }
      ]
    },
    {
      "cell_type": "markdown",
      "source": [
        "이 성능이 과연 얼마나 개선될 지 다음을 통해 확인해보자."
      ],
      "metadata": {
        "id": "IPaU1isXclRv"
      }
    },
    {
      "cell_type": "markdown",
      "source": [
        "# Exhaustive Search"
      ],
      "metadata": {
        "id": "MC6M1Bo1cKp-"
      }
    },
    {
      "cell_type": "markdown",
      "source": [
        "먼저, 별도의 알고리즘 없이 일일이 초매개변수를 탐색해보는 방법인 Exhaustive Search 방법을 해보겠다. 물론 Manual Search는 딱히 구현할 필요가 없으므로 Grid Search와 Random Search를 확인해보자.\n"
      ],
      "metadata": {
        "id": "NKuHonvVcoyT"
      }
    },
    {
      "cell_type": "markdown",
      "source": [
        "## Grid Search"
      ],
      "metadata": {
        "id": "RiTLdikHc-Tz"
      }
    },
    {
      "cell_type": "markdown",
      "source": [
        "초매개변수의 검색 공간을 이산화해서 모든 조합을 찾아보는 Grid Search는 물론, 직접 구현하는 것도 어렵지 않지만 간단하게는 [sklearn.model_selection.GridSearchCV](https://scikit-learn.org/stable/modules/generated/sklearn.model_selection.GridSearchCV.html#sklearn.model_selection.GridSearchCV)를 활용하면 된다.\n",
        "\n",
        "먼저, 다음과 같이 검색 공간을 정의하자."
      ],
      "metadata": {
        "id": "QIhqvCVec_YD"
      }
    },
    {
      "cell_type": "code",
      "source": [
        "search_space = {\n",
        "    'n_estimators': [25, 50, 100, 150], # Decision Tree의 개수\n",
        "    'criterion': ['gini', 'entropy'], # 불순도 측정 기준\n",
        "    'max_depth': [3, 5, 10, None], # 각 Decision Tree의 최대 깊이; None일 경우 깊이 제한을 하지 않는다.\n",
        "    'class_weight': ['balanced', 'balanced_subsample'], # Inbalanced Classification에서 학습한 Cost-sensitive Learning 및 Ensemble 방법이다.\n",
        "    'min_samples_split': [0.01, 0.1, 0.25, 0.5, 0.75, 1.0], # Decision Tree의 한 노드가 다른 두개의 노드로 분할되기 위한 최소 샘플 수를 의미한다.\n",
        "                                                            # 예를 들어, 0.01의 경우, 전체 데이터의 0.01만큼 한 노드에 샘플이 존재할 시 두 개의 노드로 분할됨을 의미한다.\n",
        "}"
      ],
      "metadata": {
        "id": "lG4UZHW3deYe"
      },
      "execution_count": null,
      "outputs": []
    },
    {
      "cell_type": "markdown",
      "source": [
        "보다 자세한 초매개변수 설명은 당연히 [API 문서](https://scikit-learn.org/stable/modules/generated/sklearn.ensemble.RandomForestClassifier.html#sklearn.ensemble.RandomForestClassifier)를 참조하는 것이 더 낫다.\n",
        "\n",
        "어찌되었든, 총 5종류의 초매개변수에 대해서 서로 다른 값들을 지정해두었다. Grid Search는 각 초매개변수가 가질 수 있는 모든 조합을 다 탐색해보게 된다. 다시 말해서, 4 (n_estimators) * 2 (criterion) * 4 (max_depth) * 2 (class_weight) * 6 (min_samples_split) = 384가지의 초매개변수 조합을 모두 탐색해보는 것이다.\n",
        "\n",
        "아래와 같이 GridSearchCV를 실행해보자."
      ],
      "metadata": {
        "id": "4z2u1vv_ejmc"
      }
    },
    {
      "cell_type": "code",
      "source": [
        "from sklearn.model_selection import GridSearchCV\n",
        "from sklearn.ensemble import RandomForestClassifier\n",
        "\n",
        "\n",
        "optimizer = GridSearchCV(\n",
        "    estimator=RandomForestClassifier(random_state=42), # 초매개변수를 찾을 학습 모델,\n",
        "    param_grid=search_space, # 초매개변수 검색 공간,\n",
        "    scoring='f1', # 성능 측정치; F1 score를 활용한다,\n",
        "    cv=3, # 내부 CV의 설정; 3를 넣을 시 Stratified 3-Fold CV를 수행한다. 또는, Cross-Validation 시간에 배웠던 Splitter 클래스들을 넣어도 된다.\n",
        "    n_jobs=-1 # 병렬로 실행할 작업의 개수를 의미한다. -1일 경우 모든 프로세서를 활용한다는 의미다.\n",
        ")\n",
        "\n",
        "optimizer.fit(X_train, y_train)"
      ],
      "metadata": {
        "colab": {
          "base_uri": "https://localhost:8080/",
          "height": 118
        },
        "id": "v-gT2TrveqGk",
        "outputId": "c105ab57-6054-4124-c3ba-2eae915aeee0"
      },
      "execution_count": null,
      "outputs": [
        {
          "output_type": "execute_result",
          "data": {
            "text/plain": [
              "GridSearchCV(cv=3, estimator=RandomForestClassifier(random_state=42), n_jobs=-1,\n",
              "             param_grid={'class_weight': ['balanced', 'balanced_subsample'],\n",
              "                         'criterion': ['gini', 'entropy'],\n",
              "                         'max_depth': [3, 5, 10, None],\n",
              "                         'min_samples_split': [0.01, 0.1, 0.25, 0.5, 0.75, 1.0],\n",
              "                         'n_estimators': [25, 50, 100, 150]},\n",
              "             scoring='f1')"
            ],
            "text/html": [
              "<style>#sk-container-id-1 {color: black;background-color: white;}#sk-container-id-1 pre{padding: 0;}#sk-container-id-1 div.sk-toggleable {background-color: white;}#sk-container-id-1 label.sk-toggleable__label {cursor: pointer;display: block;width: 100%;margin-bottom: 0;padding: 0.3em;box-sizing: border-box;text-align: center;}#sk-container-id-1 label.sk-toggleable__label-arrow:before {content: \"▸\";float: left;margin-right: 0.25em;color: #696969;}#sk-container-id-1 label.sk-toggleable__label-arrow:hover:before {color: black;}#sk-container-id-1 div.sk-estimator:hover label.sk-toggleable__label-arrow:before {color: black;}#sk-container-id-1 div.sk-toggleable__content {max-height: 0;max-width: 0;overflow: hidden;text-align: left;background-color: #f0f8ff;}#sk-container-id-1 div.sk-toggleable__content pre {margin: 0.2em;color: black;border-radius: 0.25em;background-color: #f0f8ff;}#sk-container-id-1 input.sk-toggleable__control:checked~div.sk-toggleable__content {max-height: 200px;max-width: 100%;overflow: auto;}#sk-container-id-1 input.sk-toggleable__control:checked~label.sk-toggleable__label-arrow:before {content: \"▾\";}#sk-container-id-1 div.sk-estimator input.sk-toggleable__control:checked~label.sk-toggleable__label {background-color: #d4ebff;}#sk-container-id-1 div.sk-label input.sk-toggleable__control:checked~label.sk-toggleable__label {background-color: #d4ebff;}#sk-container-id-1 input.sk-hidden--visually {border: 0;clip: rect(1px 1px 1px 1px);clip: rect(1px, 1px, 1px, 1px);height: 1px;margin: -1px;overflow: hidden;padding: 0;position: absolute;width: 1px;}#sk-container-id-1 div.sk-estimator {font-family: monospace;background-color: #f0f8ff;border: 1px dotted black;border-radius: 0.25em;box-sizing: border-box;margin-bottom: 0.5em;}#sk-container-id-1 div.sk-estimator:hover {background-color: #d4ebff;}#sk-container-id-1 div.sk-parallel-item::after {content: \"\";width: 100%;border-bottom: 1px solid gray;flex-grow: 1;}#sk-container-id-1 div.sk-label:hover label.sk-toggleable__label {background-color: #d4ebff;}#sk-container-id-1 div.sk-serial::before {content: \"\";position: absolute;border-left: 1px solid gray;box-sizing: border-box;top: 0;bottom: 0;left: 50%;z-index: 0;}#sk-container-id-1 div.sk-serial {display: flex;flex-direction: column;align-items: center;background-color: white;padding-right: 0.2em;padding-left: 0.2em;position: relative;}#sk-container-id-1 div.sk-item {position: relative;z-index: 1;}#sk-container-id-1 div.sk-parallel {display: flex;align-items: stretch;justify-content: center;background-color: white;position: relative;}#sk-container-id-1 div.sk-item::before, #sk-container-id-1 div.sk-parallel-item::before {content: \"\";position: absolute;border-left: 1px solid gray;box-sizing: border-box;top: 0;bottom: 0;left: 50%;z-index: -1;}#sk-container-id-1 div.sk-parallel-item {display: flex;flex-direction: column;z-index: 1;position: relative;background-color: white;}#sk-container-id-1 div.sk-parallel-item:first-child::after {align-self: flex-end;width: 50%;}#sk-container-id-1 div.sk-parallel-item:last-child::after {align-self: flex-start;width: 50%;}#sk-container-id-1 div.sk-parallel-item:only-child::after {width: 0;}#sk-container-id-1 div.sk-dashed-wrapped {border: 1px dashed gray;margin: 0 0.4em 0.5em 0.4em;box-sizing: border-box;padding-bottom: 0.4em;background-color: white;}#sk-container-id-1 div.sk-label label {font-family: monospace;font-weight: bold;display: inline-block;line-height: 1.2em;}#sk-container-id-1 div.sk-label-container {text-align: center;}#sk-container-id-1 div.sk-container {/* jupyter's `normalize.less` sets `[hidden] { display: none; }` but bootstrap.min.css set `[hidden] { display: none !important; }` so we also need the `!important` here to be able to override the default hidden behavior on the sphinx rendered scikit-learn.org. See: https://github.com/scikit-learn/scikit-learn/issues/21755 */display: inline-block !important;position: relative;}#sk-container-id-1 div.sk-text-repr-fallback {display: none;}</style><div id=\"sk-container-id-1\" class=\"sk-top-container\"><div class=\"sk-text-repr-fallback\"><pre>GridSearchCV(cv=3, estimator=RandomForestClassifier(random_state=42), n_jobs=-1,\n",
              "             param_grid={&#x27;class_weight&#x27;: [&#x27;balanced&#x27;, &#x27;balanced_subsample&#x27;],\n",
              "                         &#x27;criterion&#x27;: [&#x27;gini&#x27;, &#x27;entropy&#x27;],\n",
              "                         &#x27;max_depth&#x27;: [3, 5, 10, None],\n",
              "                         &#x27;min_samples_split&#x27;: [0.01, 0.1, 0.25, 0.5, 0.75, 1.0],\n",
              "                         &#x27;n_estimators&#x27;: [25, 50, 100, 150]},\n",
              "             scoring=&#x27;f1&#x27;)</pre><b>In a Jupyter environment, please rerun this cell to show the HTML representation or trust the notebook. <br />On GitHub, the HTML representation is unable to render, please try loading this page with nbviewer.org.</b></div><div class=\"sk-container\" hidden><div class=\"sk-item sk-dashed-wrapped\"><div class=\"sk-label-container\"><div class=\"sk-label sk-toggleable\"><input class=\"sk-toggleable__control sk-hidden--visually\" id=\"sk-estimator-id-1\" type=\"checkbox\" ><label for=\"sk-estimator-id-1\" class=\"sk-toggleable__label sk-toggleable__label-arrow\">GridSearchCV</label><div class=\"sk-toggleable__content\"><pre>GridSearchCV(cv=3, estimator=RandomForestClassifier(random_state=42), n_jobs=-1,\n",
              "             param_grid={&#x27;class_weight&#x27;: [&#x27;balanced&#x27;, &#x27;balanced_subsample&#x27;],\n",
              "                         &#x27;criterion&#x27;: [&#x27;gini&#x27;, &#x27;entropy&#x27;],\n",
              "                         &#x27;max_depth&#x27;: [3, 5, 10, None],\n",
              "                         &#x27;min_samples_split&#x27;: [0.01, 0.1, 0.25, 0.5, 0.75, 1.0],\n",
              "                         &#x27;n_estimators&#x27;: [25, 50, 100, 150]},\n",
              "             scoring=&#x27;f1&#x27;)</pre></div></div></div><div class=\"sk-parallel\"><div class=\"sk-parallel-item\"><div class=\"sk-item\"><div class=\"sk-label-container\"><div class=\"sk-label sk-toggleable\"><input class=\"sk-toggleable__control sk-hidden--visually\" id=\"sk-estimator-id-2\" type=\"checkbox\" ><label for=\"sk-estimator-id-2\" class=\"sk-toggleable__label sk-toggleable__label-arrow\">estimator: RandomForestClassifier</label><div class=\"sk-toggleable__content\"><pre>RandomForestClassifier(random_state=42)</pre></div></div></div><div class=\"sk-serial\"><div class=\"sk-item\"><div class=\"sk-estimator sk-toggleable\"><input class=\"sk-toggleable__control sk-hidden--visually\" id=\"sk-estimator-id-3\" type=\"checkbox\" ><label for=\"sk-estimator-id-3\" class=\"sk-toggleable__label sk-toggleable__label-arrow\">RandomForestClassifier</label><div class=\"sk-toggleable__content\"><pre>RandomForestClassifier(random_state=42)</pre></div></div></div></div></div></div></div></div></div></div>"
            ]
          },
          "metadata": {},
          "execution_count": 11
        }
      ]
    },
    {
      "cell_type": "markdown",
      "source": [
        "많은 시간이 걸릴 것이다. 그도 그럴것이, 384가지의 초매개변수 조합에 내부 CV로 3개의 Split을 훈련/검증하므로 총 1,152번의 학습 모델 훈련이 있기 때문이다.\n",
        "\n",
        "찾아낸 최적의 초매개변수와 그 성능은 다음과 같이 확인할 수 있다."
      ],
      "metadata": {
        "id": "QLR6XA_xhyuT"
      }
    },
    {
      "cell_type": "code",
      "source": [
        "print(f'Best F1 Score: {optimizer.best_score_}')\n",
        "print('Best Hyperparameters:')\n",
        "optimizer.best_params_"
      ],
      "metadata": {
        "id": "YI4hdNmeoDj7",
        "colab": {
          "base_uri": "https://localhost:8080/"
        },
        "outputId": "bf711c34-1ce1-47c1-f5c9-f6818689c2ce"
      },
      "execution_count": null,
      "outputs": [
        {
          "output_type": "stream",
          "name": "stdout",
          "text": [
            "Best F1 Score: 0.5566594671645814\n",
            "Best Hyperparameters:\n"
          ]
        },
        {
          "output_type": "execute_result",
          "data": {
            "text/plain": [
              "{'class_weight': 'balanced_subsample',\n",
              " 'criterion': 'entropy',\n",
              " 'max_depth': None,\n",
              " 'min_samples_split': 0.01,\n",
              " 'n_estimators': 50}"
            ]
          },
          "metadata": {},
          "execution_count": 12
        }
      ]
    },
    {
      "cell_type": "markdown",
      "source": [
        "그럼, 이 초매개변수들을 가지고 검증 데이터셋에 대한 성능을 확인해보자."
      ],
      "metadata": {
        "id": "umUintTuGZdL"
      }
    },
    {
      "cell_type": "code",
      "source": [
        "from sklearn.ensemble import RandomForestClassifier\n",
        "from sklearn.metrics import f1_score\n",
        "\n",
        "\n",
        "model = RandomForestClassifier(\n",
        "    random_state=42,\n",
        "    class_weight='balanced_subsample',\n",
        "    criterion='entropy',\n",
        "    max_depth=None,\n",
        "    min_samples_split=0.01,\n",
        "    n_estimators=50\n",
        ").fit(X_train, y_train)\n",
        "\n",
        "y_pred = model.predict(X_test)\n",
        "f1_score(y_test, y_pred, pos_label=1)"
      ],
      "metadata": {
        "colab": {
          "base_uri": "https://localhost:8080/"
        },
        "id": "xLUhA-cdGej8",
        "outputId": "0b2d707e-15b6-48b7-9cbc-43c419fc22b6"
      },
      "execution_count": null,
      "outputs": [
        {
          "output_type": "execute_result",
          "data": {
            "text/plain": [
              "0.5479849231661351"
            ]
          },
          "metadata": {},
          "execution_count": 13
        }
      ]
    },
    {
      "cell_type": "markdown",
      "source": [
        "아무 설정도 하지 않은 때보다는 확실히 성능이 증가한 것을 알 수 있다."
      ],
      "metadata": {
        "id": "6Qe4oNETuQZ3"
      }
    },
    {
      "cell_type": "markdown",
      "source": [
        "또한, 위처럼 직접 초매개변수를 넣어도 되지만, 다음과 같이 최적의 초매개변수를 가진 모델을 가져올 수 있다."
      ],
      "metadata": {
        "id": "q78nixGcLHho"
      }
    },
    {
      "cell_type": "code",
      "source": [
        "from sklearn.metrics import f1_score\n",
        "\n",
        "\n",
        "y_pred = optimizer.best_estimator_.predict(X_test)\n",
        "f1_score(y_test, y_pred, pos_label=1)"
      ],
      "metadata": {
        "colab": {
          "base_uri": "https://localhost:8080/"
        },
        "id": "7Vhli5OsLSC9",
        "outputId": "0663950f-6f0f-40ad-d8da-0dc20da5ecab"
      },
      "execution_count": null,
      "outputs": [
        {
          "output_type": "execute_result",
          "data": {
            "text/plain": [
              "0.5479849231661351"
            ]
          },
          "metadata": {},
          "execution_count": 14
        }
      ]
    },
    {
      "cell_type": "markdown",
      "source": [
        "## Random Search"
      ],
      "metadata": {
        "id": "AhQnJOu0qgnU"
      }
    },
    {
      "cell_type": "markdown",
      "source": [
        "이번엔 무작위로 초매개변수들을 추출하는 Random Search를 해보자. 역시, 직접 구현하는 것도 어렵지 않지만 [sklearn.model_selection.RandomizedSearchCV](https://scikit-learn.org/stable/modules/generated/sklearn.model_selection.RandomizedSearchCV.html#sklearn.model_selection.RandomizedSearchCV)를 사용하는 것이 간편하다.\n",
        "\n",
        "아래와 같이 검색 공간을 정의하자."
      ],
      "metadata": {
        "id": "pTP2q3GWqurt"
      }
    },
    {
      "cell_type": "code",
      "source": [
        "import scipy.stats as st\n",
        "\n",
        "\n",
        "search_space = {\n",
        "    'n_estimators': st.randint(5, 200), # 5 ~ 100 사이의 정수를 균일 분포 확률Uniformly Random로 뽑는다.\n",
        "    'criterion': ['gini', 'entropy'], # 'gini' 와 'entropy'를 중 하나를 균일 분포 확률Uniformly Random로 뽑는다.\n",
        "    'max_depth': st.randint(3, 20), # 3 ~ 20 사이의 정수를 균일 분포 확률Uniformly Random로 뽑는다.\n",
        "    'class_weight': ['balanced', 'balanced_subsample'], # 'balanced' 와 'balanced_subsample'를 중 하나를 균일 분포 확률Uniformly Random로 뽑는다.\n",
        "    'min_samples_split': st.truncnorm(a=0, b=0.5, loc=0.005, scale=0.01), # 평균은 0.005, 표준 편차는 0.01이, 최소값 0, 최대값 0.5인 정규 분포Normal Distribution에서 뽑는다.\n",
        "}"
      ],
      "metadata": {
        "id": "YEURaZDCrQvw"
      },
      "execution_count": null,
      "outputs": []
    },
    {
      "cell_type": "markdown",
      "source": [
        "이 때, 주의할 점은 검색 공간 정의 시에 [scipy.stats](https://docs.scipy.org/doc/scipy/reference/stats.html#probability-distributions)에서 제공하는 확률 분포 함수 또는 list형을 활용해야 한다는 것이다."
      ],
      "metadata": {
        "id": "U8hv-w5jtSvx"
      }
    },
    {
      "cell_type": "code",
      "source": [
        "from sklearn.model_selection import RandomizedSearchCV\n",
        "from sklearn.ensemble import RandomForestClassifier\n",
        "\n",
        "\n",
        "optimizer = RandomizedSearchCV(\n",
        "    estimator=RandomForestClassifier(random_state=42), # 초매개변수를 찾을 학습 모델,\n",
        "    param_distributions=search_space, # 초매개변수 검색 공간,\n",
        "    scoring='f1', # 성능 측정치; F1 score를 활용한다,\n",
        "    cv=3, # 내부 CV의 설정; 3를 넣을 시 Stratified 3-Fold CV를 수행한다. 또는, Cross-Validation 시간에 배웠던 Splitter 클래스들을 넣어도 된다.\n",
        "    n_jobs=-1, # 병렬로 실행할 작업의 개수를 의미한다. -1일 경우 모든 프로세서를 활용한다는 의미다.\n",
        "    n_iter=50 # 몇 회나 초매개변수 공간에서 초매개변수의 조합을 추출할 건지를 정한다. 총 50회를 해보겠다.\n",
        ")\n",
        "\n",
        "optimizer.fit(X_train, y_train)"
      ],
      "metadata": {
        "colab": {
          "base_uri": "https://localhost:8080/",
          "height": 118
        },
        "id": "u2ehjw1ktsrr",
        "outputId": "757e1a26-d2cb-4599-bbea-451a53f03f29"
      },
      "execution_count": null,
      "outputs": [
        {
          "output_type": "execute_result",
          "data": {
            "text/plain": [
              "RandomizedSearchCV(cv=3, estimator=RandomForestClassifier(random_state=42),\n",
              "                   n_iter=50, n_jobs=-1,\n",
              "                   param_distributions={'class_weight': ['balanced',\n",
              "                                                         'balanced_subsample'],\n",
              "                                        'criterion': ['gini', 'entropy'],\n",
              "                                        'max_depth': <scipy.stats._distn_infrastructure.rv_discrete_frozen object at 0x7f9f408137f0>,\n",
              "                                        'min_samples_split': <scipy.stats._distn_infrastructure.rv_continuous_frozen object at 0x7f9f404370d0>,\n",
              "                                        'n_estimators': <scipy.stats._distn_infrastructure.rv_discrete_frozen object at 0x7f9f79125240>},\n",
              "                   scoring='f1')"
            ],
            "text/html": [
              "<style>#sk-container-id-2 {color: black;background-color: white;}#sk-container-id-2 pre{padding: 0;}#sk-container-id-2 div.sk-toggleable {background-color: white;}#sk-container-id-2 label.sk-toggleable__label {cursor: pointer;display: block;width: 100%;margin-bottom: 0;padding: 0.3em;box-sizing: border-box;text-align: center;}#sk-container-id-2 label.sk-toggleable__label-arrow:before {content: \"▸\";float: left;margin-right: 0.25em;color: #696969;}#sk-container-id-2 label.sk-toggleable__label-arrow:hover:before {color: black;}#sk-container-id-2 div.sk-estimator:hover label.sk-toggleable__label-arrow:before {color: black;}#sk-container-id-2 div.sk-toggleable__content {max-height: 0;max-width: 0;overflow: hidden;text-align: left;background-color: #f0f8ff;}#sk-container-id-2 div.sk-toggleable__content pre {margin: 0.2em;color: black;border-radius: 0.25em;background-color: #f0f8ff;}#sk-container-id-2 input.sk-toggleable__control:checked~div.sk-toggleable__content {max-height: 200px;max-width: 100%;overflow: auto;}#sk-container-id-2 input.sk-toggleable__control:checked~label.sk-toggleable__label-arrow:before {content: \"▾\";}#sk-container-id-2 div.sk-estimator input.sk-toggleable__control:checked~label.sk-toggleable__label {background-color: #d4ebff;}#sk-container-id-2 div.sk-label input.sk-toggleable__control:checked~label.sk-toggleable__label {background-color: #d4ebff;}#sk-container-id-2 input.sk-hidden--visually {border: 0;clip: rect(1px 1px 1px 1px);clip: rect(1px, 1px, 1px, 1px);height: 1px;margin: -1px;overflow: hidden;padding: 0;position: absolute;width: 1px;}#sk-container-id-2 div.sk-estimator {font-family: monospace;background-color: #f0f8ff;border: 1px dotted black;border-radius: 0.25em;box-sizing: border-box;margin-bottom: 0.5em;}#sk-container-id-2 div.sk-estimator:hover {background-color: #d4ebff;}#sk-container-id-2 div.sk-parallel-item::after {content: \"\";width: 100%;border-bottom: 1px solid gray;flex-grow: 1;}#sk-container-id-2 div.sk-label:hover label.sk-toggleable__label {background-color: #d4ebff;}#sk-container-id-2 div.sk-serial::before {content: \"\";position: absolute;border-left: 1px solid gray;box-sizing: border-box;top: 0;bottom: 0;left: 50%;z-index: 0;}#sk-container-id-2 div.sk-serial {display: flex;flex-direction: column;align-items: center;background-color: white;padding-right: 0.2em;padding-left: 0.2em;position: relative;}#sk-container-id-2 div.sk-item {position: relative;z-index: 1;}#sk-container-id-2 div.sk-parallel {display: flex;align-items: stretch;justify-content: center;background-color: white;position: relative;}#sk-container-id-2 div.sk-item::before, #sk-container-id-2 div.sk-parallel-item::before {content: \"\";position: absolute;border-left: 1px solid gray;box-sizing: border-box;top: 0;bottom: 0;left: 50%;z-index: -1;}#sk-container-id-2 div.sk-parallel-item {display: flex;flex-direction: column;z-index: 1;position: relative;background-color: white;}#sk-container-id-2 div.sk-parallel-item:first-child::after {align-self: flex-end;width: 50%;}#sk-container-id-2 div.sk-parallel-item:last-child::after {align-self: flex-start;width: 50%;}#sk-container-id-2 div.sk-parallel-item:only-child::after {width: 0;}#sk-container-id-2 div.sk-dashed-wrapped {border: 1px dashed gray;margin: 0 0.4em 0.5em 0.4em;box-sizing: border-box;padding-bottom: 0.4em;background-color: white;}#sk-container-id-2 div.sk-label label {font-family: monospace;font-weight: bold;display: inline-block;line-height: 1.2em;}#sk-container-id-2 div.sk-label-container {text-align: center;}#sk-container-id-2 div.sk-container {/* jupyter's `normalize.less` sets `[hidden] { display: none; }` but bootstrap.min.css set `[hidden] { display: none !important; }` so we also need the `!important` here to be able to override the default hidden behavior on the sphinx rendered scikit-learn.org. See: https://github.com/scikit-learn/scikit-learn/issues/21755 */display: inline-block !important;position: relative;}#sk-container-id-2 div.sk-text-repr-fallback {display: none;}</style><div id=\"sk-container-id-2\" class=\"sk-top-container\"><div class=\"sk-text-repr-fallback\"><pre>RandomizedSearchCV(cv=3, estimator=RandomForestClassifier(random_state=42),\n",
              "                   n_iter=50, n_jobs=-1,\n",
              "                   param_distributions={&#x27;class_weight&#x27;: [&#x27;balanced&#x27;,\n",
              "                                                         &#x27;balanced_subsample&#x27;],\n",
              "                                        &#x27;criterion&#x27;: [&#x27;gini&#x27;, &#x27;entropy&#x27;],\n",
              "                                        &#x27;max_depth&#x27;: &lt;scipy.stats._distn_infrastructure.rv_discrete_frozen object at 0x7f9f408137f0&gt;,\n",
              "                                        &#x27;min_samples_split&#x27;: &lt;scipy.stats._distn_infrastructure.rv_continuous_frozen object at 0x7f9f404370d0&gt;,\n",
              "                                        &#x27;n_estimators&#x27;: &lt;scipy.stats._distn_infrastructure.rv_discrete_frozen object at 0x7f9f79125240&gt;},\n",
              "                   scoring=&#x27;f1&#x27;)</pre><b>In a Jupyter environment, please rerun this cell to show the HTML representation or trust the notebook. <br />On GitHub, the HTML representation is unable to render, please try loading this page with nbviewer.org.</b></div><div class=\"sk-container\" hidden><div class=\"sk-item sk-dashed-wrapped\"><div class=\"sk-label-container\"><div class=\"sk-label sk-toggleable\"><input class=\"sk-toggleable__control sk-hidden--visually\" id=\"sk-estimator-id-4\" type=\"checkbox\" ><label for=\"sk-estimator-id-4\" class=\"sk-toggleable__label sk-toggleable__label-arrow\">RandomizedSearchCV</label><div class=\"sk-toggleable__content\"><pre>RandomizedSearchCV(cv=3, estimator=RandomForestClassifier(random_state=42),\n",
              "                   n_iter=50, n_jobs=-1,\n",
              "                   param_distributions={&#x27;class_weight&#x27;: [&#x27;balanced&#x27;,\n",
              "                                                         &#x27;balanced_subsample&#x27;],\n",
              "                                        &#x27;criterion&#x27;: [&#x27;gini&#x27;, &#x27;entropy&#x27;],\n",
              "                                        &#x27;max_depth&#x27;: &lt;scipy.stats._distn_infrastructure.rv_discrete_frozen object at 0x7f9f408137f0&gt;,\n",
              "                                        &#x27;min_samples_split&#x27;: &lt;scipy.stats._distn_infrastructure.rv_continuous_frozen object at 0x7f9f404370d0&gt;,\n",
              "                                        &#x27;n_estimators&#x27;: &lt;scipy.stats._distn_infrastructure.rv_discrete_frozen object at 0x7f9f79125240&gt;},\n",
              "                   scoring=&#x27;f1&#x27;)</pre></div></div></div><div class=\"sk-parallel\"><div class=\"sk-parallel-item\"><div class=\"sk-item\"><div class=\"sk-label-container\"><div class=\"sk-label sk-toggleable\"><input class=\"sk-toggleable__control sk-hidden--visually\" id=\"sk-estimator-id-5\" type=\"checkbox\" ><label for=\"sk-estimator-id-5\" class=\"sk-toggleable__label sk-toggleable__label-arrow\">estimator: RandomForestClassifier</label><div class=\"sk-toggleable__content\"><pre>RandomForestClassifier(random_state=42)</pre></div></div></div><div class=\"sk-serial\"><div class=\"sk-item\"><div class=\"sk-estimator sk-toggleable\"><input class=\"sk-toggleable__control sk-hidden--visually\" id=\"sk-estimator-id-6\" type=\"checkbox\" ><label for=\"sk-estimator-id-6\" class=\"sk-toggleable__label sk-toggleable__label-arrow\">RandomForestClassifier</label><div class=\"sk-toggleable__content\"><pre>RandomForestClassifier(random_state=42)</pre></div></div></div></div></div></div></div></div></div></div>"
            ]
          },
          "metadata": {},
          "execution_count": 16
        }
      ]
    },
    {
      "cell_type": "code",
      "source": [
        "print(f'Best F1 Score: {optimizer.best_score_}')\n",
        "print('Best Hyperparameters:')\n",
        "optimizer.best_params_"
      ],
      "metadata": {
        "colab": {
          "base_uri": "https://localhost:8080/"
        },
        "id": "AeTxQgCVuFLe",
        "outputId": "12d97ec9-28fa-4cb8-9b4d-1cf37a69ee42"
      },
      "execution_count": null,
      "outputs": [
        {
          "output_type": "stream",
          "name": "stdout",
          "text": [
            "Best F1 Score: 0.5673760718744616\n",
            "Best Hyperparameters:\n"
          ]
        },
        {
          "output_type": "execute_result",
          "data": {
            "text/plain": [
              "{'class_weight': 'balanced_subsample',\n",
              " 'criterion': 'entropy',\n",
              " 'max_depth': 17,\n",
              " 'min_samples_split': 0.005781461019160611,\n",
              " 'n_estimators': 184}"
            ]
          },
          "metadata": {},
          "execution_count": 17
        }
      ]
    },
    {
      "cell_type": "code",
      "source": [
        "from sklearn.metrics import f1_score\n",
        "\n",
        "\n",
        "y_pred = optimizer.best_estimator_.predict(X_test)\n",
        "f1_score(y_test, y_pred, pos_label=1)"
      ],
      "metadata": {
        "colab": {
          "base_uri": "https://localhost:8080/"
        },
        "id": "UuoZ7Q6rLZDR",
        "outputId": "624001b0-3dcf-46f7-ac0b-902a151f6c80"
      },
      "execution_count": null,
      "outputs": [
        {
          "output_type": "execute_result",
          "data": {
            "text/plain": [
              "0.5598200899550225"
            ]
          },
          "metadata": {},
          "execution_count": 19
        }
      ]
    },
    {
      "cell_type": "markdown",
      "source": [
        "운이 좋게도, 50번의 초매개변수 추출로 Grid Search보다 나은 성능을 냈다. 물론, 매번 그런것은 아닐 것이다."
      ],
      "metadata": {
        "id": "9qWjD3jbvj1k"
      }
    },
    {
      "cell_type": "markdown",
      "source": [
        "# Bayesian Optimization"
      ],
      "metadata": {
        "id": "ULtEeiA5vts0"
      }
    },
    {
      "cell_type": "markdown",
      "source": [
        "위에서 사용한 두 방법의 장점은 각 초매개변수 조합의 추출이 독립적이므로, 컴퓨팅 자원만 넉넉하다면 수많은 초매개변수들을 한번에 탐색할 수 있다는 것이다. 하지만, 그렇지 않다면 하루 종일 기다려도 끝나지 않을 것이고, 심지어는 (학습 모델에 대한 적절한 지식이 없다면) 쓸데 없는 검색 공간만을 찾고 마무리될 것이다.\n",
        "\n",
        "이번엔 이전에 탐색한 초매개변수와 성능치 간의 관계를 활용해서 다음의 더 나을 가능성이 높은 초매개변수를 탐색하는 Bayesian Optimization을 활용해보자. 이 방법의 장점은 명확하다. Exhausitive Search 보다는 확실히 적은 컴퓨팅 자원으로도 좋은 초매개변수를 찾을 수 있다.\n",
        "\n",
        "하지만, 단점또한 명확하다. 이전에 탐색한 초매개변수와 성능치 간의 관계를 활용해야 하므로, 병렬적으로는 실행할 수 없다.\n",
        "\n",
        "아무튼, Bayesian Optimization은 scikit-optimize의 [skopt.BayesSearchCV](https://scikit-optimize.github.io/stable/modules/generated/skopt.BayesSearchCV.html#skopt.BayesSearchCV)를 활용하면 된다."
      ],
      "metadata": {
        "id": "7vRL8XZjvxAK"
      }
    },
    {
      "cell_type": "markdown",
      "source": [
        "## Bayesian Optimization + Gaussian Process\n",
        "먼저, Surrogate Model을 Gaussian Process로 삼아서 해보자. 그 전에, Gaussian Process와 같은 확률적 회귀 모델이 어떤 출력을 내는 지 확인해보자.\n",
        "\n",
        "아래와 같이 임의의 연속형 데이터를 만들어보자.\n",
        "\n"
      ],
      "metadata": {
        "id": "wLqRrW31xEtd"
      }
    },
    {
      "cell_type": "code",
      "source": [
        "import numpy as np\n",
        "import pandas as pd\n",
        "import altair as alt\n",
        "\n",
        "\n",
        "gp_X = np.linspace(start=0, stop=10, num=1_000).reshape(-1, 1)\n",
        "gp_y = np.squeeze(gp_X * np.sin(gp_X))\n",
        "\n",
        "df_true = pd.DataFrame({'X': np.ravel(gp_X), 'y': gp_y})\n",
        "alt.Chart(df_true).mark_line().encode(\n",
        "    x='X:Q', y='y:Q'\n",
        ")"
      ],
      "metadata": {
        "colab": {
          "base_uri": "https://localhost:8080/",
          "height": 367
        },
        "id": "uk69dqDSxx3U",
        "outputId": "d9f1fca7-4063-4645-ab38-2bff8d757aca"
      },
      "execution_count": null,
      "outputs": [
        {
          "output_type": "execute_result",
          "data": {
            "text/html": [
              "\n",
              "<div id=\"altair-viz-edb1712ecc154e42bf074a8c3411f8f8\"></div>\n",
              "<script type=\"text/javascript\">\n",
              "  var VEGA_DEBUG = (typeof VEGA_DEBUG == \"undefined\") ? {} : VEGA_DEBUG;\n",
              "  (function(spec, embedOpt){\n",
              "    let outputDiv = document.currentScript.previousElementSibling;\n",
              "    if (outputDiv.id !== \"altair-viz-edb1712ecc154e42bf074a8c3411f8f8\") {\n",
              "      outputDiv = document.getElementById(\"altair-viz-edb1712ecc154e42bf074a8c3411f8f8\");\n",
              "    }\n",
              "    const paths = {\n",
              "      \"vega\": \"https://cdn.jsdelivr.net/npm//vega@5?noext\",\n",
              "      \"vega-lib\": \"https://cdn.jsdelivr.net/npm//vega-lib?noext\",\n",
              "      \"vega-lite\": \"https://cdn.jsdelivr.net/npm//vega-lite@4.17.0?noext\",\n",
              "      \"vega-embed\": \"https://cdn.jsdelivr.net/npm//vega-embed@6?noext\",\n",
              "    };\n",
              "\n",
              "    function maybeLoadScript(lib, version) {\n",
              "      var key = `${lib.replace(\"-\", \"\")}_version`;\n",
              "      return (VEGA_DEBUG[key] == version) ?\n",
              "        Promise.resolve(paths[lib]) :\n",
              "        new Promise(function(resolve, reject) {\n",
              "          var s = document.createElement('script');\n",
              "          document.getElementsByTagName(\"head\")[0].appendChild(s);\n",
              "          s.async = true;\n",
              "          s.onload = () => {\n",
              "            VEGA_DEBUG[key] = version;\n",
              "            return resolve(paths[lib]);\n",
              "          };\n",
              "          s.onerror = () => reject(`Error loading script: ${paths[lib]}`);\n",
              "          s.src = paths[lib];\n",
              "        });\n",
              "    }\n",
              "\n",
              "    function showError(err) {\n",
              "      outputDiv.innerHTML = `<div class=\"error\" style=\"color:red;\">${err}</div>`;\n",
              "      throw err;\n",
              "    }\n",
              "\n",
              "    function displayChart(vegaEmbed) {\n",
              "      vegaEmbed(outputDiv, spec, embedOpt)\n",
              "        .catch(err => showError(`Javascript Error: ${err.message}<br>This usually means there's a typo in your chart specification. See the javascript console for the full traceback.`));\n",
              "    }\n",
              "\n",
              "    if(typeof define === \"function\" && define.amd) {\n",
              "      requirejs.config({paths});\n",
              "      require([\"vega-embed\"], displayChart, err => showError(`Error loading script: ${err.message}`));\n",
              "    } else {\n",
              "      maybeLoadScript(\"vega\", \"5\")\n",
              "        .then(() => maybeLoadScript(\"vega-lite\", \"4.17.0\"))\n",
              "        .then(() => maybeLoadScript(\"vega-embed\", \"6\"))\n",
              "        .catch(showError)\n",
              "        .then(() => displayChart(vegaEmbed));\n",
              "    }\n",
              "  })({\"config\": {\"view\": {\"continuousWidth\": 400, \"continuousHeight\": 300}}, \"data\": {\"name\": \"data-bf8072546c2cf667dd8534dd4a1b3339\"}, \"mark\": \"line\", \"encoding\": {\"x\": {\"field\": \"X\", \"type\": \"quantitative\"}, \"y\": {\"field\": \"y\", \"type\": \"quantitative\"}}, \"$schema\": \"https://vega.github.io/schema/vega-lite/v4.17.0.json\", \"datasets\": {\"data-bf8072546c2cf667dd8534dd4a1b3339\": [{\"X\": 0.0, \"y\": 0.0}, {\"X\": 0.01001001001001001, \"y\": 0.00010019862705885069}, {\"X\": 0.02002002002002002, \"y\": 0.00040077442853800755}, {\"X\": 0.03003003003003003, \"y\": 0.0009016671683632474}, {\"X\": 0.04004004004004004, \"y\": 0.0016027764631370027}, {\"X\": 0.050050050050050046, \"y\": 0.0025039617972261573}, {\"X\": 0.06006006006006006, \"y\": 0.0036050425438821404}, {\"X\": 0.07007007007007007, \"y\": 0.004905797992390491}, {\"X\": 0.08008008008008008, \"y\": 0.00640596738124627}, {\"X\": 0.09009009009009009, \"y\": 0.008105249937350897}, {\"X\": 0.10010010010010009, \"y\": 0.01000330492122515}, {\"X\": 0.11011011011011011, \"y\": 0.012099751678232311}, {\"X\": 0.12012012012012012, \"y\": 0.0143941696958046}, {\"X\": 0.13013013013013014, \"y\": 0.01688609866666527}, {\"X\": 0.14014014014014015, \"y\": 0.019575038558037876}, {\"X\": 0.15015015015015015, \"y\": 0.022460449686833514}, {\"X\": 0.16016016016016016, \"y\": 0.025541752800805957}, {\"X\": 0.17017017017017017, \"y\": 0.028818329165663858}, {\"X\": 0.18018018018018017, \"y\": 0.032289520658128346}, {\"X\": 0.19019019019019018, \"y\": 0.03595462986492365}, {\"X\": 0.20020020020020018, \"y\": 0.039812920187687395}, {\"X\": 0.21021021021021022, \"y\": 0.04386361595378674}, {\"X\": 0.22022022022022023, \"y\": 0.048105902533025276}, {\"X\": 0.23023023023023023, \"y\": 0.052538926460225434}, {\"X\": 0.24024024024024024, \"y\": 0.05716179556366966}, {\"X\": 0.2502502502502503, \"y\": 0.061973579099383426}, {\"X\": 0.2602602602602603, \"y\": 0.06697330789124199}, {\"X\": 0.2702702702702703, \"y\": 0.07215997447688234}, {\"X\": 0.2802802802802803, \"y\": 0.0775325332594006}, {\"X\": 0.2902902902902903, \"y\": 0.08308990066481473}, {\"X\": 0.3003003003003003, \"y\": 0.08883095530527145}, {\"X\": 0.3103103103103103, \"y\": 0.09475453814797564}, {\"X\": 0.3203203203203203, \"y\": 0.10085945268981938}, {\"X\": 0.3303303303303303, \"y\": 0.1071444651376876}, {\"X\": 0.34034034034034033, \"y\": 0.11360830459441587}, {\"X\": 0.35035035035035034, \"y\": 0.12024966325037585}, {\"X\": 0.36036036036036034, \"y\": 0.1270671965806623}, {\"X\": 0.37037037037037035, \"y\": 0.13405952354785572}, {\"X\": 0.38038038038038036, \"y\": 0.14122522681033314}, {\"X\": 0.39039039039039036, \"y\": 0.14856285293609947}, {\"X\": 0.40040040040040037, \"y\": 0.1560709126221104}, {\"X\": 0.41041041041041043, \"y\": 0.16374788091905795}, {\"X\": 0.42042042042042044, \"y\": 0.1715921974615882}, {\"X\": 0.43043043043043044, \"y\": 0.1796022667039206}, {\"X\": 0.44044044044044045, \"y\": 0.18777645816083735}, {\"X\": 0.45045045045045046, \"y\": 0.19611310665401024}, {\"X\": 0.46046046046046046, \"y\": 0.20461051256363216}, {\"X\": 0.47047047047047047, \"y\": 0.21326694208531988}, {\"X\": 0.4804804804804805, \"y\": 0.22208062749225305}, {\"X\": 0.4904904904904905, \"y\": 0.23104976740251498}, {\"X\": 0.5005005005005005, \"y\": 0.24017252705159875}, {\"X\": 0.5105105105105106, \"y\": 0.24944703857004227}, {\"X\": 0.5205205205205206, \"y\": 0.25887140126615577}, {\"X\": 0.5305305305305306, \"y\": 0.26844368191380275}, {\"X\": 0.5405405405405406, \"y\": 0.2781619150451965}, {\"X\": 0.5505505505505506, \"y\": 0.28802410324867256}, {\"X\": 0.5605605605605606, \"y\": 0.2980282174713976}, {\"X\": 0.5705705705705706, \"y\": 0.30817219732697376}, {\"X\": 0.5805805805805806, \"y\": 0.31845395140789706}, {\"X\": 0.5905905905905906, \"y\": 0.32887135760282854}, {\"X\": 0.6006006006006006, \"y\": 0.3394222634186349}, {\"X\": 0.6106106106106106, \"y\": 0.35010448630715557}, {\"X\": 0.6206206206206206, \"y\": 0.36091581399665323}, {\"X\": 0.6306306306306306, \"y\": 0.3718540048279011}, {\"X\": 0.6406406406406406, \"y\": 0.3829167880948647}, {\"X\": 0.6506506506506506, \"y\": 0.3941018643899297}, {\"X\": 0.6606606606606606, \"y\": 0.4054069059536316}, {\"X\": 0.6706706706706707, \"y\": 0.4168295570288385}, {\"X\": 0.6806806806806807, \"y\": 0.4283674342193406}, {\"X\": 0.6906906906906907, \"y\": 0.4400181268527975}, {\"X\": 0.7007007007007007, \"y\": 0.4517791973479949}, {\"X\": 0.7107107107107107, \"y\": 0.46364818158636106}, {\"X\": 0.7207207207207207, \"y\": 0.4756225892876934}, {\"X\": 0.7307307307307307, \"y\": 0.4876999043900437}, {\"X\": 0.7407407407407407, \"y\": 0.4998775854337123}, {\"X\": 0.7507507507507507, \"y\": 0.5121530659492985}, {\"X\": 0.7607607607607607, \"y\": 0.5245237548497551}, {\"X\": 0.7707707707707707, \"y\": 0.5369870368263944}, {\"X\": 0.7807807807807807, \"y\": 0.5495402727487924}, {\"X\": 0.7907907907907907, \"y\": 0.5621808000685372}, {\"X\": 0.8008008008008007, \"y\": 0.5749059332267675}, {\"X\": 0.8108108108108109, \"y\": 0.5877129640654452}, {\"X\": 0.8208208208208209, \"y\": 0.6005991622423078}, {\"X\": 0.8308308308308309, \"y\": 0.6135617756494453}, {\"X\": 0.8408408408408409, \"y\": 0.6265980308354417}, {\"X\": 0.8508508508508509, \"y\": 0.6397051334310294}, {\"X\": 0.8608608608608609, \"y\": 0.6528802685781935}, {\"X\": 0.8708708708708709, \"y\": 0.6661206013626725}, {\"X\": 0.8808808808808809, \"y\": 0.6794232772497943}, {\"X\": 0.8908908908908909, \"y\": 0.6927854225235902}, {\"X\": 0.9009009009009009, \"y\": 0.7062041447291262}, {\"X\": 0.9109109109109109, \"y\": 0.7196765331179931}, {\"X\": 0.9209209209209209, \"y\": 0.7331996590968939}, {\"X\": 0.9309309309309309, \"y\": 0.7467705766792695}, {\"X\": 0.9409409409409409, \"y\": 0.7603863229398992}, {\"X\": 0.950950950950951, \"y\": 0.7740439184724174}, {\"X\": 0.960960960960961, \"y\": 0.7877403678496817}, {\"X\": 0.970970970970971, \"y\": 0.8014726600869324}, {\"X\": 0.980980980980981, \"y\": 0.8152377691076788}, {\"X\": 0.990990990990991, \"y\": 0.8290326542122504}, {\"X\": 1.001001001001001, \"y\": 0.8428542605489495}, {\"X\": 1.011011011011011, \"y\": 0.8566995195877402}, {\"X\": 1.021021021021021, \"y\": 0.8705653495964102}, {\"X\": 1.031031031031031, \"y\": 0.8844486561191419}, {\"X\": 1.0410410410410411, \"y\": 0.8983463324574259}, {\"X\": 1.0510510510510511, \"y\": 0.9122552601532515}, {\"X\": 1.0610610610610611, \"y\": 0.9261723094745125}, {\"X\": 1.0710710710710711, \"y\": 0.9400943399025553}, {\"X\": 1.0810810810810811, \"y\": 0.9540182006218112}, {\"X\": 1.0910910910910911, \"y\": 0.9679407310114391}, {\"X\": 1.1011011011011012, \"y\": 0.981858761138916}, {\"X\": 1.1111111111111112, \"y\": 0.9957691122555071}, {\"X\": 1.1211211211211212, \"y\": 1.0096685972935475}, {\"X\": 1.1311311311311312, \"y\": 1.023554021365468}, {\"X\": 1.1411411411411412, \"y\": 1.0374221822644973}, {\"X\": 1.1511511511511512, \"y\": 1.051269870966972}, {\"X\": 1.1611611611611612, \"y\": 1.065093872136187}, {\"X\": 1.1711711711711712, \"y\": 1.0788909646277134}, {\"X\": 1.1811811811811812, \"y\": 1.0926579219961232}, {\"X\": 1.1911911911911912, \"y\": 1.1063915130030415}, {\"X\": 1.2012012012012012, \"y\": 1.1200885021264653}, {\"X\": 1.2112112112112112, \"y\": 1.1337456500712728}, {\"X\": 1.2212212212212212, \"y\": 1.1473597142808594}, {\"X\": 1.2312312312312312, \"y\": 1.1609274494498245}, {\"X\": 1.2412412412412412, \"y\": 1.1744456080376438}, {\"X\": 1.2512512512512513, \"y\": 1.1879109407832529}, {\"X\": 1.2612612612612613, \"y\": 1.2013201972204757}, {\"X\": 1.2712712712712713, \"y\": 1.2146701261942217}, {\"X\": 1.2812812812812813, \"y\": 1.2279574763773868}, {\"X\": 1.2912912912912913, \"y\": 1.241178996788384}, {\"X\": 1.3013013013013013, \"y\": 1.254331437309231}, {\"X\": 1.3113113113113113, \"y\": 1.2674115492041282}, {\"X\": 1.3213213213213213, \"y\": 1.2804160856384523}, {\"X\": 1.3313313313313313, \"y\": 1.293341802198095}, {\"X\": 1.3413413413413413, \"y\": 1.3061854574090743}, {\"X\": 1.3513513513513513, \"y\": 1.3189438132573512}, {\"X\": 1.3613613613613613, \"y\": 1.3316136357087727}, {\"X\": 1.3713713713713713, \"y\": 1.344191695229077}, {\"X\": 1.3813813813813813, \"y\": 1.3566747673038846}, {\"X\": 1.3913913913913913, \"y\": 1.3690596329586038}, {\"X\": 1.4014014014014013, \"y\": 1.3813430792781811}, {\"X\": 1.4114114114114114, \"y\": 1.3935218999266228}, {\"X\": 1.4214214214214214, \"y\": 1.4055928956662158}, {\"X\": 1.4314314314314314, \"y\": 1.417552874876378}, {\"X\": 1.4414414414414414, \"y\": 1.4293986540720616}, {\"X\": 1.4514514514514514, \"y\": 1.4411270584216453}, {\"X\": 1.4614614614614614, \"y\": 1.4527349222642345}, {\"X\": 1.4714714714714714, \"y\": 1.4642190896263043}, {\"X\": 1.4814814814814814, \"y\": 1.4755764147376116}, {\"X\": 1.4914914914914914, \"y\": 1.486803762546303}, {\"X\": 1.5015015015015014, \"y\": 1.4978980092331498}, {\"X\": 1.5115115115115114, \"y\": 1.5088560427248359}, {\"X\": 1.5215215215215214, \"y\": 1.5196747632062282}, {\"X\": 1.5315315315315314, \"y\": 1.5303510836315586}, {\"X\": 1.5415415415415414, \"y\": 1.5408819302344463}, {\"X\": 1.5515515515515514, \"y\": 1.5512642430366852}, {\"X\": 1.5615615615615615, \"y\": 1.5614949763557349}, {\"X\": 1.5715715715715715, \"y\": 1.5715710993108303}, {\"X\": 1.5815815815815815, \"y\": 1.5814895963276552}, {\"X\": 1.5915915915915915, \"y\": 1.5912474676414934}, {\"X\": 1.6016016016016015, \"y\": 1.600841729798799}, {\"X\": 1.6116116116116117, \"y\": 1.610269416157108}, {\"X\": 1.6216216216216217, \"y\": 1.619527577383225}, {\"X\": 1.6316316316316317, \"y\": 1.628613281949613}, {\"X\": 1.6416416416416417, \"y\": 1.6375236166289173}, {\"X\": 1.6516516516516517, \"y\": 1.6462556869865526}, {\"X\": 1.6616616616616617, \"y\": 1.6548066178712861}, {\"X\": 1.6716716716716717, \"y\": 1.6631735539037449}, {\"X\": 1.6816816816816818, \"y\": 1.6713536599627803}, {\"X\": 1.6916916916916918, \"y\": 1.67934412166962}, {\"X\": 1.7017017017017018, \"y\": 1.6871421458697384}, {\"X\": 1.7117117117117118, \"y\": 1.6947449611123777}, {\"X\": 1.7217217217217218, \"y\": 1.7021498181276526}, {\"X\": 1.7317317317317318, \"y\": 1.70935399030117}, {\"X\": 1.7417417417417418, \"y\": 1.7163547741460936}, {\"X\": 1.7517517517517518, \"y\": 1.7231494897725912}, {\"X\": 1.7617617617617618, \"y\": 1.7297354813545953}, {\"X\": 1.7717717717717718, \"y\": 1.736110117593808}, {\"X\": 1.7817817817817818, \"y\": 1.7422707921808875}, {\"X\": 1.7917917917917918, \"y\": 1.7482149242537495}, {\"X\": 1.8018018018018018, \"y\": 1.7539399588529159}, {\"X\": 1.8118118118118118, \"y\": 1.759443367373848}, {\"X\": 1.8218218218218218, \"y\": 1.7647226480161962}, {\"X\": 1.8318318318318318, \"y\": 1.7697753262299045}, {\"X\": 1.8418418418418419, \"y\": 1.7745989551581043}, {\"X\": 1.8518518518518519, \"y\": 1.7791911160767337}, {\"X\": 1.8618618618618619, \"y\": 1.7835494188308176}, {\"X\": 1.8718718718718719, \"y\": 1.7876715022673473}, {\"X\": 1.8818818818818819, \"y\": 1.7915550346646965}, {\"X\": 1.8918918918918919, \"y\": 1.7951977141585096}, {\"X\": 1.901901901901902, \"y\": 1.7985972691640035}, {\"X\": 1.911911911911912, \"y\": 1.8017514587946173}, {\"X\": 1.921921921921922, \"y\": 1.804658073276953}, {\"X\": 1.931931931931932, \"y\": 1.807314934361944}, {\"X\": 1.941941941941942, \"y\": 1.8097198957321905}, {\"X\": 1.951951951951952, \"y\": 1.8118708434054065}, {\"X\": 1.961961961961962, \"y\": 1.813765696133912}, {\"X\": 1.971971971971972, \"y\": 1.8154024058001186}, {\"X\": 1.981981981981982, \"y\": 1.8167789578079447}, {\"X\": 1.991991991991992, \"y\": 1.8178933714701084}, {\"X\": 2.002002002002002, \"y\": 1.8187437003912312}, {\"X\": 2.012012012012012, \"y\": 1.8193280328467076}, {\"X\": 2.022022022022022, \"y\": 1.8196444921572745}, {\"X\": 2.032032032032032, \"y\": 1.8196912370592286}, {\"X\": 2.042042042042042, \"y\": 1.8194664620702368}, {\"X\": 2.052052052052052, \"y\": 1.8189683978506848}, {\"X\": 2.062062062062062, \"y\": 1.8181953115605047}, {\"X\": 2.0720720720720722, \"y\": 1.8171455072114382}, {\"X\": 2.0820820820820822, \"y\": 1.81581732601467}, {\"X\": 2.0920920920920922, \"y\": 1.8142091467237882}, {\"X\": 2.1021021021021022, \"y\": 1.8123193859730162}, {\"X\": 2.1121121121121122, \"y\": 1.8101464986106615}, {\"X\": 2.1221221221221223, \"y\": 1.8076889780277363}, {\"X\": 2.1321321321321323, \"y\": 1.8049453564816977}, {\"X\": 2.1421421421421423, \"y\": 1.801914205415252}, {\"X\": 2.1521521521521523, \"y\": 1.7985941357701842}, {\"X\": 2.1621621621621623, \"y\": 1.7949837982961556}, {\"X\": 2.1721721721721723, \"y\": 1.7910818838544247}, {\"X\": 2.1821821821821823, \"y\": 1.7868871237164459}, {\"X\": 2.1921921921921923, \"y\": 1.7823982898572959}, {\"X\": 2.2022022022022023, \"y\": 1.7776141952438826}, {\"X\": 2.2122122122122123, \"y\": 1.772533694117895}, {\"X\": 2.2222222222222223, \"y\": 1.7671556822734424}, {\"X\": 2.2322322322322323, \"y\": 1.761479097329344}, {\"X\": 2.2422422422422423, \"y\": 1.7555029189960234}, {\"X\": 2.2522522522522523, \"y\": 1.7492261693369686}, {\"X\": 2.2622622622622623, \"y\": 1.7426479130247063}, {\"X\": 2.2722722722722724, \"y\": 1.7357672575912615}, {\"X\": 2.2822822822822824, \"y\": 1.7285833536730508}, {\"X\": 2.2922922922922924, \"y\": 1.721095395250176}, {\"X\": 2.3023023023023024, \"y\": 1.7133026198800747}, {\"X\": 2.3123123123123124, \"y\": 1.705204308925493}, {\"X\": 2.3223223223223224, \"y\": 1.6967997877767371}, {\"X\": 2.3323323323323324, \"y\": 1.6880884260681717}, {\"X\": 2.3423423423423424, \"y\": 1.6790696378889252}, {\"X\": 2.3523523523523524, \"y\": 1.6697428819877669}, {\"X\": 2.3623623623623624, \"y\": 1.6601076619721213}, {\"X\": 2.3723723723723724, \"y\": 1.6501635265011856}, {\"X\": 2.3823823823823824, \"y\": 1.6399100694731128}, {\"X\": 2.3923923923923924, \"y\": 1.6293469302062344}, {\"X\": 2.4024024024024024, \"y\": 1.618473793614284}, {\"X\": 2.4124124124124124, \"y\": 1.607290390375593}, {\"X\": 2.4224224224224224, \"y\": 1.5957964970962286}, {\"X\": 2.4324324324324325, \"y\": 1.5839919364670423}, {\"X\": 2.4424424424424425, \"y\": 1.5718765774145993}, {\"X\": 2.4524524524524525, \"y\": 1.5594503352459645}, {\"X\": 2.4624624624624625, \"y\": 1.5467131717873102}, {\"X\": 2.4724724724724725, \"y\": 1.5336650955163256}, {\"X\": 2.4824824824824825, \"y\": 1.5203061616883984}, {\"X\": 2.4924924924924925, \"y\": 1.5066364724565433}, {\"X\": 2.5025025025025025, \"y\": 1.4926561769850533}, {\"X\": 2.5125125125125125, \"y\": 1.47836547155685}, {\"X\": 2.5225225225225225, \"y\": 1.4637645996745101}, {\"X\": 2.5325325325325325, \"y\": 1.4488538521549454}, {\"X\": 2.5425425425425425, \"y\": 1.4336335672177156}, {\"X\": 2.5525525525525525, \"y\": 1.4181041305669517}, {\"X\": 2.5625625625625625, \"y\": 1.4022659754668723}, {\"X\": 2.5725725725725725, \"y\": 1.3861195828108717}, {\"X\": 2.5825825825825826, \"y\": 1.3696654811841653}, {\"X\": 2.5925925925925926, \"y\": 1.3529042469199684}, {\"X\": 2.6026026026026026, \"y\": 1.3358365041491982}, {\"X\": 2.6126126126126126, \"y\": 1.3184629248436806}, {\"X\": 2.6226226226226226, \"y\": 1.3007842288528466}, {\"X\": 2.6326326326326326, \"y\": 1.2828011839339057}, {\"X\": 2.6426426426426426, \"y\": 1.2645146057754797}, {\"X\": 2.6526526526526526, \"y\": 1.245925358014688}, {\"X\": 2.6626626626626626, \"y\": 1.2270343522476737}, {\"X\": 2.6726726726726726, \"y\": 1.207842548033553}, {\"X\": 2.6826826826826826, \"y\": 1.1883509528917868}, {\"X\": 2.6926926926926926, \"y\": 1.1685606222929585}, {\"X\": 2.7027027027027026, \"y\": 1.1484726596429535}, {\"X\": 2.7127127127127126, \"y\": 1.128088216260531}, {\"X\": 2.7227227227227226, \"y\": 1.1074084913482827}, {\"X\": 2.7327327327327327, \"y\": 1.0864347319569734}, {\"X\": 2.7427427427427427, \"y\": 1.0651682329432546}, {\"X\": 2.7527527527527527, \"y\": 1.0436103369207537}, {\"X\": 2.7627627627627627, \"y\": 1.0217624342045282}, {\"X\": 2.7727727727727727, \"y\": 0.999625962748889}, {\"X\": 2.7827827827827827, \"y\": 0.977202408078587}, {\"X\": 2.7927927927927927, \"y\": 0.9544933032133638}, {\"X\": 2.8028028028028027, \"y\": 0.9315002285858681}, {\"X\": 2.8128128128128127, \"y\": 0.9082248119529355}, {\"X\": 2.8228228228228227, \"y\": 0.8846687283002376}, {\"X\": 2.8328328328328327, \"y\": 0.8608336997402996}, {\"X\": 2.8428428428428427, \"y\": 0.8367214954038927}, {\"X\": 2.8528528528528527, \"y\": 0.8123339313248045}, {\"X\": 2.8628628628628627, \"y\": 0.7876728703179916}, {\"X\": 2.8728728728728727, \"y\": 0.7627402218511246}, {\"X\": 2.8828828828828827, \"y\": 0.7375379419095265}, {\"X\": 2.8928928928928928, \"y\": 0.7120680328545188}, {\"X\": 2.9029029029029028, \"y\": 0.6863325432751789}, {\"X\": 2.9129129129129128, \"y\": 0.6603335678335215}, {\"X\": 2.9229229229229228, \"y\": 0.6340732471031131}, {\"X\": 2.932932932932933, \"y\": 0.6075537674011312}, {\"X\": 2.942942942942943, \"y\": 0.5807773606138806}, {\"X\": 2.952952952952953, \"y\": 0.55374630401578}, {\"X\": 2.962962962962963, \"y\": 0.5264629200818307}, {\"X\": 2.972972972972973, \"y\": 0.4989295762935868}, {\"X\": 2.982982982982983, \"y\": 0.4711486849386365}, {\"X\": 2.992992992992993, \"y\": 0.4431227029036156}, {\"X\": 3.003003003003003, \"y\": 0.41485413146076844}, {\"X\": 3.013013013013013, \"y\": 0.38634551604807427}, {\"X\": 3.023023023023023, \"y\": 0.3575994460429591}, {\"X\": 3.033033033033033, \"y\": 0.3286185545296116}, {\"X\": 3.043043043043043, \"y\": 0.2994055180599246}, {\"X\": 3.053053053053053, \"y\": 0.26996305640808294}, {\"X\": 3.063063063063063, \"y\": 0.2402939323188208}, {\"X\": 3.073073073073073, \"y\": 0.21040095124937075}, {\"X\": 3.083083083083083, \"y\": 0.18028696110512943}, {\"X\": 3.093093093093093, \"y\": 0.1499548519690634}, {\"X\": 3.103103103103103, \"y\": 0.11940755582488254}, {\"X\": 3.113113113113113, \"y\": 0.08864804627400559}, {\"X\": 3.123123123123123, \"y\": 0.05767933824634669}, {\"X\": 3.133133133133133, \"y\": 0.026504487704949925}, {\"X\": 3.143143143143143, \"y\": -0.004873408655498657}, {\"X\": 3.153153153153153, \"y\": -0.036451213716251894}, {\"X\": 3.163163163163163, \"y\": -0.06822575024814478}, {\"X\": 3.173173173173173, \"y\": -0.10019380123126885}, {\"X\": 3.183183183183183, \"y\": -0.13235211018064508}, {\"X\": 3.193193193193193, \"y\": -0.16469738147786325}, {\"X\": 3.203203203203203, \"y\": -0.19722628070865275}, {\"X\": 3.2132132132132134, \"y\": -0.229935435006353}, {\"X\": 3.2232232232232234, \"y\": -0.26282143340123837}, {\"X\": 3.2332332332332334, \"y\": -0.29588082717568387}, {\"X\": 3.2432432432432434, \"y\": -0.32911013022510566}, {\"X\": 3.2532532532532534, \"y\": -0.3625058194246598}, {\"X\": 3.2632632632632634, \"y\": -0.3960643350016528}, {\"X\": 3.2732732732732734, \"y\": -0.42978208091362585}, {\"X\": 3.2832832832832834, \"y\": -0.4636554252320724}, {\"X\": 3.2932932932932935, \"y\": -0.49768070053174945}, {\"X\": 3.3033033033033035, \"y\": -0.5318542042855389}, {\"X\": 3.3133133133133135, \"y\": -0.5661721992648184}, {\"X\": 3.3233233233233235, \"y\": -0.6006309139452992}, {\"X\": 3.3333333333333335, \"y\": -0.6352265429182846}, {\"X\": 3.3433433433433435, \"y\": -0.6699552473073065}, {\"X\": 3.3533533533533535, \"y\": -0.7048131551900945}, {\"X\": 3.3633633633633635, \"y\": -0.7397963620258311}, {\"X\": 3.3733733733733735, \"y\": -0.7749009310876468}, {\"X\": 3.3833833833833835, \"y\": -0.8101228939003065}, {\"X\": 3.3933933933933935, \"y\": -0.8454582506830399}, {\"X\": 3.4034034034034035, \"y\": -0.8809029707974682}, {\"X\": 3.4134134134134135, \"y\": -0.9164529932005735}, {\"X\": 3.4234234234234235, \"y\": -0.9521042269026668}, {\"X\": 3.4334334334334335, \"y\": -0.9878525514302965}, {\"X\": 3.4434434434434436, \"y\": -1.0236938172940515}, {\"X\": 3.4534534534534536, \"y\": -1.0596238464612042}, {\"X\": 3.4634634634634636, \"y\": -1.0956384328331383}, {\"X\": 3.4734734734734736, \"y\": -1.1317333427275136}, {\"X\": 3.4834834834834836, \"y\": -1.1679043153651056}, {\"X\": 3.4934934934934936, \"y\": -1.2041470633612712}, {\"X\": 3.5035035035035036, \"y\": -1.240457273221982}, {\"X\": 3.5135135135135136, \"y\": -1.276830605844369}, {\"X\": 3.5235235235235236, \"y\": -1.3132626970217225}, {\"X\": 3.5335335335335336, \"y\": -1.3497491579528877}, {\"X\": 3.5435435435435436, \"y\": -1.3862855757560006}, {\"X\": 3.5535535535535536, \"y\": -1.4228675139865037}, {\"X\": 3.5635635635635636, \"y\": -1.4594905131593805}, {\"X\": 3.5735735735735736, \"y\": -1.496150091275552}, {\"X\": 3.5835835835835836, \"y\": -1.5328417443523723}, {\"X\": 3.5935935935935936, \"y\": -1.5695609469581613}, {\"X\": 3.6036036036036037, \"y\": -1.606303152750715}, {\"X\": 3.6136136136136137, \"y\": -1.6430637950197302}, {\"X\": 3.6236236236236237, \"y\": -1.6798382872330777}, {\"X\": 3.6336336336336337, \"y\": -1.7166220235868646}, {\"X\": 3.6436436436436437, \"y\": -1.7534103795592197}, {\"X\": 3.6536536536536537, \"y\": -1.7901987124677354}, {\"X\": 3.6636636636636637, \"y\": -1.8269823620305046}, {\"X\": 3.6736736736736737, \"y\": -1.8637566509306822}, {\"X\": 3.6836836836836837, \"y\": -1.900516885384512}, {\"X\": 3.6936936936936937, \"y\": -1.9372583557127412}, {\"X\": 3.7037037037037037, \"y\": -1.9739763369153667}, {\"X\": 3.7137137137137137, \"y\": -2.010666089249639}, {\"X\": 3.7237237237237237, \"y\": -2.0473228588112526}, {\"X\": 3.7337337337337337, \"y\": -2.0839418781186634}, {\"X\": 3.7437437437437437, \"y\": -2.1205183667004537}, {\"X\": 3.7537537537537538, \"y\": -2.1570475316856825}, {\"X\": 3.7637637637637638, \"y\": -2.193524568397145}, {\"X\": 3.7737737737737738, \"y\": -2.229944660947475}, {\"X\": 3.7837837837837838, \"y\": -2.266302982838017}, {\"X\": 3.793793793793794, \"y\": -2.3025946975603935}, {\"X\": 3.803803803803804, \"y\": -2.3388149592007053}, {\"X\": 3.813813813813814, \"y\": -2.3749589130462785}, {\"X\": 3.823823823823824, \"y\": -2.411021696194893}, {\"X\": 3.833833833833834, \"y\": -2.446998438166425}, {\"X\": 3.843843843843844, \"y\": -2.4828842615168134}, {\"X\": 3.853853853853854, \"y\": -2.518674282454292}, {\"X\": 3.863863863863864, \"y\": -2.5543636114578048}, {\"X\": 3.873873873873874, \"y\": -2.5899473538975326}, {\"X\": 3.883883883883884, \"y\": -2.625420610657451}, {\"X\": 3.893893893893894, \"y\": -2.660778478759852}, {\"X\": 3.903903903903904, \"y\": -2.6960160519917427}, {\"X\": 3.913913913913914, \"y\": -2.7311284215330582}, {\"X\": 3.923923923923924, \"y\": -2.766110676586601}, {\"X\": 3.933933933933934, \"y\": -2.8009579050096294}, {\"X\": 3.943943943943944, \"y\": -2.835665193947031}, {\"X\": 3.953953953953954, \"y\": -2.8702276304659873}, {\"X\": 3.963963963963964, \"y\": -2.9046403021920626}, {\"X\": 3.973973973973974, \"y\": -2.938898297946632}, {\"X\": 3.983983983983984, \"y\": -2.972996708385578}, {\"X\": 3.993993993993994, \"y\": -3.006930626639167}, {\"X\": 4.004004004004004, \"y\": -3.0406951489530396}, {\"X\": 4.014014014014014, \"y\": -3.0742853753302155}, {\"X\": 4.024024024024024, \"y\": -3.107696410174063}, {\"X\": 4.034034034034034, \"y\": -3.140923362932123}, {\"X\": 4.044044044044044, \"y\": -3.1739613487407254}, {\"X\": 4.054054054054054, \"y\": -3.2068054890703173}, {\"X\": 4.064064064064064, \"y\": -3.239450912371413}, {\"X\": 4.074074074074074, \"y\": -3.2718927547210943}, {\"X\": 4.084084084084084, \"y\": -3.3041261604699814}, {\"X\": 4.094094094094094, \"y\": -3.3361462828895814}, {\"X\": 4.104104104104104, \"y\": -3.3679482848199482}, {\"X\": 4.114114114114114, \"y\": -3.3995273393175642}, {\"X\": 4.124124124124124, \"y\": -3.4308786303033654}, {\"X\": 4.134134134134134, \"y\": -3.4619973532108257}, {\"X\": 4.1441441441441444, \"y\": -3.4928787156340224}, {\"X\": 4.1541541541541545, \"y\": -3.523517937975599}, {\"X\": 4.1641641641641645, \"y\": -3.553910254094547}, {\"X\": 4.1741741741741745, \"y\": -3.5840509119537143}, {\"X\": 4.1841841841841845, \"y\": -3.613935174266978}, {\"X\": 4.1941941941941945, \"y\": -3.643558319145977}, {\"X\": 4.2042042042042045, \"y\": -3.672915640746339}, {\"X\": 4.2142142142142145, \"y\": -3.7020024499133104}, {\"X\": 4.2242242242242245, \"y\": -3.7308140748267173}, {\"X\": 4.2342342342342345, \"y\": -3.7593458616451567}, {\"X\": 4.2442442442442445, \"y\": -3.78759317514936}, {\"X\": 4.2542542542542545, \"y\": -3.815551399384627}, {\"X\": 4.2642642642642645, \"y\": -3.843215938302255}, {\"X\": 4.2742742742742745, \"y\": -3.8705822163998884}, {\"X\": 4.2842842842842845, \"y\": -3.8976456793606884}, {\"X\": 4.2942942942942945, \"y\": -3.9244017946912617}, {\"X\": 4.3043043043043046, \"y\": -3.950846052358252}, {\"X\": 4.314314314314315, \"y\": -3.9769739654235132}, {\"X\": 4.324324324324325, \"y\": -4.00278107067779}, {\"X\": 4.334334334334335, \"y\": -4.028262929272822}, {\"X\": 4.344344344344345, \"y\": -4.053415127351774}, {\"X\": 4.354354354354355, \"y\": -4.0782332766779374}, {\"X\": 4.364364364364365, \"y\": -4.102713015261602}, {\"X\": 4.374374374374375, \"y\": -4.126850007985022}, {\"X\": 4.384384384384385, \"y\": -4.150639947225389}, {\"X\": 4.394394394394395, \"y\": -4.174078553475748}, {\"X\": 4.404404404404405, \"y\": -4.197161575963751}, {\"X\": 4.414414414414415, \"y\": -4.219884793268189}, {\"X\": 4.424424424424425, \"y\": -4.242244013933206}, {\"X\": 4.434434434434435, \"y\": -4.264235077080124}, {\"X\": 4.444444444444445, \"y\": -4.285853853016792}, {\"X\": 4.454454454454455, \"y\": -4.307096243844387}, {\"X\": 4.464464464464465, \"y\": -4.327958184061571}, {\"X\": 4.474474474474475, \"y\": -4.348435641165947}, {\"X\": 4.484484484484485, \"y\": -4.368524616252714}, {\"X\": 4.494494494494495, \"y\": -4.388221144610445}, {\"X\": 4.504504504504505, \"y\": -4.407521296313932}, {\"X\": 4.514514514514515, \"y\": -4.426421176813972}, {\"X\": 4.524524524524525, \"y\": -4.44491692752407}, {\"X\": 4.534534534534535, \"y\": -4.463004726403937}, {\"X\": 4.544544544544545, \"y\": -4.480680788539724}, {\"X\": 4.554554554554555, \"y\": -4.49794136672092}, {\"X\": 4.564564564564565, \"y\": -4.514782752013822}, {\"X\": 4.574574574574575, \"y\": -4.531201274331501}, {\"X\": 4.584584584584585, \"y\": -4.5471933030002}, {\"X\": 4.594594594594595, \"y\": -4.562755247322081}, {\"X\": 4.604604604604605, \"y\": -4.577883557134229}, {\"X\": 4.614614614614615, \"y\": -4.592574723363869}, {\"X\": 4.624624624624625, \"y\": -4.606825278579686}, {\"X\": 4.634634634634635, \"y\": -4.6206317975392}, {\"X\": 4.644644644644645, \"y\": -4.633990897732107}, {\"X\": 4.654654654654655, \"y\": -4.64689923991951}, {\"X\": 4.664664664664665, \"y\": -4.659353528668979}, {\"X\": 4.674674674674675, \"y\": -4.6713505128853505}, {\"X\": 4.684684684684685, \"y\": -4.682886986337203}, {\"X\": 4.694694694694695, \"y\": -4.693959788178934}, {\"X\": 4.704704704704705, \"y\": -4.704565803468368}, {\"X\": 4.714714714714715, \"y\": -4.714701963679812}, {\"X\": 4.724724724724725, \"y\": -4.7243652472125035}, {\"X\": 4.734734734734735, \"y\": -4.733552679894369}, {\"X\": 4.744744744744745, \"y\": -4.742261335481028}, {\"X\": 4.754754754754755, \"y\": -4.750488336149967}, {\"X\": 4.764764764764765, \"y\": -4.758230852989817}, {\"X\": 4.774774774774775, \"y\": -4.765486106484666}, {\"X\": 4.784784784784785, \"y\": -4.772251366993338}, {\"X\": 4.794794794794795, \"y\": -4.778523955223565}, {\"X\": 4.804804804804805, \"y\": -4.784301242700996}, {\"X\": 4.814814814814815, \"y\": -4.78958065223296}, {\"X\": 4.824824824824825, \"y\": -4.794359658366931}, {\"X\": 4.834834834834835, \"y\": -4.79863578784362}, {\"X\": 4.844844844844845, \"y\": -4.802406620044633}, {\"X\": 4.854854854854855, \"y\": -4.80566978743463}, {\"X\": 4.864864864864865, \"y\": -4.808422975997917}, {\"X\": 4.874874874874875, \"y\": -4.810663925669406}, {\"X\": 4.884884884884885, \"y\": -4.812390430759893}, {\"X\": 4.894894894894895, \"y\": -4.813600340375577}, {\"X\": 4.904904904904905, \"y\": -4.814291558831758}, {\"X\": 4.914914914914915, \"y\": -4.814462046060665}, {\"X\": 4.924924924924925, \"y\": -4.814109818013349}, {\"X\": 4.934934934934935, \"y\": -4.81323294705556}, {\"X\": 4.944944944944945, \"y\": -4.811829562357595}, {\"X\": 4.954954954954955, \"y\": -4.809897850277997}, {\"X\": 4.964964964964965, \"y\": -4.807436054741113}, {\"X\": 4.974974974974975, \"y\": -4.804442477608394}, {\"X\": 4.984984984984985, \"y\": -4.800915479043415}, {\"X\": 4.994994994994995, \"y\": -4.796853477870563}, {\"X\": 5.005005005005005, \"y\": -4.7922549519272994}, {\"X\": 5.015015015015015, \"y\": -4.787118438409993}, {\"X\": 5.025025025025025, \"y\": -4.781442534213227}, {\"X\": 5.035035035035035, \"y\": -4.775225896262552}, {\"X\": 5.045045045045045, \"y\": -4.768467241840625}, {\"X\": 5.055055055055055, \"y\": -4.761165348906674}, {\"X\": 5.065065065065065, \"y\": -4.753319056409254}, {\"X\": 5.075075075075075, \"y\": -4.744927264592229}, {\"X\": 5.085085085085085, \"y\": -4.735988935293939}, {\"X\": 5.095095095095095, \"y\": -4.726503092239501}, {\"X\": 5.105105105105105, \"y\": -4.71646882132619}, {\"X\": 5.115115115115115, \"y\": -4.705885270901865}, {\"X\": 5.125125125125125, \"y\": -4.694751652036381}, {\"X\": 5.135135135135135, \"y\": -4.683067238785948}, {\"X\": 5.145145145145145, \"y\": -4.670831368450388}, {\"X\": 5.155155155155155, \"y\": -4.6580434418232555}, {\"X\": 5.165165165165165, \"y\": -4.64470292343476}, {\"X\": 5.175175175175175, \"y\": -4.630809341787467}, {\"X\": 5.185185185185185, \"y\": -4.616362289584719}, {\"X\": 5.195195195195195, \"y\": -4.601361423951755}, {\"X\": 5.205205205205205, \"y\": -4.585806466649461}, {\"X\": 5.215215215215215, \"y\": -4.569697204280745}, {\"X\": 5.225225225225225, \"y\": -4.553033488489465}, {\"X\": 5.235235235235235, \"y\": -4.535815236151901}, {\"X\": 5.245245245245245, \"y\": -4.518042429560712}, {\"X\": 5.255255255255255, \"y\": -4.499715116601354}, {\"X\": 5.265265265265265, \"y\": -4.480833410920927}, {\"X\": 5.275275275275275, \"y\": -4.4613974920894}, {\"X\": 5.285285285285285, \"y\": -4.441407605753196}, {\"X\": 5.295295295295295, \"y\": -4.420864063781105}, {\"X\": 5.305305305305305, \"y\": -4.399767244402477}, {\"X\": 5.315315315315315, \"y\": -4.378117592337685}, {\"X\": 5.325325325325325, \"y\": -4.3559156189208155}, {\"X\": 5.335335335335335, \"y\": -4.333161902214552}, {\"X\": 5.345345345345345, \"y\": -4.309857087117247}, {\"X\": 5.355355355355355, \"y\": -4.286001885462122}, {\"X\": 5.365365365365365, \"y\": -4.261597076108604}, {\"X\": 5.375375375375375, \"y\": -4.236643505025739}, {\"X\": 5.385385385385385, \"y\": -4.211142085367693}, {\"X\": 5.395395395395395, \"y\": -4.185093797541279}, {\"X\": 5.405405405405405, \"y\": -4.158499689265527}, {\"X\": 5.415415415415415, \"y\": -4.131360875623236}, {\"X\": 5.425425425425425, \"y\": -4.103678539104521}, {\"X\": 5.435435435435435, \"y\": -4.0754539296423165}, {\"X\": 5.445445445445445, \"y\": -4.046688364639814}, {\"X\": 5.455455455455455, \"y\": -4.017383228989835}, {\"X\": 5.465465465465465, \"y\": -3.9875399750861016}, {\"X\": 5.475475475475475, \"y\": -3.9571601228263993}, {\"X\": 5.485485485485485, \"y\": -3.9262452596076156}, {\"X\": 5.495495495495495, \"y\": -3.894797040312643}, {\"X\": 5.505505505505505, \"y\": -3.862817187289119}, {\"X\": 5.515515515515515, \"y\": -3.8303074903200116}, {\"X\": 5.525525525525525, \"y\": -3.7972698065860233}, {\"X\": 5.535535535535535, \"y\": -3.763706060619809}, {\"X\": 5.545545545545545, \"y\": -3.7296182442519985}, {\"X\": 5.555555555555555, \"y\": -3.695008416549013}, {\"X\": 5.565565565565565, \"y\": -3.6598787037426703}, {\"X\": 5.575575575575575, \"y\": -3.624231299151568}, {\"X\": 5.585585585585585, \"y\": -3.588068463094249}, {\"X\": 5.595595595595595, \"y\": -3.551392522794131}, {\"X\": 5.605605605605605, \"y\": -3.514205872276206}, {\"X\": 5.615615615615615, \"y\": -3.4765109722555048}, {\"X\": 5.625625625625625, \"y\": -3.4383103500173235}, {\"X\": 5.635635635635635, \"y\": -3.399606599289212}, {\"X\": 5.645645645645645, \"y\": -3.3604023801047287}, {\"X\": 5.655655655655655, \"y\": -3.320700418658948}, {\"X\": 5.665665665665665, \"y\": -3.2805035071557516}, {\"X\": 5.675675675675675, \"y\": -3.2398145036468695}, {\"X\": 5.685685685685685, \"y\": -3.198636331862712}, {\"X\": 5.6956956956956954, \"y\": -3.156971981034965}, {\"X\": 5.7057057057057055, \"y\": -3.1148245057109802}, {\"X\": 5.7157157157157155, \"y\": -3.0721970255599573}, {\"X\": 5.7257257257257255, \"y\": -3.0290927251709183}, {\"X\": 5.7357357357357355, \"y\": -2.9855148538424987}, {\"X\": 5.7457457457457455, \"y\": -2.9414667253645574}, {\"X\": 5.7557557557557555, \"y\": -2.8969517177916115}, {\"X\": 5.7657657657657655, \"y\": -2.851973273208123}, {\"X\": 5.7757757757757755, \"y\": -2.806534897485632}, {\"X\": 5.7857857857857855, \"y\": -2.760640160031768}, {\"X\": 5.7957957957957955, \"y\": -2.7142926935311396}, {\"X\": 5.8058058058058055, \"y\": -2.6674961936781303}, {\"X\": 5.8158158158158155, \"y\": -2.620254418901611}, {\"X\": 5.8258258258258255, \"y\": -2.5725711900815864}, {\"X\": 5.8358358358358355, \"y\": -2.524450390257802}, {\"X\": 5.8458458458458455, \"y\": -2.475895964330321}, {\"X\": 5.8558558558558556, \"y\": -2.426911918752101}, {\"X\": 5.865865865865866, \"y\": -2.3775023212135897}, {\"X\": 5.875875875875876, \"y\": -2.3276713003193583}, {\"X\": 5.885885885885886, \"y\": -2.2774230452568025}, {\"X\": 5.895895895895896, \"y\": -2.2267618054569374}, {\"X\": 5.905905905905906, \"y\": -2.1756918902473013}, {\"X\": 5.915915915915916, \"y\": -2.1242176684970078}, {\"X\": 5.925925925925926, \"y\": -2.072343568253969}, {\"X\": 5.935935935935936, \"y\": -2.020074076374314}, {\"X\": 5.945945945945946, \"y\": -1.967413738144045}, {\"X\": 5.955955955955956, \"y\": -1.9143671568929441}, {\"X\": 5.965965965965966, \"y\": -1.8609389936007796}, {\"X\": 5.975975975975976, \"y\": -1.8071339664958355}, {\"X\": 5.985985985985986, \"y\": -1.7529568506457966}, {\"X\": 5.995995995995996, \"y\": -1.6984124775410305}, {\"X\": 6.006006006006006, \"y\": -1.6435057346702964}, {\"X\": 6.016016016016016, \"y\": -1.588241565088919}, {\"X\": 6.026026026026026, \"y\": -1.5326249669794654}, {\"X\": 6.036036036036036, \"y\": -1.4766609932049648}, {\"X\": 6.046046046046046, \"y\": -1.4203547508547043}, {\"X\": 6.056056056056056, \"y\": -1.363711400782651}, {\"X\": 6.066066066066066, \"y\": -1.3067361571385314}, {\"X\": 6.076076076076076, \"y\": -1.2494342868916173}, {\"X\": 6.086086086086086, \"y\": -1.1918111093472592}, {\"X\": 6.096096096096096, \"y\": -1.1338719956562087}, {\"X\": 6.106106106106106, \"y\": -1.0756223683167792}, {\"X\": 6.116116116116116, \"y\": -1.0170677006698887}, {\"X\": 6.126126126126126, \"y\": -0.9582135163870288}, {\"X\": 6.136136136136136, \"y\": -0.899065388951213}, {\"X\": 6.146146146146146, \"y\": -0.8396289411309482}, {\"X\": 6.156156156156156, \"y\": -0.7799098444472815}, {\"X\": 6.166166166166166, \"y\": -0.7199138186339707}, {\"X\": 6.176176176176176, \"y\": -0.6596466310908324}, {\"X\": 6.186186186186186, \"y\": -0.5991140963303166}, {\"X\": 6.196196196196196, \"y\": -0.5383220754173634}, {\"X\": 6.206206206206206, \"y\": -0.47727647540259455}, {\"X\": 6.216216216216216, \"y\": -0.4159832487488944}, {\"X\": 6.226226226226226, \"y\": -0.35444839275143664}, {\"X\": 6.236236236236236, \"y\": -0.29267794895121246}, {\"X\": 6.246246246246246, \"y\": -0.23067800254211812}, {\"X\": 6.256256256256256, \"y\": -0.16845468177165973}, {\"X\": 6.266266266266266, \"y\": -0.10601415733533417}, {\"X\": 6.276276276276276, \"y\": -0.04336264176474644}, {\"X\": 6.286286286286286, \"y\": 0.01949361119047648}, {\"X\": 6.296296296296296, \"y\": 0.0825483071869133}, {\"X\": 6.306306306306306, \"y\": 0.1457951119176556}, {\"X\": 6.316316316316316, \"y\": 0.20922765174863117}, {\"X\": 6.326326326326326, \"y\": 0.27283951436087983}, {\"X\": 6.336336336336336, \"y\": 0.33662424939871693}, {\"X\": 6.346346346346346, \"y\": 0.40057536912371877}, {\"X\": 6.356356356356356, \"y\": 0.46468634907446404}, {\"X\": 6.366366366366366, \"y\": 0.528950628731964}, {\"X\": 6.376376376376376, \"y\": 0.5933616121907135}, {\"X\": 6.386386386386386, \"y\": 0.6579126688352942}, {\"X\": 6.396396396396396, \"y\": 0.7225971340224613}, {\"X\": 6.406406406406406, \"y\": 0.7874083097686422}, {\"X\": 6.416416416416417, \"y\": 0.8523394654427833}, {\"X\": 6.426426426426427, \"y\": 0.9173838384644388}, {\"X\": 6.436436436436437, \"y\": 0.9825346350071141}, {\"X\": 6.446446446446447, \"y\": 1.0477850307066778}, {\"X\": 6.456456456456457, \"y\": 1.113128171374853}, {\"X\": 6.466466466466467, \"y\": 1.1785571737176797}, {\"X\": 6.476476476476477, \"y\": 1.244065126058877}, {\"X\": 6.486486486486487, \"y\": 1.309645089068037}, {\"X\": 6.496496496496497, \"y\": 1.3752900964935595}, {\"X\": 6.506506506506507, \"y\": 1.4409931559002653}, {\"X\": 6.516516516516517, \"y\": 1.5067472494116005}, {\"X\": 6.526526526526527, \"y\": 1.5725453344563576}, {\"X\": 6.536536536536537, \"y\": 1.6383803445198317}, {\"X\": 6.546546546546547, \"y\": 1.7042451898993352}, {\"X\": 6.556556556556557, \"y\": 1.7701327584639868}, {\"X\": 6.566566566566567, \"y\": 1.836035916418697}, {\"X\": 6.576576576576577, \"y\": 1.9019475090722646}, {\"X\": 6.586586586586587, \"y\": 1.9678603616095085}, {\"X\": 6.596596596596597, \"y\": 2.033767279867343}, {\"X\": 6.606606606606607, \"y\": 2.09966105111472}, {\"X\": 6.616616616616617, \"y\": 2.1655344448363523}, {\"X\": 6.626626626626627, \"y\": 2.2313802135201315}, {\"X\": 6.636636636636637, \"y\": 2.2971910934481583}, {\"X\": 6.646646646646647, \"y\": 2.362959805491294}, {\"X\": 6.656656656656657, \"y\": 2.428679055907158}, {\"X\": 6.666666666666667, \"y\": 2.4943415371414663}, {\"X\": 6.676676676676677, \"y\": 2.559939928632647}, {\"X\": 6.686686686686687, \"y\": 2.625466897619622}, {\"X\": 6.696696696696697, \"y\": 2.690915099952682}, {\"X\": 6.706706706706707, \"y\": 2.756277180907361}, {\"X\": 6.716716716716717, \"y\": 2.8215457760012184}, {\"X\": 6.726726726726727, \"y\": 2.8867135118134426}, {\"X\": 6.736736736736737, \"y\": 2.9517730068071852}, {\"X\": 6.746746746746747, \"y\": 3.016716872154532}, {\"X\": 6.756756756756757, \"y\": 3.0815377125640255}, {\"X\": 6.766766766766767, \"y\": 3.1462281271106387}, {\"X\": 6.776776776776777, \"y\": 3.210780710068117}, {\"X\": 6.786786786786787, \"y\": 3.275188051743591}, {\"X\": 6.796796796796797, \"y\": 3.339442739314366}, {\"X\": 6.806806806806807, \"y\": 3.4035373576668}, {\"X\": 6.816816816816817, \"y\": 3.46746449023717}, {\"X\": 6.826826826826827, \"y\": 3.5312167198544384}, {\"X\": 6.836836836836837, \"y\": 3.594786629584823}, {\"X\": 6.846846846846847, \"y\": 3.6581668035780743}, {\"X\": 6.856856856856857, \"y\": 3.7213498279153643}, {\"X\": 6.866866866866867, \"y\": 3.7843282914586984}, {\"X\": 6.876876876876877, \"y\": 3.847094786701743}, {\"X\": 6.886886886886887, \"y\": 3.9096419106219837}, {\"X\": 6.896896896896897, \"y\": 3.971962265534114}, {\"X\": 6.906906906906907, \"y\": 4.034048459944549}, {\"X\": 6.916916916916917, \"y\": 4.095893109406988}, {\"X\": 6.926926926926927, \"y\": 4.157488837378901}, {\"X\": 6.936936936936937, \"y\": 4.218828276078869}, {\"X\": 6.946946946946947, \"y\": 4.279904067344661}, {\"X\": 6.956956956956957, \"y\": 4.340708863491956}, {\"X\": 6.966966966966967, \"y\": 4.401235328173619}, {\"X\": 6.976976976976977, \"y\": 4.461476137239414}, {\"X\": 6.986986986986987, \"y\": 4.521423979596082}, {\"X\": 6.996996996996997, \"y\": 4.581071558067658}, {\"X\": 7.007007007007007, \"y\": 4.640411590255944}, {\"X\": 7.017017017017017, \"y\": 4.69943680940104}, {\"X\": 7.027027027027027, \"y\": 4.758139965241821}, {\"X\": 7.037037037037037, \"y\": 4.816513824876277}, {\"X\": 7.047047047047047, \"y\": 4.874551173621598}, {\"X\": 7.057057057057057, \"y\": 4.932244815873922}, {\"X\": 7.067067067067067, \"y\": 4.989587575967635}, {\"X\": 7.077077077077077, \"y\": 5.046572299034126}, {\"X\": 7.087087087087087, \"y\": 5.103191851859897}, {\"X\": 7.097097097097097, \"y\": 5.15943912374393}, {\"X\": 7.107107107107107, \"y\": 5.215307027354207}, {\"X\": 7.117117117117117, \"y\": 5.270788499583283}, {\"X\": 7.127127127127127, \"y\": 5.325876502402817}, {\"X\": 7.137137137137137, \"y\": 5.380564023716955}, {\"X\": 7.147147147147147, \"y\": 5.434844078214468}, {\"X\": 7.157157157157157, \"y\": 5.488709708219536}, {\"X\": 7.167167167167167, \"y\": 5.542153984541101}, {\"X\": 7.177177177177177, \"y\": 5.59517000732065}, {\"X\": 7.187187187187187, \"y\": 5.647750906878373}, {\"X\": 7.197197197197197, \"y\": 5.699889844557555}, {\"X\": 7.207207207207207, \"y\": 5.75158001356713}, {\"X\": 7.217217217217217, \"y\": 5.802814639822282}, {\"X\": 7.227227227227227, \"y\": 5.853586982783002}, {\"X\": 7.237237237237237, \"y\": 5.903890336290486}, {\"X\": 7.247247247247247, \"y\": 5.953718029401297}, {\"X\": 7.257257257257257, \"y\": 6.003063427219171}, {\"X\": 7.267267267267267, \"y\": 6.051919931724376}, {\"X\": 7.277277277277277, \"y\": 6.100280982600521}, {\"X\": 7.287287287287287, \"y\": 6.148140058058728}, {\"X\": 7.297297297297297, \"y\": 6.195490675659041}, {\"X\": 7.307307307307307, \"y\": 6.242326393129003}, {\"X\": 7.317317317317317, \"y\": 6.288640809179284}, {\"X\": 7.327327327327327, \"y\": 6.334427564316259}, {\"X\": 7.337337337337337, \"y\": 6.379680341651463}, {\"X\": 7.347347347347347, \"y\": 6.424392867707775}, {\"X\": 7.357357357357357, \"y\": 6.468558913222297}, {\"X\": 7.367367367367367, \"y\": 6.512172293945772}, {\"X\": 7.377377377377377, \"y\": 6.555226871438479}, {\"X\": 7.387387387387387, \"y\": 6.597716553862497}, {\"X\": 7.397397397397397, \"y\": 6.639635296770233}, {\"X\": 7.407407407407407, \"y\": 6.6809771038891315}, {\"X\": 7.4174174174174174, \"y\": 6.7217360279024625}, {\"X\": 7.4274274274274275, \"y\": 6.761906171226083}, {\"X\": 7.4374374374374375, \"y\": 6.801481686781092}, {\"X\": 7.4474474474474475, \"y\": 6.84045677876228}, {\"X\": 7.4574574574574575, \"y\": 6.878825703402252}, {\"X\": 7.4674674674674675, \"y\": 6.916582769731178}, {\"X\": 7.4774774774774775, \"y\": 6.953722340332033}, {\"X\": 7.4874874874874875, \"y\": 6.990238832091244}, {\"X\": 7.4974974974974975, \"y\": 7.026126716944671}, {\"X\": 7.5075075075075075, \"y\": 7.061380522618796}, {\"X\": 7.5175175175175175, \"y\": 7.09599483336705}, {\"X\": 7.5275275275275275, \"y\": 7.129964290701177}, {\"X\": 7.5375375375375375, \"y\": 7.163283594117545}, {\"X\": 7.5475475475475475, \"y\": 7.195947501818309}, {\"X\": 7.5575575575575575, \"y\": 7.227950831427338}, {\"X\": 7.5675675675675675, \"y\": 7.259288460700816}, {\"X\": 7.5775775775775776, \"y\": 7.28995532823242}, {\"X\": 7.587587587587588, \"y\": 7.319946434152993}, {\"X\": 7.597597597597598, \"y\": 7.349256840824626}, {\"X\": 7.607607607607608, \"y\": 7.3778816735290365}, {\"X\": 7.617617617617618, \"y\": 7.405816121150186}, {\"X\": 7.627627627627628, \"y\": 7.433055436851035}, {\"X\": 7.637637637637638, \"y\": 7.459594938744339}, {\"X\": 7.647647647647648, \"y\": 7.485430010557418}, {\"X\": 7.657657657657658, \"y\": 7.51055610229079}, {\"X\": 7.667667667667668, \"y\": 7.534968730870612}, {\"X\": 7.677677677677678, \"y\": 7.558663480794813}, {\"X\": 7.687687687687688, \"y\": 7.581636004772859}, {\"X\": 7.697697697697698, \"y\": 7.603882024359047}, {\"X\": 7.707707707707708, \"y\": 7.625397330579264}, {\"X\": 7.717717717717718, \"y\": 7.6461777845511065}, {\"X\": 7.727727727727728, \"y\": 7.6662193180973}, {\"X\": 7.737737737737738, \"y\": 7.6855179343523226}, {\"X\": 7.747747747747748, \"y\": 7.704069708362153}, {\"X\": 7.757757757757758, \"y\": 7.721870787677078}, {\"X\": 7.767767767767768, \"y\": 7.738917392937452}, {\"X\": 7.777777777777778, \"y\": 7.755205818452359}, {\"X\": 7.787787787787788, \"y\": 7.770732432771086}, {\"X\": 7.797797797797798, \"y\": 7.78549367924732}, {\"X\": 7.807807807807808, \"y\": 7.799486076596015}, {\"X\": 7.817817817817818, \"y\": 7.812706219442832}, {\"X\": 7.827827827827828, \"y\": 7.825150778866097}, {\"X\": 7.837837837837838, \"y\": 7.836816502931172}, {\"X\": 7.847847847847848, \"y\": 7.847700217217209}, {\"X\": 7.857857857857858, \"y\": 7.85779882533617}, {\"X\": 7.867867867867868, \"y\": 7.86710930944407}, {\"X\": 7.877877877877878, \"y\": 7.875628730744361}, {\"X\": 7.887887887887888, \"y\": 7.883354229983387}, {\"X\": 7.897897897897898, \"y\": 7.890283027937839}, {\"X\": 7.907907907907908, \"y\": 7.896412425894147}, {\"X\": 7.917917917917918, \"y\": 7.901739806119734}, {\"X\": 7.927927927927928, \"y\": 7.906262632326069}, {\"X\": 7.937937937937938, \"y\": 7.909978450123447}, {\"X\": 7.947947947947948, \"y\": 7.91288488746744}, {\"X\": 7.957957957957958, \"y\": 7.914979655096946}, {\"X\": 7.967967967967968, \"y\": 7.916260546963773}, {\"X\": 7.977977977977978, \"y\": 7.916725440653694}, {\"X\": 7.987987987987988, \"y\": 7.916372297798923}, {\"X\": 7.997997997997998, \"y\": 7.91519916448193}, {\"X\": 8.008008008008009, \"y\": 7.913204171630549}, {\"X\": 8.018018018018019, \"y\": 7.91038553540432}, {\"X\": 8.028028028028029, \"y\": 7.906741557571992}, {\"X\": 8.038038038038039, \"y\": 7.902270625880156}, {\"X\": 8.048048048048049, \"y\": 7.896971214412912}, {\"X\": 8.058058058058059, \"y\": 7.8908418839425565}, {\"X\": 8.068068068068069, \"y\": 7.883881282271205}, {\"X\": 8.078078078078079, \"y\": 7.876088144563313}, {\"X\": 8.088088088088089, \"y\": 7.867461293669023}, {\"X\": 8.098098098098099, \"y\": 7.85799964043832}, {\"X\": 8.108108108108109, \"y\": 7.847702184025894}, {\"X\": 8.118118118118119, \"y\": 7.836568012186713}, {\"X\": 8.128128128128129, \"y\": 7.82459630156222}, {\"X\": 8.138138138138139, \"y\": 7.811786317957115}, {\"X\": 8.148148148148149, \"y\": 7.798137416606689}, {\"X\": 8.158158158158159, \"y\": 7.783649042434639}, {\"X\": 8.168168168168169, \"y\": 7.768320730301343}, {\"X\": 8.178178178178179, \"y\": 7.752152105242532}, {\"X\": 8.188188188188189, \"y\": 7.735142882698334}, {\"X\": 8.198198198198199, \"y\": 7.717292868732622}, {\"X\": 8.208208208208209, \"y\": 7.698601960242661}, {\"X\": 8.218218218218219, \"y\": 7.679070145158975}, {\"X\": 8.228228228228229, \"y\": 7.658697502635421}, {\"X\": 8.238238238238239, \"y\": 7.6374842032294294}, {\"X\": 8.248248248248249, \"y\": 7.615430509072361}, {\"X\": 8.258258258258259, \"y\": 7.592536774029958}, {\"X\": 8.268268268268269, \"y\": 7.568803443852847}, {\"X\": 8.278278278278279, \"y\": 7.5442310563170585}, {\"X\": 8.288288288288289, \"y\": 7.518820241354546}, {\"X\": 8.298298298298299, \"y\": 7.49257172117365}, {\"X\": 8.308308308308309, \"y\": 7.465486310369485}, {\"X\": 8.318318318318319, \"y\": 7.437564916024239}, {\"X\": 8.328328328328329, \"y\": 7.408808537797324}, {\"X\": 8.338338338338339, \"y\": 7.379218268005377}, {\"X\": 8.348348348348349, \"y\": 7.348795291692072}, {\"X\": 8.358358358358359, \"y\": 7.317540886687724}, {\"X\": 8.368368368368369, \"y\": 7.285456423658657}, {\"X\": 8.378378378378379, \"y\": 7.252543366146314}, {\"X\": 8.388388388388389, \"y\": 7.218803270596097}, {\"X\": 8.398398398398399, \"y\": 7.184237786375894}, {\"X\": 8.408408408408409, \"y\": 7.148848655784299}, {\"X\": 8.418418418418419, \"y\": 7.112637714048495}, {\"X\": 8.428428428428429, \"y\": 7.0756068893117785}, {\"X\": 8.438438438438439, \"y\": 7.037758202610718}, {\"X\": 8.448448448448449, \"y\": 6.999093767841922}, {\"X\": 8.458458458458459, \"y\": 6.959615791718425}, {\"X\": 8.468468468468469, \"y\": 6.9193265737156455}, {\"X\": 8.478478478478479, \"y\": 6.87822850600693}, {\"X\": 8.488488488488489, \"y\": 6.836324073388667}, {\"X\": 8.498498498498499, \"y\": 6.793615853194959}, {\"X\": 8.508508508508509, \"y\": 6.750106515201844}, {\"X\": 8.518518518518519, \"y\": 6.705798821521061}, {\"X\": 8.528528528528529, \"y\": 6.660695626483361}, {\"X\": 8.538538538538539, \"y\": 6.614799876511345}, {\"X\": 8.548548548548549, \"y\": 6.568114609981837}, {\"X\": 8.558558558558559, \"y\": 6.520642957077791}, {\"X\": 8.568568568568569, \"y\": 6.472388139629715}, {\"X\": 8.578578578578579, \"y\": 6.42335347094664}, {\"X\": 8.588588588588589, \"y\": 6.373542355636607}, {\"X\": 8.598598598598599, \"y\": 6.322958289416691}, {\"X\": 8.608608608608609, \"y\": 6.271604858912567}, {\"X\": 8.618618618618619, \"y\": 6.2194857414476115}, {\"X\": 8.62862862862863, \"y\": 6.166604704821558}, {\"X\": 8.63863863863864, \"y\": 6.112965607078706}, {\"X\": 8.64864864864865, \"y\": 6.058572396265693}, {\"X\": 8.65865865865866, \"y\": 6.003429110178845}, {\"X\": 8.66866866866867, \"y\": 5.9475398761011125}, {\"X\": 8.67867867867868, \"y\": 5.890908910528596}, {\"X\": 8.68868868868869, \"y\": 5.8335405188866964}, {\"X\": 8.6986986986987, \"y\": 5.775439095235879}, {\"X\": 8.70870870870871, \"y\": 5.716609121967084}, {\"X\": 8.71871871871872, \"y\": 5.657055169486794}, {\"X\": 8.72872872872873, \"y\": 5.59678189589178}, {\"X\": 8.73873873873874, \"y\": 5.5357940466335425}, {\"X\": 8.74874874874875, \"y\": 5.474096454172462}, {\"X\": 8.75875875875876, \"y\": 5.411694037621699}, {\"X\": 8.76876876876877, \"y\": 5.348591802380849}, {\"X\": 8.77877877877878, \"y\": 5.284794839759374}, {\"X\": 8.78878878878879, \"y\": 5.220308326589861}, {\"X\": 8.7987987987988, \"y\": 5.155137524831104}, {\"X\": 8.80880880880881, \"y\": 5.089287781161049}, {\"X\": 8.81881881881882, \"y\": 5.0227645265596434}, {\"X\": 8.82882882882883, \"y\": 4.955573275881597}, {\"X\": 8.83883883883884, \"y\": 4.887719627419099}, {\"X\": 8.84884884884885, \"y\": 4.819209262454521}, {\"X\": 8.85885885885886, \"y\": 4.7500479448031445}, {\"X\": 8.86886886886887, \"y\": 4.680241520345936}, {\"X\": 8.87887887887888, \"y\": 4.609795916552409}, {\"X\": 8.88888888888889, \"y\": 4.538717141993627}, {\"X\": 8.8988988988989, \"y\": 4.46701128584535}, {\"X\": 8.90890890890891, \"y\": 4.394684517381407}, {\"X\": 8.91891891891892, \"y\": 4.321743085457294}, {\"X\": 8.92892892892893, \"y\": 4.248193317984071}, {\"X\": 8.93893893893894, \"y\": 4.174041621392578}, {\"X\": 8.94894894894895, \"y\": 4.0992944800880355}, {\"X\": 8.95895895895896, \"y\": 4.023958455895043}, {\"X\": 8.96896896896897, \"y\": 3.9480401874930644}, {\"X\": 8.97897897897898, \"y\": 3.871546389842404}, {\"X\": 8.98898898898899, \"y\": 3.7944838536007555}, {\"X\": 8.998998998999, \"y\": 3.7168594445303507}, {\"X\": 9.00900900900901, \"y\": 3.6386801028957705}, {\"X\": 9.01901901901902, \"y\": 3.5599528428524705}, {\"X\": 9.02902902902903, \"y\": 3.4806847518260646}, {\"X\": 9.03903903903904, \"y\": 3.400882989882428}, {\"X\": 9.04904904904905, \"y\": 3.320554789088676}, {\"X\": 9.05905905905906, \"y\": 3.23970745286507}, {\"X\": 9.06906906906907, \"y\": 3.1583483553279073}, {\"X\": 9.07907907907908, \"y\": 3.07648494062346}, {\"X\": 9.08908908908909, \"y\": 2.994124722253015}, {\"X\": 9.0990990990991, \"y\": 2.9112752823890795}, {\"X\": 9.10910910910911, \"y\": 2.8279442711828136}, {\"X\": 9.11911911911912, \"y\": 2.7441394060627506}, {\"X\": 9.12912912912913, \"y\": 2.65986847102487}, {\"X\": 9.13913913913914, \"y\": 2.5751393159140883}, {\"X\": 9.14914914914915, \"y\": 2.4899598556972324}, {\"X\": 9.15915915915916, \"y\": 2.4043380697275674}, {\"X\": 9.16916916916917, \"y\": 2.3182820010009313}, {\"X\": 9.17917917917918, \"y\": 2.231799755403573}, {\"X\": 9.18918918918919, \"y\": 2.1448995009517327}, {\"X\": 9.1991991991992, \"y\": 2.0575894670230563}, {\"X\": 9.20920920920921, \"y\": 1.9698779435799143}, {\"X\": 9.21921921921922, \"y\": 1.8817732803846825}, {\"X\": 9.22922922922923, \"y\": 1.7932838862070821}, {\"X\": 9.23923923923924, \"y\": 1.7044182280236324}, {\"X\": 9.24924924924925, \"y\": 1.6151848302093077}, {\"X\": 9.25925925925926, \"y\": 1.525592273721465}, {\"X\": 9.26926926926927, \"y\": 1.435649195276128}, {\"X\": 9.27927927927928, \"y\": 1.3453642865167013}, {\"X\": 9.28928928928929, \"y\": 1.254746293175196}, {\"X\": 9.2992992992993, \"y\": 1.163804014226051}, {\"X\": 9.30930930930931, \"y\": 1.0725463010326237}, {\"X\": 9.31931931931932, \"y\": 0.9809820564864425}, {\"X\": 9.32932932932933, \"y\": 0.8891202341392976}, {\"X\": 9.33933933933934, \"y\": 0.7969698373282574}, {\"X\": 9.34934934934935, \"y\": 0.7045399182936967}, {\"X\": 9.35935935935936, \"y\": 0.6118395772904204}, {\"X\": 9.36936936936937, \"y\": 0.5188779616919723}, {\"X\": 9.37937937937938, \"y\": 0.42566426508821764}, {\"X\": 9.38938938938939, \"y\": 0.33220772637628426}, {\"X\": 9.3993993993994, \"y\": 0.23851762884495786}, {\"X\": 9.40940940940941, \"y\": 0.14460329925261775}, {\"X\": 9.41941941941942, \"y\": 0.050474106898806985}, {\"X\": 9.42942942942943, \"y\": -0.04386053731047188}, {\"X\": 9.43943943943944, \"y\": -0.13839118180364143}, {\"X\": 9.44944944944945, \"y\": -0.2331083352905207}, {\"X\": 9.45945945945946, \"y\": -0.32800246771528835}, {\"X\": 9.46946946946947, \"y\": -0.4230640112153417}, {\"X\": 9.47947947947948, \"y\": -0.5182833610859555}, {\"X\": 9.48948948948949, \"y\": -0.613650876750643}, {\"X\": 9.4994994994995, \"y\": -0.7091568827371212}, {\"X\": 9.50950950950951, \"y\": -0.8047916696587818}, {\"X\": 9.51951951951952, \"y\": -0.900545495201568}, {\"X\": 9.52952952952953, \"y\": -0.9964085851161569}, {\"X\": 9.53953953953954, \"y\": -1.0923711342153464}, {\"X\": 9.54954954954955, \"y\": -1.188423307376546}, {\"X\": 9.55955955955956, \"y\": -1.2845552405492662}, {\"X\": 9.56956956956957, \"y\": -1.3807570417675081}, {\"X\": 9.57957957957958, \"y\": -1.4770187921669418}, {\"X\": 9.58958958958959, \"y\": -1.573330547006779}, {\"X\": 9.5995995995996, \"y\": -1.6696823366962272}, {\"X\": 9.60960960960961, \"y\": -1.7660641678254188}, {\"X\": 9.61961961961962, \"y\": -1.8624660242007163}, {\"X\": 9.62962962962963, \"y\": -1.9588778678842802}, {\"X\": 9.63963963963964, \"y\": -2.055289640237791}, {\"X\": 9.64964964964965, \"y\": -2.1516912629702216}, {\"X\": 9.65965965965966, \"y\": -2.2480726391895507}, {\"X\": 9.66966966966967, \"y\": -2.3444236544582995}, {\"X\": 9.67967967967968, \"y\": -2.440734177852794}, {\"X\": 9.68968968968969, \"y\": -2.5369940630260333}, {\"X\": 9.6996996996997, \"y\": -2.633193149274055}, {\"X\": 9.70970970970971, \"y\": -2.7293212626056875}, {\"X\": 9.71971971971972, \"y\": -2.825368216815573}, {\"X\": 9.72972972972973, \"y\": -2.921323814560354}, {\"X\": 9.73973973973974, \"y\": -3.017177848437904}, {\"X\": 9.74974974974975, \"y\": -3.1129201020694937}, {\"X\": 9.75975975975976, \"y\": -3.208540351184771}, {\"X\": 9.76976976976977, \"y\": -3.304028364709452}, {\"X\": 9.77977977977978, \"y\": -3.399373905855594}, {\"X\": 9.78978978978979, \"y\": -3.4945667332143433}, {\"X\": 9.7997997997998, \"y\": -3.5895966018510435}, {\"X\": 9.80980980980981, \"y\": -3.6844532644025754}, {\"X\": 9.81981981981982, \"y\": -3.779126472176824}, {\"X\": 9.82982982982983, \"y\": -3.873605976254156}, {\"X\": 9.83983983983984, \"y\": -3.9678815285907745}, {\"X\": 9.84984984984985, \"y\": -4.061942883123851}, {\"X\": 9.85985985985986, \"y\": -4.155779796878303}, {\"X\": 9.86986986986987, \"y\": -4.249382031075107}, {\"X\": 9.87987987987988, \"y\": -4.342739352241024}, {\"X\": 9.88988988988989, \"y\": -4.435841533319613}, {\"X\": 9.8998998998999, \"y\": -4.528678354783424}, {\"X\": 9.90990990990991, \"y\": -4.621239605747239}, {\"X\": 9.91991991991992, \"y\": -4.713515085082246}, {\"X\": 9.92992992992993, \"y\": -4.805494602531032}, {\"X\": 9.93993993993994, \"y\": -4.897167979823247}, {\"X\": 9.94994994994995, \"y\": -4.988525051791866}, {\"X\": 9.95995995995996, \"y\": -5.079555667489872}, {\"X\": 9.96996996996997, \"y\": -5.17024969130728}, {\"X\": 9.97997997997998, \"y\": -5.2605970040883605}, {\"X\": 9.98998998998999, \"y\": -5.350587504248947}, {\"X\": 10.0, \"y\": -5.440211108893697}]}}, {\"mode\": \"vega-lite\"});\n",
              "</script>"
            ],
            "text/plain": [
              "alt.Chart(...)"
            ]
          },
          "metadata": {},
          "execution_count": 20
        }
      ]
    },
    {
      "cell_type": "markdown",
      "source": [
        "그럼, 이제 Gaussian Process 모델이 어떻게 학습되는지를 보겠다. 먼저, 아무런 데이터로 학습이 되지 않았을 때는 어떨까? 다음을 확인해보자."
      ],
      "metadata": {
        "id": "hrzyBfONz7Ac"
      }
    },
    {
      "cell_type": "code",
      "source": [
        "import numpy as np\n",
        "import pandas as pd\n",
        "import altair as alt\n",
        "from sklearn.gaussian_process import GaussianProcessRegressor\n",
        "\n",
        "\n",
        "gp_model = GaussianProcessRegressor()\n",
        "mean, std = gp_model.predict(gp_X, return_std=True)\n",
        "\n",
        "df_true = pd.DataFrame({'X': np.ravel(gp_X), 'y': gp_y})\n",
        "p_true = alt.Chart(df_true).mark_line().encode(x='X:Q', y='y:Q')\n",
        "\n",
        "df_pred = pd.DataFrame({'X': np.ravel(gp_X), 'y': mean, 'ymin': mean - 1.96 * std, 'ymax': mean + 1.95 * std})\n",
        "p_pred = alt.Chart(df_pred).mark_line(strokeDash=(8, 8)).encode(x='X:Q', y='y:Q')\n",
        "p_area = alt.Chart(df_pred).mark_area(opacity=.3).encode(x='X:Q', y='ymin:Q', y2='ymax:Q')\n",
        "p_area + p_pred + p_true\n"
      ],
      "metadata": {
        "colab": {
          "base_uri": "https://localhost:8080/",
          "height": 367
        },
        "id": "9TnRnZ0DyZJ8",
        "outputId": "bd2a8dda-239f-4db0-c529-008c3316c7de"
      },
      "execution_count": null,
      "outputs": [
        {
          "output_type": "execute_result",
          "data": {
            "text/html": [
              "\n",
              "<div id=\"altair-viz-9f2de13447b14c968611a7ca85c7a938\"></div>\n",
              "<script type=\"text/javascript\">\n",
              "  var VEGA_DEBUG = (typeof VEGA_DEBUG == \"undefined\") ? {} : VEGA_DEBUG;\n",
              "  (function(spec, embedOpt){\n",
              "    let outputDiv = document.currentScript.previousElementSibling;\n",
              "    if (outputDiv.id !== \"altair-viz-9f2de13447b14c968611a7ca85c7a938\") {\n",
              "      outputDiv = document.getElementById(\"altair-viz-9f2de13447b14c968611a7ca85c7a938\");\n",
              "    }\n",
              "    const paths = {\n",
              "      \"vega\": \"https://cdn.jsdelivr.net/npm//vega@5?noext\",\n",
              "      \"vega-lib\": \"https://cdn.jsdelivr.net/npm//vega-lib?noext\",\n",
              "      \"vega-lite\": \"https://cdn.jsdelivr.net/npm//vega-lite@4.17.0?noext\",\n",
              "      \"vega-embed\": \"https://cdn.jsdelivr.net/npm//vega-embed@6?noext\",\n",
              "    };\n",
              "\n",
              "    function maybeLoadScript(lib, version) {\n",
              "      var key = `${lib.replace(\"-\", \"\")}_version`;\n",
              "      return (VEGA_DEBUG[key] == version) ?\n",
              "        Promise.resolve(paths[lib]) :\n",
              "        new Promise(function(resolve, reject) {\n",
              "          var s = document.createElement('script');\n",
              "          document.getElementsByTagName(\"head\")[0].appendChild(s);\n",
              "          s.async = true;\n",
              "          s.onload = () => {\n",
              "            VEGA_DEBUG[key] = version;\n",
              "            return resolve(paths[lib]);\n",
              "          };\n",
              "          s.onerror = () => reject(`Error loading script: ${paths[lib]}`);\n",
              "          s.src = paths[lib];\n",
              "        });\n",
              "    }\n",
              "\n",
              "    function showError(err) {\n",
              "      outputDiv.innerHTML = `<div class=\"error\" style=\"color:red;\">${err}</div>`;\n",
              "      throw err;\n",
              "    }\n",
              "\n",
              "    function displayChart(vegaEmbed) {\n",
              "      vegaEmbed(outputDiv, spec, embedOpt)\n",
              "        .catch(err => showError(`Javascript Error: ${err.message}<br>This usually means there's a typo in your chart specification. See the javascript console for the full traceback.`));\n",
              "    }\n",
              "\n",
              "    if(typeof define === \"function\" && define.amd) {\n",
              "      requirejs.config({paths});\n",
              "      require([\"vega-embed\"], displayChart, err => showError(`Error loading script: ${err.message}`));\n",
              "    } else {\n",
              "      maybeLoadScript(\"vega\", \"5\")\n",
              "        .then(() => maybeLoadScript(\"vega-lite\", \"4.17.0\"))\n",
              "        .then(() => maybeLoadScript(\"vega-embed\", \"6\"))\n",
              "        .catch(showError)\n",
              "        .then(() => displayChart(vegaEmbed));\n",
              "    }\n",
              "  })({\"config\": {\"view\": {\"continuousWidth\": 400, \"continuousHeight\": 300}}, \"layer\": [{\"mark\": {\"type\": \"area\", \"opacity\": 0.3}, \"encoding\": {\"x\": {\"field\": \"X\", \"type\": \"quantitative\"}, \"y\": {\"field\": \"ymin\", \"type\": \"quantitative\"}, \"y2\": {\"field\": \"ymax\"}}}, {\"mark\": {\"type\": \"line\", \"strokeDash\": [8, 8]}, \"encoding\": {\"x\": {\"field\": \"X\", \"type\": \"quantitative\"}, \"y\": {\"field\": \"y\", \"type\": \"quantitative\"}}}, {\"data\": {\"name\": \"data-bf8072546c2cf667dd8534dd4a1b3339\"}, \"mark\": \"line\", \"encoding\": {\"x\": {\"field\": \"X\", \"type\": \"quantitative\"}, \"y\": {\"field\": \"y\", \"type\": \"quantitative\"}}}], \"data\": {\"name\": \"data-7266cb94830140c3306f8ebbeccfa2c0\"}, \"$schema\": \"https://vega.github.io/schema/vega-lite/v4.17.0.json\", \"datasets\": {\"data-7266cb94830140c3306f8ebbeccfa2c0\": [{\"X\": 0.0, \"y\": 0.0, \"ymin\": -1.96, \"ymax\": 1.95}, {\"X\": 0.01001001001001001, \"y\": 0.0, \"ymin\": -1.96, \"ymax\": 1.95}, {\"X\": 0.02002002002002002, \"y\": 0.0, \"ymin\": -1.96, \"ymax\": 1.95}, {\"X\": 0.03003003003003003, \"y\": 0.0, \"ymin\": -1.96, \"ymax\": 1.95}, {\"X\": 0.04004004004004004, \"y\": 0.0, \"ymin\": -1.96, \"ymax\": 1.95}, {\"X\": 0.050050050050050046, \"y\": 0.0, \"ymin\": -1.96, \"ymax\": 1.95}, {\"X\": 0.06006006006006006, \"y\": 0.0, \"ymin\": -1.96, \"ymax\": 1.95}, {\"X\": 0.07007007007007007, \"y\": 0.0, \"ymin\": -1.96, \"ymax\": 1.95}, {\"X\": 0.08008008008008008, \"y\": 0.0, \"ymin\": -1.96, \"ymax\": 1.95}, {\"X\": 0.09009009009009009, \"y\": 0.0, \"ymin\": -1.96, \"ymax\": 1.95}, {\"X\": 0.10010010010010009, \"y\": 0.0, \"ymin\": -1.96, \"ymax\": 1.95}, {\"X\": 0.11011011011011011, \"y\": 0.0, \"ymin\": -1.96, \"ymax\": 1.95}, {\"X\": 0.12012012012012012, \"y\": 0.0, \"ymin\": -1.96, \"ymax\": 1.95}, {\"X\": 0.13013013013013014, \"y\": 0.0, \"ymin\": -1.96, \"ymax\": 1.95}, {\"X\": 0.14014014014014015, \"y\": 0.0, \"ymin\": -1.96, \"ymax\": 1.95}, {\"X\": 0.15015015015015015, \"y\": 0.0, \"ymin\": -1.96, \"ymax\": 1.95}, {\"X\": 0.16016016016016016, \"y\": 0.0, \"ymin\": -1.96, \"ymax\": 1.95}, {\"X\": 0.17017017017017017, \"y\": 0.0, \"ymin\": -1.96, \"ymax\": 1.95}, {\"X\": 0.18018018018018017, \"y\": 0.0, \"ymin\": -1.96, \"ymax\": 1.95}, {\"X\": 0.19019019019019018, \"y\": 0.0, \"ymin\": -1.96, \"ymax\": 1.95}, {\"X\": 0.20020020020020018, \"y\": 0.0, \"ymin\": -1.96, \"ymax\": 1.95}, {\"X\": 0.21021021021021022, \"y\": 0.0, \"ymin\": -1.96, \"ymax\": 1.95}, {\"X\": 0.22022022022022023, \"y\": 0.0, \"ymin\": -1.96, \"ymax\": 1.95}, {\"X\": 0.23023023023023023, \"y\": 0.0, \"ymin\": -1.96, \"ymax\": 1.95}, {\"X\": 0.24024024024024024, \"y\": 0.0, \"ymin\": -1.96, \"ymax\": 1.95}, {\"X\": 0.2502502502502503, \"y\": 0.0, \"ymin\": -1.96, \"ymax\": 1.95}, {\"X\": 0.2602602602602603, \"y\": 0.0, \"ymin\": -1.96, \"ymax\": 1.95}, {\"X\": 0.2702702702702703, \"y\": 0.0, \"ymin\": -1.96, \"ymax\": 1.95}, {\"X\": 0.2802802802802803, \"y\": 0.0, \"ymin\": -1.96, \"ymax\": 1.95}, {\"X\": 0.2902902902902903, \"y\": 0.0, \"ymin\": -1.96, \"ymax\": 1.95}, {\"X\": 0.3003003003003003, \"y\": 0.0, \"ymin\": -1.96, \"ymax\": 1.95}, {\"X\": 0.3103103103103103, \"y\": 0.0, \"ymin\": -1.96, \"ymax\": 1.95}, {\"X\": 0.3203203203203203, \"y\": 0.0, \"ymin\": -1.96, \"ymax\": 1.95}, {\"X\": 0.3303303303303303, \"y\": 0.0, \"ymin\": -1.96, \"ymax\": 1.95}, {\"X\": 0.34034034034034033, \"y\": 0.0, \"ymin\": -1.96, \"ymax\": 1.95}, {\"X\": 0.35035035035035034, \"y\": 0.0, \"ymin\": -1.96, \"ymax\": 1.95}, {\"X\": 0.36036036036036034, \"y\": 0.0, \"ymin\": -1.96, \"ymax\": 1.95}, {\"X\": 0.37037037037037035, \"y\": 0.0, \"ymin\": -1.96, \"ymax\": 1.95}, {\"X\": 0.38038038038038036, \"y\": 0.0, \"ymin\": -1.96, \"ymax\": 1.95}, {\"X\": 0.39039039039039036, \"y\": 0.0, \"ymin\": -1.96, \"ymax\": 1.95}, {\"X\": 0.40040040040040037, \"y\": 0.0, \"ymin\": -1.96, \"ymax\": 1.95}, {\"X\": 0.41041041041041043, \"y\": 0.0, \"ymin\": -1.96, \"ymax\": 1.95}, {\"X\": 0.42042042042042044, \"y\": 0.0, \"ymin\": -1.96, \"ymax\": 1.95}, {\"X\": 0.43043043043043044, \"y\": 0.0, \"ymin\": -1.96, \"ymax\": 1.95}, {\"X\": 0.44044044044044045, \"y\": 0.0, \"ymin\": -1.96, \"ymax\": 1.95}, {\"X\": 0.45045045045045046, \"y\": 0.0, \"ymin\": -1.96, \"ymax\": 1.95}, {\"X\": 0.46046046046046046, \"y\": 0.0, \"ymin\": -1.96, \"ymax\": 1.95}, {\"X\": 0.47047047047047047, \"y\": 0.0, \"ymin\": -1.96, \"ymax\": 1.95}, {\"X\": 0.4804804804804805, \"y\": 0.0, \"ymin\": -1.96, \"ymax\": 1.95}, {\"X\": 0.4904904904904905, \"y\": 0.0, \"ymin\": -1.96, \"ymax\": 1.95}, {\"X\": 0.5005005005005005, \"y\": 0.0, \"ymin\": -1.96, \"ymax\": 1.95}, {\"X\": 0.5105105105105106, \"y\": 0.0, \"ymin\": -1.96, \"ymax\": 1.95}, {\"X\": 0.5205205205205206, \"y\": 0.0, \"ymin\": -1.96, \"ymax\": 1.95}, {\"X\": 0.5305305305305306, \"y\": 0.0, \"ymin\": -1.96, \"ymax\": 1.95}, {\"X\": 0.5405405405405406, \"y\": 0.0, \"ymin\": -1.96, \"ymax\": 1.95}, {\"X\": 0.5505505505505506, \"y\": 0.0, \"ymin\": -1.96, \"ymax\": 1.95}, {\"X\": 0.5605605605605606, \"y\": 0.0, \"ymin\": -1.96, \"ymax\": 1.95}, {\"X\": 0.5705705705705706, \"y\": 0.0, \"ymin\": -1.96, \"ymax\": 1.95}, {\"X\": 0.5805805805805806, \"y\": 0.0, \"ymin\": -1.96, \"ymax\": 1.95}, {\"X\": 0.5905905905905906, \"y\": 0.0, \"ymin\": -1.96, \"ymax\": 1.95}, {\"X\": 0.6006006006006006, \"y\": 0.0, \"ymin\": -1.96, \"ymax\": 1.95}, {\"X\": 0.6106106106106106, \"y\": 0.0, \"ymin\": -1.96, \"ymax\": 1.95}, {\"X\": 0.6206206206206206, \"y\": 0.0, \"ymin\": -1.96, \"ymax\": 1.95}, {\"X\": 0.6306306306306306, \"y\": 0.0, \"ymin\": -1.96, \"ymax\": 1.95}, {\"X\": 0.6406406406406406, \"y\": 0.0, \"ymin\": -1.96, \"ymax\": 1.95}, {\"X\": 0.6506506506506506, \"y\": 0.0, \"ymin\": -1.96, \"ymax\": 1.95}, {\"X\": 0.6606606606606606, \"y\": 0.0, \"ymin\": -1.96, \"ymax\": 1.95}, {\"X\": 0.6706706706706707, \"y\": 0.0, \"ymin\": -1.96, \"ymax\": 1.95}, {\"X\": 0.6806806806806807, \"y\": 0.0, \"ymin\": -1.96, \"ymax\": 1.95}, {\"X\": 0.6906906906906907, \"y\": 0.0, \"ymin\": -1.96, \"ymax\": 1.95}, {\"X\": 0.7007007007007007, \"y\": 0.0, \"ymin\": -1.96, \"ymax\": 1.95}, {\"X\": 0.7107107107107107, \"y\": 0.0, \"ymin\": -1.96, \"ymax\": 1.95}, {\"X\": 0.7207207207207207, \"y\": 0.0, \"ymin\": -1.96, \"ymax\": 1.95}, {\"X\": 0.7307307307307307, \"y\": 0.0, \"ymin\": -1.96, \"ymax\": 1.95}, {\"X\": 0.7407407407407407, \"y\": 0.0, \"ymin\": -1.96, \"ymax\": 1.95}, {\"X\": 0.7507507507507507, \"y\": 0.0, \"ymin\": -1.96, \"ymax\": 1.95}, {\"X\": 0.7607607607607607, \"y\": 0.0, \"ymin\": -1.96, \"ymax\": 1.95}, {\"X\": 0.7707707707707707, \"y\": 0.0, \"ymin\": -1.96, \"ymax\": 1.95}, {\"X\": 0.7807807807807807, \"y\": 0.0, \"ymin\": -1.96, \"ymax\": 1.95}, {\"X\": 0.7907907907907907, \"y\": 0.0, \"ymin\": -1.96, \"ymax\": 1.95}, {\"X\": 0.8008008008008007, \"y\": 0.0, \"ymin\": -1.96, \"ymax\": 1.95}, {\"X\": 0.8108108108108109, \"y\": 0.0, \"ymin\": -1.96, \"ymax\": 1.95}, {\"X\": 0.8208208208208209, \"y\": 0.0, \"ymin\": -1.96, \"ymax\": 1.95}, {\"X\": 0.8308308308308309, \"y\": 0.0, \"ymin\": -1.96, \"ymax\": 1.95}, {\"X\": 0.8408408408408409, \"y\": 0.0, \"ymin\": -1.96, \"ymax\": 1.95}, {\"X\": 0.8508508508508509, \"y\": 0.0, \"ymin\": -1.96, \"ymax\": 1.95}, {\"X\": 0.8608608608608609, \"y\": 0.0, \"ymin\": -1.96, \"ymax\": 1.95}, {\"X\": 0.8708708708708709, \"y\": 0.0, \"ymin\": -1.96, \"ymax\": 1.95}, {\"X\": 0.8808808808808809, \"y\": 0.0, \"ymin\": -1.96, \"ymax\": 1.95}, {\"X\": 0.8908908908908909, \"y\": 0.0, \"ymin\": -1.96, \"ymax\": 1.95}, {\"X\": 0.9009009009009009, \"y\": 0.0, \"ymin\": -1.96, \"ymax\": 1.95}, {\"X\": 0.9109109109109109, \"y\": 0.0, \"ymin\": -1.96, \"ymax\": 1.95}, {\"X\": 0.9209209209209209, \"y\": 0.0, \"ymin\": -1.96, \"ymax\": 1.95}, {\"X\": 0.9309309309309309, \"y\": 0.0, \"ymin\": -1.96, \"ymax\": 1.95}, {\"X\": 0.9409409409409409, \"y\": 0.0, \"ymin\": -1.96, \"ymax\": 1.95}, {\"X\": 0.950950950950951, \"y\": 0.0, \"ymin\": -1.96, \"ymax\": 1.95}, {\"X\": 0.960960960960961, \"y\": 0.0, \"ymin\": -1.96, \"ymax\": 1.95}, {\"X\": 0.970970970970971, \"y\": 0.0, \"ymin\": -1.96, \"ymax\": 1.95}, {\"X\": 0.980980980980981, \"y\": 0.0, \"ymin\": -1.96, \"ymax\": 1.95}, {\"X\": 0.990990990990991, \"y\": 0.0, \"ymin\": -1.96, \"ymax\": 1.95}, {\"X\": 1.001001001001001, \"y\": 0.0, \"ymin\": -1.96, \"ymax\": 1.95}, {\"X\": 1.011011011011011, \"y\": 0.0, \"ymin\": -1.96, \"ymax\": 1.95}, {\"X\": 1.021021021021021, \"y\": 0.0, \"ymin\": -1.96, \"ymax\": 1.95}, {\"X\": 1.031031031031031, \"y\": 0.0, \"ymin\": -1.96, \"ymax\": 1.95}, {\"X\": 1.0410410410410411, \"y\": 0.0, \"ymin\": -1.96, \"ymax\": 1.95}, {\"X\": 1.0510510510510511, \"y\": 0.0, \"ymin\": -1.96, \"ymax\": 1.95}, {\"X\": 1.0610610610610611, \"y\": 0.0, \"ymin\": -1.96, \"ymax\": 1.95}, {\"X\": 1.0710710710710711, \"y\": 0.0, \"ymin\": -1.96, \"ymax\": 1.95}, {\"X\": 1.0810810810810811, \"y\": 0.0, \"ymin\": -1.96, \"ymax\": 1.95}, {\"X\": 1.0910910910910911, \"y\": 0.0, \"ymin\": -1.96, \"ymax\": 1.95}, {\"X\": 1.1011011011011012, \"y\": 0.0, \"ymin\": -1.96, \"ymax\": 1.95}, {\"X\": 1.1111111111111112, \"y\": 0.0, \"ymin\": -1.96, \"ymax\": 1.95}, {\"X\": 1.1211211211211212, \"y\": 0.0, \"ymin\": -1.96, \"ymax\": 1.95}, {\"X\": 1.1311311311311312, \"y\": 0.0, \"ymin\": -1.96, \"ymax\": 1.95}, {\"X\": 1.1411411411411412, \"y\": 0.0, \"ymin\": -1.96, \"ymax\": 1.95}, {\"X\": 1.1511511511511512, \"y\": 0.0, \"ymin\": -1.96, \"ymax\": 1.95}, {\"X\": 1.1611611611611612, \"y\": 0.0, \"ymin\": -1.96, \"ymax\": 1.95}, {\"X\": 1.1711711711711712, \"y\": 0.0, \"ymin\": -1.96, \"ymax\": 1.95}, {\"X\": 1.1811811811811812, \"y\": 0.0, \"ymin\": -1.96, \"ymax\": 1.95}, {\"X\": 1.1911911911911912, \"y\": 0.0, \"ymin\": -1.96, \"ymax\": 1.95}, {\"X\": 1.2012012012012012, \"y\": 0.0, \"ymin\": -1.96, \"ymax\": 1.95}, {\"X\": 1.2112112112112112, \"y\": 0.0, \"ymin\": -1.96, \"ymax\": 1.95}, {\"X\": 1.2212212212212212, \"y\": 0.0, \"ymin\": -1.96, \"ymax\": 1.95}, {\"X\": 1.2312312312312312, \"y\": 0.0, \"ymin\": -1.96, \"ymax\": 1.95}, {\"X\": 1.2412412412412412, \"y\": 0.0, \"ymin\": -1.96, \"ymax\": 1.95}, {\"X\": 1.2512512512512513, \"y\": 0.0, \"ymin\": -1.96, \"ymax\": 1.95}, {\"X\": 1.2612612612612613, \"y\": 0.0, \"ymin\": -1.96, \"ymax\": 1.95}, {\"X\": 1.2712712712712713, \"y\": 0.0, \"ymin\": -1.96, \"ymax\": 1.95}, {\"X\": 1.2812812812812813, \"y\": 0.0, \"ymin\": -1.96, \"ymax\": 1.95}, {\"X\": 1.2912912912912913, \"y\": 0.0, \"ymin\": -1.96, \"ymax\": 1.95}, {\"X\": 1.3013013013013013, \"y\": 0.0, \"ymin\": -1.96, \"ymax\": 1.95}, {\"X\": 1.3113113113113113, \"y\": 0.0, \"ymin\": -1.96, \"ymax\": 1.95}, {\"X\": 1.3213213213213213, \"y\": 0.0, \"ymin\": -1.96, \"ymax\": 1.95}, {\"X\": 1.3313313313313313, \"y\": 0.0, \"ymin\": -1.96, \"ymax\": 1.95}, {\"X\": 1.3413413413413413, \"y\": 0.0, \"ymin\": -1.96, \"ymax\": 1.95}, {\"X\": 1.3513513513513513, \"y\": 0.0, \"ymin\": -1.96, \"ymax\": 1.95}, {\"X\": 1.3613613613613613, \"y\": 0.0, \"ymin\": -1.96, \"ymax\": 1.95}, {\"X\": 1.3713713713713713, \"y\": 0.0, \"ymin\": -1.96, \"ymax\": 1.95}, {\"X\": 1.3813813813813813, \"y\": 0.0, \"ymin\": -1.96, \"ymax\": 1.95}, {\"X\": 1.3913913913913913, \"y\": 0.0, \"ymin\": -1.96, \"ymax\": 1.95}, {\"X\": 1.4014014014014013, \"y\": 0.0, \"ymin\": -1.96, \"ymax\": 1.95}, {\"X\": 1.4114114114114114, \"y\": 0.0, \"ymin\": -1.96, \"ymax\": 1.95}, {\"X\": 1.4214214214214214, \"y\": 0.0, \"ymin\": -1.96, \"ymax\": 1.95}, {\"X\": 1.4314314314314314, \"y\": 0.0, \"ymin\": -1.96, \"ymax\": 1.95}, {\"X\": 1.4414414414414414, \"y\": 0.0, \"ymin\": -1.96, \"ymax\": 1.95}, {\"X\": 1.4514514514514514, \"y\": 0.0, \"ymin\": -1.96, \"ymax\": 1.95}, {\"X\": 1.4614614614614614, \"y\": 0.0, \"ymin\": -1.96, \"ymax\": 1.95}, {\"X\": 1.4714714714714714, \"y\": 0.0, \"ymin\": -1.96, \"ymax\": 1.95}, {\"X\": 1.4814814814814814, \"y\": 0.0, \"ymin\": -1.96, \"ymax\": 1.95}, {\"X\": 1.4914914914914914, \"y\": 0.0, \"ymin\": -1.96, \"ymax\": 1.95}, {\"X\": 1.5015015015015014, \"y\": 0.0, \"ymin\": -1.96, \"ymax\": 1.95}, {\"X\": 1.5115115115115114, \"y\": 0.0, \"ymin\": -1.96, \"ymax\": 1.95}, {\"X\": 1.5215215215215214, \"y\": 0.0, \"ymin\": -1.96, \"ymax\": 1.95}, {\"X\": 1.5315315315315314, \"y\": 0.0, \"ymin\": -1.96, \"ymax\": 1.95}, {\"X\": 1.5415415415415414, \"y\": 0.0, \"ymin\": -1.96, \"ymax\": 1.95}, {\"X\": 1.5515515515515514, \"y\": 0.0, \"ymin\": -1.96, \"ymax\": 1.95}, {\"X\": 1.5615615615615615, \"y\": 0.0, \"ymin\": -1.96, \"ymax\": 1.95}, {\"X\": 1.5715715715715715, \"y\": 0.0, \"ymin\": -1.96, \"ymax\": 1.95}, {\"X\": 1.5815815815815815, \"y\": 0.0, \"ymin\": -1.96, \"ymax\": 1.95}, {\"X\": 1.5915915915915915, \"y\": 0.0, \"ymin\": -1.96, \"ymax\": 1.95}, {\"X\": 1.6016016016016015, \"y\": 0.0, \"ymin\": -1.96, \"ymax\": 1.95}, {\"X\": 1.6116116116116117, \"y\": 0.0, \"ymin\": -1.96, \"ymax\": 1.95}, {\"X\": 1.6216216216216217, \"y\": 0.0, \"ymin\": -1.96, \"ymax\": 1.95}, {\"X\": 1.6316316316316317, \"y\": 0.0, \"ymin\": -1.96, \"ymax\": 1.95}, {\"X\": 1.6416416416416417, \"y\": 0.0, \"ymin\": -1.96, \"ymax\": 1.95}, {\"X\": 1.6516516516516517, \"y\": 0.0, \"ymin\": -1.96, \"ymax\": 1.95}, {\"X\": 1.6616616616616617, \"y\": 0.0, \"ymin\": -1.96, \"ymax\": 1.95}, {\"X\": 1.6716716716716717, \"y\": 0.0, \"ymin\": -1.96, \"ymax\": 1.95}, {\"X\": 1.6816816816816818, \"y\": 0.0, \"ymin\": -1.96, \"ymax\": 1.95}, {\"X\": 1.6916916916916918, \"y\": 0.0, \"ymin\": -1.96, \"ymax\": 1.95}, {\"X\": 1.7017017017017018, \"y\": 0.0, \"ymin\": -1.96, \"ymax\": 1.95}, {\"X\": 1.7117117117117118, \"y\": 0.0, \"ymin\": -1.96, \"ymax\": 1.95}, {\"X\": 1.7217217217217218, \"y\": 0.0, \"ymin\": -1.96, \"ymax\": 1.95}, {\"X\": 1.7317317317317318, \"y\": 0.0, \"ymin\": -1.96, \"ymax\": 1.95}, {\"X\": 1.7417417417417418, \"y\": 0.0, \"ymin\": -1.96, \"ymax\": 1.95}, {\"X\": 1.7517517517517518, \"y\": 0.0, \"ymin\": -1.96, \"ymax\": 1.95}, {\"X\": 1.7617617617617618, \"y\": 0.0, \"ymin\": -1.96, \"ymax\": 1.95}, {\"X\": 1.7717717717717718, \"y\": 0.0, \"ymin\": -1.96, \"ymax\": 1.95}, {\"X\": 1.7817817817817818, \"y\": 0.0, \"ymin\": -1.96, \"ymax\": 1.95}, {\"X\": 1.7917917917917918, \"y\": 0.0, \"ymin\": -1.96, \"ymax\": 1.95}, {\"X\": 1.8018018018018018, \"y\": 0.0, \"ymin\": -1.96, \"ymax\": 1.95}, {\"X\": 1.8118118118118118, \"y\": 0.0, \"ymin\": -1.96, \"ymax\": 1.95}, {\"X\": 1.8218218218218218, \"y\": 0.0, \"ymin\": -1.96, \"ymax\": 1.95}, {\"X\": 1.8318318318318318, \"y\": 0.0, \"ymin\": -1.96, \"ymax\": 1.95}, {\"X\": 1.8418418418418419, \"y\": 0.0, \"ymin\": -1.96, \"ymax\": 1.95}, {\"X\": 1.8518518518518519, \"y\": 0.0, \"ymin\": -1.96, \"ymax\": 1.95}, {\"X\": 1.8618618618618619, \"y\": 0.0, \"ymin\": -1.96, \"ymax\": 1.95}, {\"X\": 1.8718718718718719, \"y\": 0.0, \"ymin\": -1.96, \"ymax\": 1.95}, {\"X\": 1.8818818818818819, \"y\": 0.0, \"ymin\": -1.96, \"ymax\": 1.95}, {\"X\": 1.8918918918918919, \"y\": 0.0, \"ymin\": -1.96, \"ymax\": 1.95}, {\"X\": 1.901901901901902, \"y\": 0.0, \"ymin\": -1.96, \"ymax\": 1.95}, {\"X\": 1.911911911911912, \"y\": 0.0, \"ymin\": -1.96, \"ymax\": 1.95}, {\"X\": 1.921921921921922, \"y\": 0.0, \"ymin\": -1.96, \"ymax\": 1.95}, {\"X\": 1.931931931931932, \"y\": 0.0, \"ymin\": -1.96, \"ymax\": 1.95}, {\"X\": 1.941941941941942, \"y\": 0.0, \"ymin\": -1.96, \"ymax\": 1.95}, {\"X\": 1.951951951951952, \"y\": 0.0, \"ymin\": -1.96, \"ymax\": 1.95}, {\"X\": 1.961961961961962, \"y\": 0.0, \"ymin\": -1.96, \"ymax\": 1.95}, {\"X\": 1.971971971971972, \"y\": 0.0, \"ymin\": -1.96, \"ymax\": 1.95}, {\"X\": 1.981981981981982, \"y\": 0.0, \"ymin\": -1.96, \"ymax\": 1.95}, {\"X\": 1.991991991991992, \"y\": 0.0, \"ymin\": -1.96, \"ymax\": 1.95}, {\"X\": 2.002002002002002, \"y\": 0.0, \"ymin\": -1.96, \"ymax\": 1.95}, {\"X\": 2.012012012012012, \"y\": 0.0, \"ymin\": -1.96, \"ymax\": 1.95}, {\"X\": 2.022022022022022, \"y\": 0.0, \"ymin\": -1.96, \"ymax\": 1.95}, {\"X\": 2.032032032032032, \"y\": 0.0, \"ymin\": -1.96, \"ymax\": 1.95}, {\"X\": 2.042042042042042, \"y\": 0.0, \"ymin\": -1.96, \"ymax\": 1.95}, {\"X\": 2.052052052052052, \"y\": 0.0, \"ymin\": -1.96, \"ymax\": 1.95}, {\"X\": 2.062062062062062, \"y\": 0.0, \"ymin\": -1.96, \"ymax\": 1.95}, {\"X\": 2.0720720720720722, \"y\": 0.0, \"ymin\": -1.96, \"ymax\": 1.95}, {\"X\": 2.0820820820820822, \"y\": 0.0, \"ymin\": -1.96, \"ymax\": 1.95}, {\"X\": 2.0920920920920922, \"y\": 0.0, \"ymin\": -1.96, \"ymax\": 1.95}, {\"X\": 2.1021021021021022, \"y\": 0.0, \"ymin\": -1.96, \"ymax\": 1.95}, {\"X\": 2.1121121121121122, \"y\": 0.0, \"ymin\": -1.96, \"ymax\": 1.95}, {\"X\": 2.1221221221221223, \"y\": 0.0, \"ymin\": -1.96, \"ymax\": 1.95}, {\"X\": 2.1321321321321323, \"y\": 0.0, \"ymin\": -1.96, \"ymax\": 1.95}, {\"X\": 2.1421421421421423, \"y\": 0.0, \"ymin\": -1.96, \"ymax\": 1.95}, {\"X\": 2.1521521521521523, \"y\": 0.0, \"ymin\": -1.96, \"ymax\": 1.95}, {\"X\": 2.1621621621621623, \"y\": 0.0, \"ymin\": -1.96, \"ymax\": 1.95}, {\"X\": 2.1721721721721723, \"y\": 0.0, \"ymin\": -1.96, \"ymax\": 1.95}, {\"X\": 2.1821821821821823, \"y\": 0.0, \"ymin\": -1.96, \"ymax\": 1.95}, {\"X\": 2.1921921921921923, \"y\": 0.0, \"ymin\": -1.96, \"ymax\": 1.95}, {\"X\": 2.2022022022022023, \"y\": 0.0, \"ymin\": -1.96, \"ymax\": 1.95}, {\"X\": 2.2122122122122123, \"y\": 0.0, \"ymin\": -1.96, \"ymax\": 1.95}, {\"X\": 2.2222222222222223, \"y\": 0.0, \"ymin\": -1.96, \"ymax\": 1.95}, {\"X\": 2.2322322322322323, \"y\": 0.0, \"ymin\": -1.96, \"ymax\": 1.95}, {\"X\": 2.2422422422422423, \"y\": 0.0, \"ymin\": -1.96, \"ymax\": 1.95}, {\"X\": 2.2522522522522523, \"y\": 0.0, \"ymin\": -1.96, \"ymax\": 1.95}, {\"X\": 2.2622622622622623, \"y\": 0.0, \"ymin\": -1.96, \"ymax\": 1.95}, {\"X\": 2.2722722722722724, \"y\": 0.0, \"ymin\": -1.96, \"ymax\": 1.95}, {\"X\": 2.2822822822822824, \"y\": 0.0, \"ymin\": -1.96, \"ymax\": 1.95}, {\"X\": 2.2922922922922924, \"y\": 0.0, \"ymin\": -1.96, \"ymax\": 1.95}, {\"X\": 2.3023023023023024, \"y\": 0.0, \"ymin\": -1.96, \"ymax\": 1.95}, {\"X\": 2.3123123123123124, \"y\": 0.0, \"ymin\": -1.96, \"ymax\": 1.95}, {\"X\": 2.3223223223223224, \"y\": 0.0, \"ymin\": -1.96, \"ymax\": 1.95}, {\"X\": 2.3323323323323324, \"y\": 0.0, \"ymin\": -1.96, \"ymax\": 1.95}, {\"X\": 2.3423423423423424, \"y\": 0.0, \"ymin\": -1.96, \"ymax\": 1.95}, {\"X\": 2.3523523523523524, \"y\": 0.0, \"ymin\": -1.96, \"ymax\": 1.95}, {\"X\": 2.3623623623623624, \"y\": 0.0, \"ymin\": -1.96, \"ymax\": 1.95}, {\"X\": 2.3723723723723724, \"y\": 0.0, \"ymin\": -1.96, \"ymax\": 1.95}, {\"X\": 2.3823823823823824, \"y\": 0.0, \"ymin\": -1.96, \"ymax\": 1.95}, {\"X\": 2.3923923923923924, \"y\": 0.0, \"ymin\": -1.96, \"ymax\": 1.95}, {\"X\": 2.4024024024024024, \"y\": 0.0, \"ymin\": -1.96, \"ymax\": 1.95}, {\"X\": 2.4124124124124124, \"y\": 0.0, \"ymin\": -1.96, \"ymax\": 1.95}, {\"X\": 2.4224224224224224, \"y\": 0.0, \"ymin\": -1.96, \"ymax\": 1.95}, {\"X\": 2.4324324324324325, \"y\": 0.0, \"ymin\": -1.96, \"ymax\": 1.95}, {\"X\": 2.4424424424424425, \"y\": 0.0, \"ymin\": -1.96, \"ymax\": 1.95}, {\"X\": 2.4524524524524525, \"y\": 0.0, \"ymin\": -1.96, \"ymax\": 1.95}, {\"X\": 2.4624624624624625, \"y\": 0.0, \"ymin\": -1.96, \"ymax\": 1.95}, {\"X\": 2.4724724724724725, \"y\": 0.0, \"ymin\": -1.96, \"ymax\": 1.95}, {\"X\": 2.4824824824824825, \"y\": 0.0, \"ymin\": -1.96, \"ymax\": 1.95}, {\"X\": 2.4924924924924925, \"y\": 0.0, \"ymin\": -1.96, \"ymax\": 1.95}, {\"X\": 2.5025025025025025, \"y\": 0.0, \"ymin\": -1.96, \"ymax\": 1.95}, {\"X\": 2.5125125125125125, \"y\": 0.0, \"ymin\": -1.96, \"ymax\": 1.95}, {\"X\": 2.5225225225225225, \"y\": 0.0, \"ymin\": -1.96, \"ymax\": 1.95}, {\"X\": 2.5325325325325325, \"y\": 0.0, \"ymin\": -1.96, \"ymax\": 1.95}, {\"X\": 2.5425425425425425, \"y\": 0.0, \"ymin\": -1.96, \"ymax\": 1.95}, {\"X\": 2.5525525525525525, \"y\": 0.0, \"ymin\": -1.96, \"ymax\": 1.95}, {\"X\": 2.5625625625625625, \"y\": 0.0, \"ymin\": -1.96, \"ymax\": 1.95}, {\"X\": 2.5725725725725725, \"y\": 0.0, \"ymin\": -1.96, \"ymax\": 1.95}, {\"X\": 2.5825825825825826, \"y\": 0.0, \"ymin\": -1.96, \"ymax\": 1.95}, {\"X\": 2.5925925925925926, \"y\": 0.0, \"ymin\": -1.96, \"ymax\": 1.95}, {\"X\": 2.6026026026026026, \"y\": 0.0, \"ymin\": -1.96, \"ymax\": 1.95}, {\"X\": 2.6126126126126126, \"y\": 0.0, \"ymin\": -1.96, \"ymax\": 1.95}, {\"X\": 2.6226226226226226, \"y\": 0.0, \"ymin\": -1.96, \"ymax\": 1.95}, {\"X\": 2.6326326326326326, \"y\": 0.0, \"ymin\": -1.96, \"ymax\": 1.95}, {\"X\": 2.6426426426426426, \"y\": 0.0, \"ymin\": -1.96, \"ymax\": 1.95}, {\"X\": 2.6526526526526526, \"y\": 0.0, \"ymin\": -1.96, \"ymax\": 1.95}, {\"X\": 2.6626626626626626, \"y\": 0.0, \"ymin\": -1.96, \"ymax\": 1.95}, {\"X\": 2.6726726726726726, \"y\": 0.0, \"ymin\": -1.96, \"ymax\": 1.95}, {\"X\": 2.6826826826826826, \"y\": 0.0, \"ymin\": -1.96, \"ymax\": 1.95}, {\"X\": 2.6926926926926926, \"y\": 0.0, \"ymin\": -1.96, \"ymax\": 1.95}, {\"X\": 2.7027027027027026, \"y\": 0.0, \"ymin\": -1.96, \"ymax\": 1.95}, {\"X\": 2.7127127127127126, \"y\": 0.0, \"ymin\": -1.96, \"ymax\": 1.95}, {\"X\": 2.7227227227227226, \"y\": 0.0, \"ymin\": -1.96, \"ymax\": 1.95}, {\"X\": 2.7327327327327327, \"y\": 0.0, \"ymin\": -1.96, \"ymax\": 1.95}, {\"X\": 2.7427427427427427, \"y\": 0.0, \"ymin\": -1.96, \"ymax\": 1.95}, {\"X\": 2.7527527527527527, \"y\": 0.0, \"ymin\": -1.96, \"ymax\": 1.95}, {\"X\": 2.7627627627627627, \"y\": 0.0, \"ymin\": -1.96, \"ymax\": 1.95}, {\"X\": 2.7727727727727727, \"y\": 0.0, \"ymin\": -1.96, \"ymax\": 1.95}, {\"X\": 2.7827827827827827, \"y\": 0.0, \"ymin\": -1.96, \"ymax\": 1.95}, {\"X\": 2.7927927927927927, \"y\": 0.0, \"ymin\": -1.96, \"ymax\": 1.95}, {\"X\": 2.8028028028028027, \"y\": 0.0, \"ymin\": -1.96, \"ymax\": 1.95}, {\"X\": 2.8128128128128127, \"y\": 0.0, \"ymin\": -1.96, \"ymax\": 1.95}, {\"X\": 2.8228228228228227, \"y\": 0.0, \"ymin\": -1.96, \"ymax\": 1.95}, {\"X\": 2.8328328328328327, \"y\": 0.0, \"ymin\": -1.96, \"ymax\": 1.95}, {\"X\": 2.8428428428428427, \"y\": 0.0, \"ymin\": -1.96, \"ymax\": 1.95}, {\"X\": 2.8528528528528527, \"y\": 0.0, \"ymin\": -1.96, \"ymax\": 1.95}, {\"X\": 2.8628628628628627, \"y\": 0.0, \"ymin\": -1.96, \"ymax\": 1.95}, {\"X\": 2.8728728728728727, \"y\": 0.0, \"ymin\": -1.96, \"ymax\": 1.95}, {\"X\": 2.8828828828828827, \"y\": 0.0, \"ymin\": -1.96, \"ymax\": 1.95}, {\"X\": 2.8928928928928928, \"y\": 0.0, \"ymin\": -1.96, \"ymax\": 1.95}, {\"X\": 2.9029029029029028, \"y\": 0.0, \"ymin\": -1.96, \"ymax\": 1.95}, {\"X\": 2.9129129129129128, \"y\": 0.0, \"ymin\": -1.96, \"ymax\": 1.95}, {\"X\": 2.9229229229229228, \"y\": 0.0, \"ymin\": -1.96, \"ymax\": 1.95}, {\"X\": 2.932932932932933, \"y\": 0.0, \"ymin\": -1.96, \"ymax\": 1.95}, {\"X\": 2.942942942942943, \"y\": 0.0, \"ymin\": -1.96, \"ymax\": 1.95}, {\"X\": 2.952952952952953, \"y\": 0.0, \"ymin\": -1.96, \"ymax\": 1.95}, {\"X\": 2.962962962962963, \"y\": 0.0, \"ymin\": -1.96, \"ymax\": 1.95}, {\"X\": 2.972972972972973, \"y\": 0.0, \"ymin\": -1.96, \"ymax\": 1.95}, {\"X\": 2.982982982982983, \"y\": 0.0, \"ymin\": -1.96, \"ymax\": 1.95}, {\"X\": 2.992992992992993, \"y\": 0.0, \"ymin\": -1.96, \"ymax\": 1.95}, {\"X\": 3.003003003003003, \"y\": 0.0, \"ymin\": -1.96, \"ymax\": 1.95}, {\"X\": 3.013013013013013, \"y\": 0.0, \"ymin\": -1.96, \"ymax\": 1.95}, {\"X\": 3.023023023023023, \"y\": 0.0, \"ymin\": -1.96, \"ymax\": 1.95}, {\"X\": 3.033033033033033, \"y\": 0.0, \"ymin\": -1.96, \"ymax\": 1.95}, {\"X\": 3.043043043043043, \"y\": 0.0, \"ymin\": -1.96, \"ymax\": 1.95}, {\"X\": 3.053053053053053, \"y\": 0.0, \"ymin\": -1.96, \"ymax\": 1.95}, {\"X\": 3.063063063063063, \"y\": 0.0, \"ymin\": -1.96, \"ymax\": 1.95}, {\"X\": 3.073073073073073, \"y\": 0.0, \"ymin\": -1.96, \"ymax\": 1.95}, {\"X\": 3.083083083083083, \"y\": 0.0, \"ymin\": -1.96, \"ymax\": 1.95}, {\"X\": 3.093093093093093, \"y\": 0.0, \"ymin\": -1.96, \"ymax\": 1.95}, {\"X\": 3.103103103103103, \"y\": 0.0, \"ymin\": -1.96, \"ymax\": 1.95}, {\"X\": 3.113113113113113, \"y\": 0.0, \"ymin\": -1.96, \"ymax\": 1.95}, {\"X\": 3.123123123123123, \"y\": 0.0, \"ymin\": -1.96, \"ymax\": 1.95}, {\"X\": 3.133133133133133, \"y\": 0.0, \"ymin\": -1.96, \"ymax\": 1.95}, {\"X\": 3.143143143143143, \"y\": 0.0, \"ymin\": -1.96, \"ymax\": 1.95}, {\"X\": 3.153153153153153, \"y\": 0.0, \"ymin\": -1.96, \"ymax\": 1.95}, {\"X\": 3.163163163163163, \"y\": 0.0, \"ymin\": -1.96, \"ymax\": 1.95}, {\"X\": 3.173173173173173, \"y\": 0.0, \"ymin\": -1.96, \"ymax\": 1.95}, {\"X\": 3.183183183183183, \"y\": 0.0, \"ymin\": -1.96, \"ymax\": 1.95}, {\"X\": 3.193193193193193, \"y\": 0.0, \"ymin\": -1.96, \"ymax\": 1.95}, {\"X\": 3.203203203203203, \"y\": 0.0, \"ymin\": -1.96, \"ymax\": 1.95}, {\"X\": 3.2132132132132134, \"y\": 0.0, \"ymin\": -1.96, \"ymax\": 1.95}, {\"X\": 3.2232232232232234, \"y\": 0.0, \"ymin\": -1.96, \"ymax\": 1.95}, {\"X\": 3.2332332332332334, \"y\": 0.0, \"ymin\": -1.96, \"ymax\": 1.95}, {\"X\": 3.2432432432432434, \"y\": 0.0, \"ymin\": -1.96, \"ymax\": 1.95}, {\"X\": 3.2532532532532534, \"y\": 0.0, \"ymin\": -1.96, \"ymax\": 1.95}, {\"X\": 3.2632632632632634, \"y\": 0.0, \"ymin\": -1.96, \"ymax\": 1.95}, {\"X\": 3.2732732732732734, \"y\": 0.0, \"ymin\": -1.96, \"ymax\": 1.95}, {\"X\": 3.2832832832832834, \"y\": 0.0, \"ymin\": -1.96, \"ymax\": 1.95}, {\"X\": 3.2932932932932935, \"y\": 0.0, \"ymin\": -1.96, \"ymax\": 1.95}, {\"X\": 3.3033033033033035, \"y\": 0.0, \"ymin\": -1.96, \"ymax\": 1.95}, {\"X\": 3.3133133133133135, \"y\": 0.0, \"ymin\": -1.96, \"ymax\": 1.95}, {\"X\": 3.3233233233233235, \"y\": 0.0, \"ymin\": -1.96, \"ymax\": 1.95}, {\"X\": 3.3333333333333335, \"y\": 0.0, \"ymin\": -1.96, \"ymax\": 1.95}, {\"X\": 3.3433433433433435, \"y\": 0.0, \"ymin\": -1.96, \"ymax\": 1.95}, {\"X\": 3.3533533533533535, \"y\": 0.0, \"ymin\": -1.96, \"ymax\": 1.95}, {\"X\": 3.3633633633633635, \"y\": 0.0, \"ymin\": -1.96, \"ymax\": 1.95}, {\"X\": 3.3733733733733735, \"y\": 0.0, \"ymin\": -1.96, \"ymax\": 1.95}, {\"X\": 3.3833833833833835, \"y\": 0.0, \"ymin\": -1.96, \"ymax\": 1.95}, {\"X\": 3.3933933933933935, \"y\": 0.0, \"ymin\": -1.96, \"ymax\": 1.95}, {\"X\": 3.4034034034034035, \"y\": 0.0, \"ymin\": -1.96, \"ymax\": 1.95}, {\"X\": 3.4134134134134135, \"y\": 0.0, \"ymin\": -1.96, \"ymax\": 1.95}, {\"X\": 3.4234234234234235, \"y\": 0.0, \"ymin\": -1.96, \"ymax\": 1.95}, {\"X\": 3.4334334334334335, \"y\": 0.0, \"ymin\": -1.96, \"ymax\": 1.95}, {\"X\": 3.4434434434434436, \"y\": 0.0, \"ymin\": -1.96, \"ymax\": 1.95}, {\"X\": 3.4534534534534536, \"y\": 0.0, \"ymin\": -1.96, \"ymax\": 1.95}, {\"X\": 3.4634634634634636, \"y\": 0.0, \"ymin\": -1.96, \"ymax\": 1.95}, {\"X\": 3.4734734734734736, \"y\": 0.0, \"ymin\": -1.96, \"ymax\": 1.95}, {\"X\": 3.4834834834834836, \"y\": 0.0, \"ymin\": -1.96, \"ymax\": 1.95}, {\"X\": 3.4934934934934936, \"y\": 0.0, \"ymin\": -1.96, \"ymax\": 1.95}, {\"X\": 3.5035035035035036, \"y\": 0.0, \"ymin\": -1.96, \"ymax\": 1.95}, {\"X\": 3.5135135135135136, \"y\": 0.0, \"ymin\": -1.96, \"ymax\": 1.95}, {\"X\": 3.5235235235235236, \"y\": 0.0, \"ymin\": -1.96, \"ymax\": 1.95}, {\"X\": 3.5335335335335336, \"y\": 0.0, \"ymin\": -1.96, \"ymax\": 1.95}, {\"X\": 3.5435435435435436, \"y\": 0.0, \"ymin\": -1.96, \"ymax\": 1.95}, {\"X\": 3.5535535535535536, \"y\": 0.0, \"ymin\": -1.96, \"ymax\": 1.95}, {\"X\": 3.5635635635635636, \"y\": 0.0, \"ymin\": -1.96, \"ymax\": 1.95}, {\"X\": 3.5735735735735736, \"y\": 0.0, \"ymin\": -1.96, \"ymax\": 1.95}, {\"X\": 3.5835835835835836, \"y\": 0.0, \"ymin\": -1.96, \"ymax\": 1.95}, {\"X\": 3.5935935935935936, \"y\": 0.0, \"ymin\": -1.96, \"ymax\": 1.95}, {\"X\": 3.6036036036036037, \"y\": 0.0, \"ymin\": -1.96, \"ymax\": 1.95}, {\"X\": 3.6136136136136137, \"y\": 0.0, \"ymin\": -1.96, \"ymax\": 1.95}, {\"X\": 3.6236236236236237, \"y\": 0.0, \"ymin\": -1.96, \"ymax\": 1.95}, {\"X\": 3.6336336336336337, \"y\": 0.0, \"ymin\": -1.96, \"ymax\": 1.95}, {\"X\": 3.6436436436436437, \"y\": 0.0, \"ymin\": -1.96, \"ymax\": 1.95}, {\"X\": 3.6536536536536537, \"y\": 0.0, \"ymin\": -1.96, \"ymax\": 1.95}, {\"X\": 3.6636636636636637, \"y\": 0.0, \"ymin\": -1.96, \"ymax\": 1.95}, {\"X\": 3.6736736736736737, \"y\": 0.0, \"ymin\": -1.96, \"ymax\": 1.95}, {\"X\": 3.6836836836836837, \"y\": 0.0, \"ymin\": -1.96, \"ymax\": 1.95}, {\"X\": 3.6936936936936937, \"y\": 0.0, \"ymin\": -1.96, \"ymax\": 1.95}, {\"X\": 3.7037037037037037, \"y\": 0.0, \"ymin\": -1.96, \"ymax\": 1.95}, {\"X\": 3.7137137137137137, \"y\": 0.0, \"ymin\": -1.96, \"ymax\": 1.95}, {\"X\": 3.7237237237237237, \"y\": 0.0, \"ymin\": -1.96, \"ymax\": 1.95}, {\"X\": 3.7337337337337337, \"y\": 0.0, \"ymin\": -1.96, \"ymax\": 1.95}, {\"X\": 3.7437437437437437, \"y\": 0.0, \"ymin\": -1.96, \"ymax\": 1.95}, {\"X\": 3.7537537537537538, \"y\": 0.0, \"ymin\": -1.96, \"ymax\": 1.95}, {\"X\": 3.7637637637637638, \"y\": 0.0, \"ymin\": -1.96, \"ymax\": 1.95}, {\"X\": 3.7737737737737738, \"y\": 0.0, \"ymin\": -1.96, \"ymax\": 1.95}, {\"X\": 3.7837837837837838, \"y\": 0.0, \"ymin\": -1.96, \"ymax\": 1.95}, {\"X\": 3.793793793793794, \"y\": 0.0, \"ymin\": -1.96, \"ymax\": 1.95}, {\"X\": 3.803803803803804, \"y\": 0.0, \"ymin\": -1.96, \"ymax\": 1.95}, {\"X\": 3.813813813813814, \"y\": 0.0, \"ymin\": -1.96, \"ymax\": 1.95}, {\"X\": 3.823823823823824, \"y\": 0.0, \"ymin\": -1.96, \"ymax\": 1.95}, {\"X\": 3.833833833833834, \"y\": 0.0, \"ymin\": -1.96, \"ymax\": 1.95}, {\"X\": 3.843843843843844, \"y\": 0.0, \"ymin\": -1.96, \"ymax\": 1.95}, {\"X\": 3.853853853853854, \"y\": 0.0, \"ymin\": -1.96, \"ymax\": 1.95}, {\"X\": 3.863863863863864, \"y\": 0.0, \"ymin\": -1.96, \"ymax\": 1.95}, {\"X\": 3.873873873873874, \"y\": 0.0, \"ymin\": -1.96, \"ymax\": 1.95}, {\"X\": 3.883883883883884, \"y\": 0.0, \"ymin\": -1.96, \"ymax\": 1.95}, {\"X\": 3.893893893893894, \"y\": 0.0, \"ymin\": -1.96, \"ymax\": 1.95}, {\"X\": 3.903903903903904, \"y\": 0.0, \"ymin\": -1.96, \"ymax\": 1.95}, {\"X\": 3.913913913913914, \"y\": 0.0, \"ymin\": -1.96, \"ymax\": 1.95}, {\"X\": 3.923923923923924, \"y\": 0.0, \"ymin\": -1.96, \"ymax\": 1.95}, {\"X\": 3.933933933933934, \"y\": 0.0, \"ymin\": -1.96, \"ymax\": 1.95}, {\"X\": 3.943943943943944, \"y\": 0.0, \"ymin\": -1.96, \"ymax\": 1.95}, {\"X\": 3.953953953953954, \"y\": 0.0, \"ymin\": -1.96, \"ymax\": 1.95}, {\"X\": 3.963963963963964, \"y\": 0.0, \"ymin\": -1.96, \"ymax\": 1.95}, {\"X\": 3.973973973973974, \"y\": 0.0, \"ymin\": -1.96, \"ymax\": 1.95}, {\"X\": 3.983983983983984, \"y\": 0.0, \"ymin\": -1.96, \"ymax\": 1.95}, {\"X\": 3.993993993993994, \"y\": 0.0, \"ymin\": -1.96, \"ymax\": 1.95}, {\"X\": 4.004004004004004, \"y\": 0.0, \"ymin\": -1.96, \"ymax\": 1.95}, {\"X\": 4.014014014014014, \"y\": 0.0, \"ymin\": -1.96, \"ymax\": 1.95}, {\"X\": 4.024024024024024, \"y\": 0.0, \"ymin\": -1.96, \"ymax\": 1.95}, {\"X\": 4.034034034034034, \"y\": 0.0, \"ymin\": -1.96, \"ymax\": 1.95}, {\"X\": 4.044044044044044, \"y\": 0.0, \"ymin\": -1.96, \"ymax\": 1.95}, {\"X\": 4.054054054054054, \"y\": 0.0, \"ymin\": -1.96, \"ymax\": 1.95}, {\"X\": 4.064064064064064, \"y\": 0.0, \"ymin\": -1.96, \"ymax\": 1.95}, {\"X\": 4.074074074074074, \"y\": 0.0, \"ymin\": -1.96, \"ymax\": 1.95}, {\"X\": 4.084084084084084, \"y\": 0.0, \"ymin\": -1.96, \"ymax\": 1.95}, {\"X\": 4.094094094094094, \"y\": 0.0, \"ymin\": -1.96, \"ymax\": 1.95}, {\"X\": 4.104104104104104, \"y\": 0.0, \"ymin\": -1.96, \"ymax\": 1.95}, {\"X\": 4.114114114114114, \"y\": 0.0, \"ymin\": -1.96, \"ymax\": 1.95}, {\"X\": 4.124124124124124, \"y\": 0.0, \"ymin\": -1.96, \"ymax\": 1.95}, {\"X\": 4.134134134134134, \"y\": 0.0, \"ymin\": -1.96, \"ymax\": 1.95}, {\"X\": 4.1441441441441444, \"y\": 0.0, \"ymin\": -1.96, \"ymax\": 1.95}, {\"X\": 4.1541541541541545, \"y\": 0.0, \"ymin\": -1.96, \"ymax\": 1.95}, {\"X\": 4.1641641641641645, \"y\": 0.0, \"ymin\": -1.96, \"ymax\": 1.95}, {\"X\": 4.1741741741741745, \"y\": 0.0, \"ymin\": -1.96, \"ymax\": 1.95}, {\"X\": 4.1841841841841845, \"y\": 0.0, \"ymin\": -1.96, \"ymax\": 1.95}, {\"X\": 4.1941941941941945, \"y\": 0.0, \"ymin\": -1.96, \"ymax\": 1.95}, {\"X\": 4.2042042042042045, \"y\": 0.0, \"ymin\": -1.96, \"ymax\": 1.95}, {\"X\": 4.2142142142142145, \"y\": 0.0, \"ymin\": -1.96, \"ymax\": 1.95}, {\"X\": 4.2242242242242245, \"y\": 0.0, \"ymin\": -1.96, \"ymax\": 1.95}, {\"X\": 4.2342342342342345, \"y\": 0.0, \"ymin\": -1.96, \"ymax\": 1.95}, {\"X\": 4.2442442442442445, \"y\": 0.0, \"ymin\": -1.96, \"ymax\": 1.95}, {\"X\": 4.2542542542542545, \"y\": 0.0, \"ymin\": -1.96, \"ymax\": 1.95}, {\"X\": 4.2642642642642645, \"y\": 0.0, \"ymin\": -1.96, \"ymax\": 1.95}, {\"X\": 4.2742742742742745, \"y\": 0.0, \"ymin\": -1.96, \"ymax\": 1.95}, {\"X\": 4.2842842842842845, \"y\": 0.0, \"ymin\": -1.96, \"ymax\": 1.95}, {\"X\": 4.2942942942942945, \"y\": 0.0, \"ymin\": -1.96, \"ymax\": 1.95}, {\"X\": 4.3043043043043046, \"y\": 0.0, \"ymin\": -1.96, \"ymax\": 1.95}, {\"X\": 4.314314314314315, \"y\": 0.0, \"ymin\": -1.96, \"ymax\": 1.95}, {\"X\": 4.324324324324325, \"y\": 0.0, \"ymin\": -1.96, \"ymax\": 1.95}, {\"X\": 4.334334334334335, \"y\": 0.0, \"ymin\": -1.96, \"ymax\": 1.95}, {\"X\": 4.344344344344345, \"y\": 0.0, \"ymin\": -1.96, \"ymax\": 1.95}, {\"X\": 4.354354354354355, \"y\": 0.0, \"ymin\": -1.96, \"ymax\": 1.95}, {\"X\": 4.364364364364365, \"y\": 0.0, \"ymin\": -1.96, \"ymax\": 1.95}, {\"X\": 4.374374374374375, \"y\": 0.0, \"ymin\": -1.96, \"ymax\": 1.95}, {\"X\": 4.384384384384385, \"y\": 0.0, \"ymin\": -1.96, \"ymax\": 1.95}, {\"X\": 4.394394394394395, \"y\": 0.0, \"ymin\": -1.96, \"ymax\": 1.95}, {\"X\": 4.404404404404405, \"y\": 0.0, \"ymin\": -1.96, \"ymax\": 1.95}, {\"X\": 4.414414414414415, \"y\": 0.0, \"ymin\": -1.96, \"ymax\": 1.95}, {\"X\": 4.424424424424425, \"y\": 0.0, \"ymin\": -1.96, \"ymax\": 1.95}, {\"X\": 4.434434434434435, \"y\": 0.0, \"ymin\": -1.96, \"ymax\": 1.95}, {\"X\": 4.444444444444445, \"y\": 0.0, \"ymin\": -1.96, \"ymax\": 1.95}, {\"X\": 4.454454454454455, \"y\": 0.0, \"ymin\": -1.96, \"ymax\": 1.95}, {\"X\": 4.464464464464465, \"y\": 0.0, \"ymin\": -1.96, \"ymax\": 1.95}, {\"X\": 4.474474474474475, \"y\": 0.0, \"ymin\": -1.96, \"ymax\": 1.95}, {\"X\": 4.484484484484485, \"y\": 0.0, \"ymin\": -1.96, \"ymax\": 1.95}, {\"X\": 4.494494494494495, \"y\": 0.0, \"ymin\": -1.96, \"ymax\": 1.95}, {\"X\": 4.504504504504505, \"y\": 0.0, \"ymin\": -1.96, \"ymax\": 1.95}, {\"X\": 4.514514514514515, \"y\": 0.0, \"ymin\": -1.96, \"ymax\": 1.95}, {\"X\": 4.524524524524525, \"y\": 0.0, \"ymin\": -1.96, \"ymax\": 1.95}, {\"X\": 4.534534534534535, \"y\": 0.0, \"ymin\": -1.96, \"ymax\": 1.95}, {\"X\": 4.544544544544545, \"y\": 0.0, \"ymin\": -1.96, \"ymax\": 1.95}, {\"X\": 4.554554554554555, \"y\": 0.0, \"ymin\": -1.96, \"ymax\": 1.95}, {\"X\": 4.564564564564565, \"y\": 0.0, \"ymin\": -1.96, \"ymax\": 1.95}, {\"X\": 4.574574574574575, \"y\": 0.0, \"ymin\": -1.96, \"ymax\": 1.95}, {\"X\": 4.584584584584585, \"y\": 0.0, \"ymin\": -1.96, \"ymax\": 1.95}, {\"X\": 4.594594594594595, \"y\": 0.0, \"ymin\": -1.96, \"ymax\": 1.95}, {\"X\": 4.604604604604605, \"y\": 0.0, \"ymin\": -1.96, \"ymax\": 1.95}, {\"X\": 4.614614614614615, \"y\": 0.0, \"ymin\": -1.96, \"ymax\": 1.95}, {\"X\": 4.624624624624625, \"y\": 0.0, \"ymin\": -1.96, \"ymax\": 1.95}, {\"X\": 4.634634634634635, \"y\": 0.0, \"ymin\": -1.96, \"ymax\": 1.95}, {\"X\": 4.644644644644645, \"y\": 0.0, \"ymin\": -1.96, \"ymax\": 1.95}, {\"X\": 4.654654654654655, \"y\": 0.0, \"ymin\": -1.96, \"ymax\": 1.95}, {\"X\": 4.664664664664665, \"y\": 0.0, \"ymin\": -1.96, \"ymax\": 1.95}, {\"X\": 4.674674674674675, \"y\": 0.0, \"ymin\": -1.96, \"ymax\": 1.95}, {\"X\": 4.684684684684685, \"y\": 0.0, \"ymin\": -1.96, \"ymax\": 1.95}, {\"X\": 4.694694694694695, \"y\": 0.0, \"ymin\": -1.96, \"ymax\": 1.95}, {\"X\": 4.704704704704705, \"y\": 0.0, \"ymin\": -1.96, \"ymax\": 1.95}, {\"X\": 4.714714714714715, \"y\": 0.0, \"ymin\": -1.96, \"ymax\": 1.95}, {\"X\": 4.724724724724725, \"y\": 0.0, \"ymin\": -1.96, \"ymax\": 1.95}, {\"X\": 4.734734734734735, \"y\": 0.0, \"ymin\": -1.96, \"ymax\": 1.95}, {\"X\": 4.744744744744745, \"y\": 0.0, \"ymin\": -1.96, \"ymax\": 1.95}, {\"X\": 4.754754754754755, \"y\": 0.0, \"ymin\": -1.96, \"ymax\": 1.95}, {\"X\": 4.764764764764765, \"y\": 0.0, \"ymin\": -1.96, \"ymax\": 1.95}, {\"X\": 4.774774774774775, \"y\": 0.0, \"ymin\": -1.96, \"ymax\": 1.95}, {\"X\": 4.784784784784785, \"y\": 0.0, \"ymin\": -1.96, \"ymax\": 1.95}, {\"X\": 4.794794794794795, \"y\": 0.0, \"ymin\": -1.96, \"ymax\": 1.95}, {\"X\": 4.804804804804805, \"y\": 0.0, \"ymin\": -1.96, \"ymax\": 1.95}, {\"X\": 4.814814814814815, \"y\": 0.0, \"ymin\": -1.96, \"ymax\": 1.95}, {\"X\": 4.824824824824825, \"y\": 0.0, \"ymin\": -1.96, \"ymax\": 1.95}, {\"X\": 4.834834834834835, \"y\": 0.0, \"ymin\": -1.96, \"ymax\": 1.95}, {\"X\": 4.844844844844845, \"y\": 0.0, \"ymin\": -1.96, \"ymax\": 1.95}, {\"X\": 4.854854854854855, \"y\": 0.0, \"ymin\": -1.96, \"ymax\": 1.95}, {\"X\": 4.864864864864865, \"y\": 0.0, \"ymin\": -1.96, \"ymax\": 1.95}, {\"X\": 4.874874874874875, \"y\": 0.0, \"ymin\": -1.96, \"ymax\": 1.95}, {\"X\": 4.884884884884885, \"y\": 0.0, \"ymin\": -1.96, \"ymax\": 1.95}, {\"X\": 4.894894894894895, \"y\": 0.0, \"ymin\": -1.96, \"ymax\": 1.95}, {\"X\": 4.904904904904905, \"y\": 0.0, \"ymin\": -1.96, \"ymax\": 1.95}, {\"X\": 4.914914914914915, \"y\": 0.0, \"ymin\": -1.96, \"ymax\": 1.95}, {\"X\": 4.924924924924925, \"y\": 0.0, \"ymin\": -1.96, \"ymax\": 1.95}, {\"X\": 4.934934934934935, \"y\": 0.0, \"ymin\": -1.96, \"ymax\": 1.95}, {\"X\": 4.944944944944945, \"y\": 0.0, \"ymin\": -1.96, \"ymax\": 1.95}, {\"X\": 4.954954954954955, \"y\": 0.0, \"ymin\": -1.96, \"ymax\": 1.95}, {\"X\": 4.964964964964965, \"y\": 0.0, \"ymin\": -1.96, \"ymax\": 1.95}, {\"X\": 4.974974974974975, \"y\": 0.0, \"ymin\": -1.96, \"ymax\": 1.95}, {\"X\": 4.984984984984985, \"y\": 0.0, \"ymin\": -1.96, \"ymax\": 1.95}, {\"X\": 4.994994994994995, \"y\": 0.0, \"ymin\": -1.96, \"ymax\": 1.95}, {\"X\": 5.005005005005005, \"y\": 0.0, \"ymin\": -1.96, \"ymax\": 1.95}, {\"X\": 5.015015015015015, \"y\": 0.0, \"ymin\": -1.96, \"ymax\": 1.95}, {\"X\": 5.025025025025025, \"y\": 0.0, \"ymin\": -1.96, \"ymax\": 1.95}, {\"X\": 5.035035035035035, \"y\": 0.0, \"ymin\": -1.96, \"ymax\": 1.95}, {\"X\": 5.045045045045045, \"y\": 0.0, \"ymin\": -1.96, \"ymax\": 1.95}, {\"X\": 5.055055055055055, \"y\": 0.0, \"ymin\": -1.96, \"ymax\": 1.95}, {\"X\": 5.065065065065065, \"y\": 0.0, \"ymin\": -1.96, \"ymax\": 1.95}, {\"X\": 5.075075075075075, \"y\": 0.0, \"ymin\": -1.96, \"ymax\": 1.95}, {\"X\": 5.085085085085085, \"y\": 0.0, \"ymin\": -1.96, \"ymax\": 1.95}, {\"X\": 5.095095095095095, \"y\": 0.0, \"ymin\": -1.96, \"ymax\": 1.95}, {\"X\": 5.105105105105105, \"y\": 0.0, \"ymin\": -1.96, \"ymax\": 1.95}, {\"X\": 5.115115115115115, \"y\": 0.0, \"ymin\": -1.96, \"ymax\": 1.95}, {\"X\": 5.125125125125125, \"y\": 0.0, \"ymin\": -1.96, \"ymax\": 1.95}, {\"X\": 5.135135135135135, \"y\": 0.0, \"ymin\": -1.96, \"ymax\": 1.95}, {\"X\": 5.145145145145145, \"y\": 0.0, \"ymin\": -1.96, \"ymax\": 1.95}, {\"X\": 5.155155155155155, \"y\": 0.0, \"ymin\": -1.96, \"ymax\": 1.95}, {\"X\": 5.165165165165165, \"y\": 0.0, \"ymin\": -1.96, \"ymax\": 1.95}, {\"X\": 5.175175175175175, \"y\": 0.0, \"ymin\": -1.96, \"ymax\": 1.95}, {\"X\": 5.185185185185185, \"y\": 0.0, \"ymin\": -1.96, \"ymax\": 1.95}, {\"X\": 5.195195195195195, \"y\": 0.0, \"ymin\": -1.96, \"ymax\": 1.95}, {\"X\": 5.205205205205205, \"y\": 0.0, \"ymin\": -1.96, \"ymax\": 1.95}, {\"X\": 5.215215215215215, \"y\": 0.0, \"ymin\": -1.96, \"ymax\": 1.95}, {\"X\": 5.225225225225225, \"y\": 0.0, \"ymin\": -1.96, \"ymax\": 1.95}, {\"X\": 5.235235235235235, \"y\": 0.0, \"ymin\": -1.96, \"ymax\": 1.95}, {\"X\": 5.245245245245245, \"y\": 0.0, \"ymin\": -1.96, \"ymax\": 1.95}, {\"X\": 5.255255255255255, \"y\": 0.0, \"ymin\": -1.96, \"ymax\": 1.95}, {\"X\": 5.265265265265265, \"y\": 0.0, \"ymin\": -1.96, \"ymax\": 1.95}, {\"X\": 5.275275275275275, \"y\": 0.0, \"ymin\": -1.96, \"ymax\": 1.95}, {\"X\": 5.285285285285285, \"y\": 0.0, \"ymin\": -1.96, \"ymax\": 1.95}, {\"X\": 5.295295295295295, \"y\": 0.0, \"ymin\": -1.96, \"ymax\": 1.95}, {\"X\": 5.305305305305305, \"y\": 0.0, \"ymin\": -1.96, \"ymax\": 1.95}, {\"X\": 5.315315315315315, \"y\": 0.0, \"ymin\": -1.96, \"ymax\": 1.95}, {\"X\": 5.325325325325325, \"y\": 0.0, \"ymin\": -1.96, \"ymax\": 1.95}, {\"X\": 5.335335335335335, \"y\": 0.0, \"ymin\": -1.96, \"ymax\": 1.95}, {\"X\": 5.345345345345345, \"y\": 0.0, \"ymin\": -1.96, \"ymax\": 1.95}, {\"X\": 5.355355355355355, \"y\": 0.0, \"ymin\": -1.96, \"ymax\": 1.95}, {\"X\": 5.365365365365365, \"y\": 0.0, \"ymin\": -1.96, \"ymax\": 1.95}, {\"X\": 5.375375375375375, \"y\": 0.0, \"ymin\": -1.96, \"ymax\": 1.95}, {\"X\": 5.385385385385385, \"y\": 0.0, \"ymin\": -1.96, \"ymax\": 1.95}, {\"X\": 5.395395395395395, \"y\": 0.0, \"ymin\": -1.96, \"ymax\": 1.95}, {\"X\": 5.405405405405405, \"y\": 0.0, \"ymin\": -1.96, \"ymax\": 1.95}, {\"X\": 5.415415415415415, \"y\": 0.0, \"ymin\": -1.96, \"ymax\": 1.95}, {\"X\": 5.425425425425425, \"y\": 0.0, \"ymin\": -1.96, \"ymax\": 1.95}, {\"X\": 5.435435435435435, \"y\": 0.0, \"ymin\": -1.96, \"ymax\": 1.95}, {\"X\": 5.445445445445445, \"y\": 0.0, \"ymin\": -1.96, \"ymax\": 1.95}, {\"X\": 5.455455455455455, \"y\": 0.0, \"ymin\": -1.96, \"ymax\": 1.95}, {\"X\": 5.465465465465465, \"y\": 0.0, \"ymin\": -1.96, \"ymax\": 1.95}, {\"X\": 5.475475475475475, \"y\": 0.0, \"ymin\": -1.96, \"ymax\": 1.95}, {\"X\": 5.485485485485485, \"y\": 0.0, \"ymin\": -1.96, \"ymax\": 1.95}, {\"X\": 5.495495495495495, \"y\": 0.0, \"ymin\": -1.96, \"ymax\": 1.95}, {\"X\": 5.505505505505505, \"y\": 0.0, \"ymin\": -1.96, \"ymax\": 1.95}, {\"X\": 5.515515515515515, \"y\": 0.0, \"ymin\": -1.96, \"ymax\": 1.95}, {\"X\": 5.525525525525525, \"y\": 0.0, \"ymin\": -1.96, \"ymax\": 1.95}, {\"X\": 5.535535535535535, \"y\": 0.0, \"ymin\": -1.96, \"ymax\": 1.95}, {\"X\": 5.545545545545545, \"y\": 0.0, \"ymin\": -1.96, \"ymax\": 1.95}, {\"X\": 5.555555555555555, \"y\": 0.0, \"ymin\": -1.96, \"ymax\": 1.95}, {\"X\": 5.565565565565565, \"y\": 0.0, \"ymin\": -1.96, \"ymax\": 1.95}, {\"X\": 5.575575575575575, \"y\": 0.0, \"ymin\": -1.96, \"ymax\": 1.95}, {\"X\": 5.585585585585585, \"y\": 0.0, \"ymin\": -1.96, \"ymax\": 1.95}, {\"X\": 5.595595595595595, \"y\": 0.0, \"ymin\": -1.96, \"ymax\": 1.95}, {\"X\": 5.605605605605605, \"y\": 0.0, \"ymin\": -1.96, \"ymax\": 1.95}, {\"X\": 5.615615615615615, \"y\": 0.0, \"ymin\": -1.96, \"ymax\": 1.95}, {\"X\": 5.625625625625625, \"y\": 0.0, \"ymin\": -1.96, \"ymax\": 1.95}, {\"X\": 5.635635635635635, \"y\": 0.0, \"ymin\": -1.96, \"ymax\": 1.95}, {\"X\": 5.645645645645645, \"y\": 0.0, \"ymin\": -1.96, \"ymax\": 1.95}, {\"X\": 5.655655655655655, \"y\": 0.0, \"ymin\": -1.96, \"ymax\": 1.95}, {\"X\": 5.665665665665665, \"y\": 0.0, \"ymin\": -1.96, \"ymax\": 1.95}, {\"X\": 5.675675675675675, \"y\": 0.0, \"ymin\": -1.96, \"ymax\": 1.95}, {\"X\": 5.685685685685685, \"y\": 0.0, \"ymin\": -1.96, \"ymax\": 1.95}, {\"X\": 5.6956956956956954, \"y\": 0.0, \"ymin\": -1.96, \"ymax\": 1.95}, {\"X\": 5.7057057057057055, \"y\": 0.0, \"ymin\": -1.96, \"ymax\": 1.95}, {\"X\": 5.7157157157157155, \"y\": 0.0, \"ymin\": -1.96, \"ymax\": 1.95}, {\"X\": 5.7257257257257255, \"y\": 0.0, \"ymin\": -1.96, \"ymax\": 1.95}, {\"X\": 5.7357357357357355, \"y\": 0.0, \"ymin\": -1.96, \"ymax\": 1.95}, {\"X\": 5.7457457457457455, \"y\": 0.0, \"ymin\": -1.96, \"ymax\": 1.95}, {\"X\": 5.7557557557557555, \"y\": 0.0, \"ymin\": -1.96, \"ymax\": 1.95}, {\"X\": 5.7657657657657655, \"y\": 0.0, \"ymin\": -1.96, \"ymax\": 1.95}, {\"X\": 5.7757757757757755, \"y\": 0.0, \"ymin\": -1.96, \"ymax\": 1.95}, {\"X\": 5.7857857857857855, \"y\": 0.0, \"ymin\": -1.96, \"ymax\": 1.95}, {\"X\": 5.7957957957957955, \"y\": 0.0, \"ymin\": -1.96, \"ymax\": 1.95}, {\"X\": 5.8058058058058055, \"y\": 0.0, \"ymin\": -1.96, \"ymax\": 1.95}, {\"X\": 5.8158158158158155, \"y\": 0.0, \"ymin\": -1.96, \"ymax\": 1.95}, {\"X\": 5.8258258258258255, \"y\": 0.0, \"ymin\": -1.96, \"ymax\": 1.95}, {\"X\": 5.8358358358358355, \"y\": 0.0, \"ymin\": -1.96, \"ymax\": 1.95}, {\"X\": 5.8458458458458455, \"y\": 0.0, \"ymin\": -1.96, \"ymax\": 1.95}, {\"X\": 5.8558558558558556, \"y\": 0.0, \"ymin\": -1.96, \"ymax\": 1.95}, {\"X\": 5.865865865865866, \"y\": 0.0, \"ymin\": -1.96, \"ymax\": 1.95}, {\"X\": 5.875875875875876, \"y\": 0.0, \"ymin\": -1.96, \"ymax\": 1.95}, {\"X\": 5.885885885885886, \"y\": 0.0, \"ymin\": -1.96, \"ymax\": 1.95}, {\"X\": 5.895895895895896, \"y\": 0.0, \"ymin\": -1.96, \"ymax\": 1.95}, {\"X\": 5.905905905905906, \"y\": 0.0, \"ymin\": -1.96, \"ymax\": 1.95}, {\"X\": 5.915915915915916, \"y\": 0.0, \"ymin\": -1.96, \"ymax\": 1.95}, {\"X\": 5.925925925925926, \"y\": 0.0, \"ymin\": -1.96, \"ymax\": 1.95}, {\"X\": 5.935935935935936, \"y\": 0.0, \"ymin\": -1.96, \"ymax\": 1.95}, {\"X\": 5.945945945945946, \"y\": 0.0, \"ymin\": -1.96, \"ymax\": 1.95}, {\"X\": 5.955955955955956, \"y\": 0.0, \"ymin\": -1.96, \"ymax\": 1.95}, {\"X\": 5.965965965965966, \"y\": 0.0, \"ymin\": -1.96, \"ymax\": 1.95}, {\"X\": 5.975975975975976, \"y\": 0.0, \"ymin\": -1.96, \"ymax\": 1.95}, {\"X\": 5.985985985985986, \"y\": 0.0, \"ymin\": -1.96, \"ymax\": 1.95}, {\"X\": 5.995995995995996, \"y\": 0.0, \"ymin\": -1.96, \"ymax\": 1.95}, {\"X\": 6.006006006006006, \"y\": 0.0, \"ymin\": -1.96, \"ymax\": 1.95}, {\"X\": 6.016016016016016, \"y\": 0.0, \"ymin\": -1.96, \"ymax\": 1.95}, {\"X\": 6.026026026026026, \"y\": 0.0, \"ymin\": -1.96, \"ymax\": 1.95}, {\"X\": 6.036036036036036, \"y\": 0.0, \"ymin\": -1.96, \"ymax\": 1.95}, {\"X\": 6.046046046046046, \"y\": 0.0, \"ymin\": -1.96, \"ymax\": 1.95}, {\"X\": 6.056056056056056, \"y\": 0.0, \"ymin\": -1.96, \"ymax\": 1.95}, {\"X\": 6.066066066066066, \"y\": 0.0, \"ymin\": -1.96, \"ymax\": 1.95}, {\"X\": 6.076076076076076, \"y\": 0.0, \"ymin\": -1.96, \"ymax\": 1.95}, {\"X\": 6.086086086086086, \"y\": 0.0, \"ymin\": -1.96, \"ymax\": 1.95}, {\"X\": 6.096096096096096, \"y\": 0.0, \"ymin\": -1.96, \"ymax\": 1.95}, {\"X\": 6.106106106106106, \"y\": 0.0, \"ymin\": -1.96, \"ymax\": 1.95}, {\"X\": 6.116116116116116, \"y\": 0.0, \"ymin\": -1.96, \"ymax\": 1.95}, {\"X\": 6.126126126126126, \"y\": 0.0, \"ymin\": -1.96, \"ymax\": 1.95}, {\"X\": 6.136136136136136, \"y\": 0.0, \"ymin\": -1.96, \"ymax\": 1.95}, {\"X\": 6.146146146146146, \"y\": 0.0, \"ymin\": -1.96, \"ymax\": 1.95}, {\"X\": 6.156156156156156, \"y\": 0.0, \"ymin\": -1.96, \"ymax\": 1.95}, {\"X\": 6.166166166166166, \"y\": 0.0, \"ymin\": -1.96, \"ymax\": 1.95}, {\"X\": 6.176176176176176, \"y\": 0.0, \"ymin\": -1.96, \"ymax\": 1.95}, {\"X\": 6.186186186186186, \"y\": 0.0, \"ymin\": -1.96, \"ymax\": 1.95}, {\"X\": 6.196196196196196, \"y\": 0.0, \"ymin\": -1.96, \"ymax\": 1.95}, {\"X\": 6.206206206206206, \"y\": 0.0, \"ymin\": -1.96, \"ymax\": 1.95}, {\"X\": 6.216216216216216, \"y\": 0.0, \"ymin\": -1.96, \"ymax\": 1.95}, {\"X\": 6.226226226226226, \"y\": 0.0, \"ymin\": -1.96, \"ymax\": 1.95}, {\"X\": 6.236236236236236, \"y\": 0.0, \"ymin\": -1.96, \"ymax\": 1.95}, {\"X\": 6.246246246246246, \"y\": 0.0, \"ymin\": -1.96, \"ymax\": 1.95}, {\"X\": 6.256256256256256, \"y\": 0.0, \"ymin\": -1.96, \"ymax\": 1.95}, {\"X\": 6.266266266266266, \"y\": 0.0, \"ymin\": -1.96, \"ymax\": 1.95}, {\"X\": 6.276276276276276, \"y\": 0.0, \"ymin\": -1.96, \"ymax\": 1.95}, {\"X\": 6.286286286286286, \"y\": 0.0, \"ymin\": -1.96, \"ymax\": 1.95}, {\"X\": 6.296296296296296, \"y\": 0.0, \"ymin\": -1.96, \"ymax\": 1.95}, {\"X\": 6.306306306306306, \"y\": 0.0, \"ymin\": -1.96, \"ymax\": 1.95}, {\"X\": 6.316316316316316, \"y\": 0.0, \"ymin\": -1.96, \"ymax\": 1.95}, {\"X\": 6.326326326326326, \"y\": 0.0, \"ymin\": -1.96, \"ymax\": 1.95}, {\"X\": 6.336336336336336, \"y\": 0.0, \"ymin\": -1.96, \"ymax\": 1.95}, {\"X\": 6.346346346346346, \"y\": 0.0, \"ymin\": -1.96, \"ymax\": 1.95}, {\"X\": 6.356356356356356, \"y\": 0.0, \"ymin\": -1.96, \"ymax\": 1.95}, {\"X\": 6.366366366366366, \"y\": 0.0, \"ymin\": -1.96, \"ymax\": 1.95}, {\"X\": 6.376376376376376, \"y\": 0.0, \"ymin\": -1.96, \"ymax\": 1.95}, {\"X\": 6.386386386386386, \"y\": 0.0, \"ymin\": -1.96, \"ymax\": 1.95}, {\"X\": 6.396396396396396, \"y\": 0.0, \"ymin\": -1.96, \"ymax\": 1.95}, {\"X\": 6.406406406406406, \"y\": 0.0, \"ymin\": -1.96, \"ymax\": 1.95}, {\"X\": 6.416416416416417, \"y\": 0.0, \"ymin\": -1.96, \"ymax\": 1.95}, {\"X\": 6.426426426426427, \"y\": 0.0, \"ymin\": -1.96, \"ymax\": 1.95}, {\"X\": 6.436436436436437, \"y\": 0.0, \"ymin\": -1.96, \"ymax\": 1.95}, {\"X\": 6.446446446446447, \"y\": 0.0, \"ymin\": -1.96, \"ymax\": 1.95}, {\"X\": 6.456456456456457, \"y\": 0.0, \"ymin\": -1.96, \"ymax\": 1.95}, {\"X\": 6.466466466466467, \"y\": 0.0, \"ymin\": -1.96, \"ymax\": 1.95}, {\"X\": 6.476476476476477, \"y\": 0.0, \"ymin\": -1.96, \"ymax\": 1.95}, {\"X\": 6.486486486486487, \"y\": 0.0, \"ymin\": -1.96, \"ymax\": 1.95}, {\"X\": 6.496496496496497, \"y\": 0.0, \"ymin\": -1.96, \"ymax\": 1.95}, {\"X\": 6.506506506506507, \"y\": 0.0, \"ymin\": -1.96, \"ymax\": 1.95}, {\"X\": 6.516516516516517, \"y\": 0.0, \"ymin\": -1.96, \"ymax\": 1.95}, {\"X\": 6.526526526526527, \"y\": 0.0, \"ymin\": -1.96, \"ymax\": 1.95}, {\"X\": 6.536536536536537, \"y\": 0.0, \"ymin\": -1.96, \"ymax\": 1.95}, {\"X\": 6.546546546546547, \"y\": 0.0, \"ymin\": -1.96, \"ymax\": 1.95}, {\"X\": 6.556556556556557, \"y\": 0.0, \"ymin\": -1.96, \"ymax\": 1.95}, {\"X\": 6.566566566566567, \"y\": 0.0, \"ymin\": -1.96, \"ymax\": 1.95}, {\"X\": 6.576576576576577, \"y\": 0.0, \"ymin\": -1.96, \"ymax\": 1.95}, {\"X\": 6.586586586586587, \"y\": 0.0, \"ymin\": -1.96, \"ymax\": 1.95}, {\"X\": 6.596596596596597, \"y\": 0.0, \"ymin\": -1.96, \"ymax\": 1.95}, {\"X\": 6.606606606606607, \"y\": 0.0, \"ymin\": -1.96, \"ymax\": 1.95}, {\"X\": 6.616616616616617, \"y\": 0.0, \"ymin\": -1.96, \"ymax\": 1.95}, {\"X\": 6.626626626626627, \"y\": 0.0, \"ymin\": -1.96, \"ymax\": 1.95}, {\"X\": 6.636636636636637, \"y\": 0.0, \"ymin\": -1.96, \"ymax\": 1.95}, {\"X\": 6.646646646646647, \"y\": 0.0, \"ymin\": -1.96, \"ymax\": 1.95}, {\"X\": 6.656656656656657, \"y\": 0.0, \"ymin\": -1.96, \"ymax\": 1.95}, {\"X\": 6.666666666666667, \"y\": 0.0, \"ymin\": -1.96, \"ymax\": 1.95}, {\"X\": 6.676676676676677, \"y\": 0.0, \"ymin\": -1.96, \"ymax\": 1.95}, {\"X\": 6.686686686686687, \"y\": 0.0, \"ymin\": -1.96, \"ymax\": 1.95}, {\"X\": 6.696696696696697, \"y\": 0.0, \"ymin\": -1.96, \"ymax\": 1.95}, {\"X\": 6.706706706706707, \"y\": 0.0, \"ymin\": -1.96, \"ymax\": 1.95}, {\"X\": 6.716716716716717, \"y\": 0.0, \"ymin\": -1.96, \"ymax\": 1.95}, {\"X\": 6.726726726726727, \"y\": 0.0, \"ymin\": -1.96, \"ymax\": 1.95}, {\"X\": 6.736736736736737, \"y\": 0.0, \"ymin\": -1.96, \"ymax\": 1.95}, {\"X\": 6.746746746746747, \"y\": 0.0, \"ymin\": -1.96, \"ymax\": 1.95}, {\"X\": 6.756756756756757, \"y\": 0.0, \"ymin\": -1.96, \"ymax\": 1.95}, {\"X\": 6.766766766766767, \"y\": 0.0, \"ymin\": -1.96, \"ymax\": 1.95}, {\"X\": 6.776776776776777, \"y\": 0.0, \"ymin\": -1.96, \"ymax\": 1.95}, {\"X\": 6.786786786786787, \"y\": 0.0, \"ymin\": -1.96, \"ymax\": 1.95}, {\"X\": 6.796796796796797, \"y\": 0.0, \"ymin\": -1.96, \"ymax\": 1.95}, {\"X\": 6.806806806806807, \"y\": 0.0, \"ymin\": -1.96, \"ymax\": 1.95}, {\"X\": 6.816816816816817, \"y\": 0.0, \"ymin\": -1.96, \"ymax\": 1.95}, {\"X\": 6.826826826826827, \"y\": 0.0, \"ymin\": -1.96, \"ymax\": 1.95}, {\"X\": 6.836836836836837, \"y\": 0.0, \"ymin\": -1.96, \"ymax\": 1.95}, {\"X\": 6.846846846846847, \"y\": 0.0, \"ymin\": -1.96, \"ymax\": 1.95}, {\"X\": 6.856856856856857, \"y\": 0.0, \"ymin\": -1.96, \"ymax\": 1.95}, {\"X\": 6.866866866866867, \"y\": 0.0, \"ymin\": -1.96, \"ymax\": 1.95}, {\"X\": 6.876876876876877, \"y\": 0.0, \"ymin\": -1.96, \"ymax\": 1.95}, {\"X\": 6.886886886886887, \"y\": 0.0, \"ymin\": -1.96, \"ymax\": 1.95}, {\"X\": 6.896896896896897, \"y\": 0.0, \"ymin\": -1.96, \"ymax\": 1.95}, {\"X\": 6.906906906906907, \"y\": 0.0, \"ymin\": -1.96, \"ymax\": 1.95}, {\"X\": 6.916916916916917, \"y\": 0.0, \"ymin\": -1.96, \"ymax\": 1.95}, {\"X\": 6.926926926926927, \"y\": 0.0, \"ymin\": -1.96, \"ymax\": 1.95}, {\"X\": 6.936936936936937, \"y\": 0.0, \"ymin\": -1.96, \"ymax\": 1.95}, {\"X\": 6.946946946946947, \"y\": 0.0, \"ymin\": -1.96, \"ymax\": 1.95}, {\"X\": 6.956956956956957, \"y\": 0.0, \"ymin\": -1.96, \"ymax\": 1.95}, {\"X\": 6.966966966966967, \"y\": 0.0, \"ymin\": -1.96, \"ymax\": 1.95}, {\"X\": 6.976976976976977, \"y\": 0.0, \"ymin\": -1.96, \"ymax\": 1.95}, {\"X\": 6.986986986986987, \"y\": 0.0, \"ymin\": -1.96, \"ymax\": 1.95}, {\"X\": 6.996996996996997, \"y\": 0.0, \"ymin\": -1.96, \"ymax\": 1.95}, {\"X\": 7.007007007007007, \"y\": 0.0, \"ymin\": -1.96, \"ymax\": 1.95}, {\"X\": 7.017017017017017, \"y\": 0.0, \"ymin\": -1.96, \"ymax\": 1.95}, {\"X\": 7.027027027027027, \"y\": 0.0, \"ymin\": -1.96, \"ymax\": 1.95}, {\"X\": 7.037037037037037, \"y\": 0.0, \"ymin\": -1.96, \"ymax\": 1.95}, {\"X\": 7.047047047047047, \"y\": 0.0, \"ymin\": -1.96, \"ymax\": 1.95}, {\"X\": 7.057057057057057, \"y\": 0.0, \"ymin\": -1.96, \"ymax\": 1.95}, {\"X\": 7.067067067067067, \"y\": 0.0, \"ymin\": -1.96, \"ymax\": 1.95}, {\"X\": 7.077077077077077, \"y\": 0.0, \"ymin\": -1.96, \"ymax\": 1.95}, {\"X\": 7.087087087087087, \"y\": 0.0, \"ymin\": -1.96, \"ymax\": 1.95}, {\"X\": 7.097097097097097, \"y\": 0.0, \"ymin\": -1.96, \"ymax\": 1.95}, {\"X\": 7.107107107107107, \"y\": 0.0, \"ymin\": -1.96, \"ymax\": 1.95}, {\"X\": 7.117117117117117, \"y\": 0.0, \"ymin\": -1.96, \"ymax\": 1.95}, {\"X\": 7.127127127127127, \"y\": 0.0, \"ymin\": -1.96, \"ymax\": 1.95}, {\"X\": 7.137137137137137, \"y\": 0.0, \"ymin\": -1.96, \"ymax\": 1.95}, {\"X\": 7.147147147147147, \"y\": 0.0, \"ymin\": -1.96, \"ymax\": 1.95}, {\"X\": 7.157157157157157, \"y\": 0.0, \"ymin\": -1.96, \"ymax\": 1.95}, {\"X\": 7.167167167167167, \"y\": 0.0, \"ymin\": -1.96, \"ymax\": 1.95}, {\"X\": 7.177177177177177, \"y\": 0.0, \"ymin\": -1.96, \"ymax\": 1.95}, {\"X\": 7.187187187187187, \"y\": 0.0, \"ymin\": -1.96, \"ymax\": 1.95}, {\"X\": 7.197197197197197, \"y\": 0.0, \"ymin\": -1.96, \"ymax\": 1.95}, {\"X\": 7.207207207207207, \"y\": 0.0, \"ymin\": -1.96, \"ymax\": 1.95}, {\"X\": 7.217217217217217, \"y\": 0.0, \"ymin\": -1.96, \"ymax\": 1.95}, {\"X\": 7.227227227227227, \"y\": 0.0, \"ymin\": -1.96, \"ymax\": 1.95}, {\"X\": 7.237237237237237, \"y\": 0.0, \"ymin\": -1.96, \"ymax\": 1.95}, {\"X\": 7.247247247247247, \"y\": 0.0, \"ymin\": -1.96, \"ymax\": 1.95}, {\"X\": 7.257257257257257, \"y\": 0.0, \"ymin\": -1.96, \"ymax\": 1.95}, {\"X\": 7.267267267267267, \"y\": 0.0, \"ymin\": -1.96, \"ymax\": 1.95}, {\"X\": 7.277277277277277, \"y\": 0.0, \"ymin\": -1.96, \"ymax\": 1.95}, {\"X\": 7.287287287287287, \"y\": 0.0, \"ymin\": -1.96, \"ymax\": 1.95}, {\"X\": 7.297297297297297, \"y\": 0.0, \"ymin\": -1.96, \"ymax\": 1.95}, {\"X\": 7.307307307307307, \"y\": 0.0, \"ymin\": -1.96, \"ymax\": 1.95}, {\"X\": 7.317317317317317, \"y\": 0.0, \"ymin\": -1.96, \"ymax\": 1.95}, {\"X\": 7.327327327327327, \"y\": 0.0, \"ymin\": -1.96, \"ymax\": 1.95}, {\"X\": 7.337337337337337, \"y\": 0.0, \"ymin\": -1.96, \"ymax\": 1.95}, {\"X\": 7.347347347347347, \"y\": 0.0, \"ymin\": -1.96, \"ymax\": 1.95}, {\"X\": 7.357357357357357, \"y\": 0.0, \"ymin\": -1.96, \"ymax\": 1.95}, {\"X\": 7.367367367367367, \"y\": 0.0, \"ymin\": -1.96, \"ymax\": 1.95}, {\"X\": 7.377377377377377, \"y\": 0.0, \"ymin\": -1.96, \"ymax\": 1.95}, {\"X\": 7.387387387387387, \"y\": 0.0, \"ymin\": -1.96, \"ymax\": 1.95}, {\"X\": 7.397397397397397, \"y\": 0.0, \"ymin\": -1.96, \"ymax\": 1.95}, {\"X\": 7.407407407407407, \"y\": 0.0, \"ymin\": -1.96, \"ymax\": 1.95}, {\"X\": 7.4174174174174174, \"y\": 0.0, \"ymin\": -1.96, \"ymax\": 1.95}, {\"X\": 7.4274274274274275, \"y\": 0.0, \"ymin\": -1.96, \"ymax\": 1.95}, {\"X\": 7.4374374374374375, \"y\": 0.0, \"ymin\": -1.96, \"ymax\": 1.95}, {\"X\": 7.4474474474474475, \"y\": 0.0, \"ymin\": -1.96, \"ymax\": 1.95}, {\"X\": 7.4574574574574575, \"y\": 0.0, \"ymin\": -1.96, \"ymax\": 1.95}, {\"X\": 7.4674674674674675, \"y\": 0.0, \"ymin\": -1.96, \"ymax\": 1.95}, {\"X\": 7.4774774774774775, \"y\": 0.0, \"ymin\": -1.96, \"ymax\": 1.95}, {\"X\": 7.4874874874874875, \"y\": 0.0, \"ymin\": -1.96, \"ymax\": 1.95}, {\"X\": 7.4974974974974975, \"y\": 0.0, \"ymin\": -1.96, \"ymax\": 1.95}, {\"X\": 7.5075075075075075, \"y\": 0.0, \"ymin\": -1.96, \"ymax\": 1.95}, {\"X\": 7.5175175175175175, \"y\": 0.0, \"ymin\": -1.96, \"ymax\": 1.95}, {\"X\": 7.5275275275275275, \"y\": 0.0, \"ymin\": -1.96, \"ymax\": 1.95}, {\"X\": 7.5375375375375375, \"y\": 0.0, \"ymin\": -1.96, \"ymax\": 1.95}, {\"X\": 7.5475475475475475, \"y\": 0.0, \"ymin\": -1.96, \"ymax\": 1.95}, {\"X\": 7.5575575575575575, \"y\": 0.0, \"ymin\": -1.96, \"ymax\": 1.95}, {\"X\": 7.5675675675675675, \"y\": 0.0, \"ymin\": -1.96, \"ymax\": 1.95}, {\"X\": 7.5775775775775776, \"y\": 0.0, \"ymin\": -1.96, \"ymax\": 1.95}, {\"X\": 7.587587587587588, \"y\": 0.0, \"ymin\": -1.96, \"ymax\": 1.95}, {\"X\": 7.597597597597598, \"y\": 0.0, \"ymin\": -1.96, \"ymax\": 1.95}, {\"X\": 7.607607607607608, \"y\": 0.0, \"ymin\": -1.96, \"ymax\": 1.95}, {\"X\": 7.617617617617618, \"y\": 0.0, \"ymin\": -1.96, \"ymax\": 1.95}, {\"X\": 7.627627627627628, \"y\": 0.0, \"ymin\": -1.96, \"ymax\": 1.95}, {\"X\": 7.637637637637638, \"y\": 0.0, \"ymin\": -1.96, \"ymax\": 1.95}, {\"X\": 7.647647647647648, \"y\": 0.0, \"ymin\": -1.96, \"ymax\": 1.95}, {\"X\": 7.657657657657658, \"y\": 0.0, \"ymin\": -1.96, \"ymax\": 1.95}, {\"X\": 7.667667667667668, \"y\": 0.0, \"ymin\": -1.96, \"ymax\": 1.95}, {\"X\": 7.677677677677678, \"y\": 0.0, \"ymin\": -1.96, \"ymax\": 1.95}, {\"X\": 7.687687687687688, \"y\": 0.0, \"ymin\": -1.96, \"ymax\": 1.95}, {\"X\": 7.697697697697698, \"y\": 0.0, \"ymin\": -1.96, \"ymax\": 1.95}, {\"X\": 7.707707707707708, \"y\": 0.0, \"ymin\": -1.96, \"ymax\": 1.95}, {\"X\": 7.717717717717718, \"y\": 0.0, \"ymin\": -1.96, \"ymax\": 1.95}, {\"X\": 7.727727727727728, \"y\": 0.0, \"ymin\": -1.96, \"ymax\": 1.95}, {\"X\": 7.737737737737738, \"y\": 0.0, \"ymin\": -1.96, \"ymax\": 1.95}, {\"X\": 7.747747747747748, \"y\": 0.0, \"ymin\": -1.96, \"ymax\": 1.95}, {\"X\": 7.757757757757758, \"y\": 0.0, \"ymin\": -1.96, \"ymax\": 1.95}, {\"X\": 7.767767767767768, \"y\": 0.0, \"ymin\": -1.96, \"ymax\": 1.95}, {\"X\": 7.777777777777778, \"y\": 0.0, \"ymin\": -1.96, \"ymax\": 1.95}, {\"X\": 7.787787787787788, \"y\": 0.0, \"ymin\": -1.96, \"ymax\": 1.95}, {\"X\": 7.797797797797798, \"y\": 0.0, \"ymin\": -1.96, \"ymax\": 1.95}, {\"X\": 7.807807807807808, \"y\": 0.0, \"ymin\": -1.96, \"ymax\": 1.95}, {\"X\": 7.817817817817818, \"y\": 0.0, \"ymin\": -1.96, \"ymax\": 1.95}, {\"X\": 7.827827827827828, \"y\": 0.0, \"ymin\": -1.96, \"ymax\": 1.95}, {\"X\": 7.837837837837838, \"y\": 0.0, \"ymin\": -1.96, \"ymax\": 1.95}, {\"X\": 7.847847847847848, \"y\": 0.0, \"ymin\": -1.96, \"ymax\": 1.95}, {\"X\": 7.857857857857858, \"y\": 0.0, \"ymin\": -1.96, \"ymax\": 1.95}, {\"X\": 7.867867867867868, \"y\": 0.0, \"ymin\": -1.96, \"ymax\": 1.95}, {\"X\": 7.877877877877878, \"y\": 0.0, \"ymin\": -1.96, \"ymax\": 1.95}, {\"X\": 7.887887887887888, \"y\": 0.0, \"ymin\": -1.96, \"ymax\": 1.95}, {\"X\": 7.897897897897898, \"y\": 0.0, \"ymin\": -1.96, \"ymax\": 1.95}, {\"X\": 7.907907907907908, \"y\": 0.0, \"ymin\": -1.96, \"ymax\": 1.95}, {\"X\": 7.917917917917918, \"y\": 0.0, \"ymin\": -1.96, \"ymax\": 1.95}, {\"X\": 7.927927927927928, \"y\": 0.0, \"ymin\": -1.96, \"ymax\": 1.95}, {\"X\": 7.937937937937938, \"y\": 0.0, \"ymin\": -1.96, \"ymax\": 1.95}, {\"X\": 7.947947947947948, \"y\": 0.0, \"ymin\": -1.96, \"ymax\": 1.95}, {\"X\": 7.957957957957958, \"y\": 0.0, \"ymin\": -1.96, \"ymax\": 1.95}, {\"X\": 7.967967967967968, \"y\": 0.0, \"ymin\": -1.96, \"ymax\": 1.95}, {\"X\": 7.977977977977978, \"y\": 0.0, \"ymin\": -1.96, \"ymax\": 1.95}, {\"X\": 7.987987987987988, \"y\": 0.0, \"ymin\": -1.96, \"ymax\": 1.95}, {\"X\": 7.997997997997998, \"y\": 0.0, \"ymin\": -1.96, \"ymax\": 1.95}, {\"X\": 8.008008008008009, \"y\": 0.0, \"ymin\": -1.96, \"ymax\": 1.95}, {\"X\": 8.018018018018019, \"y\": 0.0, \"ymin\": -1.96, \"ymax\": 1.95}, {\"X\": 8.028028028028029, \"y\": 0.0, \"ymin\": -1.96, \"ymax\": 1.95}, {\"X\": 8.038038038038039, \"y\": 0.0, \"ymin\": -1.96, \"ymax\": 1.95}, {\"X\": 8.048048048048049, \"y\": 0.0, \"ymin\": -1.96, \"ymax\": 1.95}, {\"X\": 8.058058058058059, \"y\": 0.0, \"ymin\": -1.96, \"ymax\": 1.95}, {\"X\": 8.068068068068069, \"y\": 0.0, \"ymin\": -1.96, \"ymax\": 1.95}, {\"X\": 8.078078078078079, \"y\": 0.0, \"ymin\": -1.96, \"ymax\": 1.95}, {\"X\": 8.088088088088089, \"y\": 0.0, \"ymin\": -1.96, \"ymax\": 1.95}, {\"X\": 8.098098098098099, \"y\": 0.0, \"ymin\": -1.96, \"ymax\": 1.95}, {\"X\": 8.108108108108109, \"y\": 0.0, \"ymin\": -1.96, \"ymax\": 1.95}, {\"X\": 8.118118118118119, \"y\": 0.0, \"ymin\": -1.96, \"ymax\": 1.95}, {\"X\": 8.128128128128129, \"y\": 0.0, \"ymin\": -1.96, \"ymax\": 1.95}, {\"X\": 8.138138138138139, \"y\": 0.0, \"ymin\": -1.96, \"ymax\": 1.95}, {\"X\": 8.148148148148149, \"y\": 0.0, \"ymin\": -1.96, \"ymax\": 1.95}, {\"X\": 8.158158158158159, \"y\": 0.0, \"ymin\": -1.96, \"ymax\": 1.95}, {\"X\": 8.168168168168169, \"y\": 0.0, \"ymin\": -1.96, \"ymax\": 1.95}, {\"X\": 8.178178178178179, \"y\": 0.0, \"ymin\": -1.96, \"ymax\": 1.95}, {\"X\": 8.188188188188189, \"y\": 0.0, \"ymin\": -1.96, \"ymax\": 1.95}, {\"X\": 8.198198198198199, \"y\": 0.0, \"ymin\": -1.96, \"ymax\": 1.95}, {\"X\": 8.208208208208209, \"y\": 0.0, \"ymin\": -1.96, \"ymax\": 1.95}, {\"X\": 8.218218218218219, \"y\": 0.0, \"ymin\": -1.96, \"ymax\": 1.95}, {\"X\": 8.228228228228229, \"y\": 0.0, \"ymin\": -1.96, \"ymax\": 1.95}, {\"X\": 8.238238238238239, \"y\": 0.0, \"ymin\": -1.96, \"ymax\": 1.95}, {\"X\": 8.248248248248249, \"y\": 0.0, \"ymin\": -1.96, \"ymax\": 1.95}, {\"X\": 8.258258258258259, \"y\": 0.0, \"ymin\": -1.96, \"ymax\": 1.95}, {\"X\": 8.268268268268269, \"y\": 0.0, \"ymin\": -1.96, \"ymax\": 1.95}, {\"X\": 8.278278278278279, \"y\": 0.0, \"ymin\": -1.96, \"ymax\": 1.95}, {\"X\": 8.288288288288289, \"y\": 0.0, \"ymin\": -1.96, \"ymax\": 1.95}, {\"X\": 8.298298298298299, \"y\": 0.0, \"ymin\": -1.96, \"ymax\": 1.95}, {\"X\": 8.308308308308309, \"y\": 0.0, \"ymin\": -1.96, \"ymax\": 1.95}, {\"X\": 8.318318318318319, \"y\": 0.0, \"ymin\": -1.96, \"ymax\": 1.95}, {\"X\": 8.328328328328329, \"y\": 0.0, \"ymin\": -1.96, \"ymax\": 1.95}, {\"X\": 8.338338338338339, \"y\": 0.0, \"ymin\": -1.96, \"ymax\": 1.95}, {\"X\": 8.348348348348349, \"y\": 0.0, \"ymin\": -1.96, \"ymax\": 1.95}, {\"X\": 8.358358358358359, \"y\": 0.0, \"ymin\": -1.96, \"ymax\": 1.95}, {\"X\": 8.368368368368369, \"y\": 0.0, \"ymin\": -1.96, \"ymax\": 1.95}, {\"X\": 8.378378378378379, \"y\": 0.0, \"ymin\": -1.96, \"ymax\": 1.95}, {\"X\": 8.388388388388389, \"y\": 0.0, \"ymin\": -1.96, \"ymax\": 1.95}, {\"X\": 8.398398398398399, \"y\": 0.0, \"ymin\": -1.96, \"ymax\": 1.95}, {\"X\": 8.408408408408409, \"y\": 0.0, \"ymin\": -1.96, \"ymax\": 1.95}, {\"X\": 8.418418418418419, \"y\": 0.0, \"ymin\": -1.96, \"ymax\": 1.95}, {\"X\": 8.428428428428429, \"y\": 0.0, \"ymin\": -1.96, \"ymax\": 1.95}, {\"X\": 8.438438438438439, \"y\": 0.0, \"ymin\": -1.96, \"ymax\": 1.95}, {\"X\": 8.448448448448449, \"y\": 0.0, \"ymin\": -1.96, \"ymax\": 1.95}, {\"X\": 8.458458458458459, \"y\": 0.0, \"ymin\": -1.96, \"ymax\": 1.95}, {\"X\": 8.468468468468469, \"y\": 0.0, \"ymin\": -1.96, \"ymax\": 1.95}, {\"X\": 8.478478478478479, \"y\": 0.0, \"ymin\": -1.96, \"ymax\": 1.95}, {\"X\": 8.488488488488489, \"y\": 0.0, \"ymin\": -1.96, \"ymax\": 1.95}, {\"X\": 8.498498498498499, \"y\": 0.0, \"ymin\": -1.96, \"ymax\": 1.95}, {\"X\": 8.508508508508509, \"y\": 0.0, \"ymin\": -1.96, \"ymax\": 1.95}, {\"X\": 8.518518518518519, \"y\": 0.0, \"ymin\": -1.96, \"ymax\": 1.95}, {\"X\": 8.528528528528529, \"y\": 0.0, \"ymin\": -1.96, \"ymax\": 1.95}, {\"X\": 8.538538538538539, \"y\": 0.0, \"ymin\": -1.96, \"ymax\": 1.95}, {\"X\": 8.548548548548549, \"y\": 0.0, \"ymin\": -1.96, \"ymax\": 1.95}, {\"X\": 8.558558558558559, \"y\": 0.0, \"ymin\": -1.96, \"ymax\": 1.95}, {\"X\": 8.568568568568569, \"y\": 0.0, \"ymin\": -1.96, \"ymax\": 1.95}, {\"X\": 8.578578578578579, \"y\": 0.0, \"ymin\": -1.96, \"ymax\": 1.95}, {\"X\": 8.588588588588589, \"y\": 0.0, \"ymin\": -1.96, \"ymax\": 1.95}, {\"X\": 8.598598598598599, \"y\": 0.0, \"ymin\": -1.96, \"ymax\": 1.95}, {\"X\": 8.608608608608609, \"y\": 0.0, \"ymin\": -1.96, \"ymax\": 1.95}, {\"X\": 8.618618618618619, \"y\": 0.0, \"ymin\": -1.96, \"ymax\": 1.95}, {\"X\": 8.62862862862863, \"y\": 0.0, \"ymin\": -1.96, \"ymax\": 1.95}, {\"X\": 8.63863863863864, \"y\": 0.0, \"ymin\": -1.96, \"ymax\": 1.95}, {\"X\": 8.64864864864865, \"y\": 0.0, \"ymin\": -1.96, \"ymax\": 1.95}, {\"X\": 8.65865865865866, \"y\": 0.0, \"ymin\": -1.96, \"ymax\": 1.95}, {\"X\": 8.66866866866867, \"y\": 0.0, \"ymin\": -1.96, \"ymax\": 1.95}, {\"X\": 8.67867867867868, \"y\": 0.0, \"ymin\": -1.96, \"ymax\": 1.95}, {\"X\": 8.68868868868869, \"y\": 0.0, \"ymin\": -1.96, \"ymax\": 1.95}, {\"X\": 8.6986986986987, \"y\": 0.0, \"ymin\": -1.96, \"ymax\": 1.95}, {\"X\": 8.70870870870871, \"y\": 0.0, \"ymin\": -1.96, \"ymax\": 1.95}, {\"X\": 8.71871871871872, \"y\": 0.0, \"ymin\": -1.96, \"ymax\": 1.95}, {\"X\": 8.72872872872873, \"y\": 0.0, \"ymin\": -1.96, \"ymax\": 1.95}, {\"X\": 8.73873873873874, \"y\": 0.0, \"ymin\": -1.96, \"ymax\": 1.95}, {\"X\": 8.74874874874875, \"y\": 0.0, \"ymin\": -1.96, \"ymax\": 1.95}, {\"X\": 8.75875875875876, \"y\": 0.0, \"ymin\": -1.96, \"ymax\": 1.95}, {\"X\": 8.76876876876877, \"y\": 0.0, \"ymin\": -1.96, \"ymax\": 1.95}, {\"X\": 8.77877877877878, \"y\": 0.0, \"ymin\": -1.96, \"ymax\": 1.95}, {\"X\": 8.78878878878879, \"y\": 0.0, \"ymin\": -1.96, \"ymax\": 1.95}, {\"X\": 8.7987987987988, \"y\": 0.0, \"ymin\": -1.96, \"ymax\": 1.95}, {\"X\": 8.80880880880881, \"y\": 0.0, \"ymin\": -1.96, \"ymax\": 1.95}, {\"X\": 8.81881881881882, \"y\": 0.0, \"ymin\": -1.96, \"ymax\": 1.95}, {\"X\": 8.82882882882883, \"y\": 0.0, \"ymin\": -1.96, \"ymax\": 1.95}, {\"X\": 8.83883883883884, \"y\": 0.0, \"ymin\": -1.96, \"ymax\": 1.95}, {\"X\": 8.84884884884885, \"y\": 0.0, \"ymin\": -1.96, \"ymax\": 1.95}, {\"X\": 8.85885885885886, \"y\": 0.0, \"ymin\": -1.96, \"ymax\": 1.95}, {\"X\": 8.86886886886887, \"y\": 0.0, \"ymin\": -1.96, \"ymax\": 1.95}, {\"X\": 8.87887887887888, \"y\": 0.0, \"ymin\": -1.96, \"ymax\": 1.95}, {\"X\": 8.88888888888889, \"y\": 0.0, \"ymin\": -1.96, \"ymax\": 1.95}, {\"X\": 8.8988988988989, \"y\": 0.0, \"ymin\": -1.96, \"ymax\": 1.95}, {\"X\": 8.90890890890891, \"y\": 0.0, \"ymin\": -1.96, \"ymax\": 1.95}, {\"X\": 8.91891891891892, \"y\": 0.0, \"ymin\": -1.96, \"ymax\": 1.95}, {\"X\": 8.92892892892893, \"y\": 0.0, \"ymin\": -1.96, \"ymax\": 1.95}, {\"X\": 8.93893893893894, \"y\": 0.0, \"ymin\": -1.96, \"ymax\": 1.95}, {\"X\": 8.94894894894895, \"y\": 0.0, \"ymin\": -1.96, \"ymax\": 1.95}, {\"X\": 8.95895895895896, \"y\": 0.0, \"ymin\": -1.96, \"ymax\": 1.95}, {\"X\": 8.96896896896897, \"y\": 0.0, \"ymin\": -1.96, \"ymax\": 1.95}, {\"X\": 8.97897897897898, \"y\": 0.0, \"ymin\": -1.96, \"ymax\": 1.95}, {\"X\": 8.98898898898899, \"y\": 0.0, \"ymin\": -1.96, \"ymax\": 1.95}, {\"X\": 8.998998998999, \"y\": 0.0, \"ymin\": -1.96, \"ymax\": 1.95}, {\"X\": 9.00900900900901, \"y\": 0.0, \"ymin\": -1.96, \"ymax\": 1.95}, {\"X\": 9.01901901901902, \"y\": 0.0, \"ymin\": -1.96, \"ymax\": 1.95}, {\"X\": 9.02902902902903, \"y\": 0.0, \"ymin\": -1.96, \"ymax\": 1.95}, {\"X\": 9.03903903903904, \"y\": 0.0, \"ymin\": -1.96, \"ymax\": 1.95}, {\"X\": 9.04904904904905, \"y\": 0.0, \"ymin\": -1.96, \"ymax\": 1.95}, {\"X\": 9.05905905905906, \"y\": 0.0, \"ymin\": -1.96, \"ymax\": 1.95}, {\"X\": 9.06906906906907, \"y\": 0.0, \"ymin\": -1.96, \"ymax\": 1.95}, {\"X\": 9.07907907907908, \"y\": 0.0, \"ymin\": -1.96, \"ymax\": 1.95}, {\"X\": 9.08908908908909, \"y\": 0.0, \"ymin\": -1.96, \"ymax\": 1.95}, {\"X\": 9.0990990990991, \"y\": 0.0, \"ymin\": -1.96, \"ymax\": 1.95}, {\"X\": 9.10910910910911, \"y\": 0.0, \"ymin\": -1.96, \"ymax\": 1.95}, {\"X\": 9.11911911911912, \"y\": 0.0, \"ymin\": -1.96, \"ymax\": 1.95}, {\"X\": 9.12912912912913, \"y\": 0.0, \"ymin\": -1.96, \"ymax\": 1.95}, {\"X\": 9.13913913913914, \"y\": 0.0, \"ymin\": -1.96, \"ymax\": 1.95}, {\"X\": 9.14914914914915, \"y\": 0.0, \"ymin\": -1.96, \"ymax\": 1.95}, {\"X\": 9.15915915915916, \"y\": 0.0, \"ymin\": -1.96, \"ymax\": 1.95}, {\"X\": 9.16916916916917, \"y\": 0.0, \"ymin\": -1.96, \"ymax\": 1.95}, {\"X\": 9.17917917917918, \"y\": 0.0, \"ymin\": -1.96, \"ymax\": 1.95}, {\"X\": 9.18918918918919, \"y\": 0.0, \"ymin\": -1.96, \"ymax\": 1.95}, {\"X\": 9.1991991991992, \"y\": 0.0, \"ymin\": -1.96, \"ymax\": 1.95}, {\"X\": 9.20920920920921, \"y\": 0.0, \"ymin\": -1.96, \"ymax\": 1.95}, {\"X\": 9.21921921921922, \"y\": 0.0, \"ymin\": -1.96, \"ymax\": 1.95}, {\"X\": 9.22922922922923, \"y\": 0.0, \"ymin\": -1.96, \"ymax\": 1.95}, {\"X\": 9.23923923923924, \"y\": 0.0, \"ymin\": -1.96, \"ymax\": 1.95}, {\"X\": 9.24924924924925, \"y\": 0.0, \"ymin\": -1.96, \"ymax\": 1.95}, {\"X\": 9.25925925925926, \"y\": 0.0, \"ymin\": -1.96, \"ymax\": 1.95}, {\"X\": 9.26926926926927, \"y\": 0.0, \"ymin\": -1.96, \"ymax\": 1.95}, {\"X\": 9.27927927927928, \"y\": 0.0, \"ymin\": -1.96, \"ymax\": 1.95}, {\"X\": 9.28928928928929, \"y\": 0.0, \"ymin\": -1.96, \"ymax\": 1.95}, {\"X\": 9.2992992992993, \"y\": 0.0, \"ymin\": -1.96, \"ymax\": 1.95}, {\"X\": 9.30930930930931, \"y\": 0.0, \"ymin\": -1.96, \"ymax\": 1.95}, {\"X\": 9.31931931931932, \"y\": 0.0, \"ymin\": -1.96, \"ymax\": 1.95}, {\"X\": 9.32932932932933, \"y\": 0.0, \"ymin\": -1.96, \"ymax\": 1.95}, {\"X\": 9.33933933933934, \"y\": 0.0, \"ymin\": -1.96, \"ymax\": 1.95}, {\"X\": 9.34934934934935, \"y\": 0.0, \"ymin\": -1.96, \"ymax\": 1.95}, {\"X\": 9.35935935935936, \"y\": 0.0, \"ymin\": -1.96, \"ymax\": 1.95}, {\"X\": 9.36936936936937, \"y\": 0.0, \"ymin\": -1.96, \"ymax\": 1.95}, {\"X\": 9.37937937937938, \"y\": 0.0, \"ymin\": -1.96, \"ymax\": 1.95}, {\"X\": 9.38938938938939, \"y\": 0.0, \"ymin\": -1.96, \"ymax\": 1.95}, {\"X\": 9.3993993993994, \"y\": 0.0, \"ymin\": -1.96, \"ymax\": 1.95}, {\"X\": 9.40940940940941, \"y\": 0.0, \"ymin\": -1.96, \"ymax\": 1.95}, {\"X\": 9.41941941941942, \"y\": 0.0, \"ymin\": -1.96, \"ymax\": 1.95}, {\"X\": 9.42942942942943, \"y\": 0.0, \"ymin\": -1.96, \"ymax\": 1.95}, {\"X\": 9.43943943943944, \"y\": 0.0, \"ymin\": -1.96, \"ymax\": 1.95}, {\"X\": 9.44944944944945, \"y\": 0.0, \"ymin\": -1.96, \"ymax\": 1.95}, {\"X\": 9.45945945945946, \"y\": 0.0, \"ymin\": -1.96, \"ymax\": 1.95}, {\"X\": 9.46946946946947, \"y\": 0.0, \"ymin\": -1.96, \"ymax\": 1.95}, {\"X\": 9.47947947947948, \"y\": 0.0, \"ymin\": -1.96, \"ymax\": 1.95}, {\"X\": 9.48948948948949, \"y\": 0.0, \"ymin\": -1.96, \"ymax\": 1.95}, {\"X\": 9.4994994994995, \"y\": 0.0, \"ymin\": -1.96, \"ymax\": 1.95}, {\"X\": 9.50950950950951, \"y\": 0.0, \"ymin\": -1.96, \"ymax\": 1.95}, {\"X\": 9.51951951951952, \"y\": 0.0, \"ymin\": -1.96, \"ymax\": 1.95}, {\"X\": 9.52952952952953, \"y\": 0.0, \"ymin\": -1.96, \"ymax\": 1.95}, {\"X\": 9.53953953953954, \"y\": 0.0, \"ymin\": -1.96, \"ymax\": 1.95}, {\"X\": 9.54954954954955, \"y\": 0.0, \"ymin\": -1.96, \"ymax\": 1.95}, {\"X\": 9.55955955955956, \"y\": 0.0, \"ymin\": -1.96, \"ymax\": 1.95}, {\"X\": 9.56956956956957, \"y\": 0.0, \"ymin\": -1.96, \"ymax\": 1.95}, {\"X\": 9.57957957957958, \"y\": 0.0, \"ymin\": -1.96, \"ymax\": 1.95}, {\"X\": 9.58958958958959, \"y\": 0.0, \"ymin\": -1.96, \"ymax\": 1.95}, {\"X\": 9.5995995995996, \"y\": 0.0, \"ymin\": -1.96, \"ymax\": 1.95}, {\"X\": 9.60960960960961, \"y\": 0.0, \"ymin\": -1.96, \"ymax\": 1.95}, {\"X\": 9.61961961961962, \"y\": 0.0, \"ymin\": -1.96, \"ymax\": 1.95}, {\"X\": 9.62962962962963, \"y\": 0.0, \"ymin\": -1.96, \"ymax\": 1.95}, {\"X\": 9.63963963963964, \"y\": 0.0, \"ymin\": -1.96, \"ymax\": 1.95}, {\"X\": 9.64964964964965, \"y\": 0.0, \"ymin\": -1.96, \"ymax\": 1.95}, {\"X\": 9.65965965965966, \"y\": 0.0, \"ymin\": -1.96, \"ymax\": 1.95}, {\"X\": 9.66966966966967, \"y\": 0.0, \"ymin\": -1.96, \"ymax\": 1.95}, {\"X\": 9.67967967967968, \"y\": 0.0, \"ymin\": -1.96, \"ymax\": 1.95}, {\"X\": 9.68968968968969, \"y\": 0.0, \"ymin\": -1.96, \"ymax\": 1.95}, {\"X\": 9.6996996996997, \"y\": 0.0, \"ymin\": -1.96, \"ymax\": 1.95}, {\"X\": 9.70970970970971, \"y\": 0.0, \"ymin\": -1.96, \"ymax\": 1.95}, {\"X\": 9.71971971971972, \"y\": 0.0, \"ymin\": -1.96, \"ymax\": 1.95}, {\"X\": 9.72972972972973, \"y\": 0.0, \"ymin\": -1.96, \"ymax\": 1.95}, {\"X\": 9.73973973973974, \"y\": 0.0, \"ymin\": -1.96, \"ymax\": 1.95}, {\"X\": 9.74974974974975, \"y\": 0.0, \"ymin\": -1.96, \"ymax\": 1.95}, {\"X\": 9.75975975975976, \"y\": 0.0, \"ymin\": -1.96, \"ymax\": 1.95}, {\"X\": 9.76976976976977, \"y\": 0.0, \"ymin\": -1.96, \"ymax\": 1.95}, {\"X\": 9.77977977977978, \"y\": 0.0, \"ymin\": -1.96, \"ymax\": 1.95}, {\"X\": 9.78978978978979, \"y\": 0.0, \"ymin\": -1.96, \"ymax\": 1.95}, {\"X\": 9.7997997997998, \"y\": 0.0, \"ymin\": -1.96, \"ymax\": 1.95}, {\"X\": 9.80980980980981, \"y\": 0.0, \"ymin\": -1.96, \"ymax\": 1.95}, {\"X\": 9.81981981981982, \"y\": 0.0, \"ymin\": -1.96, \"ymax\": 1.95}, {\"X\": 9.82982982982983, \"y\": 0.0, \"ymin\": -1.96, \"ymax\": 1.95}, {\"X\": 9.83983983983984, \"y\": 0.0, \"ymin\": -1.96, \"ymax\": 1.95}, {\"X\": 9.84984984984985, \"y\": 0.0, \"ymin\": -1.96, \"ymax\": 1.95}, {\"X\": 9.85985985985986, \"y\": 0.0, \"ymin\": -1.96, \"ymax\": 1.95}, {\"X\": 9.86986986986987, \"y\": 0.0, \"ymin\": -1.96, \"ymax\": 1.95}, {\"X\": 9.87987987987988, \"y\": 0.0, \"ymin\": -1.96, \"ymax\": 1.95}, {\"X\": 9.88988988988989, \"y\": 0.0, \"ymin\": -1.96, \"ymax\": 1.95}, {\"X\": 9.8998998998999, \"y\": 0.0, \"ymin\": -1.96, \"ymax\": 1.95}, {\"X\": 9.90990990990991, \"y\": 0.0, \"ymin\": -1.96, \"ymax\": 1.95}, {\"X\": 9.91991991991992, \"y\": 0.0, \"ymin\": -1.96, \"ymax\": 1.95}, {\"X\": 9.92992992992993, \"y\": 0.0, \"ymin\": -1.96, \"ymax\": 1.95}, {\"X\": 9.93993993993994, \"y\": 0.0, \"ymin\": -1.96, \"ymax\": 1.95}, {\"X\": 9.94994994994995, \"y\": 0.0, \"ymin\": -1.96, \"ymax\": 1.95}, {\"X\": 9.95995995995996, \"y\": 0.0, \"ymin\": -1.96, \"ymax\": 1.95}, {\"X\": 9.96996996996997, \"y\": 0.0, \"ymin\": -1.96, \"ymax\": 1.95}, {\"X\": 9.97997997997998, \"y\": 0.0, \"ymin\": -1.96, \"ymax\": 1.95}, {\"X\": 9.98998998998999, \"y\": 0.0, \"ymin\": -1.96, \"ymax\": 1.95}, {\"X\": 10.0, \"y\": 0.0, \"ymin\": -1.96, \"ymax\": 1.95}], \"data-bf8072546c2cf667dd8534dd4a1b3339\": [{\"X\": 0.0, \"y\": 0.0}, {\"X\": 0.01001001001001001, \"y\": 0.00010019862705885069}, {\"X\": 0.02002002002002002, \"y\": 0.00040077442853800755}, {\"X\": 0.03003003003003003, \"y\": 0.0009016671683632474}, {\"X\": 0.04004004004004004, \"y\": 0.0016027764631370027}, {\"X\": 0.050050050050050046, \"y\": 0.0025039617972261573}, {\"X\": 0.06006006006006006, \"y\": 0.0036050425438821404}, {\"X\": 0.07007007007007007, \"y\": 0.004905797992390491}, {\"X\": 0.08008008008008008, \"y\": 0.00640596738124627}, {\"X\": 0.09009009009009009, \"y\": 0.008105249937350897}, {\"X\": 0.10010010010010009, \"y\": 0.01000330492122515}, {\"X\": 0.11011011011011011, \"y\": 0.012099751678232311}, {\"X\": 0.12012012012012012, \"y\": 0.0143941696958046}, {\"X\": 0.13013013013013014, \"y\": 0.01688609866666527}, {\"X\": 0.14014014014014015, \"y\": 0.019575038558037876}, {\"X\": 0.15015015015015015, \"y\": 0.022460449686833514}, {\"X\": 0.16016016016016016, \"y\": 0.025541752800805957}, {\"X\": 0.17017017017017017, \"y\": 0.028818329165663858}, {\"X\": 0.18018018018018017, \"y\": 0.032289520658128346}, {\"X\": 0.19019019019019018, \"y\": 0.03595462986492365}, {\"X\": 0.20020020020020018, \"y\": 0.039812920187687395}, {\"X\": 0.21021021021021022, \"y\": 0.04386361595378674}, {\"X\": 0.22022022022022023, \"y\": 0.048105902533025276}, {\"X\": 0.23023023023023023, \"y\": 0.052538926460225434}, {\"X\": 0.24024024024024024, \"y\": 0.05716179556366966}, {\"X\": 0.2502502502502503, \"y\": 0.061973579099383426}, {\"X\": 0.2602602602602603, \"y\": 0.06697330789124199}, {\"X\": 0.2702702702702703, \"y\": 0.07215997447688234}, {\"X\": 0.2802802802802803, \"y\": 0.0775325332594006}, {\"X\": 0.2902902902902903, \"y\": 0.08308990066481473}, {\"X\": 0.3003003003003003, \"y\": 0.08883095530527145}, {\"X\": 0.3103103103103103, \"y\": 0.09475453814797564}, {\"X\": 0.3203203203203203, \"y\": 0.10085945268981938}, {\"X\": 0.3303303303303303, \"y\": 0.1071444651376876}, {\"X\": 0.34034034034034033, \"y\": 0.11360830459441587}, {\"X\": 0.35035035035035034, \"y\": 0.12024966325037585}, {\"X\": 0.36036036036036034, \"y\": 0.1270671965806623}, {\"X\": 0.37037037037037035, \"y\": 0.13405952354785572}, {\"X\": 0.38038038038038036, \"y\": 0.14122522681033314}, {\"X\": 0.39039039039039036, \"y\": 0.14856285293609947}, {\"X\": 0.40040040040040037, \"y\": 0.1560709126221104}, {\"X\": 0.41041041041041043, \"y\": 0.16374788091905795}, {\"X\": 0.42042042042042044, \"y\": 0.1715921974615882}, {\"X\": 0.43043043043043044, \"y\": 0.1796022667039206}, {\"X\": 0.44044044044044045, \"y\": 0.18777645816083735}, {\"X\": 0.45045045045045046, \"y\": 0.19611310665401024}, {\"X\": 0.46046046046046046, \"y\": 0.20461051256363216}, {\"X\": 0.47047047047047047, \"y\": 0.21326694208531988}, {\"X\": 0.4804804804804805, \"y\": 0.22208062749225305}, {\"X\": 0.4904904904904905, \"y\": 0.23104976740251498}, {\"X\": 0.5005005005005005, \"y\": 0.24017252705159875}, {\"X\": 0.5105105105105106, \"y\": 0.24944703857004227}, {\"X\": 0.5205205205205206, \"y\": 0.25887140126615577}, {\"X\": 0.5305305305305306, \"y\": 0.26844368191380275}, {\"X\": 0.5405405405405406, \"y\": 0.2781619150451965}, {\"X\": 0.5505505505505506, \"y\": 0.28802410324867256}, {\"X\": 0.5605605605605606, \"y\": 0.2980282174713976}, {\"X\": 0.5705705705705706, \"y\": 0.30817219732697376}, {\"X\": 0.5805805805805806, \"y\": 0.31845395140789706}, {\"X\": 0.5905905905905906, \"y\": 0.32887135760282854}, {\"X\": 0.6006006006006006, \"y\": 0.3394222634186349}, {\"X\": 0.6106106106106106, \"y\": 0.35010448630715557}, {\"X\": 0.6206206206206206, \"y\": 0.36091581399665323}, {\"X\": 0.6306306306306306, \"y\": 0.3718540048279011}, {\"X\": 0.6406406406406406, \"y\": 0.3829167880948647}, {\"X\": 0.6506506506506506, \"y\": 0.3941018643899297}, {\"X\": 0.6606606606606606, \"y\": 0.4054069059536316}, {\"X\": 0.6706706706706707, \"y\": 0.4168295570288385}, {\"X\": 0.6806806806806807, \"y\": 0.4283674342193406}, {\"X\": 0.6906906906906907, \"y\": 0.4400181268527975}, {\"X\": 0.7007007007007007, \"y\": 0.4517791973479949}, {\"X\": 0.7107107107107107, \"y\": 0.46364818158636106}, {\"X\": 0.7207207207207207, \"y\": 0.4756225892876934}, {\"X\": 0.7307307307307307, \"y\": 0.4876999043900437}, {\"X\": 0.7407407407407407, \"y\": 0.4998775854337123}, {\"X\": 0.7507507507507507, \"y\": 0.5121530659492985}, {\"X\": 0.7607607607607607, \"y\": 0.5245237548497551}, {\"X\": 0.7707707707707707, \"y\": 0.5369870368263944}, {\"X\": 0.7807807807807807, \"y\": 0.5495402727487924}, {\"X\": 0.7907907907907907, \"y\": 0.5621808000685372}, {\"X\": 0.8008008008008007, \"y\": 0.5749059332267675}, {\"X\": 0.8108108108108109, \"y\": 0.5877129640654452}, {\"X\": 0.8208208208208209, \"y\": 0.6005991622423078}, {\"X\": 0.8308308308308309, \"y\": 0.6135617756494453}, {\"X\": 0.8408408408408409, \"y\": 0.6265980308354417}, {\"X\": 0.8508508508508509, \"y\": 0.6397051334310294}, {\"X\": 0.8608608608608609, \"y\": 0.6528802685781935}, {\"X\": 0.8708708708708709, \"y\": 0.6661206013626725}, {\"X\": 0.8808808808808809, \"y\": 0.6794232772497943}, {\"X\": 0.8908908908908909, \"y\": 0.6927854225235902}, {\"X\": 0.9009009009009009, \"y\": 0.7062041447291262}, {\"X\": 0.9109109109109109, \"y\": 0.7196765331179931}, {\"X\": 0.9209209209209209, \"y\": 0.7331996590968939}, {\"X\": 0.9309309309309309, \"y\": 0.7467705766792695}, {\"X\": 0.9409409409409409, \"y\": 0.7603863229398992}, {\"X\": 0.950950950950951, \"y\": 0.7740439184724174}, {\"X\": 0.960960960960961, \"y\": 0.7877403678496817}, {\"X\": 0.970970970970971, \"y\": 0.8014726600869324}, {\"X\": 0.980980980980981, \"y\": 0.8152377691076788}, {\"X\": 0.990990990990991, \"y\": 0.8290326542122504}, {\"X\": 1.001001001001001, \"y\": 0.8428542605489495}, {\"X\": 1.011011011011011, \"y\": 0.8566995195877402}, {\"X\": 1.021021021021021, \"y\": 0.8705653495964102}, {\"X\": 1.031031031031031, \"y\": 0.8844486561191419}, {\"X\": 1.0410410410410411, \"y\": 0.8983463324574259}, {\"X\": 1.0510510510510511, \"y\": 0.9122552601532515}, {\"X\": 1.0610610610610611, \"y\": 0.9261723094745125}, {\"X\": 1.0710710710710711, \"y\": 0.9400943399025553}, {\"X\": 1.0810810810810811, \"y\": 0.9540182006218112}, {\"X\": 1.0910910910910911, \"y\": 0.9679407310114391}, {\"X\": 1.1011011011011012, \"y\": 0.981858761138916}, {\"X\": 1.1111111111111112, \"y\": 0.9957691122555071}, {\"X\": 1.1211211211211212, \"y\": 1.0096685972935475}, {\"X\": 1.1311311311311312, \"y\": 1.023554021365468}, {\"X\": 1.1411411411411412, \"y\": 1.0374221822644973}, {\"X\": 1.1511511511511512, \"y\": 1.051269870966972}, {\"X\": 1.1611611611611612, \"y\": 1.065093872136187}, {\"X\": 1.1711711711711712, \"y\": 1.0788909646277134}, {\"X\": 1.1811811811811812, \"y\": 1.0926579219961232}, {\"X\": 1.1911911911911912, \"y\": 1.1063915130030415}, {\"X\": 1.2012012012012012, \"y\": 1.1200885021264653}, {\"X\": 1.2112112112112112, \"y\": 1.1337456500712728}, {\"X\": 1.2212212212212212, \"y\": 1.1473597142808594}, {\"X\": 1.2312312312312312, \"y\": 1.1609274494498245}, {\"X\": 1.2412412412412412, \"y\": 1.1744456080376438}, {\"X\": 1.2512512512512513, \"y\": 1.1879109407832529}, {\"X\": 1.2612612612612613, \"y\": 1.2013201972204757}, {\"X\": 1.2712712712712713, \"y\": 1.2146701261942217}, {\"X\": 1.2812812812812813, \"y\": 1.2279574763773868}, {\"X\": 1.2912912912912913, \"y\": 1.241178996788384}, {\"X\": 1.3013013013013013, \"y\": 1.254331437309231}, {\"X\": 1.3113113113113113, \"y\": 1.2674115492041282}, {\"X\": 1.3213213213213213, \"y\": 1.2804160856384523}, {\"X\": 1.3313313313313313, \"y\": 1.293341802198095}, {\"X\": 1.3413413413413413, \"y\": 1.3061854574090743}, {\"X\": 1.3513513513513513, \"y\": 1.3189438132573512}, {\"X\": 1.3613613613613613, \"y\": 1.3316136357087727}, {\"X\": 1.3713713713713713, \"y\": 1.344191695229077}, {\"X\": 1.3813813813813813, \"y\": 1.3566747673038846}, {\"X\": 1.3913913913913913, \"y\": 1.3690596329586038}, {\"X\": 1.4014014014014013, \"y\": 1.3813430792781811}, {\"X\": 1.4114114114114114, \"y\": 1.3935218999266228}, {\"X\": 1.4214214214214214, \"y\": 1.4055928956662158}, {\"X\": 1.4314314314314314, \"y\": 1.417552874876378}, {\"X\": 1.4414414414414414, \"y\": 1.4293986540720616}, {\"X\": 1.4514514514514514, \"y\": 1.4411270584216453}, {\"X\": 1.4614614614614614, \"y\": 1.4527349222642345}, {\"X\": 1.4714714714714714, \"y\": 1.4642190896263043}, {\"X\": 1.4814814814814814, \"y\": 1.4755764147376116}, {\"X\": 1.4914914914914914, \"y\": 1.486803762546303}, {\"X\": 1.5015015015015014, \"y\": 1.4978980092331498}, {\"X\": 1.5115115115115114, \"y\": 1.5088560427248359}, {\"X\": 1.5215215215215214, \"y\": 1.5196747632062282}, {\"X\": 1.5315315315315314, \"y\": 1.5303510836315586}, {\"X\": 1.5415415415415414, \"y\": 1.5408819302344463}, {\"X\": 1.5515515515515514, \"y\": 1.5512642430366852}, {\"X\": 1.5615615615615615, \"y\": 1.5614949763557349}, {\"X\": 1.5715715715715715, \"y\": 1.5715710993108303}, {\"X\": 1.5815815815815815, \"y\": 1.5814895963276552}, {\"X\": 1.5915915915915915, \"y\": 1.5912474676414934}, {\"X\": 1.6016016016016015, \"y\": 1.600841729798799}, {\"X\": 1.6116116116116117, \"y\": 1.610269416157108}, {\"X\": 1.6216216216216217, \"y\": 1.619527577383225}, {\"X\": 1.6316316316316317, \"y\": 1.628613281949613}, {\"X\": 1.6416416416416417, \"y\": 1.6375236166289173}, {\"X\": 1.6516516516516517, \"y\": 1.6462556869865526}, {\"X\": 1.6616616616616617, \"y\": 1.6548066178712861}, {\"X\": 1.6716716716716717, \"y\": 1.6631735539037449}, {\"X\": 1.6816816816816818, \"y\": 1.6713536599627803}, {\"X\": 1.6916916916916918, \"y\": 1.67934412166962}, {\"X\": 1.7017017017017018, \"y\": 1.6871421458697384}, {\"X\": 1.7117117117117118, \"y\": 1.6947449611123777}, {\"X\": 1.7217217217217218, \"y\": 1.7021498181276526}, {\"X\": 1.7317317317317318, \"y\": 1.70935399030117}, {\"X\": 1.7417417417417418, \"y\": 1.7163547741460936}, {\"X\": 1.7517517517517518, \"y\": 1.7231494897725912}, {\"X\": 1.7617617617617618, \"y\": 1.7297354813545953}, {\"X\": 1.7717717717717718, \"y\": 1.736110117593808}, {\"X\": 1.7817817817817818, \"y\": 1.7422707921808875}, {\"X\": 1.7917917917917918, \"y\": 1.7482149242537495}, {\"X\": 1.8018018018018018, \"y\": 1.7539399588529159}, {\"X\": 1.8118118118118118, \"y\": 1.759443367373848}, {\"X\": 1.8218218218218218, \"y\": 1.7647226480161962}, {\"X\": 1.8318318318318318, \"y\": 1.7697753262299045}, {\"X\": 1.8418418418418419, \"y\": 1.7745989551581043}, {\"X\": 1.8518518518518519, \"y\": 1.7791911160767337}, {\"X\": 1.8618618618618619, \"y\": 1.7835494188308176}, {\"X\": 1.8718718718718719, \"y\": 1.7876715022673473}, {\"X\": 1.8818818818818819, \"y\": 1.7915550346646965}, {\"X\": 1.8918918918918919, \"y\": 1.7951977141585096}, {\"X\": 1.901901901901902, \"y\": 1.7985972691640035}, {\"X\": 1.911911911911912, \"y\": 1.8017514587946173}, {\"X\": 1.921921921921922, \"y\": 1.804658073276953}, {\"X\": 1.931931931931932, \"y\": 1.807314934361944}, {\"X\": 1.941941941941942, \"y\": 1.8097198957321905}, {\"X\": 1.951951951951952, \"y\": 1.8118708434054065}, {\"X\": 1.961961961961962, \"y\": 1.813765696133912}, {\"X\": 1.971971971971972, \"y\": 1.8154024058001186}, {\"X\": 1.981981981981982, \"y\": 1.8167789578079447}, {\"X\": 1.991991991991992, \"y\": 1.8178933714701084}, {\"X\": 2.002002002002002, \"y\": 1.8187437003912312}, {\"X\": 2.012012012012012, \"y\": 1.8193280328467076}, {\"X\": 2.022022022022022, \"y\": 1.8196444921572745}, {\"X\": 2.032032032032032, \"y\": 1.8196912370592286}, {\"X\": 2.042042042042042, \"y\": 1.8194664620702368}, {\"X\": 2.052052052052052, \"y\": 1.8189683978506848}, {\"X\": 2.062062062062062, \"y\": 1.8181953115605047}, {\"X\": 2.0720720720720722, \"y\": 1.8171455072114382}, {\"X\": 2.0820820820820822, \"y\": 1.81581732601467}, {\"X\": 2.0920920920920922, \"y\": 1.8142091467237882}, {\"X\": 2.1021021021021022, \"y\": 1.8123193859730162}, {\"X\": 2.1121121121121122, \"y\": 1.8101464986106615}, {\"X\": 2.1221221221221223, \"y\": 1.8076889780277363}, {\"X\": 2.1321321321321323, \"y\": 1.8049453564816977}, {\"X\": 2.1421421421421423, \"y\": 1.801914205415252}, {\"X\": 2.1521521521521523, \"y\": 1.7985941357701842}, {\"X\": 2.1621621621621623, \"y\": 1.7949837982961556}, {\"X\": 2.1721721721721723, \"y\": 1.7910818838544247}, {\"X\": 2.1821821821821823, \"y\": 1.7868871237164459}, {\"X\": 2.1921921921921923, \"y\": 1.7823982898572959}, {\"X\": 2.2022022022022023, \"y\": 1.7776141952438826}, {\"X\": 2.2122122122122123, \"y\": 1.772533694117895}, {\"X\": 2.2222222222222223, \"y\": 1.7671556822734424}, {\"X\": 2.2322322322322323, \"y\": 1.761479097329344}, {\"X\": 2.2422422422422423, \"y\": 1.7555029189960234}, {\"X\": 2.2522522522522523, \"y\": 1.7492261693369686}, {\"X\": 2.2622622622622623, \"y\": 1.7426479130247063}, {\"X\": 2.2722722722722724, \"y\": 1.7357672575912615}, {\"X\": 2.2822822822822824, \"y\": 1.7285833536730508}, {\"X\": 2.2922922922922924, \"y\": 1.721095395250176}, {\"X\": 2.3023023023023024, \"y\": 1.7133026198800747}, {\"X\": 2.3123123123123124, \"y\": 1.705204308925493}, {\"X\": 2.3223223223223224, \"y\": 1.6967997877767371}, {\"X\": 2.3323323323323324, \"y\": 1.6880884260681717}, {\"X\": 2.3423423423423424, \"y\": 1.6790696378889252}, {\"X\": 2.3523523523523524, \"y\": 1.6697428819877669}, {\"X\": 2.3623623623623624, \"y\": 1.6601076619721213}, {\"X\": 2.3723723723723724, \"y\": 1.6501635265011856}, {\"X\": 2.3823823823823824, \"y\": 1.6399100694731128}, {\"X\": 2.3923923923923924, \"y\": 1.6293469302062344}, {\"X\": 2.4024024024024024, \"y\": 1.618473793614284}, {\"X\": 2.4124124124124124, \"y\": 1.607290390375593}, {\"X\": 2.4224224224224224, \"y\": 1.5957964970962286}, {\"X\": 2.4324324324324325, \"y\": 1.5839919364670423}, {\"X\": 2.4424424424424425, \"y\": 1.5718765774145993}, {\"X\": 2.4524524524524525, \"y\": 1.5594503352459645}, {\"X\": 2.4624624624624625, \"y\": 1.5467131717873102}, {\"X\": 2.4724724724724725, \"y\": 1.5336650955163256}, {\"X\": 2.4824824824824825, \"y\": 1.5203061616883984}, {\"X\": 2.4924924924924925, \"y\": 1.5066364724565433}, {\"X\": 2.5025025025025025, \"y\": 1.4926561769850533}, {\"X\": 2.5125125125125125, \"y\": 1.47836547155685}, {\"X\": 2.5225225225225225, \"y\": 1.4637645996745101}, {\"X\": 2.5325325325325325, \"y\": 1.4488538521549454}, {\"X\": 2.5425425425425425, \"y\": 1.4336335672177156}, {\"X\": 2.5525525525525525, \"y\": 1.4181041305669517}, {\"X\": 2.5625625625625625, \"y\": 1.4022659754668723}, {\"X\": 2.5725725725725725, \"y\": 1.3861195828108717}, {\"X\": 2.5825825825825826, \"y\": 1.3696654811841653}, {\"X\": 2.5925925925925926, \"y\": 1.3529042469199684}, {\"X\": 2.6026026026026026, \"y\": 1.3358365041491982}, {\"X\": 2.6126126126126126, \"y\": 1.3184629248436806}, {\"X\": 2.6226226226226226, \"y\": 1.3007842288528466}, {\"X\": 2.6326326326326326, \"y\": 1.2828011839339057}, {\"X\": 2.6426426426426426, \"y\": 1.2645146057754797}, {\"X\": 2.6526526526526526, \"y\": 1.245925358014688}, {\"X\": 2.6626626626626626, \"y\": 1.2270343522476737}, {\"X\": 2.6726726726726726, \"y\": 1.207842548033553}, {\"X\": 2.6826826826826826, \"y\": 1.1883509528917868}, {\"X\": 2.6926926926926926, \"y\": 1.1685606222929585}, {\"X\": 2.7027027027027026, \"y\": 1.1484726596429535}, {\"X\": 2.7127127127127126, \"y\": 1.128088216260531}, {\"X\": 2.7227227227227226, \"y\": 1.1074084913482827}, {\"X\": 2.7327327327327327, \"y\": 1.0864347319569734}, {\"X\": 2.7427427427427427, \"y\": 1.0651682329432546}, {\"X\": 2.7527527527527527, \"y\": 1.0436103369207537}, {\"X\": 2.7627627627627627, \"y\": 1.0217624342045282}, {\"X\": 2.7727727727727727, \"y\": 0.999625962748889}, {\"X\": 2.7827827827827827, \"y\": 0.977202408078587}, {\"X\": 2.7927927927927927, \"y\": 0.9544933032133638}, {\"X\": 2.8028028028028027, \"y\": 0.9315002285858681}, {\"X\": 2.8128128128128127, \"y\": 0.9082248119529355}, {\"X\": 2.8228228228228227, \"y\": 0.8846687283002376}, {\"X\": 2.8328328328328327, \"y\": 0.8608336997402996}, {\"X\": 2.8428428428428427, \"y\": 0.8367214954038927}, {\"X\": 2.8528528528528527, \"y\": 0.8123339313248045}, {\"X\": 2.8628628628628627, \"y\": 0.7876728703179916}, {\"X\": 2.8728728728728727, \"y\": 0.7627402218511246}, {\"X\": 2.8828828828828827, \"y\": 0.7375379419095265}, {\"X\": 2.8928928928928928, \"y\": 0.7120680328545188}, {\"X\": 2.9029029029029028, \"y\": 0.6863325432751789}, {\"X\": 2.9129129129129128, \"y\": 0.6603335678335215}, {\"X\": 2.9229229229229228, \"y\": 0.6340732471031131}, {\"X\": 2.932932932932933, \"y\": 0.6075537674011312}, {\"X\": 2.942942942942943, \"y\": 0.5807773606138806}, {\"X\": 2.952952952952953, \"y\": 0.55374630401578}, {\"X\": 2.962962962962963, \"y\": 0.5264629200818307}, {\"X\": 2.972972972972973, \"y\": 0.4989295762935868}, {\"X\": 2.982982982982983, \"y\": 0.4711486849386365}, {\"X\": 2.992992992992993, \"y\": 0.4431227029036156}, {\"X\": 3.003003003003003, \"y\": 0.41485413146076844}, {\"X\": 3.013013013013013, \"y\": 0.38634551604807427}, {\"X\": 3.023023023023023, \"y\": 0.3575994460429591}, {\"X\": 3.033033033033033, \"y\": 0.3286185545296116}, {\"X\": 3.043043043043043, \"y\": 0.2994055180599246}, {\"X\": 3.053053053053053, \"y\": 0.26996305640808294}, {\"X\": 3.063063063063063, \"y\": 0.2402939323188208}, {\"X\": 3.073073073073073, \"y\": 0.21040095124937075}, {\"X\": 3.083083083083083, \"y\": 0.18028696110512943}, {\"X\": 3.093093093093093, \"y\": 0.1499548519690634}, {\"X\": 3.103103103103103, \"y\": 0.11940755582488254}, {\"X\": 3.113113113113113, \"y\": 0.08864804627400559}, {\"X\": 3.123123123123123, \"y\": 0.05767933824634669}, {\"X\": 3.133133133133133, \"y\": 0.026504487704949925}, {\"X\": 3.143143143143143, \"y\": -0.004873408655498657}, {\"X\": 3.153153153153153, \"y\": -0.036451213716251894}, {\"X\": 3.163163163163163, \"y\": -0.06822575024814478}, {\"X\": 3.173173173173173, \"y\": -0.10019380123126885}, {\"X\": 3.183183183183183, \"y\": -0.13235211018064508}, {\"X\": 3.193193193193193, \"y\": -0.16469738147786325}, {\"X\": 3.203203203203203, \"y\": -0.19722628070865275}, {\"X\": 3.2132132132132134, \"y\": -0.229935435006353}, {\"X\": 3.2232232232232234, \"y\": -0.26282143340123837}, {\"X\": 3.2332332332332334, \"y\": -0.29588082717568387}, {\"X\": 3.2432432432432434, \"y\": -0.32911013022510566}, {\"X\": 3.2532532532532534, \"y\": -0.3625058194246598}, {\"X\": 3.2632632632632634, \"y\": -0.3960643350016528}, {\"X\": 3.2732732732732734, \"y\": -0.42978208091362585}, {\"X\": 3.2832832832832834, \"y\": -0.4636554252320724}, {\"X\": 3.2932932932932935, \"y\": -0.49768070053174945}, {\"X\": 3.3033033033033035, \"y\": -0.5318542042855389}, {\"X\": 3.3133133133133135, \"y\": -0.5661721992648184}, {\"X\": 3.3233233233233235, \"y\": -0.6006309139452992}, {\"X\": 3.3333333333333335, \"y\": -0.6352265429182846}, {\"X\": 3.3433433433433435, \"y\": -0.6699552473073065}, {\"X\": 3.3533533533533535, \"y\": -0.7048131551900945}, {\"X\": 3.3633633633633635, \"y\": -0.7397963620258311}, {\"X\": 3.3733733733733735, \"y\": -0.7749009310876468}, {\"X\": 3.3833833833833835, \"y\": -0.8101228939003065}, {\"X\": 3.3933933933933935, \"y\": -0.8454582506830399}, {\"X\": 3.4034034034034035, \"y\": -0.8809029707974682}, {\"X\": 3.4134134134134135, \"y\": -0.9164529932005735}, {\"X\": 3.4234234234234235, \"y\": -0.9521042269026668}, {\"X\": 3.4334334334334335, \"y\": -0.9878525514302965}, {\"X\": 3.4434434434434436, \"y\": -1.0236938172940515}, {\"X\": 3.4534534534534536, \"y\": -1.0596238464612042}, {\"X\": 3.4634634634634636, \"y\": -1.0956384328331383}, {\"X\": 3.4734734734734736, \"y\": -1.1317333427275136}, {\"X\": 3.4834834834834836, \"y\": -1.1679043153651056}, {\"X\": 3.4934934934934936, \"y\": -1.2041470633612712}, {\"X\": 3.5035035035035036, \"y\": -1.240457273221982}, {\"X\": 3.5135135135135136, \"y\": -1.276830605844369}, {\"X\": 3.5235235235235236, \"y\": -1.3132626970217225}, {\"X\": 3.5335335335335336, \"y\": -1.3497491579528877}, {\"X\": 3.5435435435435436, \"y\": -1.3862855757560006}, {\"X\": 3.5535535535535536, \"y\": -1.4228675139865037}, {\"X\": 3.5635635635635636, \"y\": -1.4594905131593805}, {\"X\": 3.5735735735735736, \"y\": -1.496150091275552}, {\"X\": 3.5835835835835836, \"y\": -1.5328417443523723}, {\"X\": 3.5935935935935936, \"y\": -1.5695609469581613}, {\"X\": 3.6036036036036037, \"y\": -1.606303152750715}, {\"X\": 3.6136136136136137, \"y\": -1.6430637950197302}, {\"X\": 3.6236236236236237, \"y\": -1.6798382872330777}, {\"X\": 3.6336336336336337, \"y\": -1.7166220235868646}, {\"X\": 3.6436436436436437, \"y\": -1.7534103795592197}, {\"X\": 3.6536536536536537, \"y\": -1.7901987124677354}, {\"X\": 3.6636636636636637, \"y\": -1.8269823620305046}, {\"X\": 3.6736736736736737, \"y\": -1.8637566509306822}, {\"X\": 3.6836836836836837, \"y\": -1.900516885384512}, {\"X\": 3.6936936936936937, \"y\": -1.9372583557127412}, {\"X\": 3.7037037037037037, \"y\": -1.9739763369153667}, {\"X\": 3.7137137137137137, \"y\": -2.010666089249639}, {\"X\": 3.7237237237237237, \"y\": -2.0473228588112526}, {\"X\": 3.7337337337337337, \"y\": -2.0839418781186634}, {\"X\": 3.7437437437437437, \"y\": -2.1205183667004537}, {\"X\": 3.7537537537537538, \"y\": -2.1570475316856825}, {\"X\": 3.7637637637637638, \"y\": -2.193524568397145}, {\"X\": 3.7737737737737738, \"y\": -2.229944660947475}, {\"X\": 3.7837837837837838, \"y\": -2.266302982838017}, {\"X\": 3.793793793793794, \"y\": -2.3025946975603935}, {\"X\": 3.803803803803804, \"y\": -2.3388149592007053}, {\"X\": 3.813813813813814, \"y\": -2.3749589130462785}, {\"X\": 3.823823823823824, \"y\": -2.411021696194893}, {\"X\": 3.833833833833834, \"y\": -2.446998438166425}, {\"X\": 3.843843843843844, \"y\": -2.4828842615168134}, {\"X\": 3.853853853853854, \"y\": -2.518674282454292}, {\"X\": 3.863863863863864, \"y\": -2.5543636114578048}, {\"X\": 3.873873873873874, \"y\": -2.5899473538975326}, {\"X\": 3.883883883883884, \"y\": -2.625420610657451}, {\"X\": 3.893893893893894, \"y\": -2.660778478759852}, {\"X\": 3.903903903903904, \"y\": -2.6960160519917427}, {\"X\": 3.913913913913914, \"y\": -2.7311284215330582}, {\"X\": 3.923923923923924, \"y\": -2.766110676586601}, {\"X\": 3.933933933933934, \"y\": -2.8009579050096294}, {\"X\": 3.943943943943944, \"y\": -2.835665193947031}, {\"X\": 3.953953953953954, \"y\": -2.8702276304659873}, {\"X\": 3.963963963963964, \"y\": -2.9046403021920626}, {\"X\": 3.973973973973974, \"y\": -2.938898297946632}, {\"X\": 3.983983983983984, \"y\": -2.972996708385578}, {\"X\": 3.993993993993994, \"y\": -3.006930626639167}, {\"X\": 4.004004004004004, \"y\": -3.0406951489530396}, {\"X\": 4.014014014014014, \"y\": -3.0742853753302155}, {\"X\": 4.024024024024024, \"y\": -3.107696410174063}, {\"X\": 4.034034034034034, \"y\": -3.140923362932123}, {\"X\": 4.044044044044044, \"y\": -3.1739613487407254}, {\"X\": 4.054054054054054, \"y\": -3.2068054890703173}, {\"X\": 4.064064064064064, \"y\": -3.239450912371413}, {\"X\": 4.074074074074074, \"y\": -3.2718927547210943}, {\"X\": 4.084084084084084, \"y\": -3.3041261604699814}, {\"X\": 4.094094094094094, \"y\": -3.3361462828895814}, {\"X\": 4.104104104104104, \"y\": -3.3679482848199482}, {\"X\": 4.114114114114114, \"y\": -3.3995273393175642}, {\"X\": 4.124124124124124, \"y\": -3.4308786303033654}, {\"X\": 4.134134134134134, \"y\": -3.4619973532108257}, {\"X\": 4.1441441441441444, \"y\": -3.4928787156340224}, {\"X\": 4.1541541541541545, \"y\": -3.523517937975599}, {\"X\": 4.1641641641641645, \"y\": -3.553910254094547}, {\"X\": 4.1741741741741745, \"y\": -3.5840509119537143}, {\"X\": 4.1841841841841845, \"y\": -3.613935174266978}, {\"X\": 4.1941941941941945, \"y\": -3.643558319145977}, {\"X\": 4.2042042042042045, \"y\": -3.672915640746339}, {\"X\": 4.2142142142142145, \"y\": -3.7020024499133104}, {\"X\": 4.2242242242242245, \"y\": -3.7308140748267173}, {\"X\": 4.2342342342342345, \"y\": -3.7593458616451567}, {\"X\": 4.2442442442442445, \"y\": -3.78759317514936}, {\"X\": 4.2542542542542545, \"y\": -3.815551399384627}, {\"X\": 4.2642642642642645, \"y\": -3.843215938302255}, {\"X\": 4.2742742742742745, \"y\": -3.8705822163998884}, {\"X\": 4.2842842842842845, \"y\": -3.8976456793606884}, {\"X\": 4.2942942942942945, \"y\": -3.9244017946912617}, {\"X\": 4.3043043043043046, \"y\": -3.950846052358252}, {\"X\": 4.314314314314315, \"y\": -3.9769739654235132}, {\"X\": 4.324324324324325, \"y\": -4.00278107067779}, {\"X\": 4.334334334334335, \"y\": -4.028262929272822}, {\"X\": 4.344344344344345, \"y\": -4.053415127351774}, {\"X\": 4.354354354354355, \"y\": -4.0782332766779374}, {\"X\": 4.364364364364365, \"y\": -4.102713015261602}, {\"X\": 4.374374374374375, \"y\": -4.126850007985022}, {\"X\": 4.384384384384385, \"y\": -4.150639947225389}, {\"X\": 4.394394394394395, \"y\": -4.174078553475748}, {\"X\": 4.404404404404405, \"y\": -4.197161575963751}, {\"X\": 4.414414414414415, \"y\": -4.219884793268189}, {\"X\": 4.424424424424425, \"y\": -4.242244013933206}, {\"X\": 4.434434434434435, \"y\": -4.264235077080124}, {\"X\": 4.444444444444445, \"y\": -4.285853853016792}, {\"X\": 4.454454454454455, \"y\": -4.307096243844387}, {\"X\": 4.464464464464465, \"y\": -4.327958184061571}, {\"X\": 4.474474474474475, \"y\": -4.348435641165947}, {\"X\": 4.484484484484485, \"y\": -4.368524616252714}, {\"X\": 4.494494494494495, \"y\": -4.388221144610445}, {\"X\": 4.504504504504505, \"y\": -4.407521296313932}, {\"X\": 4.514514514514515, \"y\": -4.426421176813972}, {\"X\": 4.524524524524525, \"y\": -4.44491692752407}, {\"X\": 4.534534534534535, \"y\": -4.463004726403937}, {\"X\": 4.544544544544545, \"y\": -4.480680788539724}, {\"X\": 4.554554554554555, \"y\": -4.49794136672092}, {\"X\": 4.564564564564565, \"y\": -4.514782752013822}, {\"X\": 4.574574574574575, \"y\": -4.531201274331501}, {\"X\": 4.584584584584585, \"y\": -4.5471933030002}, {\"X\": 4.594594594594595, \"y\": -4.562755247322081}, {\"X\": 4.604604604604605, \"y\": -4.577883557134229}, {\"X\": 4.614614614614615, \"y\": -4.592574723363869}, {\"X\": 4.624624624624625, \"y\": -4.606825278579686}, {\"X\": 4.634634634634635, \"y\": -4.6206317975392}, {\"X\": 4.644644644644645, \"y\": -4.633990897732107}, {\"X\": 4.654654654654655, \"y\": -4.64689923991951}, {\"X\": 4.664664664664665, \"y\": -4.659353528668979}, {\"X\": 4.674674674674675, \"y\": -4.6713505128853505}, {\"X\": 4.684684684684685, \"y\": -4.682886986337203}, {\"X\": 4.694694694694695, \"y\": -4.693959788178934}, {\"X\": 4.704704704704705, \"y\": -4.704565803468368}, {\"X\": 4.714714714714715, \"y\": -4.714701963679812}, {\"X\": 4.724724724724725, \"y\": -4.7243652472125035}, {\"X\": 4.734734734734735, \"y\": -4.733552679894369}, {\"X\": 4.744744744744745, \"y\": -4.742261335481028}, {\"X\": 4.754754754754755, \"y\": -4.750488336149967}, {\"X\": 4.764764764764765, \"y\": -4.758230852989817}, {\"X\": 4.774774774774775, \"y\": -4.765486106484666}, {\"X\": 4.784784784784785, \"y\": -4.772251366993338}, {\"X\": 4.794794794794795, \"y\": -4.778523955223565}, {\"X\": 4.804804804804805, \"y\": -4.784301242700996}, {\"X\": 4.814814814814815, \"y\": -4.78958065223296}, {\"X\": 4.824824824824825, \"y\": -4.794359658366931}, {\"X\": 4.834834834834835, \"y\": -4.79863578784362}, {\"X\": 4.844844844844845, \"y\": -4.802406620044633}, {\"X\": 4.854854854854855, \"y\": -4.80566978743463}, {\"X\": 4.864864864864865, \"y\": -4.808422975997917}, {\"X\": 4.874874874874875, \"y\": -4.810663925669406}, {\"X\": 4.884884884884885, \"y\": -4.812390430759893}, {\"X\": 4.894894894894895, \"y\": -4.813600340375577}, {\"X\": 4.904904904904905, \"y\": -4.814291558831758}, {\"X\": 4.914914914914915, \"y\": -4.814462046060665}, {\"X\": 4.924924924924925, \"y\": -4.814109818013349}, {\"X\": 4.934934934934935, \"y\": -4.81323294705556}, {\"X\": 4.944944944944945, \"y\": -4.811829562357595}, {\"X\": 4.954954954954955, \"y\": -4.809897850277997}, {\"X\": 4.964964964964965, \"y\": -4.807436054741113}, {\"X\": 4.974974974974975, \"y\": -4.804442477608394}, {\"X\": 4.984984984984985, \"y\": -4.800915479043415}, {\"X\": 4.994994994994995, \"y\": -4.796853477870563}, {\"X\": 5.005005005005005, \"y\": -4.7922549519272994}, {\"X\": 5.015015015015015, \"y\": -4.787118438409993}, {\"X\": 5.025025025025025, \"y\": -4.781442534213227}, {\"X\": 5.035035035035035, \"y\": -4.775225896262552}, {\"X\": 5.045045045045045, \"y\": -4.768467241840625}, {\"X\": 5.055055055055055, \"y\": -4.761165348906674}, {\"X\": 5.065065065065065, \"y\": -4.753319056409254}, {\"X\": 5.075075075075075, \"y\": -4.744927264592229}, {\"X\": 5.085085085085085, \"y\": -4.735988935293939}, {\"X\": 5.095095095095095, \"y\": -4.726503092239501}, {\"X\": 5.105105105105105, \"y\": -4.71646882132619}, {\"X\": 5.115115115115115, \"y\": -4.705885270901865}, {\"X\": 5.125125125125125, \"y\": -4.694751652036381}, {\"X\": 5.135135135135135, \"y\": -4.683067238785948}, {\"X\": 5.145145145145145, \"y\": -4.670831368450388}, {\"X\": 5.155155155155155, \"y\": -4.6580434418232555}, {\"X\": 5.165165165165165, \"y\": -4.64470292343476}, {\"X\": 5.175175175175175, \"y\": -4.630809341787467}, {\"X\": 5.185185185185185, \"y\": -4.616362289584719}, {\"X\": 5.195195195195195, \"y\": -4.601361423951755}, {\"X\": 5.205205205205205, \"y\": -4.585806466649461}, {\"X\": 5.215215215215215, \"y\": -4.569697204280745}, {\"X\": 5.225225225225225, \"y\": -4.553033488489465}, {\"X\": 5.235235235235235, \"y\": -4.535815236151901}, {\"X\": 5.245245245245245, \"y\": -4.518042429560712}, {\"X\": 5.255255255255255, \"y\": -4.499715116601354}, {\"X\": 5.265265265265265, \"y\": -4.480833410920927}, {\"X\": 5.275275275275275, \"y\": -4.4613974920894}, {\"X\": 5.285285285285285, \"y\": -4.441407605753196}, {\"X\": 5.295295295295295, \"y\": -4.420864063781105}, {\"X\": 5.305305305305305, \"y\": -4.399767244402477}, {\"X\": 5.315315315315315, \"y\": -4.378117592337685}, {\"X\": 5.325325325325325, \"y\": -4.3559156189208155}, {\"X\": 5.335335335335335, \"y\": -4.333161902214552}, {\"X\": 5.345345345345345, \"y\": -4.309857087117247}, {\"X\": 5.355355355355355, \"y\": -4.286001885462122}, {\"X\": 5.365365365365365, \"y\": -4.261597076108604}, {\"X\": 5.375375375375375, \"y\": -4.236643505025739}, {\"X\": 5.385385385385385, \"y\": -4.211142085367693}, {\"X\": 5.395395395395395, \"y\": -4.185093797541279}, {\"X\": 5.405405405405405, \"y\": -4.158499689265527}, {\"X\": 5.415415415415415, \"y\": -4.131360875623236}, {\"X\": 5.425425425425425, \"y\": -4.103678539104521}, {\"X\": 5.435435435435435, \"y\": -4.0754539296423165}, {\"X\": 5.445445445445445, \"y\": -4.046688364639814}, {\"X\": 5.455455455455455, \"y\": -4.017383228989835}, {\"X\": 5.465465465465465, \"y\": -3.9875399750861016}, {\"X\": 5.475475475475475, \"y\": -3.9571601228263993}, {\"X\": 5.485485485485485, \"y\": -3.9262452596076156}, {\"X\": 5.495495495495495, \"y\": -3.894797040312643}, {\"X\": 5.505505505505505, \"y\": -3.862817187289119}, {\"X\": 5.515515515515515, \"y\": -3.8303074903200116}, {\"X\": 5.525525525525525, \"y\": -3.7972698065860233}, {\"X\": 5.535535535535535, \"y\": -3.763706060619809}, {\"X\": 5.545545545545545, \"y\": -3.7296182442519985}, {\"X\": 5.555555555555555, \"y\": -3.695008416549013}, {\"X\": 5.565565565565565, \"y\": -3.6598787037426703}, {\"X\": 5.575575575575575, \"y\": -3.624231299151568}, {\"X\": 5.585585585585585, \"y\": -3.588068463094249}, {\"X\": 5.595595595595595, \"y\": -3.551392522794131}, {\"X\": 5.605605605605605, \"y\": -3.514205872276206}, {\"X\": 5.615615615615615, \"y\": -3.4765109722555048}, {\"X\": 5.625625625625625, \"y\": -3.4383103500173235}, {\"X\": 5.635635635635635, \"y\": -3.399606599289212}, {\"X\": 5.645645645645645, \"y\": -3.3604023801047287}, {\"X\": 5.655655655655655, \"y\": -3.320700418658948}, {\"X\": 5.665665665665665, \"y\": -3.2805035071557516}, {\"X\": 5.675675675675675, \"y\": -3.2398145036468695}, {\"X\": 5.685685685685685, \"y\": -3.198636331862712}, {\"X\": 5.6956956956956954, \"y\": -3.156971981034965}, {\"X\": 5.7057057057057055, \"y\": -3.1148245057109802}, {\"X\": 5.7157157157157155, \"y\": -3.0721970255599573}, {\"X\": 5.7257257257257255, \"y\": -3.0290927251709183}, {\"X\": 5.7357357357357355, \"y\": -2.9855148538424987}, {\"X\": 5.7457457457457455, \"y\": -2.9414667253645574}, {\"X\": 5.7557557557557555, \"y\": -2.8969517177916115}, {\"X\": 5.7657657657657655, \"y\": -2.851973273208123}, {\"X\": 5.7757757757757755, \"y\": -2.806534897485632}, {\"X\": 5.7857857857857855, \"y\": -2.760640160031768}, {\"X\": 5.7957957957957955, \"y\": -2.7142926935311396}, {\"X\": 5.8058058058058055, \"y\": -2.6674961936781303}, {\"X\": 5.8158158158158155, \"y\": -2.620254418901611}, {\"X\": 5.8258258258258255, \"y\": -2.5725711900815864}, {\"X\": 5.8358358358358355, \"y\": -2.524450390257802}, {\"X\": 5.8458458458458455, \"y\": -2.475895964330321}, {\"X\": 5.8558558558558556, \"y\": -2.426911918752101}, {\"X\": 5.865865865865866, \"y\": -2.3775023212135897}, {\"X\": 5.875875875875876, \"y\": -2.3276713003193583}, {\"X\": 5.885885885885886, \"y\": -2.2774230452568025}, {\"X\": 5.895895895895896, \"y\": -2.2267618054569374}, {\"X\": 5.905905905905906, \"y\": -2.1756918902473013}, {\"X\": 5.915915915915916, \"y\": -2.1242176684970078}, {\"X\": 5.925925925925926, \"y\": -2.072343568253969}, {\"X\": 5.935935935935936, \"y\": -2.020074076374314}, {\"X\": 5.945945945945946, \"y\": -1.967413738144045}, {\"X\": 5.955955955955956, \"y\": -1.9143671568929441}, {\"X\": 5.965965965965966, \"y\": -1.8609389936007796}, {\"X\": 5.975975975975976, \"y\": -1.8071339664958355}, {\"X\": 5.985985985985986, \"y\": -1.7529568506457966}, {\"X\": 5.995995995995996, \"y\": -1.6984124775410305}, {\"X\": 6.006006006006006, \"y\": -1.6435057346702964}, {\"X\": 6.016016016016016, \"y\": -1.588241565088919}, {\"X\": 6.026026026026026, \"y\": -1.5326249669794654}, {\"X\": 6.036036036036036, \"y\": -1.4766609932049648}, {\"X\": 6.046046046046046, \"y\": -1.4203547508547043}, {\"X\": 6.056056056056056, \"y\": -1.363711400782651}, {\"X\": 6.066066066066066, \"y\": -1.3067361571385314}, {\"X\": 6.076076076076076, \"y\": -1.2494342868916173}, {\"X\": 6.086086086086086, \"y\": -1.1918111093472592}, {\"X\": 6.096096096096096, \"y\": -1.1338719956562087}, {\"X\": 6.106106106106106, \"y\": -1.0756223683167792}, {\"X\": 6.116116116116116, \"y\": -1.0170677006698887}, {\"X\": 6.126126126126126, \"y\": -0.9582135163870288}, {\"X\": 6.136136136136136, \"y\": -0.899065388951213}, {\"X\": 6.146146146146146, \"y\": -0.8396289411309482}, {\"X\": 6.156156156156156, \"y\": -0.7799098444472815}, {\"X\": 6.166166166166166, \"y\": -0.7199138186339707}, {\"X\": 6.176176176176176, \"y\": -0.6596466310908324}, {\"X\": 6.186186186186186, \"y\": -0.5991140963303166}, {\"X\": 6.196196196196196, \"y\": -0.5383220754173634}, {\"X\": 6.206206206206206, \"y\": -0.47727647540259455}, {\"X\": 6.216216216216216, \"y\": -0.4159832487488944}, {\"X\": 6.226226226226226, \"y\": -0.35444839275143664}, {\"X\": 6.236236236236236, \"y\": -0.29267794895121246}, {\"X\": 6.246246246246246, \"y\": -0.23067800254211812}, {\"X\": 6.256256256256256, \"y\": -0.16845468177165973}, {\"X\": 6.266266266266266, \"y\": -0.10601415733533417}, {\"X\": 6.276276276276276, \"y\": -0.04336264176474644}, {\"X\": 6.286286286286286, \"y\": 0.01949361119047648}, {\"X\": 6.296296296296296, \"y\": 0.0825483071869133}, {\"X\": 6.306306306306306, \"y\": 0.1457951119176556}, {\"X\": 6.316316316316316, \"y\": 0.20922765174863117}, {\"X\": 6.326326326326326, \"y\": 0.27283951436087983}, {\"X\": 6.336336336336336, \"y\": 0.33662424939871693}, {\"X\": 6.346346346346346, \"y\": 0.40057536912371877}, {\"X\": 6.356356356356356, \"y\": 0.46468634907446404}, {\"X\": 6.366366366366366, \"y\": 0.528950628731964}, {\"X\": 6.376376376376376, \"y\": 0.5933616121907135}, {\"X\": 6.386386386386386, \"y\": 0.6579126688352942}, {\"X\": 6.396396396396396, \"y\": 0.7225971340224613}, {\"X\": 6.406406406406406, \"y\": 0.7874083097686422}, {\"X\": 6.416416416416417, \"y\": 0.8523394654427833}, {\"X\": 6.426426426426427, \"y\": 0.9173838384644388}, {\"X\": 6.436436436436437, \"y\": 0.9825346350071141}, {\"X\": 6.446446446446447, \"y\": 1.0477850307066778}, {\"X\": 6.456456456456457, \"y\": 1.113128171374853}, {\"X\": 6.466466466466467, \"y\": 1.1785571737176797}, {\"X\": 6.476476476476477, \"y\": 1.244065126058877}, {\"X\": 6.486486486486487, \"y\": 1.309645089068037}, {\"X\": 6.496496496496497, \"y\": 1.3752900964935595}, {\"X\": 6.506506506506507, \"y\": 1.4409931559002653}, {\"X\": 6.516516516516517, \"y\": 1.5067472494116005}, {\"X\": 6.526526526526527, \"y\": 1.5725453344563576}, {\"X\": 6.536536536536537, \"y\": 1.6383803445198317}, {\"X\": 6.546546546546547, \"y\": 1.7042451898993352}, {\"X\": 6.556556556556557, \"y\": 1.7701327584639868}, {\"X\": 6.566566566566567, \"y\": 1.836035916418697}, {\"X\": 6.576576576576577, \"y\": 1.9019475090722646}, {\"X\": 6.586586586586587, \"y\": 1.9678603616095085}, {\"X\": 6.596596596596597, \"y\": 2.033767279867343}, {\"X\": 6.606606606606607, \"y\": 2.09966105111472}, {\"X\": 6.616616616616617, \"y\": 2.1655344448363523}, {\"X\": 6.626626626626627, \"y\": 2.2313802135201315}, {\"X\": 6.636636636636637, \"y\": 2.2971910934481583}, {\"X\": 6.646646646646647, \"y\": 2.362959805491294}, {\"X\": 6.656656656656657, \"y\": 2.428679055907158}, {\"X\": 6.666666666666667, \"y\": 2.4943415371414663}, {\"X\": 6.676676676676677, \"y\": 2.559939928632647}, {\"X\": 6.686686686686687, \"y\": 2.625466897619622}, {\"X\": 6.696696696696697, \"y\": 2.690915099952682}, {\"X\": 6.706706706706707, \"y\": 2.756277180907361}, {\"X\": 6.716716716716717, \"y\": 2.8215457760012184}, {\"X\": 6.726726726726727, \"y\": 2.8867135118134426}, {\"X\": 6.736736736736737, \"y\": 2.9517730068071852}, {\"X\": 6.746746746746747, \"y\": 3.016716872154532}, {\"X\": 6.756756756756757, \"y\": 3.0815377125640255}, {\"X\": 6.766766766766767, \"y\": 3.1462281271106387}, {\"X\": 6.776776776776777, \"y\": 3.210780710068117}, {\"X\": 6.786786786786787, \"y\": 3.275188051743591}, {\"X\": 6.796796796796797, \"y\": 3.339442739314366}, {\"X\": 6.806806806806807, \"y\": 3.4035373576668}, {\"X\": 6.816816816816817, \"y\": 3.46746449023717}, {\"X\": 6.826826826826827, \"y\": 3.5312167198544384}, {\"X\": 6.836836836836837, \"y\": 3.594786629584823}, {\"X\": 6.846846846846847, \"y\": 3.6581668035780743}, {\"X\": 6.856856856856857, \"y\": 3.7213498279153643}, {\"X\": 6.866866866866867, \"y\": 3.7843282914586984}, {\"X\": 6.876876876876877, \"y\": 3.847094786701743}, {\"X\": 6.886886886886887, \"y\": 3.9096419106219837}, {\"X\": 6.896896896896897, \"y\": 3.971962265534114}, {\"X\": 6.906906906906907, \"y\": 4.034048459944549}, {\"X\": 6.916916916916917, \"y\": 4.095893109406988}, {\"X\": 6.926926926926927, \"y\": 4.157488837378901}, {\"X\": 6.936936936936937, \"y\": 4.218828276078869}, {\"X\": 6.946946946946947, \"y\": 4.279904067344661}, {\"X\": 6.956956956956957, \"y\": 4.340708863491956}, {\"X\": 6.966966966966967, \"y\": 4.401235328173619}, {\"X\": 6.976976976976977, \"y\": 4.461476137239414}, {\"X\": 6.986986986986987, \"y\": 4.521423979596082}, {\"X\": 6.996996996996997, \"y\": 4.581071558067658}, {\"X\": 7.007007007007007, \"y\": 4.640411590255944}, {\"X\": 7.017017017017017, \"y\": 4.69943680940104}, {\"X\": 7.027027027027027, \"y\": 4.758139965241821}, {\"X\": 7.037037037037037, \"y\": 4.816513824876277}, {\"X\": 7.047047047047047, \"y\": 4.874551173621598}, {\"X\": 7.057057057057057, \"y\": 4.932244815873922}, {\"X\": 7.067067067067067, \"y\": 4.989587575967635}, {\"X\": 7.077077077077077, \"y\": 5.046572299034126}, {\"X\": 7.087087087087087, \"y\": 5.103191851859897}, {\"X\": 7.097097097097097, \"y\": 5.15943912374393}, {\"X\": 7.107107107107107, \"y\": 5.215307027354207}, {\"X\": 7.117117117117117, \"y\": 5.270788499583283}, {\"X\": 7.127127127127127, \"y\": 5.325876502402817}, {\"X\": 7.137137137137137, \"y\": 5.380564023716955}, {\"X\": 7.147147147147147, \"y\": 5.434844078214468}, {\"X\": 7.157157157157157, \"y\": 5.488709708219536}, {\"X\": 7.167167167167167, \"y\": 5.542153984541101}, {\"X\": 7.177177177177177, \"y\": 5.59517000732065}, {\"X\": 7.187187187187187, \"y\": 5.647750906878373}, {\"X\": 7.197197197197197, \"y\": 5.699889844557555}, {\"X\": 7.207207207207207, \"y\": 5.75158001356713}, {\"X\": 7.217217217217217, \"y\": 5.802814639822282}, {\"X\": 7.227227227227227, \"y\": 5.853586982783002}, {\"X\": 7.237237237237237, \"y\": 5.903890336290486}, {\"X\": 7.247247247247247, \"y\": 5.953718029401297}, {\"X\": 7.257257257257257, \"y\": 6.003063427219171}, {\"X\": 7.267267267267267, \"y\": 6.051919931724376}, {\"X\": 7.277277277277277, \"y\": 6.100280982600521}, {\"X\": 7.287287287287287, \"y\": 6.148140058058728}, {\"X\": 7.297297297297297, \"y\": 6.195490675659041}, {\"X\": 7.307307307307307, \"y\": 6.242326393129003}, {\"X\": 7.317317317317317, \"y\": 6.288640809179284}, {\"X\": 7.327327327327327, \"y\": 6.334427564316259}, {\"X\": 7.337337337337337, \"y\": 6.379680341651463}, {\"X\": 7.347347347347347, \"y\": 6.424392867707775}, {\"X\": 7.357357357357357, \"y\": 6.468558913222297}, {\"X\": 7.367367367367367, \"y\": 6.512172293945772}, {\"X\": 7.377377377377377, \"y\": 6.555226871438479}, {\"X\": 7.387387387387387, \"y\": 6.597716553862497}, {\"X\": 7.397397397397397, \"y\": 6.639635296770233}, {\"X\": 7.407407407407407, \"y\": 6.6809771038891315}, {\"X\": 7.4174174174174174, \"y\": 6.7217360279024625}, {\"X\": 7.4274274274274275, \"y\": 6.761906171226083}, {\"X\": 7.4374374374374375, \"y\": 6.801481686781092}, {\"X\": 7.4474474474474475, \"y\": 6.84045677876228}, {\"X\": 7.4574574574574575, \"y\": 6.878825703402252}, {\"X\": 7.4674674674674675, \"y\": 6.916582769731178}, {\"X\": 7.4774774774774775, \"y\": 6.953722340332033}, {\"X\": 7.4874874874874875, \"y\": 6.990238832091244}, {\"X\": 7.4974974974974975, \"y\": 7.026126716944671}, {\"X\": 7.5075075075075075, \"y\": 7.061380522618796}, {\"X\": 7.5175175175175175, \"y\": 7.09599483336705}, {\"X\": 7.5275275275275275, \"y\": 7.129964290701177}, {\"X\": 7.5375375375375375, \"y\": 7.163283594117545}, {\"X\": 7.5475475475475475, \"y\": 7.195947501818309}, {\"X\": 7.5575575575575575, \"y\": 7.227950831427338}, {\"X\": 7.5675675675675675, \"y\": 7.259288460700816}, {\"X\": 7.5775775775775776, \"y\": 7.28995532823242}, {\"X\": 7.587587587587588, \"y\": 7.319946434152993}, {\"X\": 7.597597597597598, \"y\": 7.349256840824626}, {\"X\": 7.607607607607608, \"y\": 7.3778816735290365}, {\"X\": 7.617617617617618, \"y\": 7.405816121150186}, {\"X\": 7.627627627627628, \"y\": 7.433055436851035}, {\"X\": 7.637637637637638, \"y\": 7.459594938744339}, {\"X\": 7.647647647647648, \"y\": 7.485430010557418}, {\"X\": 7.657657657657658, \"y\": 7.51055610229079}, {\"X\": 7.667667667667668, \"y\": 7.534968730870612}, {\"X\": 7.677677677677678, \"y\": 7.558663480794813}, {\"X\": 7.687687687687688, \"y\": 7.581636004772859}, {\"X\": 7.697697697697698, \"y\": 7.603882024359047}, {\"X\": 7.707707707707708, \"y\": 7.625397330579264}, {\"X\": 7.717717717717718, \"y\": 7.6461777845511065}, {\"X\": 7.727727727727728, \"y\": 7.6662193180973}, {\"X\": 7.737737737737738, \"y\": 7.6855179343523226}, {\"X\": 7.747747747747748, \"y\": 7.704069708362153}, {\"X\": 7.757757757757758, \"y\": 7.721870787677078}, {\"X\": 7.767767767767768, \"y\": 7.738917392937452}, {\"X\": 7.777777777777778, \"y\": 7.755205818452359}, {\"X\": 7.787787787787788, \"y\": 7.770732432771086}, {\"X\": 7.797797797797798, \"y\": 7.78549367924732}, {\"X\": 7.807807807807808, \"y\": 7.799486076596015}, {\"X\": 7.817817817817818, \"y\": 7.812706219442832}, {\"X\": 7.827827827827828, \"y\": 7.825150778866097}, {\"X\": 7.837837837837838, \"y\": 7.836816502931172}, {\"X\": 7.847847847847848, \"y\": 7.847700217217209}, {\"X\": 7.857857857857858, \"y\": 7.85779882533617}, {\"X\": 7.867867867867868, \"y\": 7.86710930944407}, {\"X\": 7.877877877877878, \"y\": 7.875628730744361}, {\"X\": 7.887887887887888, \"y\": 7.883354229983387}, {\"X\": 7.897897897897898, \"y\": 7.890283027937839}, {\"X\": 7.907907907907908, \"y\": 7.896412425894147}, {\"X\": 7.917917917917918, \"y\": 7.901739806119734}, {\"X\": 7.927927927927928, \"y\": 7.906262632326069}, {\"X\": 7.937937937937938, \"y\": 7.909978450123447}, {\"X\": 7.947947947947948, \"y\": 7.91288488746744}, {\"X\": 7.957957957957958, \"y\": 7.914979655096946}, {\"X\": 7.967967967967968, \"y\": 7.916260546963773}, {\"X\": 7.977977977977978, \"y\": 7.916725440653694}, {\"X\": 7.987987987987988, \"y\": 7.916372297798923}, {\"X\": 7.997997997997998, \"y\": 7.91519916448193}, {\"X\": 8.008008008008009, \"y\": 7.913204171630549}, {\"X\": 8.018018018018019, \"y\": 7.91038553540432}, {\"X\": 8.028028028028029, \"y\": 7.906741557571992}, {\"X\": 8.038038038038039, \"y\": 7.902270625880156}, {\"X\": 8.048048048048049, \"y\": 7.896971214412912}, {\"X\": 8.058058058058059, \"y\": 7.8908418839425565}, {\"X\": 8.068068068068069, \"y\": 7.883881282271205}, {\"X\": 8.078078078078079, \"y\": 7.876088144563313}, {\"X\": 8.088088088088089, \"y\": 7.867461293669023}, {\"X\": 8.098098098098099, \"y\": 7.85799964043832}, {\"X\": 8.108108108108109, \"y\": 7.847702184025894}, {\"X\": 8.118118118118119, \"y\": 7.836568012186713}, {\"X\": 8.128128128128129, \"y\": 7.82459630156222}, {\"X\": 8.138138138138139, \"y\": 7.811786317957115}, {\"X\": 8.148148148148149, \"y\": 7.798137416606689}, {\"X\": 8.158158158158159, \"y\": 7.783649042434639}, {\"X\": 8.168168168168169, \"y\": 7.768320730301343}, {\"X\": 8.178178178178179, \"y\": 7.752152105242532}, {\"X\": 8.188188188188189, \"y\": 7.735142882698334}, {\"X\": 8.198198198198199, \"y\": 7.717292868732622}, {\"X\": 8.208208208208209, \"y\": 7.698601960242661}, {\"X\": 8.218218218218219, \"y\": 7.679070145158975}, {\"X\": 8.228228228228229, \"y\": 7.658697502635421}, {\"X\": 8.238238238238239, \"y\": 7.6374842032294294}, {\"X\": 8.248248248248249, \"y\": 7.615430509072361}, {\"X\": 8.258258258258259, \"y\": 7.592536774029958}, {\"X\": 8.268268268268269, \"y\": 7.568803443852847}, {\"X\": 8.278278278278279, \"y\": 7.5442310563170585}, {\"X\": 8.288288288288289, \"y\": 7.518820241354546}, {\"X\": 8.298298298298299, \"y\": 7.49257172117365}, {\"X\": 8.308308308308309, \"y\": 7.465486310369485}, {\"X\": 8.318318318318319, \"y\": 7.437564916024239}, {\"X\": 8.328328328328329, \"y\": 7.408808537797324}, {\"X\": 8.338338338338339, \"y\": 7.379218268005377}, {\"X\": 8.348348348348349, \"y\": 7.348795291692072}, {\"X\": 8.358358358358359, \"y\": 7.317540886687724}, {\"X\": 8.368368368368369, \"y\": 7.285456423658657}, {\"X\": 8.378378378378379, \"y\": 7.252543366146314}, {\"X\": 8.388388388388389, \"y\": 7.218803270596097}, {\"X\": 8.398398398398399, \"y\": 7.184237786375894}, {\"X\": 8.408408408408409, \"y\": 7.148848655784299}, {\"X\": 8.418418418418419, \"y\": 7.112637714048495}, {\"X\": 8.428428428428429, \"y\": 7.0756068893117785}, {\"X\": 8.438438438438439, \"y\": 7.037758202610718}, {\"X\": 8.448448448448449, \"y\": 6.999093767841922}, {\"X\": 8.458458458458459, \"y\": 6.959615791718425}, {\"X\": 8.468468468468469, \"y\": 6.9193265737156455}, {\"X\": 8.478478478478479, \"y\": 6.87822850600693}, {\"X\": 8.488488488488489, \"y\": 6.836324073388667}, {\"X\": 8.498498498498499, \"y\": 6.793615853194959}, {\"X\": 8.508508508508509, \"y\": 6.750106515201844}, {\"X\": 8.518518518518519, \"y\": 6.705798821521061}, {\"X\": 8.528528528528529, \"y\": 6.660695626483361}, {\"X\": 8.538538538538539, \"y\": 6.614799876511345}, {\"X\": 8.548548548548549, \"y\": 6.568114609981837}, {\"X\": 8.558558558558559, \"y\": 6.520642957077791}, {\"X\": 8.568568568568569, \"y\": 6.472388139629715}, {\"X\": 8.578578578578579, \"y\": 6.42335347094664}, {\"X\": 8.588588588588589, \"y\": 6.373542355636607}, {\"X\": 8.598598598598599, \"y\": 6.322958289416691}, {\"X\": 8.608608608608609, \"y\": 6.271604858912567}, {\"X\": 8.618618618618619, \"y\": 6.2194857414476115}, {\"X\": 8.62862862862863, \"y\": 6.166604704821558}, {\"X\": 8.63863863863864, \"y\": 6.112965607078706}, {\"X\": 8.64864864864865, \"y\": 6.058572396265693}, {\"X\": 8.65865865865866, \"y\": 6.003429110178845}, {\"X\": 8.66866866866867, \"y\": 5.9475398761011125}, {\"X\": 8.67867867867868, \"y\": 5.890908910528596}, {\"X\": 8.68868868868869, \"y\": 5.8335405188866964}, {\"X\": 8.6986986986987, \"y\": 5.775439095235879}, {\"X\": 8.70870870870871, \"y\": 5.716609121967084}, {\"X\": 8.71871871871872, \"y\": 5.657055169486794}, {\"X\": 8.72872872872873, \"y\": 5.59678189589178}, {\"X\": 8.73873873873874, \"y\": 5.5357940466335425}, {\"X\": 8.74874874874875, \"y\": 5.474096454172462}, {\"X\": 8.75875875875876, \"y\": 5.411694037621699}, {\"X\": 8.76876876876877, \"y\": 5.348591802380849}, {\"X\": 8.77877877877878, \"y\": 5.284794839759374}, {\"X\": 8.78878878878879, \"y\": 5.220308326589861}, {\"X\": 8.7987987987988, \"y\": 5.155137524831104}, {\"X\": 8.80880880880881, \"y\": 5.089287781161049}, {\"X\": 8.81881881881882, \"y\": 5.0227645265596434}, {\"X\": 8.82882882882883, \"y\": 4.955573275881597}, {\"X\": 8.83883883883884, \"y\": 4.887719627419099}, {\"X\": 8.84884884884885, \"y\": 4.819209262454521}, {\"X\": 8.85885885885886, \"y\": 4.7500479448031445}, {\"X\": 8.86886886886887, \"y\": 4.680241520345936}, {\"X\": 8.87887887887888, \"y\": 4.609795916552409}, {\"X\": 8.88888888888889, \"y\": 4.538717141993627}, {\"X\": 8.8988988988989, \"y\": 4.46701128584535}, {\"X\": 8.90890890890891, \"y\": 4.394684517381407}, {\"X\": 8.91891891891892, \"y\": 4.321743085457294}, {\"X\": 8.92892892892893, \"y\": 4.248193317984071}, {\"X\": 8.93893893893894, \"y\": 4.174041621392578}, {\"X\": 8.94894894894895, \"y\": 4.0992944800880355}, {\"X\": 8.95895895895896, \"y\": 4.023958455895043}, {\"X\": 8.96896896896897, \"y\": 3.9480401874930644}, {\"X\": 8.97897897897898, \"y\": 3.871546389842404}, {\"X\": 8.98898898898899, \"y\": 3.7944838536007555}, {\"X\": 8.998998998999, \"y\": 3.7168594445303507}, {\"X\": 9.00900900900901, \"y\": 3.6386801028957705}, {\"X\": 9.01901901901902, \"y\": 3.5599528428524705}, {\"X\": 9.02902902902903, \"y\": 3.4806847518260646}, {\"X\": 9.03903903903904, \"y\": 3.400882989882428}, {\"X\": 9.04904904904905, \"y\": 3.320554789088676}, {\"X\": 9.05905905905906, \"y\": 3.23970745286507}, {\"X\": 9.06906906906907, \"y\": 3.1583483553279073}, {\"X\": 9.07907907907908, \"y\": 3.07648494062346}, {\"X\": 9.08908908908909, \"y\": 2.994124722253015}, {\"X\": 9.0990990990991, \"y\": 2.9112752823890795}, {\"X\": 9.10910910910911, \"y\": 2.8279442711828136}, {\"X\": 9.11911911911912, \"y\": 2.7441394060627506}, {\"X\": 9.12912912912913, \"y\": 2.65986847102487}, {\"X\": 9.13913913913914, \"y\": 2.5751393159140883}, {\"X\": 9.14914914914915, \"y\": 2.4899598556972324}, {\"X\": 9.15915915915916, \"y\": 2.4043380697275674}, {\"X\": 9.16916916916917, \"y\": 2.3182820010009313}, {\"X\": 9.17917917917918, \"y\": 2.231799755403573}, {\"X\": 9.18918918918919, \"y\": 2.1448995009517327}, {\"X\": 9.1991991991992, \"y\": 2.0575894670230563}, {\"X\": 9.20920920920921, \"y\": 1.9698779435799143}, {\"X\": 9.21921921921922, \"y\": 1.8817732803846825}, {\"X\": 9.22922922922923, \"y\": 1.7932838862070821}, {\"X\": 9.23923923923924, \"y\": 1.7044182280236324}, {\"X\": 9.24924924924925, \"y\": 1.6151848302093077}, {\"X\": 9.25925925925926, \"y\": 1.525592273721465}, {\"X\": 9.26926926926927, \"y\": 1.435649195276128}, {\"X\": 9.27927927927928, \"y\": 1.3453642865167013}, {\"X\": 9.28928928928929, \"y\": 1.254746293175196}, {\"X\": 9.2992992992993, \"y\": 1.163804014226051}, {\"X\": 9.30930930930931, \"y\": 1.0725463010326237}, {\"X\": 9.31931931931932, \"y\": 0.9809820564864425}, {\"X\": 9.32932932932933, \"y\": 0.8891202341392976}, {\"X\": 9.33933933933934, \"y\": 0.7969698373282574}, {\"X\": 9.34934934934935, \"y\": 0.7045399182936967}, {\"X\": 9.35935935935936, \"y\": 0.6118395772904204}, {\"X\": 9.36936936936937, \"y\": 0.5188779616919723}, {\"X\": 9.37937937937938, \"y\": 0.42566426508821764}, {\"X\": 9.38938938938939, \"y\": 0.33220772637628426}, {\"X\": 9.3993993993994, \"y\": 0.23851762884495786}, {\"X\": 9.40940940940941, \"y\": 0.14460329925261775}, {\"X\": 9.41941941941942, \"y\": 0.050474106898806985}, {\"X\": 9.42942942942943, \"y\": -0.04386053731047188}, {\"X\": 9.43943943943944, \"y\": -0.13839118180364143}, {\"X\": 9.44944944944945, \"y\": -0.2331083352905207}, {\"X\": 9.45945945945946, \"y\": -0.32800246771528835}, {\"X\": 9.46946946946947, \"y\": -0.4230640112153417}, {\"X\": 9.47947947947948, \"y\": -0.5182833610859555}, {\"X\": 9.48948948948949, \"y\": -0.613650876750643}, {\"X\": 9.4994994994995, \"y\": -0.7091568827371212}, {\"X\": 9.50950950950951, \"y\": -0.8047916696587818}, {\"X\": 9.51951951951952, \"y\": -0.900545495201568}, {\"X\": 9.52952952952953, \"y\": -0.9964085851161569}, {\"X\": 9.53953953953954, \"y\": -1.0923711342153464}, {\"X\": 9.54954954954955, \"y\": -1.188423307376546}, {\"X\": 9.55955955955956, \"y\": -1.2845552405492662}, {\"X\": 9.56956956956957, \"y\": -1.3807570417675081}, {\"X\": 9.57957957957958, \"y\": -1.4770187921669418}, {\"X\": 9.58958958958959, \"y\": -1.573330547006779}, {\"X\": 9.5995995995996, \"y\": -1.6696823366962272}, {\"X\": 9.60960960960961, \"y\": -1.7660641678254188}, {\"X\": 9.61961961961962, \"y\": -1.8624660242007163}, {\"X\": 9.62962962962963, \"y\": -1.9588778678842802}, {\"X\": 9.63963963963964, \"y\": -2.055289640237791}, {\"X\": 9.64964964964965, \"y\": -2.1516912629702216}, {\"X\": 9.65965965965966, \"y\": -2.2480726391895507}, {\"X\": 9.66966966966967, \"y\": -2.3444236544582995}, {\"X\": 9.67967967967968, \"y\": -2.440734177852794}, {\"X\": 9.68968968968969, \"y\": -2.5369940630260333}, {\"X\": 9.6996996996997, \"y\": -2.633193149274055}, {\"X\": 9.70970970970971, \"y\": -2.7293212626056875}, {\"X\": 9.71971971971972, \"y\": -2.825368216815573}, {\"X\": 9.72972972972973, \"y\": -2.921323814560354}, {\"X\": 9.73973973973974, \"y\": -3.017177848437904}, {\"X\": 9.74974974974975, \"y\": -3.1129201020694937}, {\"X\": 9.75975975975976, \"y\": -3.208540351184771}, {\"X\": 9.76976976976977, \"y\": -3.304028364709452}, {\"X\": 9.77977977977978, \"y\": -3.399373905855594}, {\"X\": 9.78978978978979, \"y\": -3.4945667332143433}, {\"X\": 9.7997997997998, \"y\": -3.5895966018510435}, {\"X\": 9.80980980980981, \"y\": -3.6844532644025754}, {\"X\": 9.81981981981982, \"y\": -3.779126472176824}, {\"X\": 9.82982982982983, \"y\": -3.873605976254156}, {\"X\": 9.83983983983984, \"y\": -3.9678815285907745}, {\"X\": 9.84984984984985, \"y\": -4.061942883123851}, {\"X\": 9.85985985985986, \"y\": -4.155779796878303}, {\"X\": 9.86986986986987, \"y\": -4.249382031075107}, {\"X\": 9.87987987987988, \"y\": -4.342739352241024}, {\"X\": 9.88988988988989, \"y\": -4.435841533319613}, {\"X\": 9.8998998998999, \"y\": -4.528678354783424}, {\"X\": 9.90990990990991, \"y\": -4.621239605747239}, {\"X\": 9.91991991991992, \"y\": -4.713515085082246}, {\"X\": 9.92992992992993, \"y\": -4.805494602531032}, {\"X\": 9.93993993993994, \"y\": -4.897167979823247}, {\"X\": 9.94994994994995, \"y\": -4.988525051791866}, {\"X\": 9.95995995995996, \"y\": -5.079555667489872}, {\"X\": 9.96996996996997, \"y\": -5.17024969130728}, {\"X\": 9.97997997997998, \"y\": -5.2605970040883605}, {\"X\": 9.98998998998999, \"y\": -5.350587504248947}, {\"X\": 10.0, \"y\": -5.440211108893697}]}}, {\"mode\": \"vega-lite\"});\n",
              "</script>"
            ],
            "text/plain": [
              "alt.LayerChart(...)"
            ]
          },
          "metadata": {},
          "execution_count": 21
        }
      ]
    },
    {
      "cell_type": "markdown",
      "source": [
        "먼저, Gaussian Process는 예측값과 그 값의 표준 편차를 출력할 수 있다(**predict(return_std=True)**) 다시 말해서, 확률 분포로 표시가 가능하다는 것이다. 위의 그림에서 연한 푸른색으로 된 구역은 95% 신뢰 구간(확률 분포 상에서 95%의 데이터가 해당 범위에 들어 있음)을 의미한다.\n",
        "\n",
        "아직 아무런 학습이 되지 않았기 때문에, 기본적으로 평균이 0, 표준 편차가 1인 정규 분포로 표현이 되어 있다.\n",
        "\n",
        "그럼, 일부 데이터만 학습에 쓰게 되면 어떨까?"
      ],
      "metadata": {
        "id": "Ty7uOnCWyugw"
      }
    },
    {
      "cell_type": "code",
      "source": [
        "import numpy as np\n",
        "import pandas as pd\n",
        "import altair as alt\n",
        "from sklearn.gaussian_process import GaussianProcessRegressor\n",
        "\n",
        "\n",
        "rnd = np.random.default_rng(42)\n",
        "I_train = rnd.integers(0, len(gp_y), size=4)\n",
        "\n",
        "gp_model = GaussianProcessRegressor()\n",
        "gp_model.fit(gp_X[I_train], gp_y[I_train]) # 임의의 데이터를 훈련 데이터로 활용한다.\n",
        "mean, std = gp_model.predict(gp_X, return_std=True)\n",
        "\n",
        "df_true = pd.DataFrame({'X': np.ravel(gp_X), 'y': gp_y})\n",
        "p_true = alt.Chart(df_true).mark_line().encode(x='X:Q', y='y:Q')\n",
        "\n",
        "df_pred = pd.DataFrame({'X': np.ravel(gp_X), 'y': mean, 'ymin': mean - 1.96 * std, 'ymax': mean + 1.95 * std})\n",
        "p_pred = alt.Chart(df_pred).mark_line(strokeDash=(8, 8)).encode(x='X:Q', y='y:Q')\n",
        "p_area = alt.Chart(df_pred).mark_area(opacity=.3).encode(x='X:Q', y='ymin:Q', y2='ymax:Q')\n",
        "\n",
        "df_obs = pd.DataFrame({'X': np.ravel(gp_X[I_train]), 'y': gp_y[I_train]})\n",
        "p_obs = alt.Chart(df_obs).mark_point(filled=True, size=100, color='red').encode(x='X:Q', y='y:Q')\n",
        "\n",
        "p_area + p_pred + p_true + p_obs"
      ],
      "metadata": {
        "colab": {
          "base_uri": "https://localhost:8080/",
          "height": 367
        },
        "id": "Q4U-4pfV22ex",
        "outputId": "2d5a2fbb-0b06-4bbb-87a2-98315b3441de"
      },
      "execution_count": null,
      "outputs": [
        {
          "output_type": "execute_result",
          "data": {
            "text/html": [
              "\n",
              "<div id=\"altair-viz-d5e92706a8b4463db697252f7dc7ab80\"></div>\n",
              "<script type=\"text/javascript\">\n",
              "  var VEGA_DEBUG = (typeof VEGA_DEBUG == \"undefined\") ? {} : VEGA_DEBUG;\n",
              "  (function(spec, embedOpt){\n",
              "    let outputDiv = document.currentScript.previousElementSibling;\n",
              "    if (outputDiv.id !== \"altair-viz-d5e92706a8b4463db697252f7dc7ab80\") {\n",
              "      outputDiv = document.getElementById(\"altair-viz-d5e92706a8b4463db697252f7dc7ab80\");\n",
              "    }\n",
              "    const paths = {\n",
              "      \"vega\": \"https://cdn.jsdelivr.net/npm//vega@5?noext\",\n",
              "      \"vega-lib\": \"https://cdn.jsdelivr.net/npm//vega-lib?noext\",\n",
              "      \"vega-lite\": \"https://cdn.jsdelivr.net/npm//vega-lite@4.17.0?noext\",\n",
              "      \"vega-embed\": \"https://cdn.jsdelivr.net/npm//vega-embed@6?noext\",\n",
              "    };\n",
              "\n",
              "    function maybeLoadScript(lib, version) {\n",
              "      var key = `${lib.replace(\"-\", \"\")}_version`;\n",
              "      return (VEGA_DEBUG[key] == version) ?\n",
              "        Promise.resolve(paths[lib]) :\n",
              "        new Promise(function(resolve, reject) {\n",
              "          var s = document.createElement('script');\n",
              "          document.getElementsByTagName(\"head\")[0].appendChild(s);\n",
              "          s.async = true;\n",
              "          s.onload = () => {\n",
              "            VEGA_DEBUG[key] = version;\n",
              "            return resolve(paths[lib]);\n",
              "          };\n",
              "          s.onerror = () => reject(`Error loading script: ${paths[lib]}`);\n",
              "          s.src = paths[lib];\n",
              "        });\n",
              "    }\n",
              "\n",
              "    function showError(err) {\n",
              "      outputDiv.innerHTML = `<div class=\"error\" style=\"color:red;\">${err}</div>`;\n",
              "      throw err;\n",
              "    }\n",
              "\n",
              "    function displayChart(vegaEmbed) {\n",
              "      vegaEmbed(outputDiv, spec, embedOpt)\n",
              "        .catch(err => showError(`Javascript Error: ${err.message}<br>This usually means there's a typo in your chart specification. See the javascript console for the full traceback.`));\n",
              "    }\n",
              "\n",
              "    if(typeof define === \"function\" && define.amd) {\n",
              "      requirejs.config({paths});\n",
              "      require([\"vega-embed\"], displayChart, err => showError(`Error loading script: ${err.message}`));\n",
              "    } else {\n",
              "      maybeLoadScript(\"vega\", \"5\")\n",
              "        .then(() => maybeLoadScript(\"vega-lite\", \"4.17.0\"))\n",
              "        .then(() => maybeLoadScript(\"vega-embed\", \"6\"))\n",
              "        .catch(showError)\n",
              "        .then(() => displayChart(vegaEmbed));\n",
              "    }\n",
              "  })({\"config\": {\"view\": {\"continuousWidth\": 400, \"continuousHeight\": 300}}, \"layer\": [{\"mark\": {\"type\": \"area\", \"opacity\": 0.3}, \"encoding\": {\"x\": {\"field\": \"X\", \"type\": \"quantitative\"}, \"y\": {\"field\": \"ymin\", \"type\": \"quantitative\"}, \"y2\": {\"field\": \"ymax\"}}}, {\"mark\": {\"type\": \"line\", \"strokeDash\": [8, 8]}, \"encoding\": {\"x\": {\"field\": \"X\", \"type\": \"quantitative\"}, \"y\": {\"field\": \"y\", \"type\": \"quantitative\"}}}, {\"data\": {\"name\": \"data-bf8072546c2cf667dd8534dd4a1b3339\"}, \"mark\": \"line\", \"encoding\": {\"x\": {\"field\": \"X\", \"type\": \"quantitative\"}, \"y\": {\"field\": \"y\", \"type\": \"quantitative\"}}}, {\"data\": {\"name\": \"data-87b5e316d128eb754bf87a407adf0b8f\"}, \"mark\": {\"type\": \"point\", \"color\": \"red\", \"filled\": true, \"size\": 100}, \"encoding\": {\"x\": {\"field\": \"X\", \"type\": \"quantitative\"}, \"y\": {\"field\": \"y\", \"type\": \"quantitative\"}}}], \"data\": {\"name\": \"data-28a04854318c73ec177422d14fb41517\"}, \"$schema\": \"https://vega.github.io/schema/vega-lite/v4.17.0.json\", \"datasets\": {\"data-28a04854318c73ec177422d14fb41517\": [{\"X\": 0.0, \"y\": 0.4715609368864487, \"ymin\": -0.9791345787225318, \"ymax\": 1.91485494476273}, {\"X\": 0.01001001001001001, \"y\": 0.4757516675122984, \"ymin\": -0.964190949985283, \"ymax\": 1.908347639002239}, {\"X\": 0.02002002002002002, \"y\": 0.4799312065340547, \"ymin\": -0.949109194414, \"ymax\": 1.9016805850282927}, {\"X\": 0.03003003003003003, \"y\": 0.48409859610388045, \"ymin\": -0.933890065219042, \"ymax\": 1.894852621399645}, {\"X\": 0.04004004004004004, \"y\": 0.4882528729400105, \"ymin\": -0.9185343645706335, \"ymax\": 1.8878626245449883}, {\"X\": 0.050050050050050046, \"y\": 0.49239306864103954, \"ymin\": -0.9030429438148306, \"ymax\": 1.8807095096047879}, {\"X\": 0.06006006006006006, \"y\": 0.49651821000464513, \"ymin\": -0.8874167036648651, \"ymax\": 1.873392231257474}, {\"X\": 0.07007007007007007, \"y\": 0.5006273193505668, \"ymin\": -0.8716565943675509, \"ymax\": 1.8659097845293064}, {\"X\": 0.08008008008008008, \"y\": 0.5047194148476573, \"ymin\": -0.8557636158444601, \"ymax\": 1.858261205587264}, {\"X\": 0.09009009009009009, \"y\": 0.5087935108448165, \"ymin\": -0.8397388178075935, \"ymax\": 1.850445572514306}, {\"X\": 0.10010010010010009, \"y\": 0.512848618205617, \"ymin\": -0.8235832998492773, \"ymax\": 1.8424620060663535}, {\"X\": 0.11011011011011011, \"y\": 0.5168837446464188, \"ymin\": -0.8072982115060595, \"ymax\": 1.8343096704103643}, {\"X\": 0.12012012012012012, \"y\": 0.5208978950777746, \"ymin\": -0.7908847522963757, \"ymax\": 1.825987773842873}, {\"X\": 0.13013013013013014, \"y\": 0.5248900719489129, \"ymin\": -0.7743441717317863, \"ymax\": 1.8174955694883839}, {\"X\": 0.14014014014014015, \"y\": 0.5288592755950935, \"ymin\": -0.757677769301606, \"ymax\": 1.8088323559770139}, {\"X\": 0.15015015015015015, \"y\": 0.5328045045876117, \"ymin\": -0.7408868944307572, \"ymax\": 1.7999974781007848}, {\"X\": 0.16016016016016016, \"y\": 0.5367247560862384, \"ymin\": -0.7239729464107113, \"ymax\": 1.7909903274479997}, {\"X\": 0.17017017017017017, \"y\": 0.5406190261938645, \"ymin\": -0.7069373743033988, \"ymax\": 1.7818103430151213}, {\"X\": 0.18018018018018017, \"y\": 0.5444863103131273, \"ymin\": -0.6897816768179789, \"ymax\": 1.7724570117956056}, {\"X\": 0.19019019019019018, \"y\": 0.5483256035047837, \"ymin\": -0.6725074021603932, \"ymax\": 1.7629298693451383}, {\"X\": 0.20020020020020018, \"y\": 0.5521359008475955, \"ymin\": -0.6551161478556513, \"ymax\": 1.7532285003227646}, {\"X\": 0.21021021021021022, \"y\": 0.5559161977994881, \"ymin\": -0.637609560542795, \"ymax\": 1.7433525390073719}, {\"X\": 0.22022022022022023, \"y\": 0.5596654905597412, \"ymin\": -0.6199893357425365, \"ymax\": 1.7333016697890482}, {\"X\": 0.23023023023023023, \"y\": 0.5633827764319661, \"ymin\": -0.6022572175975676, \"ymax\": 1.7230756276348185}, {\"X\": 0.24024024024024024, \"y\": 0.5670670541876189, \"ymin\": -0.5844149985855737, \"ymax\": 1.7126741985282954}, {\"X\": 0.2502502502502503, \"y\": 0.5707173244298054, \"ymin\": -0.5664645192049853, \"ymax\": 1.702097219882786}, {\"X\": 0.2602602602602603, \"y\": 0.5743325899571173, \"ymin\": -0.5484076676335489, \"ymax\": 1.691344580927423}, {\"X\": 0.2702702702702703, \"y\": 0.5779118561272502, \"ymin\": -0.5302463793597961, \"ymax\": 1.6804162230658934}, {\"X\": 0.2802802802802803, \"y\": 0.5814541312201406, \"ymin\": -0.5119826367875348, \"ymax\": 1.6693121402073685}, {\"X\": 0.2902902902902903, \"y\": 0.5849584268003677, \"ymin\": -0.4936184688134754, \"ymax\": 1.6580323790692422}, {\"X\": 0.3003003003003003, \"y\": 0.5884237580785547, \"ymin\": -0.4751559503781657, \"ymax\": 1.6465770394513122}, {\"X\": 0.3103103103103103, \"y\": 0.5918491442715078, \"ymin\": -0.4565972019903969, \"ymax\": 1.634946274481056}, {\"X\": 0.3203203203203203, \"y\": 0.59523360896083, \"ymin\": -0.43794438922528134, \"ymax\": 1.623140290829665}, {\"X\": 0.3303303303303303, \"y\": 0.5985761804497431, \"ymin\": -0.41919972219621915, \"ymax\": 1.611159348898532}, {\"X\": 0.34034034034034033, \"y\": 0.6018758921178526, \"ymin\": -0.4003654550009912, \"ymax\": 1.5990037629758862}, {\"X\": 0.35035035035035034, \"y\": 0.6051317827735879, \"ymin\": -0.3814438851422416, \"ymax\": 1.5866739013633162}, {\"X\": 0.36036036036036034, \"y\": 0.6083428970040503, \"ymin\": -0.36243735292262413, \"ymax\": 1.5741701864719153}, {\"X\": 0.37037037037037035, \"y\": 0.6115082855220026, \"ymin\": -0.34334824081491855, \"ymax\": 1.5614930948878172}, {\"X\": 0.38038038038038036, \"y\": 0.6146270055097307, \"ymin\": -0.3241789728074381, \"ymax\": 1.548643157406914}, {\"X\": 0.39039039039039036, \"y\": 0.6176981209595104, \"ymin\": -0.3049320137250685, \"ymax\": 1.5356209590385557}, {\"X\": 0.40040040040040037, \"y\": 0.6207207030104127, \"ymin\": -0.285609868526298, \"ymax\": 1.5224271389780586}, {\"X\": 0.41041041041041043, \"y\": 0.6236938302811811, \"ymin\": -0.26621508157662843, \"ymax\": 1.5090623905478793}, {\"X\": 0.42042042042042044, \"y\": 0.6266165891989126, \"ymin\": -0.24675023589876144, \"ymax\": 1.4955274611073128}, {\"X\": 0.43043043043043044, \"y\": 0.6294880743232834, \"ymin\": -0.22721795239998, \"ymax\": 1.4818231519306115}, {\"X\": 0.44044044044044045, \"y\": 0.6323073886660482, \"ymin\": -0.20762088907717258, \"ymax\": 1.4679503180534361}, {\"X\": 0.45045045045045046, \"y\": 0.6350736440055594, \"ymin\": -0.18796174019995404, \"ymax\": 1.4539098680875755}, {\"X\": 0.46046046046046046, \"y\": 0.637785961196039, \"ymin\": -0.16824323547235798, \"ymax\": 1.4397027640038829}, {\"X\": 0.47047047047047047, \"y\": 0.6404434704713503, \"ymin\": -0.14846813917359858, \"ymax\": 1.425330020883417}, {\"X\": 0.4804804804804805, \"y\": 0.6430453117430105, \"ymin\": -0.1286392492784184, \"ymax\": 1.4107927066367791}, {\"X\": 0.4904904904904905, \"y\": 0.6455906348921916, \"ymin\": -0.10875939655754485, \"ymax\": 1.3960919416916742}, {\"X\": 0.5005005005005005, \"y\": 0.6480786000554598, \"ymin\": -0.08883144365881013, \"ymax\": 1.3812288986487387}, {\"X\": 0.5105105105105106, \"y\": 0.6505083779040034, \"ymin\": -0.06885828416949047, \"ymax\": 1.3662048019056938}, {\"X\": 0.5205205205205206, \"y\": 0.6528791499161066, \"ymin\": -0.048842841660456826, \"ymax\": 1.3510209272499325}, {\"X\": 0.5305305305305306, \"y\": 0.6551901086426266, \"ymin\": -0.028788068712715886, \"ymax\": 1.3356786014196256}, {\"X\": 0.5405405405405406, \"y\": 0.6574404579652364, \"ymin\": -0.008696945926972788, \"ymax\": 1.3201792016335059}, {\"X\": 0.5505505505505506, \"y\": 0.6596294133471994, \"ymin\": 0.011427519083179183, \"ymax\": 1.3045241550894642}, {\"X\": 0.5605605605605606, \"y\": 0.6617562020764455, \"ymin\": 0.03158229271378343, \"ymax\": 1.2887149384321552}, {\"X\": 0.5705705705705706, \"y\": 0.6638200635007249, \"ymin\": 0.05176431640811996, \"ymax\": 1.2727530771897961}, {\"X\": 0.5805805805805806, \"y\": 0.6658202492546139, \"ymin\": 0.07197050770870328, \"ymax\": 1.2566401451803924}, {\"X\": 0.5905905905905906, \"y\": 0.6677560234781622, \"ymin\": 0.09219776132300084, \"ymax\": 1.240377763887634}, {\"X\": 0.6006006006006006, \"y\": 0.6696266630269653, \"ymin\": 0.11244295020218309, \"ymax\": 1.2239676018067231}, {\"X\": 0.6106106106106106, \"y\": 0.6714314576734572, \"ymin\": 0.13270292663219774, \"ymax\": 1.2074113737604246}, {\"X\": 0.6206206206206206, \"y\": 0.6731697102992231, \"ymin\": 0.15297452333644723, \"ymax\": 1.1907108401856583}, {\"X\": 0.6306306306306306, \"y\": 0.6748407370781352, \"ymin\": 0.17325455458936279, \"ymax\": 1.1738678063909445}, {\"X\": 0.6406406406406406, \"y\": 0.6764438676501222, \"ymin\": 0.19353981734010883, \"ymax\": 1.1568841217850845}, {\"X\": 0.6506506506506506, \"y\": 0.6779784452853893, \"ymin\": 0.21382709234570318, \"ymax\": 1.139761679077424}, {\"X\": 0.6606606606606606, \"y\": 0.6794438270389103, \"ymin\": 0.23411314531277755, \"ymax\": 1.1225024134501138}, {\"X\": 0.6706706706706707, \"y\": 0.6808393838950196, \"ymin\": 0.25439472804722707, \"ymax\": 1.1051083017027725}, {\"X\": 0.6806806806806807, \"y\": 0.6821645009019424, \"ymin\": 0.2746685796109723, \"ymax\": 1.0875813613699994}, {\"X\": 0.6906906906906907, \"y\": 0.6834185772961, \"ymin\": 0.29493142748506246, \"ymax\": 1.0699236498121834}, {\"X\": 0.7007007007007007, \"y\": 0.6846010266160449, \"ymin\": 0.3151799887383278, \"ymax\": 1.0521372632801003}, {\"X\": 0.7107107107107107, \"y\": 0.6857112768058766, \"ymin\": 0.33541097120079855, \"ymax\": 1.034224335953786}, {\"X\": 0.7207207207207207, \"y\": 0.6867487703080039, \"ymin\": 0.3556210746411021, \"ymax\": 1.0161870389561969}, {\"X\": 0.7307307307307307, \"y\": 0.6877129641451242, \"ymin\": 0.3758069919470055, \"ymax\": 0.9980275793422321}, {\"X\": 0.7407407407407407, \"y\": 0.6886033299912968, \"ymin\": 0.39596541030835364, \"ymax\": 0.9797481990636128}, {\"X\": 0.7507507507507507, \"y\": 0.6894193542319985, \"ymin\": 0.41609301240153235, \"ymax\": 0.9613511739102685}, {\"X\": 0.7607607607607607, \"y\": 0.6901605380130511, \"ymin\": 0.4361864775746795, \"ymax\": 0.942838812428778}, {\"X\": 0.7707707707707707, \"y\": 0.6908263972783287, \"ymin\": 0.456242483032811, \"ymax\": 0.9242134548185121}, {\"X\": 0.7807807807807807, \"y\": 0.6914164627961498, \"ymin\": 0.47625770502201475, \"ymax\": 0.905477471806131}, {\"X\": 0.7907907907907907, \"y\": 0.6919302801742753, \"ymin\": 0.49622882001186003, \"ymax\": 0.8866332634991272}, {\"X\": 0.8008008008008007, \"y\": 0.6923674098634386, \"ymin\": 0.5161525058751192, \"ymax\": 0.8676832582191645}, {\"X\": 0.8108108108108109, \"y\": 0.6927274271493443, \"ymin\": 0.5360254430637982, \"ymax\": 0.8486299113160867}, {\"X\": 0.8208208208208209, \"y\": 0.6930099221330784, \"ymin\": 0.5558443157802624, \"ymax\": 0.8294757039636862}, {\"X\": 0.8308308308308309, \"y\": 0.693214499699884, \"ymin\": 0.5756058131417243, \"ymax\": 0.8102231419388695}, {\"X\": 0.8408408408408409, \"y\": 0.6933407794762644, \"ymin\": 0.5953066303347426, \"ymax\": 0.7908747543874722}, {\"X\": 0.8508508508508509, \"y\": 0.6933883957753857, \"ymin\": 0.6149434697516715, \"ymax\": 0.7714330925846932}, {\"X\": 0.8608608608608609, \"y\": 0.6933569975307571, \"ymin\": 0.6345130420808986, \"ymax\": 0.7519007287181162}, {\"X\": 0.8708708708708709, \"y\": 0.6932462482181803, \"ymin\": 0.6540120672141887, \"ymax\": 0.7322802548292943}, {\"X\": 0.8808808808808809, \"y\": 0.6930558257659654, \"ymin\": 0.6734372737466094, \"ymax\": 0.7125742831321612}, {\"X\": 0.8908908908908909, \"y\": 0.6927854224534239, \"ymin\": 0.6927658224526131, \"ymax\": 0.6928049224542306}, {\"X\": 0.9009009009009009, \"y\": 0.692434744797653, \"ymin\": 0.6728162352253994, \"ymax\": 0.7119531599333135}, {\"X\": 0.9109109109109109, \"y\": 0.6920035134286409, \"ymin\": 0.6527695023305169, \"ymax\": 0.731037351000754}, {\"X\": 0.9209209209209209, \"y\": 0.6914914629527291, \"ymin\": 0.6326478902318617, \"ymax\": 0.7500348133637961}, {\"X\": 0.9309309309309309, \"y\": 0.6908983418044787, \"ymin\": 0.612454097285883, \"ymax\": 0.7689423605857347}, {\"X\": 0.9409409409409409, \"y\": 0.6902239120869942, \"ymin\": 0.592190830005645, \"ymax\": 0.787756825382214}, {\"X\": 0.950950950950951, \"y\": 0.6894679494007748, \"ymin\": 0.5718608033018218, \"ymax\": 0.8064750590400394}, {\"X\": 0.960960960960961, \"y\": 0.6886302426611643, \"ymin\": 0.5514667393170861, \"ymax\": 0.8250939322126707}, {\"X\": 0.970970970970971, \"y\": 0.6877105939044874, \"ymin\": 0.5310113660785803, \"ymax\": 0.8436103358741398}, {\"X\": 0.980980980980981, \"y\": 0.6867088180829664, \"ymin\": 0.5104974161052132, \"ymax\": 0.8620211822955269}, {\"X\": 0.990990990990991, \"y\": 0.6856247428485223, \"ymin\": 0.4899276249980179, \"ymax\": 0.8803234060161159}, {\"X\": 1.001001001001001, \"y\": 0.6844582083255768, \"ymin\": 0.46930473002177886, \"ymax\": 0.8985139648012941}, {\"X\": 1.011011011011011, \"y\": 0.6832090668729764, \"ymin\": 0.448631468681288, \"ymax\": 0.9165898405840951}, {\"X\": 1.021021021021021, \"y\": 0.6818771828351735, \"ymin\": 0.4279105772941389, \"ymax\": 0.9345480403887538}, {\"X\": 1.031031031031031, \"y\": 0.6804624322828099, \"ymin\": 0.4071447895613226, \"ymax\": 0.95238559723531}, {\"X\": 1.0410410410410411, \"y\": 0.6789647027428526, \"ymin\": 0.38633683513674505, \"ymax\": 0.9700995710244391}, {\"X\": 1.0510510510510511, \"y\": 0.6773838929184467, \"ymin\": 0.3654894381966595, \"ymax\": 0.9876870494018574}, {\"X\": 1.0610610610610611, \"y\": 0.6757199123986564, \"ymin\": 0.3446053160099833, \"ymax\": 1.005145148601673}, {\"X\": 1.0710710710710711, \"y\": 0.6739726813582773, \"ymin\": 0.32368717751043563, \"ymax\": 1.0224710142681197}, {\"X\": 1.0810810810810811, \"y\": 0.6721421302479107, \"ymin\": 0.30273772187144615, \"ymax\": 1.0396618222551075}, {\"X\": 1.0910910910910911, \"y\": 0.6702281994744983, \"ymin\": 0.2817596370847197, \"ymax\": 1.0567147794031047}, {\"X\": 1.1011011011011012, \"y\": 0.6682308390725303, \"ymin\": 0.2607555985434294, \"ymax\": 1.0736271242928093}, {\"X\": 1.1111111111111112, \"y\": 0.666150008366145, \"ymin\": 0.2397282676309177, \"ymax\": 1.0903961279751722}, {\"X\": 1.1211211211211212, \"y\": 0.6639856756223458, \"ymin\": 0.2186802903158398, \"ymax\": 1.107019094677288}, {\"X\": 1.1311311311311312, \"y\": 0.6617378176955759, \"ymin\": 0.19761429575466627, \"ymax\": 1.1234933624837258}, {\"X\": 1.1411411411411412, \"y\": 0.6594064196638951, \"ymin\": 0.1765328949024384, \"ymax\": 1.1398163039928955}, {\"X\": 1.1511511511511512, \"y\": 0.6569914744570123, \"ymin\": 0.1554386791327128, \"ymax\": 1.1559853269480247}, {\"X\": 1.1611611611611612, \"y\": 0.6544929824764407, \"ymin\": 0.13433421886756214, \"ymax\": 1.171997874842417}, {\"X\": 1.1711711711711712, \"y\": 0.651910951208043, \"ymin\": 0.11322206221856612, \"ymax\": 1.187851427498594}, {\"X\": 1.1811811811811812, \"y\": 0.6492453948272513, \"ymin\": 0.09210473363966265, \"ymax\": 1.2035435016210259}, {\"X\": 1.1911911911911912, \"y\": 0.6464963337972475, \"ymin\": 0.07098473259277127, \"ymax\": 1.2190716513221092}, {\"X\": 1.2012012012012012, \"y\": 0.6436637944604007, \"ymin\": 0.04986453222703979, \"ymax\": 1.2344334686211424}, {\"X\": 1.2112112112112112, \"y\": 0.6407478086232701, \"ymin\": 0.028746578072634033, \"ymax\": 1.2496265839159948}, {\"X\": 1.2212212212212212, \"y\": 0.6377484131354795, \"ymin\": 0.00763328674989705, \"ymax\": 1.264648666427258}, {\"X\": 1.2312312312312312, \"y\": 0.6346656494627897, \"ymin\": -0.013472955305225853, \"ymax\": 1.2794974246146418}, {\"X\": 1.2412412412412412, \"y\": 0.6314995632546907, \"ymin\": -0.03456979309866359, \"ymax\": 1.2941706065654257}, {\"X\": 1.2512512512512513, \"y\": 0.6282502039068538, \"ymin\": -0.05565490431773601, \"ymax\": 1.3086660003547874}, {\"X\": 1.2612612612612613, \"y\": 0.6249176241187798, \"ymin\": -0.07672600055189083, \"ymax\": 1.3229814343778654}, {\"X\": 1.2712712712712713, \"y\": 0.6215018794469965, \"ymin\": -0.09778082849381287, \"ymax\": 1.337114777653414}, {\"X\": 1.2812812812812813, \"y\": 0.6180030278541577, \"ymin\": -0.11881717112011203, \"ymax\": 1.351063940098967}, {\"X\": 1.2912912912912913, \"y\": 0.6144211292544073, \"ymin\": -0.13983284885076297, \"ymax\": 1.3648268727774084}, {\"X\": 1.3013013013013013, \"y\": 0.6107562450553743, \"ymin\": -0.16082572068651713, \"ymax\": 1.378401568114909}, {\"X\": 1.3113113113113113, \"y\": 0.6070084376971755, \"ymin\": -0.18179368532348894, \"ymax\": 1.3917860600901837}, {\"X\": 1.3213213213213213, \"y\": 0.6031777701888026, \"ymin\": -0.20273468224416202, \"ymax\": 1.4049784243950683}, {\"X\": 1.3313313313313313, \"y\": 0.5992643056422807, \"ymin\": -0.22364669278403992, \"ymax\": 1.4179767785664263}, {\"X\": 1.3413413413413413, \"y\": 0.5952681068049891, \"ymin\": -0.2445277411732052, \"ymax\": 1.430779282089417}, {\"X\": 1.3513513513513513, \"y\": 0.5911892355905385, \"ymin\": -0.26537589555205165, \"ymax\": 1.443384136472197}, {\"X\": 1.3613613613613613, \"y\": 0.5870277526086066, \"ymin\": -0.28618926896047014, \"ymax\": 1.455789585292127}, {\"X\": 1.3713713713713713, \"y\": 0.5827837166941363, \"ymin\": -0.30696602029978826, \"ymax\": 1.467993914213602}, {\"X\": 1.3813813813813813, \"y\": 0.5784571844363057, \"ymin\": -0.3277043552667658, \"ymax\": 1.4799954509776267}, {\"X\": 1.3913913913913913, \"y\": 0.5740482097076858, \"ymin\": -0.34840252725898013, \"ymax\": 1.4917925653632973}, {\"X\": 1.4014014014014013, \"y\": 0.5695568431939986, \"ymin\": -0.3690588382509352, \"ymax\": 1.503383669121356}, {\"X\": 1.4114114114114114, \"y\": 0.5649831319249012, \"ymin\": -0.3896716396402605, \"ymax\": 1.5147672158800367}, {\"X\": 1.4214214214214214, \"y\": 0.5603271188062171, \"ymin\": -0.4102393330633618, \"ymax\": 1.5259417010234002}, {\"X\": 1.4314314314314314, \"y\": 0.5555888421540427, \"ymin\": -0.4307603711799196, \"ymax\": 1.5369056615424235}, {\"X\": 1.4414414414414414, \"y\": 0.5507683352311582, \"ymin\": -0.451233258425649, \"ymax\": 1.547657675859104}, {\"X\": 1.4514514514514514, \"y\": 0.5458656257861754, \"ymin\": -0.4716565517327276, \"ymax\": 1.5581963636238594}, {\"X\": 1.4614614614614614, \"y\": 0.5408807355958588, \"ymin\": -0.4920288612173499, \"ymax\": 1.568520385486551}, {\"X\": 1.4714714714714714, \"y\": 0.535813680011051, \"ymin\": -0.5123488508338615, \"ymax\": 1.5786284428414485}, {\"X\": 1.4814814814814814, \"y\": 0.5306644675066451, \"ymin\": -0.5326152389949527, \"ymax\": 1.5885192775464998}, {\"X\": 1.4914914914914914, \"y\": 0.5254330992360412, \"ymin\": -0.552826799157403, \"ymax\": 1.598191671617274}, {\"X\": 1.5015015015015014, \"y\": 0.5201195685905253, \"ymin\": -0.5729823603729032, \"ymax\": 1.6076444468959772}, {\"X\": 1.5115115115115114, \"y\": 0.5147238607640147, \"ymin\": -0.5930808078034796, \"ymax\": 1.6168764646959604}, {\"X\": 1.5215215215215214, \"y\": 0.5092459523236056, \"ymin\": -0.6131210832010824, \"ymax\": 1.6258866254221473}, {\"X\": 1.5315315315315314, \"y\": 0.503685810786369, \"ymin\": -0.6331021853509097, \"ymax\": 1.634673868167845}, {\"X\": 1.5415415415415414, \"y\": 0.4980433942028323, \"ymin\": -0.653023170478059, \"ymax\": 1.6432371702884128}, {\"X\": 1.5515515515515514, \"y\": 0.49231865074758546, \"ymin\": -0.6728831526171297, \"ymax\": 1.6515755469522764}, {\"X\": 1.5615615615615615, \"y\": 0.48651151831745504, \"ymin\": -0.6926813039444, \"ymax\": 1.6596880506698108}, {\"X\": 1.5715715715715715, \"y\": 0.48062192413767846, \"ymin\": -0.7124168550722462, \"ymax\": 1.667573770800614}, {\"X\": 1.5815815815815815, \"y\": 0.4746497843765188, \"ymin\": -0.7320890953054751, \"ymax\": 1.6752318330397267}, {\"X\": 1.5915915915915915, \"y\": 0.46859500376875185, \"ymin\": -0.7516973728592651, \"ymax\": 1.6826613988833605}, {\"X\": 1.6016016016016015, \"y\": 0.4624574752484581, \"ymin\": -0.7712410950384512, \"ymax\": 1.6898616650747198}, {\"X\": 1.6116116116116117, \"y\": 0.4562370795915498, \"ymin\": -0.790719728377872, \"ymax\": 1.6968318630305155}, {\"X\": 1.6216216216216217, \"y\": 0.44993368506845904, \"ymin\": -0.8101327987435643, \"ymax\": 1.703571258248788}, {\"X\": 1.6316316316316317, \"y\": 0.44354714710740817, \"ymin\": -0.8294798913945809, \"ymax\": 1.7100791496986727}, {\"X\": 1.6416416416416417, \"y\": 0.43707730796868727, \"ymin\": -0.8487606510052387, \"ymax\": 1.7163548691927462}, {\"X\": 1.6516516516516517, \"y\": 0.4305239964303495, \"ymin\": -0.8679747816476326, \"ymax\": 1.7223977807426278}, {\"X\": 1.6616616616616617, \"y\": 0.42388702748573975, \"ymin\": -0.8871220467342622, \"ymax\": 1.7282072798984969}, {\"X\": 1.6716716716716717, \"y\": 0.4171662020532606, \"ymin\": -0.9062022689206551, \"ymax\": 1.7337827930732277}, {\"X\": 1.6816816816816818, \"y\": 0.41036130669878157, \"ymin\": -0.9252153299678781, \"ymax\": 1.739123776851836}, {\"X\": 1.6916916916916918, \"y\": 0.4034721133710858, \"ymin\": -0.9441611705648641, \"ymax\": 1.7442297172869545}, {\"X\": 1.7017017017017018, \"y\": 0.39649837915074826, \"ymin\": -0.963039790110494, \"ymax\": 1.7491001291810657}, {\"X\": 1.7117117117117118, \"y\": 0.38943984601282833, \"ymin\": -0.9818512464554106, \"ymax\": 1.7537345553562294}, {\"X\": 1.7217217217217218, \"y\": 0.38229624060376177, \"ymin\": -1.0005956556035447, \"ymax\": 1.7581325659120512}, {\"X\": 1.7317317317317318, \"y\": 0.37506727403281803, \"ymin\": -1.0192731913733848, \"ymax\": 1.7622937574726627}, {\"X\": 1.7417417417417418, \"y\": 0.3677526416784963, \"ymin\": -1.037884085019014, \"ymax\": 1.7662177524234681}, {\"X\": 1.7517517517517518, \"y\": 0.3603520230102161, \"ymin\": -1.0564286248109875, \"ymax\": 1.7699041981384547}, {\"X\": 1.7617617617617618, \"y\": 0.35286508142565376, \"ymin\": -1.074907155577136, \"ymax\": 1.7733527661988373}, {\"X\": 1.7717717717717718, \"y\": 0.3452914641040714, \"ymin\": -1.0933200782034043, \"ymax\": 1.776563151603856}, {\"X\": 1.7817817817817818, \"y\": 0.33763080187597216, \"ymin\": -1.1116678490948648, \"ymax\": 1.779535071974509}, {\"X\": 1.7917917917917918, \"y\": 0.32988270910941053, \"ymin\": -1.129950979597059, \"ymax\": 1.7822682667510512}, {\"X\": 1.8018018018018018, \"y\": 0.32204678361327704, \"ymin\": -1.1481700353778588, \"ymax\": 1.7847624963850701}, {\"X\": 1.8118118118118118, \"y\": 0.3141226065578647, \"ymin\": -1.1663256357700504, \"ymax\": 1.7870175415269638}, {\"X\": 1.8218218218218218, \"y\": 0.30610974241302186, \"ymin\": -1.1844184530748787, \"ymax\": 1.7890332022096578}, {\"X\": 1.8318318318318318, \"y\": 0.29800773890417775, \"ymin\": -1.202449211826804, \"ymax\": 1.7908092970293892}, {\"X\": 1.8418418418418419, \"y\": 0.2898161269865262, \"ymin\": -1.2204186880197563, \"ymax\": 1.7923456623244094}, {\"X\": 1.8518518518518519, \"y\": 0.28153442083763386, \"ymin\": -1.2383277082951982, \"ymax\": 1.7936421513524412}, {\"X\": 1.8618618618618619, \"y\": 0.2731621178687368, \"ymin\": -1.2561771490923164, \"ymax\": 1.794698633467744}, {\"X\": 1.8718718718718719, \"y\": 0.264698698754972, \"ymin\": -1.2739679357607083, \"ymax\": 1.7955149932986334}, {\"X\": 1.8818818818818819, \"y\": 0.2561436274847847, \"ymin\": -1.2917010416359398, \"ymax\": 1.7960911299263218}, {\"X\": 1.8918918918918919, \"y\": 0.24749635142873458, \"ymin\": -1.3093774870783808, \"ymax\": 1.7964269560659156}, {\"X\": 1.901901901901902, \"y\": 0.23875630142791993, \"ymin\": -1.326998338475744, \"ymax\": 1.7965223972504427}, {\"X\": 1.911911911911912, \"y\": 0.22992289190222062, \"ymin\": -1.3445647072097884, \"ymax\": 1.7963773910187602}, {\"X\": 1.921921921921922, \"y\": 0.22099552097855113, \"ymin\": -1.3620777485876605, \"ymax\": 1.7959918861082005}, {\"X\": 1.931931931931932, \"y\": 0.21197357063930145, \"ymin\": -1.379538660738381, \"ymax\": 1.7953658416528118}, {\"X\": 1.941941941941942, \"y\": 0.202856406891134, \"ymin\": -1.3969486834749993, \"ymax\": 1.7944992263880524}, {\"X\": 1.951951951951952, \"y\": 0.19364337995428513, \"ymin\": -1.4143090971229766, \"ymax\": 1.7933920178627853}, {\"X\": 1.961961961961962, \"y\": 0.18433382447251467, \"ymin\": -1.4316212213153663, \"ymax\": 1.792044201659437}, {\"X\": 1.971971971971972, \"y\": 0.17492705974382608, \"ymin\": -1.448886413755394, \"ymax\": 1.7904557706231523}, {\"X\": 1.981981981981982, \"y\": 0.1654223899720713, \"ymin\": -1.46610606894707, \"ymax\": 1.7886267241008087}, {\"X\": 1.991991991991992, \"y\": 0.15581910453953784, \"ymin\": -1.4832816168944691, \"ymax\": 1.7865570671907183}, {\"X\": 2.002002002002002, \"y\": 0.14611647830060104, \"ymin\": -1.5004145217703642, \"ymax\": 1.7842468100038573}, {\"X\": 2.012012012012012, \"y\": 0.13631377189651278, \"ymin\": -1.5175062805549, \"ymax\": 1.7816959669374592}, {\"X\": 2.022022022022022, \"y\": 0.12641023209137903, \"ymin\": -1.5345584216450345, \"ymax\": 1.7789045559617902}, {\"X\": 2.032032032032032, \"y\": 0.11640509212936923, \"ymin\": -1.5515725034354833, \"ymax\": 1.7758725979209316}, {\"X\": 2.042042042042042, \"y\": 0.10629757211317936, \"ymin\": -1.5685501128719395, \"ymax\": 1.772600115848374}, {\"X\": 2.052052052052052, \"y\": 0.09608687940376004, \"ymin\": -1.5854928639773562, \"ymax\": 1.7690871342982377}, {\"X\": 2.062062062062062, \"y\": 0.08577220904130345, \"ymin\": -1.6024023963520997, \"ymax\": 1.7653336786929037}, {\"X\": 2.0720720720720722, \"y\": 0.07535274418746862, \"ymin\": -1.6192803736488113, \"ymax\": 1.7613397746878492}, {\"X\": 2.0820820820820822, \"y\": 0.06482765658880535, \"ymin\": -1.6361284820228317, \"ymax\": 1.7571054475544645}, {\"X\": 2.0920920920920922, \"y\": 0.0541961070613271, \"ymin\": -1.6529484285590654, \"ymax\": 1.7526307215816155}, {\"X\": 2.1021021021021022, \"y\": 0.043457245996160965, \"ymin\": -1.6697419396761832, \"ymax\": 1.7479156194967072}, {\"X\": 2.1121121121121122, \"y\": 0.032610213886191564, \"ymin\": -1.6865107595090802, \"ymax\": 1.7429601619069977}, {\"X\": 2.1221221221221223, \"y\": 0.021654141873594157, \"ymin\": -1.7032566482705365, \"ymax\": 1.7377643667618874}, {\"X\": 2.1321321321321323, \"y\": 0.010588152318143085, \"ymin\": -1.7199813805930277, \"ymax\": 1.73232824883691}, {\"X\": 2.1421421421421423, \"y\": -0.0005886406138442823, \"ymin\": -1.7366867438516809, \"ymax\": 1.726651819240126}, {\"X\": 2.1521521521521523, \"y\": -0.011877130340074149, \"ymin\": -1.753374536469359, \"ymax\": 1.7207350849416123}, {\"X\": 2.1621621621621623, \"y\": -0.023278217232527376, \"ymin\": -1.7700465662049016, \"ymax\": 1.7145780483267226}, {\"X\": 2.1721721721721723, \"y\": -0.03479280796757511, \"ymin\": -1.7867046484255553, \"ymax\": 1.7081807067737826}, {\"X\": 2.1821821821821823, \"y\": -0.04642181485616392, \"ymin\": -1.8033506043646403, \"ymax\": 1.701543052256861}, {\"X\": 2.1921921921921923, \"y\": -0.05816615515428908, \"ymin\": -1.8199862593655358, \"ymax\": 1.694665070974247}, {\"X\": 2.2022022022022023, \"y\": -0.07002675035399164, \"ymin\": -1.8366134411130548, \"ymax\": 1.6875467430032396}, {\"X\": 2.2122122122122123, \"y\": -0.08200452545513243, \"ymin\": -1.853233977853328, \"ymax\": 1.6801880419818478}, {\"X\": 2.2222222222222223, \"y\": -0.09410040821821447, \"ymin\": -1.8698496966032954, \"ymax\": 1.672588934817963}, {\"X\": 2.2322322322322323, \"y\": -0.10631532839853947, \"ymin\": -1.8864624213509544, \"ymax\": 1.6647493814265673}, {\"X\": 2.2422422422422423, \"y\": -0.118650216962005, \"ymin\": -1.9030739712474982, \"ymax\": 1.6566693344955012}, {\"X\": 2.2522522522522523, \"y\": -0.13110600528286354, \"ymin\": -1.9196861587925085, \"ymax\": 1.6483487392803036}, {\"X\": 2.2622622622622623, \"y\": -0.14368362432378018, \"ymin\": -1.936300788013368, \"ymax\": 1.6397875334286158}, {\"X\": 2.2722722722722724, \"y\": -0.15638400379855089, \"ymin\": -1.9529196526400856, \"ymax\": 1.6309856468346084}, {\"X\": 2.2822822822822824, \"y\": -0.16920807131784632, \"ymin\": -1.9695445342767095, \"ymax\": 1.6219430015238796}, {\"X\": 2.2922922922922924, \"y\": -0.1821567515183788, \"ymin\": -1.986177200570549, \"ymax\": 1.6126595115692395}, {\"X\": 2.3023023023023024, \"y\": -0.19523096517589633, \"ymin\": -2.0028194033804048, \"ymax\": 1.6031350830377729}, {\"X\": 2.3123123123123124, \"y\": -0.2084316283024255, \"ymin\": -2.0194728769450276, \"ymax\": 1.5933696139695512}, {\"X\": 2.3223223223223224, \"y\": -0.22175965122821023, \"ymin\": -2.0361393360530418, \"ymax\": 1.5833629943883314}, {\"X\": 2.3323323323323324, \"y\": -0.23521593766879603, \"ymin\": -2.052820474215552, \"ymax\": 1.5731151063445579}, {\"X\": 2.3423423423423424, \"y\": -0.24880138377774205, \"ymin\": -2.069517961842684, \"ymax\": 1.56262582399095}, {\"X\": 2.3523523523523524, \"y\": -0.26251687718544336, \"ymin\": -2.0862334444252966, \"ymax\": 1.5518950136909413}, {\"X\": 2.3623623623623624, \"y\": -0.2763632960245773, \"ymin\": -2.1029685407231096, \"ymax\": 1.5409225341601869}, {\"X\": 2.3723723723723724, \"y\": -0.2903415079426921, \"ymin\": -2.1197248409605005, \"ymax\": 1.5297082366413521}, {\"X\": 2.3823823823823824, \"y\": -0.3044523691024781, \"ymin\": -2.1365039050312173, \"ymax\": 1.518251965112339}, {\"X\": 2.3923923923923924, \"y\": -0.3186967231702762, \"ymin\": -2.153307260713255, \"ymax\": 1.5065535565280954}, {\"X\": 2.4024024024024024, \"y\": -0.33307540029339633, \"ymin\": -2.1701364018951566, \"ymax\": 1.4946128410961097}, {\"X\": 2.4124124124124124, \"y\": -0.3475892160668248, \"ymin\": -2.1869927868149723, \"ymax\": 1.482429642585669}, {\"X\": 2.4224224224224224, \"y\": -0.36223897048992965, \"ymin\": -2.203877836313136, \"ymax\": 1.4700037786709135}, {\"X\": 2.4324324324324325, \"y\": -0.3770254469137718, \"ymin\": -2.2207929321004887, \"ymax\": 1.4573350613077065}, {\"X\": 2.4424424424424425, \"y\": -0.3919494109796594, \"ymin\": -2.2377394150427015, \"ymax\": 1.4444232971442856}, {\"X\": 2.4524524524524525, \"y\": -0.4070116095495834, \"ymin\": -2.2547185834623162, \"ymax\": 1.4312682879656355}, {\"X\": 2.4624624624624625, \"y\": -0.4222127696291986, \"ymin\": -2.2717316914596366, \"ymax\": 1.4178698311714921}, {\"X\": 2.4724724724724725, \"y\": -0.4375535972840176, \"ymin\": -2.288779947253684, \"ymax\": 1.4042277202878444}, {\"X\": 2.4824824824824825, \"y\": -0.4530347765495085, \"ymin\": -2.3058645115444327, \"ymax\": 1.3903417455117681}, {\"X\": 2.4924924924924925, \"y\": -0.4686569683357917, \"ymin\": -2.322986495897515, \"ymax\": 1.3762116942893923}, {\"X\": 2.5025025025025025, \"y\": -0.48442080932764786, \"ymin\": -2.3401469611525894, \"ymax\": 1.3618373519267581}, {\"X\": 2.5125125125125125, \"y\": -0.5003269108805648, \"ymin\": -2.3573469158565508, \"ymax\": 1.3472185022332988}, {\"X\": 2.5225225225225225, \"y\": -0.516375857913556, \"ymin\": -2.3745873147227416, \"ymax\": 1.3323549281976237}, {\"X\": 2.5325325325325325, \"y\": -0.5325682077994988, \"ymin\": -2.3918690571173165, \"ymax\": 1.317246412695269}, {\"X\": 2.5425425425425425, \"y\": -0.5489044892537545, \"ymin\": -2.409192985573897, \"ymax\": 1.30189273922802}, {\"X\": 2.5525525525525525, \"y\": -0.5653852012218382, \"ymin\": -2.426559884337634, \"ymax\": 1.2862936926943873}, {\"X\": 2.5625625625625625, \"y\": -0.582010811766918, \"ymin\": -2.443970477939784, \"ymax\": 1.2704490601907803}, {\"X\": 2.5725725725725725, \"y\": -0.5987817569579389, \"ymin\": -2.461425429803884, \"ymax\": 1.2543586318428739}, {\"X\": 2.5825825825825826, \"y\": -0.6156984397591639, \"ymin\": -2.4789253408845924, \"ymax\": 1.2380222016666451}, {\"X\": 2.5925925925925926, \"y\": -0.6327612289219494, \"ymin\": -2.4964707483402457, \"ymax\": 1.2214395684584987}, {\"X\": 2.6026026026026026, \"y\": -0.6499704578795666, \"ymin\": -2.5140621242401613, \"ymax\": 1.2046105367138822}, {\"X\": 2.6126126126126126, \"y\": -0.6673264236458989, \"ymin\": -2.531699874307691, \"ymax\": 1.187534917573741}, {\"X\": 2.6226226226226226, \"y\": -0.6848293857188442, \"ymin\": -2.549384336700015, \"ymax\": 1.1702125297981367}, {\"X\": 2.6326326326326326, \"y\": -0.702479564989268, \"ymin\": -2.5671157808256417, \"ymax\": 1.1526432007663079}, {\"X\": 2.6426426426426426, \"y\": -0.7202771426563495, \"ymin\": -2.5848944062005526, \"ymax\": 1.1348267675024244}, {\"X\": 2.6526526526526526, \"y\": -0.7382222591501754, \"ymin\": -2.60272034134391, \"ymax\": 1.1167630777262447}, {\"X\": 2.6626626626626626, \"y\": -0.7563150130624404, \"ymin\": -2.620593642714225, \"ymax\": 1.0984519909278552}, {\"X\": 2.6726726726726726, \"y\": -0.7745554600861153, \"ymin\": -2.638514293686849, \"ymax\": 1.079893379465635}, {\"X\": 2.6826826826826826, \"y\": -0.7929436119649527, \"ymin\": -2.656482203573643, \"ymax\": 1.0610871296865507}, {\"X\": 2.6926926926926926, \"y\": -0.8114794354536978, \"ymin\": -2.6744972066856274, \"ymax\": 1.0420331430678644}, {\"X\": 2.7027027027027026, \"y\": -0.8301628512898827, \"ymin\": -2.6925590614394137, \"ymax\": 1.0227313373792934}, {\"X\": 2.7127127127127126, \"y\": -0.8489937331780744, \"ymin\": -2.7106674495081835, \"ymax\": 1.003181647864636}, {\"X\": 2.7227227227227226, \"y\": -0.8679719067874611, \"ymin\": -2.728821975017942, \"ymax\": 0.9833840284418437}, {\"X\": 2.7327327327327327, \"y\": -0.8870971487636506, \"ymin\": -2.7470221637897616, \"ymax\": 0.9633384529204904}, {\"X\": 2.7427427427427427, \"y\": -0.9063691857555654, \"ymin\": -2.7652674626287017, \"ymax\": 0.9430449162355652}, {\"X\": 2.7527527527527527, \"y\": -0.925787693458305, \"ymin\": -2.7835572386600353, \"ymax\": 0.9225034356964775}, {\"X\": 2.7627627627627627, \"y\": -0.9453522956728692, \"ymin\": -2.801890778713435, \"ymax\": 0.9017140522501425}, {\"X\": 2.7727727727727727, \"y\": -0.9650625633836003, \"ymin\": -2.820267288755685, \"ymax\": 0.880676831756994}, {\"X\": 2.7827827827827827, \"y\": -0.9849180138542354, \"ymin\": -2.8386858933725008, \"ymax\": 0.8593918662787327}, {\"X\": 2.7927927927927927, \"y\": -1.0049181097434325, \"ymin\": -2.8571456352999824, \"ymax\": 0.8378592753766048}, {\"X\": 2.8028028028028027, \"y\": -1.0250622582406372, \"ymin\": -2.875645475006208, \"ymax\": 0.8160792074189869}, {\"X\": 2.8128128128128127, \"y\": -1.0453498102231578, \"ymin\": -2.894184290323438, \"ymax\": 0.794051840897019}, {\"X\": 2.8228228228228227, \"y\": -1.065780059435308, \"ymin\": -2.9127608761313812, \"ymax\": 0.77177738574701}, {\"X\": 2.8328328328328327, \"y\": -1.0863522416904654, \"ymin\": -2.9313739440919315, \"ymax\": 0.7492560846783405}, {\"X\": 2.8428428428428427, \"y\": -1.1070655340968947, \"ymin\": -2.950022122435751, \"ymax\": 0.7264882145055389}, {\"X\": 2.8528528528528527, \"y\": -1.1279190543081752, \"ymin\": -2.968703955801063, \"ymax\": 0.7034740874832179}, {\"X\": 2.8628628628628627, \"y\": -1.1489118597990644, \"ymin\": -2.98741790512497, \"ymax\": 0.6802140526425251}, {\"X\": 2.8728728728728727, \"y\": -1.170042947167615, \"ymin\": -3.006162347587585, \"ymax\": 0.6567084971277635}, {\"X\": 2.8828828828828827, \"y\": -1.1913112514643653, \"ymin\": -3.024935576609241, \"ymax\": 0.6329578475318121}, {\"X\": 2.8928928928928928, \"y\": -1.2127156455493975, \"ymin\": -3.0437358019009944, \"ymax\": 0.6089625712289772}, {\"X\": 2.9029029029029028, \"y\": -1.2342549394780635, \"ymin\": -3.06256114956864, \"ymax\": 0.584723177703887}, {\"X\": 2.9129129129129128, \"y\": -1.255927879916151, \"ymin\": -3.0814096622703806, \"ymax\": 0.5602402198750465}, {\"X\": 2.9229229229229228, \"y\": -1.2777331495852617, \"ymin\": -3.1002792994283093, \"ymax\": 0.5355142954116476}, {\"X\": 2.932932932932933, \"y\": -1.29966936673915, \"ymin\": -3.1191679374937857, \"ymax\": 0.5105460480422479}, {\"X\": 2.942942942942943, \"y\": -1.3217350846717733, \"ymin\": -3.1380733702668038, \"ymax\": 0.48533616885389486}, {\"X\": 2.952952952952953, \"y\": -1.343928791257761, \"ymin\": -3.15699330926937, \"ymax\": 0.45988539758031943}, {\"X\": 2.962962962962963, \"y\": -1.3662489085260325, \"ymin\": -3.1759253841729276, \"ymax\": 0.43419452387776625}, {\"X\": 2.972972972972973, \"y\": -1.388693792267239, \"ymin\": -3.1948671432797875, \"ymax\": 0.408264388587082}, {\"X\": 2.982982982982983, \"y\": -1.411261731675719, \"ymin\": -3.2138160540585328, \"ymax\": 0.3820958849806517}, {\"X\": 2.992992992992993, \"y\": -1.4339509490266167, \"ymin\": -3.2327695037333064, \"ymax\": 0.35568995999279385}, {\"X\": 3.003003003003003, \"y\": -1.4567595993888105, \"ymin\": -3.2517247999268806, \"ymax\": 0.3290476154322284}, {\"X\": 3.013013013013013, \"y\": -1.4796857703742672, \"ymin\": -3.2706791713573575, \"ymax\": 0.3021699091752359}, {\"X\": 3.023023023023023, \"y\": -1.5027274819244218, \"ymin\": -3.289629768588342, \"ymax\": 0.2750579563381519}, {\"X\": 3.033033033033033, \"y\": -1.5258826861341739, \"ymin\": -3.3085736648323785, \"ymax\": 0.24771293042781495}, {\"X\": 3.043043043043043, \"y\": -1.5491492671140425, \"ymin\": -3.32750785680742, \"ymax\": 0.2201360644686543}, {\"X\": 3.053053053053053, \"y\": -1.5725250408910296, \"ymin\": -3.3464292656460772, \"ymax\": 0.19232865210506334}, {\"X\": 3.063063063063063, \"y\": -1.5960077553487022, \"ymin\": -3.3653347378573457, \"ymax\": 0.16429204867775415}, {\"X\": 3.073073073073073, \"y\": -1.6195950902069804, \"ymin\": -3.3842210463405014, \"ymax\": 0.13602767227279777}, {\"X\": 3.083083083083083, \"y\": -1.6432846570421034, \"ymin\": -3.4030848914508054, \"ymax\": 0.10753700474206451}, {\"X\": 3.093093093093093, \"y\": -1.667073999347209, \"ymin\": -3.4219229021166475, \"ymax\": 0.07882159269381361}, {\"X\": 3.103103103103103, \"y\": -1.6909605926339493, \"ymin\": -3.4407316370077075, \"ymax\": 0.049883048452187495}, {\"X\": 3.113113113113113, \"y\": -1.7149418445755273, \"ymin\": -3.459507585753711, \"ymax\": 0.020723050984400526}, {\"X\": 3.123123123123123, \"y\": -1.739015095191521, \"ymin\": -3.4782471702133, \"ymax\": -0.008656653205567633}, {\"X\": 3.133133133133133, \"y\": -1.7631776170748303, \"ymin\": -3.496946745792522, \"ymax\": -0.038254249217943403}, {\"X\": 3.143143143143143, \"y\": -1.7874266156610534, \"ymin\": -3.5156026028124208, \"ymax\": -0.06806785293392803}, {\"X\": 3.153153153153153, \"y\": -1.81175922954058, \"ymin\": -3.5342109679251656, \"ymax\": -0.09809551022938501}, {\"X\": 3.163163163163163, \"y\": -1.8361725308136385, \"ymin\": -3.5527680055781365, \"ymax\": -0.12833519622651002}, {\"X\": 3.173173173173173, \"y\": -1.8606635254885335, \"ymin\": -3.571269819525355, \"ymax\": -0.15878481458455296}, {\"X\": 3.183183183183183, \"y\": -1.8852291539232542, \"ymin\": -3.589712454385613, \"ymax\": -0.18944219683060082}, {\"X\": 3.193193193193193, \"y\": -1.9098662913106215, \"ymin\": -3.608091897246646, \"ymax\": -0.2203051017314135}, {\"X\": 3.203203203203203, \"y\": -1.9345717482070997, \"ymin\": -3.6264040793146264, \"ymax\": -0.2513712147072644}, {\"X\": 3.2132132132132134, \"y\": -1.9593422711053705, \"ymin\": -3.644644877608275, \"ymax\": -0.2826381472887054}, {\"X\": 3.2232232232232234, \"y\": -1.9841745430507385, \"ymin\": -3.6628101166968206, \"ymax\": -0.3141034366171367}, {\"X\": 3.2332332332332334, \"y\": -2.009065184301402, \"ymin\": -3.680895570481028, \"ymax\": -0.3457645449900393}, {\"X\": 3.2432432432432434, \"y\": -2.034010753032591, \"ymin\": -3.6988969640164924, \"ymax\": -0.3776188594516683}, {\"X\": 3.2532532532532534, \"y\": -2.059007746084532, \"ymin\": -3.7168099753783403, \"ymax\": -0.4096636914299778}, {\"X\": 3.2632632632632634, \"y\": -2.084052599754191, \"ymin\": -3.7346302375664946, \"ymax\": -0.44189627642052187}, {\"X\": 3.2732732732732734, \"y\": -2.1091416906306764, \"ymin\": -3.7523533404505898, \"ymax\": -0.47431377371800765}, {\"X\": 3.2832832832832834, \"y\": -2.1342713364741894, \"ymin\": -3.7699748327536358, \"ymax\": -0.5069132661961688}, {\"X\": 3.2932932932932935, \"y\": -2.1594377971383305, \"ymin\": -3.787490224073455, \"ymax\": -0.5396917601365487}, {\"X\": 3.3033033033033035, \"y\": -2.184637275535585, \"ymin\": -3.804894986940944, \"ymax\": -0.5726461851067837}, {\"X\": 3.3133133133133135, \"y\": -2.2098659186457317, \"ymin\": -3.822184558914146, \"ymax\": -0.6057733938888907}, {\"X\": 3.3233233233233235, \"y\": -2.235119818566909, \"ymin\": -3.8393543447070915, \"ymax\": -0.6390701624580539}, {\"X\": 3.3333333333333335, \"y\": -2.260395013609039, \"ymin\": -3.856399718352383, \"ymax\": -0.672533190012345}, {\"X\": 3.3433433433433435, \"y\": -2.2856874894292543, \"ymin\": -3.873316025396413, \"ymax\": -0.706159099053765}, {\"X\": 3.3533533533533535, \"y\": -2.3109931802089556, \"ymin\": -3.89009858512612, \"ymax\": -0.7399444355209606}, {\"X\": 3.3633633633633635, \"y\": -2.336307969872093, \"ymin\": -3.9067426928261586, \"ymax\": -0.7738856689739158}, {\"X\": 3.3733733733733735, \"y\": -2.361627693344211, \"ymin\": -3.923243622065306, \"ymax\": -0.8079791928308762}, {\"X\": 3.3833833833833835, \"y\": -2.3869481378517823, \"ymin\": -3.9395966270109435, \"ymax\": -0.8422213246577193}, {\"X\": 3.3933933933933935, \"y\": -2.412265044261302, \"ymin\": -3.955796944770383, \"ymax\": -0.8766083065099199}, {\"X\": 3.4034034034034035, \"y\": -2.4375741084576, \"ymin\": -3.9718397977578386, \"ymax\": -0.9111363053272601}, {\"X\": 3.4134134134134135, \"y\": -2.462870982760762, \"ymin\": -3.9877203960857504, \"ymax\": -0.9458014133813095}, {\"X\": 3.4234234234234235, \"y\": -2.4881512773810552, \"ymin\": -4.003433939979214, \"ymax\": -0.9805996487757445}, {\"X\": 3.4334334334334335, \"y\": -2.513410561911175, \"ymin\": -4.0189756222121975, \"ymax\": -1.0155269559994438}, {\"X\": 3.4434434434434436, \"y\": -2.538644366855139, \"ymin\": -4.034340630564229, \"ymax\": -1.0505792065323194}, {\"X\": 3.4534534534534536, \"y\": -2.56384818519308, \"ymin\": -4.04952415029621, \"ymax\": -1.0857521995037416}, {\"X\": 3.4634634634634636, \"y\": -2.5890174739811784, \"ymin\": -4.064521366643975, \"ymax\": -1.1210416624033963}, {\"X\": 3.4734734734734736, \"y\": -2.61414765598594, \"ymin\": -4.079327467328232, \"ymax\": -1.156443251844373}, {\"X\": 3.4834834834834836, \"y\": -2.639234121351976, \"ymin\": -4.093937645079457, \"ymax\": -1.1919525543782066}, {\"X\": 3.4934934934934936, \"y\": -2.664272229302429, \"ymin\": -4.108347100176324, \"ymax\": -1.227565087361564}, {\"X\": 3.5035035035035036, \"y\": -2.689257309871131, \"ymin\": -4.1225510429962196, \"ymax\": -1.263276299874231}, {\"X\": 3.5135135135135136, \"y\": -2.7141846656655755, \"ymin\": -4.136544696576383, \"ymax\": -1.2990815736879862}, {\"X\": 3.5235235235235236, \"y\": -2.7390495736597247, \"ymin\": -4.150323299184175, \"ymax\": -1.3349762242859087}, {\"X\": 3.5335335335335336, \"y\": -2.763847287015663, \"ymin\": -4.1638821068950005, \"ymax\": -1.3709555019316284}, {\"X\": 3.5435435435435436, \"y\": -2.788573036933062, \"ymin\": -4.177216396176332, \"ymax\": -1.407014592787972}, {\"X\": 3.5535535535535536, \"y\": -2.8132220345254075, \"ymin\": -4.19032146647635, \"ymax\": -1.4431486200844186}, {\"X\": 3.5635635635635636, \"y\": -2.8377894727218806, \"ymin\": -4.203192642815603, \"ymax\": -1.4793526453327182}, {\"X\": 3.5735735735735736, \"y\": -2.862270528193791, \"ymin\": -4.21582527838016, \"ymax\": -1.515621669590005}, {\"X\": 3.5835835835835836, \"y\": -2.886660363304403, \"ymin\": -4.228214757114677, \"ymax\": -1.551950634768671}, {\"X\": 3.5935935935935936, \"y\": -2.9109541280809816, \"ymin\": -4.2403564963137805, \"ymax\": -1.5883344249922275}, {\"X\": 3.6036036036036037, \"y\": -2.9351469622078477, \"ymin\": -4.252245949210173, \"ymax\": -1.6247678679963504}, {\"X\": 3.6136136136136137, \"y\": -2.9592339970392207, \"ymin\": -4.263878607557869, \"ymax\": -1.6612457365742386}, {\"X\": 3.6236236236236237, \"y\": -2.983210357630579, \"ymin\": -4.27525000420892, \"ymax\": -1.6977627500653927}, {\"X\": 3.6336336336336337, \"y\": -3.007071164787261, \"ymin\": -4.2863557156820145, \"ymax\": -1.7343135758868689}, {\"X\": 3.6436436436436437, \"y\": -3.030811537128999, \"ymin\": -4.297191364721325, \"ymax\": -1.7708928311060221}, {\"X\": 3.6536536536536537, \"y\": -3.0544265931690484, \"ymin\": -4.307752622843949, \"ymax\": -1.8074950840537138}, {\"X\": 3.6636636636636637, \"y\": -3.0779114534065637, \"ymin\": -4.3180352128743085, \"ymax\": -1.8441148559769196}, {\"X\": 3.6736736736736737, \"y\": -3.101261242430837, \"ymin\": -4.328034911463849, \"ymax\": -1.8807466227296261}, {\"X\": 3.6836836836836837, \"y\": -3.1244710910360105, \"ymin\": -4.337747551594386, \"ymax\": -1.9173848165008913}, {\"X\": 3.6936936936936937, \"y\": -3.1475361383448357, \"ymin\": -4.34716902506346, \"ymax\": -1.9540238275788577}, {\"X\": 3.7037037037037037, \"y\": -3.170451533940046, \"ymin\": -4.356295284950001, \"ymax\": -1.9906580061495291}, {\"X\": 3.7137137137137137, \"y\": -3.1932124400018878, \"ymin\": -4.365122348058698, \"ymax\": -2.027281664129041}, {\"X\": 3.7237237237237237, \"y\": -3.215814033450341, \"ymin\": -4.373646297341372, \"ymax\": -2.0638890770281417}, {\"X\": 3.7337337337337337, \"y\": -3.238251508090528, \"ymin\": -4.381863284293719, \"ymax\": -2.100474485847557}, {\"X\": 3.7437437437437437, \"y\": -3.260520076759823, \"ymin\": -4.389769531325772, \"ymax\": -2.1370320990028837}, {\"X\": 3.7537537537537538, \"y\": -3.282614973475142, \"ymin\": -4.3973613341044295, \"ymax\": -2.173556094277637}, {\"X\": 3.7637637637637638, \"y\": -3.304531455578872, \"ymin\": -4.404635063866407, \"ymax\": -2.210040620803008}, {\"X\": 3.7737737737737738, \"y\": -3.326264805881909, \"ymin\": -4.411587169699983, \"ymax\": -2.2464798010629066}, {\"X\": 3.7837837837837838, \"y\": -3.34781033480226, \"ymin\": -4.4182141807939175, \"ymax\": -2.2828677329228046}, {\"X\": 3.793793793793794, \"y\": -3.3691633824976273, \"ymin\": -4.424512708651907, \"ymax\": -2.3191984916808694}, {\"X\": 3.803803803803804, \"y\": -3.3903193209904274, \"ymin\": -4.430479449270994, \"ymax\": -2.355466132139864}, {\"X\": 3.813813813813814, \"y\": -3.4112735562836614, \"ymin\": -4.436111185282318, \"ymax\": -2.3916646906982635}, {\"X\": 3.823823823823824, \"y\": -3.432021530466055, \"ymin\": -4.441404788052637, \"ymax\": -2.4277881874589964}, {\"X\": 3.833833833833834, \"y\": -3.4525587238048847, \"ymin\": -4.446357219745043, \"ymax\": -2.4638306283542164}, {\"X\": 3.843843843843844, \"y\": -3.472880656824911, \"ymin\": -4.450965535337335, \"ymax\": -2.499786007284488}, {\"X\": 3.853853853853854, \"y\": -3.4929828923718143, \"ymin\": -4.4552268845964935, \"ymax\": -2.53564830827073}, {\"X\": 3.863863863863864, \"y\": -3.51286103765856, \"ymin\": -4.459138514007754, \"ymax\": -2.5714115076172694}, {\"X\": 3.873873873873874, \"y\": -3.5325107462930974, \"ymin\": -4.462697768656786, \"ymax\": -2.607069576084326}, {\"X\": 3.883883883883884, \"y\": -3.5519277202858035, \"ymin\": -4.465902094063479, \"ymax\": -2.6426164810682184}, {\"X\": 3.893893893893894, \"y\": -3.5711077120351034, \"ymin\": -4.468749037965908, \"ymax\": -2.67804618878762}, {\"X\": 3.903903903903904, \"y\": -3.5900465262896755, \"ymin\": -4.4712362520530196, \"ymax\": -2.713352666474103}, {\"X\": 3.913913913913914, \"y\": -3.6087400220856796, \"ymin\": -4.473361493644651, \"ymax\": -2.748529884565274}, {\"X\": 3.923923923923924, \"y\": -3.62718411465745, \"ymin\": -4.475122627317484, \"ymax\": -2.7835718188987424}, {\"X\": 3.933933933933934, \"y\": -3.645374777320088, \"ymin\": -4.476517626475591, \"ymax\": -2.8184724529051755}, {\"X\": 3.943943943943944, \"y\": -3.6633080433224237, \"ymin\": -4.4775445748642255, \"ymax\": -2.8532257797986924}, {\"X\": 3.953953953953954, \"y\": -3.680980007668813, \"ymin\": -4.478201668025589, \"ymax\": -2.887825804762837}, {\"X\": 3.963963963963964, \"y\": -3.698386828908248, \"ymin\": -4.478487214695269, \"ymax\": -2.922266547130344}, {\"X\": 3.973973973973974, \"y\": -3.7155247308892854, \"ymin\": -4.47839963813813, \"ymax\": -2.9565420425549758}, {\"X\": 3.983983983983984, \"y\": -3.7323900044793046, \"ymin\": -4.4779374774224525, \"ymax\": -2.9906463451736216}, {\"X\": 3.993993993993994, \"y\": -3.7489790092466246, \"ymin\": -4.477099388631148, \"ymax\": -3.0245735297569203}, {\"X\": 4.004004004004004, \"y\": -3.7652881751040317, \"ymin\": -4.475884146008894, \"ymax\": -3.058317693846644}, {\"X\": 4.014014014014014, \"y\": -3.7813140039122852, \"ymin\": -4.4742906430441165, \"ymax\": -3.0918729598780654}, {\"X\": 4.024024024024024, \"y\": -3.797053071042204, \"ymin\": -4.472317893484738, \"ymax\": -3.125233477285601}, {\"X\": 4.034034034034034, \"y\": -3.81250202689393, \"ymin\": -4.469965032286656, \"ymax\": -3.158393424589942}, {\"X\": 4.044044044044044, \"y\": -3.8276575983720234, \"ymin\": -4.46723131649399, \"ymax\": -3.1913470114649654}, {\"X\": 4.054054054054054, \"y\": -3.8425165903150456, \"ymin\": -4.464116126050114, \"ymax\": -3.2240884807827066}, {\"X\": 4.064064064064064, \"y\": -3.8570758868783255, \"ymin\": -4.4606189645386145, \"ymax\": -3.256612110634671}, {\"X\": 4.074074074074074, \"y\": -3.871332452868625, \"ymin\": -4.456739459853237, \"ymax\": -3.2889122163278124}, {\"X\": 4.084084084084084, \"y\": -3.885283335029455, \"ymin\": -4.452477364796086, \"ymax\": -3.3209831523534707}, {\"X\": 4.094094094094094, \"y\": -3.8989256632758176, \"ymin\": -4.4478325576032125, \"ymax\": -3.352819314327644}, {\"X\": 4.104104104104104, \"y\": -3.912256651877188, \"ymin\": -4.442805042396919, \"ymax\": -3.3844151409009253}, {\"X\": 4.114114114114114, \"y\": -3.925273600587586, \"ymin\": -4.4373949495640534, \"ymax\": -3.4157651156365088}, {\"X\": 4.124124124124124, \"y\": -3.937973895721603, \"ymin\": -4.431602536059661, \"ymax\": -3.4468637688546573}, {\"X\": 4.134134134134134, \"y\": -3.950355011175309, \"ymin\": -4.425428185635393, \"ymax\": -3.477705679442062}, {\"X\": 4.1441441441441444, \"y\": -3.9624145093909933, \"ymin\": -4.418872408992135, \"ymax\": -3.5082854766245513}, {\"X\": 4.1541541541541545, \"y\": -3.9741500422647085, \"ymin\": -4.411935843856309, \"ymax\": -3.5385978417016366}, {\"X\": 4.1641641641641645, \"y\": -3.9855593519956747, \"ymin\": -4.404619254979467, \"ymax\": -3.568637509741391}, {\"X\": 4.1741741741741745, \"y\": -3.9966402718765837, \"ymin\": -4.396923534060699, \"ymax\": -3.5983992712342237}, {\"X\": 4.1841841841841845, \"y\": -4.0073907270239335, \"ymin\": -4.388849699591546, \"ymax\": -3.627877973704115}, {\"X\": 4.1941941941941945, \"y\": -4.017808735047531, \"ymin\": -4.3803988966230945, \"ymax\": -3.6570685232759246}, {\"X\": 4.2042042042042045, \"y\": -4.027892406658358, \"ymin\": -4.371572396455011, \"ymax\": -3.6859658861974025}, {\"X\": 4.2142142142142145, \"y\": -4.037639946214055, \"ymin\": -4.3623715962463026, \"ymax\": -3.7145650903146255}, {\"X\": 4.2242242242242245, \"y\": -4.0470496522012755, \"ymin\": -4.352798018547671, \"ymax\": -3.742861226499505}, {\"X\": 4.2342342342342345, \"y\": -4.056119917654277, \"ymin\": -4.34285331075534, \"ymax\": -3.770849450028219}, {\"X\": 4.2442442442442445, \"y\": -4.064849230509093, \"ymin\": -4.332539244486343, \"ymax\": -3.798524981909279}, {\"X\": 4.2542542542542545, \"y\": -4.073236173892735, \"ymin\": -4.321857714875288, \"ymax\": -3.8258831101600936}, {\"X\": 4.2642642642642645, \"y\": -4.081279426346873, \"ymin\": -4.310810739792607, \"ymax\": -3.8529191910309635}, {\"X\": 4.2742742742742745, \"y\": -4.088977761985543, \"ymin\": -4.2994004589845645, \"ymax\": -3.879628650175292}, {\"X\": 4.2842842842842845, \"y\": -4.096330050586435, \"ymin\": -4.287629133135091, \"ymax\": -3.906006983765067}, {\"X\": 4.2942942942942945, \"y\": -4.103335257615383, \"ymin\": -4.275499142849858, \"ymax\": -3.9320497595504715}, {\"X\": 4.3043043043043046, \"y\": -4.109992444183753, \"ymin\": -4.263012987563061, \"ymax\": -3.957752617862502}, {\"X\": 4.314314314314315, \"y\": -4.116300766938423, \"ymin\": -4.250173284367548, \"ymax\": -3.983111272557405}, {\"X\": 4.324324324324325, \"y\": -4.1222594778841675, \"ymin\": -4.236982766769821, \"ymax\": -4.008121511900991}, {\"X\": 4.334334334334335, \"y\": -4.127867924138246, \"ymin\": -4.223444283372733, \"ymax\": -4.03277919938965}, {\"X\": 4.344344344344345, \"y\": -4.1331255476171105, \"ymin\": -4.209560796494051, \"ymax\": -4.0570802744997465}, {\"X\": 4.354354354354355, \"y\": -4.1380318846551525, \"ymin\": -4.19533538074947, \"ymax\": -4.081020753336826}, {\"X\": 4.364364364364365, \"y\": -4.142586565555494, \"ymin\": -4.180771221740392, \"ymax\": -4.104596729045007}, {\"X\": 4.374374374374375, \"y\": -4.146789314072858, \"ymin\": -4.165871616106334, \"ymax\": -4.127804370723226}, {\"X\": 4.384384384384385, \"y\": -4.150639946828645, \"ymin\": -4.150659546840336, \"ymax\": -4.150620446817014}, {\"X\": 4.394394394394395, \"y\": -4.154138372658356, \"ymin\": -4.173197009308707, \"ymax\": -4.135176973950099}, {\"X\": 4.404404404404405, \"y\": -4.157284591891585, \"ymin\": -4.195374574325713, \"ymax\": -4.1193889461025295}, {\"X\": 4.414414414414415, \"y\": -4.160078695564854, \"ymin\": -4.217169129926923, \"ymax\": -4.103279538929123}, {\"X\": 4.424424424424425, \"y\": -4.162520864567612, \"ymin\": -4.238577223078253, \"ymax\": -4.086852548702433}, {\"X\": 4.434434434434435, \"y\": -4.164611368721788, \"ymin\": -4.259595482877636, \"ymax\": -4.070111867393266}, {\"X\": 4.444444444444445, \"y\": -4.166350565795336, \"ymin\": -4.2802206190278165, \"ymax\": -4.053061482222206}, {\"X\": 4.454454454454455, \"y\": -4.167738900450265, \"ymin\": -4.300449421684218, \"ymax\": -4.0357054737124045}, {\"X\": 4.464464464464465, \"y\": -4.168776903125711, \"ymin\": -4.320278761418965, \"ymax\": -4.018048013497219}, {\"X\": 4.474474474474475, \"y\": -4.169465188856648, \"ymin\": -4.339705589161262, \"ymax\": -4.000093362022977}, {\"X\": 4.484484484484485, \"y\": -4.16980445602892, \"ymin\": -4.358726936086249, \"ymax\": -3.981845866175964}, {\"X\": 4.494494494494495, \"y\": -4.169795485071294, \"ymin\": -4.377339913444859, \"ymax\": -3.963309956842491}, {\"X\": 4.504504504504505, \"y\": -4.169439137085328, \"ymin\": -4.395541712332488, \"ymax\": -3.9444901464057547}, {\"X\": 4.514514514514515, \"y\": -4.168736352413861, \"ymin\": -4.413329603395724, \"ymax\": -3.925391026181905}, {\"X\": 4.524524524524525, \"y\": -4.1676881491490345, \"ymin\": -4.430700936477135, \"ymax\": -3.9060172637970982}, {\"X\": 4.534534534534535, \"y\": -4.16629562158077, \"ymin\": -4.447653140198405, \"ymax\": -3.8863736005071026}, {\"X\": 4.544544544544545, \"y\": -4.164559938586692, \"ymin\": -4.464183721482176, \"ymax\": -3.8664648484610824}, {\"X\": 4.554554554554555, \"y\": -4.162482341964556, \"ymin\": -4.480290265013154, \"ymax\": -3.846295887911104}, {\"X\": 4.564564564564565, \"y\": -4.160064144708277, \"ymin\": -4.495970432639091, \"ymax\": -3.825871664368946}, {\"X\": 4.574574574574575, \"y\": -4.157306729228702, \"ymin\": -4.511221962712344, \"ymax\": -3.8051971857118123}, {\"X\": 4.584584584584585, \"y\": -4.154211545520334, \"ymin\": -4.526042669372733, \"ymax\": -3.7842775192386107}, {\"X\": 4.594594594594595, \"y\": -4.150780109275282, \"ymin\": -4.540430441772579, \"ymax\": -3.7631177886784815}, {\"X\": 4.604604604604605, \"y\": -4.147013999945699, \"ymin\": -4.554383243244773, \"ymax\": -3.741723171153253}, {\"X\": 4.614614614614615, \"y\": -4.142914858756105, \"ymin\": -4.567899110414855, \"ymax\": -3.720098894095614}, {\"X\": 4.624624624624625, \"y\": -4.138484386666982, \"ymin\": -4.580976152258117, \"ymax\": -3.698250232124781}, {\"X\": 4.634634634634635, \"y\": -4.1337243422910825, \"ymin\": -4.593612549102826, \"ymax\": -3.67618250388144}, {\"X\": 4.644644644644645, \"y\": -4.128636539763964, \"ymin\": -4.605806551580666, \"ymax\": -3.6539010688238784}, {\"X\": 4.654654654654655, \"y\": -4.123222846570291, \"ymin\": -4.617556479525677, \"ymax\": -3.631411323987127}, {\"X\": 4.664664664664665, \"y\": -4.117485181327492, \"ymin\": -4.628860720822873, \"ymax\": -3.6087187007070876}, {\"X\": 4.674674674674675, \"y\": -4.111425511528396, \"ymin\": -4.6397177302079236, \"ymax\": -3.585828661311519}, {\"X\": 4.684684684684685, \"y\": -4.105045851244551, \"ymin\": -4.650126028019242, \"ymax\": -3.5627466957799343}, {\"X\": 4.694694694694695, \"y\": -4.098348258791904, \"ymin\": -4.660084198903917, \"ymax\": -3.5394783183743397}, {\"X\": 4.704704704704705, \"y\": -4.091334834360647, \"ymin\": -4.669590890479005, \"ymax\": -3.5160290642428933}, {\"X\": 4.714714714714715, \"y\": -4.084007717610984, \"ymin\": -4.678644811949691, \"ymax\": -3.4924044859984944}, {\"X\": 4.724724724724725, \"y\": -4.076369085236685, \"ymin\": -4.687244732685937, \"ymax\": -3.4686101502744187}, {\"X\": 4.734734734734735, \"y\": -4.068421148498294, \"ymin\": -4.695389480759259, \"ymax\": -3.4446516342590705}, {\"X\": 4.744744744744745, \"y\": -4.060166150727891, \"ymin\": -4.703077941441328, \"ymax\": -3.4205345222119723}, {\"X\": 4.754754754754755, \"y\": -4.051606364807363, \"ymin\": -4.710309055666163, \"ymax\": -3.3962644019631476}, {\"X\": 4.764764764764765, \"y\": -4.042744090622152, \"ymin\": -4.717081818457668, \"ymax\": -3.3718468613980423}, {\"X\": 4.774774774774775, \"y\": -4.03358165249251, \"ymin\": -4.723395277324399, \"ymax\": -3.347287484930171}, {\"X\": 4.784784784784785, \"y\": -4.024121396584252, \"ymin\": -4.72924853062341, \"ymax\": -3.32259184996366}, {\"X\": 4.794794794794795, \"y\": -4.014365688301136, \"ymin\": -4.7346407258951375, \"ymax\": -3.2977655233479197}, {\"X\": 4.804804804804805, \"y\": -4.004316909660913, \"ymin\": -4.73957105817125, \"ymax\": -3.272814057826649}, {\"X\": 4.814814814814815, \"y\": -3.9939774566572, \"ymin\": -4.744038768257517, \"ymax\": -3.2477429884834157}, {\"X\": 4.824824824824825, \"y\": -3.9833497366092927, \"ymin\": -4.748043140993699, \"ymax\": -3.222557829186031}, {\"X\": 4.834834834834835, \"y\": -3.972436165502109, \"ymin\": -4.751583503492567, \"ymax\": -3.1972640690320104}, {\"X\": 4.844844844844845, \"y\": -3.961239165318439, \"ymin\": -4.754659223360145, \"ymax\": -3.171867168797354}, {\"X\": 4.854854854854855, \"y\": -3.9497611613657, \"ymin\": -4.75726970689934, \"ymax\": -3.1463725573909054}, {\"X\": 4.864864864864865, \"y\": -3.9380045795994385, \"ymin\": -4.759414397299113, \"ymax\": -3.120785628316599}, {\"X\": 4.874874874874875, \"y\": -3.9259718439458022, \"ymin\": -4.7610927728114145, \"ymax\": -3.0951117361458307}, {\"X\": 4.884884884884885, \"y\": -3.913665373625241, \"ymin\": -4.762304344918081, \"ymax\": -3.069356193002262}, {\"X\": 4.894894894894895, \"y\": -3.901087580479707, \"ymin\": -4.763048656489985, \"ymax\": -3.0435242650613175}, {\"X\": 4.904904904904905, \"y\": -3.888240866305624, \"ymin\": -4.763325279940675, \"ymax\": -3.01762116906667}, {\"X\": 4.914914914914915, \"y\": -3.8751276201949163, \"ymin\": -4.763133815376808, \"ymax\": -2.991652068865994}, {\"X\": 4.924924924924925, \"y\": -3.8617502158863823, \"ymin\": -4.7624738887476905, \"ymax\": -2.9656220719682436}, {\"X\": 4.934934934934935, \"y\": -3.8481110091297146, \"ymin\": -4.76134514999624, \"ymax\": -2.939536226124753}, {\"X\": 4.944944944944945, \"y\": -3.8342123350644743, \"ymin\": -4.7597472712137, \"ymax\": -2.913399515936418}, {\"X\": 4.954954954954955, \"y\": -3.820056505616304, \"ymin\": -4.757679944800464, \"ymax\": -2.8872168594892056}, {\"X\": 4.964964964964965, \"y\": -3.805645806912698, \"ymin\": -4.755142881635349, \"ymax\": -2.8609931050202646}, {\"X\": 4.974974974974975, \"y\": -3.790982496720621, \"ymin\": -4.752135809255675, \"ymax\": -2.8347330276168683}, {\"X\": 4.984984984984985, \"y\": -3.7760688019082775, \"ymin\": -4.748658470050527, \"ymax\": -2.808441325950427}, {\"X\": 4.994994994994995, \"y\": -3.7609069159333064, \"ymin\": -4.744710619469528, \"ymax\": -2.78212261904778}, {\"X\": 5.005005005005005, \"y\": -3.7454989963597125, \"ymin\": -4.740292024249516, \"ymax\": -2.755781443101999}, {\"X\": 5.015015015015015, \"y\": -3.7298471624057674, \"ymin\": -4.735402460661451, \"ymax\": -2.7294222483248576}, {\"X\": 5.025025025025025, \"y\": -3.7139534925251843, \"ymin\": -4.730041712779907, \"ymax\": -2.7030493958431894}, {\"X\": 5.035035035035035, \"y\": -3.697820022023772, \"ymin\": -4.724209570777492, \"ymax\": -2.676667154641244}, {\"X\": 5.045045045045045, \"y\": -3.68144874071384, \"ymin\": -4.717905829246511, \"ymax\": -2.650279698551234}, {\"X\": 5.055055055055055, \"y\": -3.6648415906085394, \"ymin\": -4.711130285550181, \"ymax\": -2.6238911032941514}, {\"X\": 5.065065065065065, \"y\": -3.6480004636583536, \"ymin\": -4.703882738205704, \"ymax\": -2.5975053435729794}, {\"X\": 5.075075075075075, \"y\": -3.6309271995319063, \"ymin\": -4.696162985301454, \"ymax\": -2.5711262902203664}, {\"X\": 5.085085085085085, \"y\": -3.6136235834432475, \"ymin\": -4.687970822950544, \"ymax\": -2.544757707402825}, {\"X\": 5.095095095095095, \"y\": -3.5960913440277373, \"ymin\": -4.679306043782987, \"ymax\": -2.5184032498834834}, {\"X\": 5.105105105105105, \"y\": -3.5783321512686337, \"ymin\": -4.670168435478667, \"ymax\": -2.4920664603453866}, {\"X\": 5.115115115115115, \"y\": -3.560347614476465, \"ymin\": -4.660557779343276, \"ymax\": -2.4657507667773415}, {\"X\": 5.125125125125125, \"y\": -3.5421392803232146, \"ymin\": -4.65047384892936, \"ymax\": -2.439459479924243}, {\"X\": 5.135135135135135, \"y\": -3.52370863093335, \"ymin\": -4.639916408704593, \"ymax\": -2.4131957908037975}, {\"X\": 5.145145145145145, \"y\": -3.5050570820336615, \"ymin\": -4.628885212769322, \"ymax\": -2.3869627682915504}, {\"X\": 5.155155155155155, \"y\": -3.4861859811638567, \"ymin\": -4.617380003625435, \"ymax\": -2.360763356776062}, {\"X\": 5.165165165165165, \"y\": -3.467096605949822, \"ymin\": -4.60540051099853, \"ymax\": -2.3346003738860563}, {\"X\": 5.175175175175175, \"y\": -3.447790162441418, \"ymin\": -4.592946450715334, \"ymax\": -2.3084765082913488}, {\"X\": 5.185185185185185, \"y\": -3.428267783516625, \"ymin\": -4.580017523638261, \"ymax\": -2.282394317579282}, {\"X\": 5.195195195195195, \"y\": -3.4085305273538453, \"ymin\": -4.566613414658985, \"ymax\": -2.2563562262084256}, {\"X\": 5.205205205205205, \"y\": -3.3885793759740794, \"ymin\": -4.552733791752783, \"ymax\": -2.2303645235411853}, {\"X\": 5.215215215215215, \"y\": -3.368415233854698, \"ymin\": -4.538378305095461, \"ymax\": -2.2044213619570003}, {\"X\": 5.225225225225225, \"y\": -3.3480389266164288, \"ymin\": -4.5235465862444855, \"ymax\": -2.178528755047699}, {\"X\": 5.235235235235235, \"y\": -3.3274511997851914, \"ymin\": -4.508238247386021, \"ymax\": -2.1526885758966103}, {\"X\": 5.245245245245245, \"y\": -3.3066527176303033, \"ymin\": -4.492452880649406, \"ymax\": -2.126902555442931}, {\"X\": 5.255255255255255, \"y\": -3.285644062080572, \"ymin\": -4.4761900574906015, \"ymax\": -2.101172280932838}, {\"X\": 5.265265265265265, \"y\": -3.2644257317197134, \"ymin\": -4.459449328146084, \"ymax\": -2.075499194458783}, {\"X\": 5.275275275275275, \"y\": -3.242998140862489, \"ymin\": -4.442230221158541, \"ymax\": -2.0498845915883552}, {\"X\": 5.285285285285285, \"y\": -3.2213616187128915, \"ymin\": -4.424532242975714, \"ymax\": -2.024329620084063}, {\"X\": 5.295295295295295, \"y\": -3.1995164086056764, \"ymin\": -4.4063548776236505, \"ymax\": -1.9988352787153454}, {\"X\": 5.305305305305305, \"y\": -3.1774626673324224, \"ymin\": -4.3876975864555225, \"ymax\": -1.9734024161640322}, {\"X\": 5.315315315315315, \"y\": -3.155200464553326, \"ymin\": -4.368559807977167, \"ymax\": -1.9480317300245036}, {\"X\": 5.325325325325325, \"y\": -3.1327297822957867, \"ymin\": -4.348940957750356, \"ymax\": -1.9227237658996585}, {\"X\": 5.335335335335335, \"y\": -3.1100505145408457, \"ymin\": -4.3288404283747735, \"ymax\": -1.8974789165938257}, {\"X\": 5.345345345345345, \"y\": -3.0871624668984445, \"ymin\": -4.308257589549609, \"ymax\": -1.8722974214036634}, {\"X\": 5.355355355355355, \"y\": -3.0640653563723985, \"ymin\": -4.287191788215553, \"ymax\": -1.847179365508035}, {\"X\": 5.365365365365365, \"y\": -3.0407588112159454, \"ymin\": -4.265642348777951, \"ymax\": -1.8221246794578274}, {\"X\": 5.375375375375375, \"y\": -3.0172423708786336, \"ymin\": -4.243608573411763, \"ymax\": -1.797133138766592}, {\"X\": 5.385385385385385, \"y\": -2.9935154860452577, \"ymin\": -4.221089742448903, \"ymax\": -1.7722043636028555}, {\"X\": 5.395395395395395, \"y\": -2.969577518767482, \"ymin\": -4.19808511484846, \"ymax\": -1.7473378185848756}, {\"X\": 5.405405405405405, \"y\": -2.945427742688724, \"ymin\": -4.174593928750201, \"ymax\": -1.7225328126785808}, {\"X\": 5.415415415415415, \"y\": -2.921065343362786, \"ymin\": -4.150615402111676, \"ymax\": -1.697788499199349}, {\"X\": 5.425425425425425, \"y\": -2.8964894186666754, \"ymin\": -4.126148733429194, \"ymax\": -1.673103875918251}, {\"X\": 5.435435435435435, \"y\": -2.8716989793079577, \"ymin\": -4.1011931025427915, \"ymax\": -1.6484777852733017}, {\"X\": 5.445445445445445, \"y\": -2.846692949426926, \"ymin\": -4.0757476715252805, \"ymax\": -1.6239089146862158}, {\"X\": 5.455455455455455, \"y\": -2.821470167293807, \"ymin\": -4.049811585655366, \"ymax\": -1.5993957969851127}, {\"X\": 5.465465465465465, \"y\": -2.7960293861011225, \"ymin\": -4.023383974474711, \"ymax\": -1.574936810933522}, {\"X\": 5.475475475475475, \"y\": -2.770369274851274, \"ymin\": -3.9964639529287638, \"ymax\": -1.550530181866016}, {\"X\": 5.485485485485485, \"y\": -2.744488419339341, \"ymin\": -3.9690506225910798, \"ymax\": -1.5261739824307234}, {\"X\": 5.495495495495495, \"y\": -2.7183853232309927, \"ymin\": -3.941143072970746, \"ymax\": -1.501866133438891}, {\"X\": 5.505505505505505, \"y\": -2.692058409235356, \"ymin\": -3.9127403829024794, \"ymax\": -1.4776044048216366}, {\"X\": 5.515515515515515, \"y\": -2.6655060203725904, \"ymin\": -3.883841622018821, \"ymax\": -1.4533864166939425}, {\"X\": 5.525525525525525, \"y\": -2.6387264213358583, \"ymin\": -3.854445852303832, \"ymax\": -1.4292096405258845}, {\"X\": 5.535535535535535, \"y\": -2.611717799947291, \"ymin\": -3.824552129727534, \"ymax\": -1.4050714004210294}, {\"X\": 5.545545545545545, \"y\": -2.5844782687074854, \"ymin\": -3.794159505960308, \"ymax\": -1.380968874501871}, {\"X\": 5.555555555555555, \"y\": -2.5570058664379625, \"ymin\": -3.7632670301663413, \"ymax\": -1.3568990964020755}, {\"X\": 5.565565565565565, \"y\": -2.5292985600160005, \"ymin\": -3.731873750875147, \"ymax\": -1.332858956865319}, {\"X\": 5.575575575575575, \"y\": -2.5013542462010996, \"ymin\": -3.6999787179300787, \"ymax\": -1.3088452054503295}, {\"X\": 5.585585585585585, \"y\": -2.473170753552326, \"ymin\": -3.6675809845126843, \"ymax\": -1.2848544523417653}, {\"X\": 5.595595595595595, \"y\": -2.4447458444356682, \"ymin\": -3.6346796092416573, \"ymax\": -1.2608831702664445}, {\"X\": 5.605605605605605, \"y\": -2.4160772171204776, \"ymin\": -3.6012736583450486, \"ymax\": -1.2369276965143994}, {\"X\": 5.615615615615615, \"y\": -2.3871625079639895, \"ymin\": -3.5673622079043485, \"ymax\": -1.2129842350641424}, {\"X\": 5.625625625625625, \"y\": -2.357999293682828, \"ymin\": -3.5329443461689087, \"ymax\": -1.1890488588114718}, {\"X\": 5.635635635635635, \"y\": -2.3285850937103496, \"ymin\": -3.4980191759391577, \"ymax\": -1.1651175119010766}, {\"X\": 5.645645645645645, \"y\": -2.298917372638587, \"ymin\": -3.462585817016935, \"ymax\": -1.1411860121601287}, {\"X\": 5.655655655655655, \"y\": -2.2689935427434795, \"ymin\": -3.4266434087212065, \"ymax\": -1.1172500536329857}, {\"X\": 5.665665665665665, \"y\": -2.238810966592016, \"ymin\": -3.390191112467349, \"ymax\": -1.0933052092160473}, {\"X\": 5.675675675675675, \"y\": -2.2083669597298248, \"ymin\": -3.3532281144080898, \"ymax\": -1.0693469333917551}, {\"X\": 5.685685685685685, \"y\": -2.1776587934477005, \"ymin\": -3.315753628134167, \"ymax\": -1.0453705650606548}, {\"X\": 5.6956956956956954, \"y\": -2.1466836976254404, \"ymin\": -3.277766897432617, \"ymax\": -1.0213713304703413}, {\"X\": 5.7057057057057055, \"y\": -2.1154388636513515, \"ymin\": -3.2392671991006146, \"ymax\": -0.9973443462400948}, {\"X\": 5.7157157157157155, \"y\": -2.0839214474156558, \"ymin\": -3.2002538458126333, \"ymax\": -0.9732846224798875}, {\"X\": 5.7257257257257255, \"y\": -2.0521285723760103, \"ymin\": -3.1607261890387064, \"ymax\": -0.9491870660024095}, {\"X\": 5.7357357357357355, \"y\": -2.0200573326932476, \"ymin\": -3.1206836220114296, \"ymax\": -0.9250464836266894}, {\"X\": 5.7457457457457455, \"y\": -1.9877047964353949, \"ymin\": -3.0801255827393206, \"ymax\": -0.9008575855717955}, {\"X\": 5.7557557557557555, \"y\": -1.9550680088479617, \"ymin\": -3.0390515570640826, \"ymax\": -0.8766149889390662}, {\"X\": 5.7657657657657655, \"y\": -1.9221439956884199, \"ymin\": -2.997461081759244, \"ymax\": -0.8523132212812221}, {\"X\": 5.7757757757757755, \"y\": -1.8889297666227323, \"ymin\": -2.955353747667594, \"ymax\": -0.8279467242566705}, {\"X\": 5.7857857857857855, \"y\": -1.8554223186817305, \"ymin\": -2.9127292028747735, \"ymax\": -0.8035098573672235}, {\"X\": 5.7957957957957955, \"y\": -1.821618639775077, \"ymin\": -2.8695871559163315, \"ymax\": -0.7789969017774006}, {\"X\": 5.8058058058058055, \"y\": -1.787515712260486, \"ymin\": -2.82592737901549, \"ymax\": -0.754402064213415}, {\"X\": 5.8158158158158155, \"y\": -1.7531105165658225, \"ymin\": -2.7817497113488274, \"ymax\": -0.7297194809398737}, {\"X\": 5.8258258258258255, \"y\": -1.7184000348616453, \"ymin\": -2.7370540623370125, \"ymax\": -0.704943221812173}, {\"X\": 5.8358358358358355, \"y\": -1.6833812547816873, \"ymin\": -2.6918404149577153, \"ymax\": -0.6800672944024757}, {\"X\": 5.8458458458458455, \"y\": -1.6480511731887395, \"ymin\": -2.6461088290777375, \"ymax\": -0.6550856481971343}, {\"X\": 5.8558558558558556, \"y\": -1.6124067999833271, \"ymin\": -2.5998594448013814, \"ymax\": -0.629992178863324}, {\"X\": 5.865865865865866, \"y\": -1.576445161952539, \"ymin\": -2.5530924858320474, \"ymax\": -0.60478073258262}, {\"X\": 5.875875875875876, \"y\": -1.5401633066562943, \"ymin\": -2.5058082628439773, \"ymax\": -0.5794451104491607}, {\"X\": 5.885885885885886, \"y\": -1.5035583063483233, \"ymin\": -2.4580071768610856, \"ymax\": -0.553979072930014}, {\"X\": 5.895895895895896, \"y\": -1.466627261929046, \"ymin\": -2.4096897226397136, \"ymax\": -0.5283763443852695}, {\"X\": 5.905905905905906, \"y\": -1.4293673069275366, \"ymin\": -2.3608564920521866, \"ymax\": -0.5026306176453593}, {\"X\": 5.915915915915916, \"y\": -1.3917756115096813, \"ymin\": -2.311508177467974, \"ymax\": -0.47673555864301265}, {\"X\": 5.925925925925926, \"y\": -1.3538493865096293, \"ymin\": -2.2616455751292612, \"ymax\": -0.4506848110972401}, {\"X\": 5.935935935935936, \"y\": -1.3155858874815674, \"ymin\": -2.211269588517704, \"ymax\": -0.42447200124663553}, {\"X\": 5.945945945945946, \"y\": -1.2769824187688528, \"ymin\": -2.160381231709122, \"ymax\": -0.3980907426292991}, {\"X\": 5.955955955955956, \"y\": -1.2380363375874603, \"ymin\": -2.108981632712882, \"ymax\": -0.37153464090655586}, {\"X\": 5.965965965965966, \"y\": -1.1987450581207095, \"ymin\": -2.0570720367926985, \"ymax\": -0.3447972987276592}, {\"X\": 5.975975975975976, \"y\": -1.1591060556221855, \"ymin\": -2.0046538097655753, \"ymax\": -0.31787232063258863}, {\"X\": 5.985985985985986, \"y\": -1.1191168705237429, \"ymin\": -1.951728441275597, \"ymax\": -0.29075331799001025}, {\"X\": 5.995995995995996, \"y\": -1.0787751125454668, \"ymin\": -1.8982975480393036, \"ymax\": -0.2634339139674149}, {\"X\": 6.006006006006006, \"y\": -1.0380784648044343, \"ymin\": -1.844362877059325, \"ymax\": -0.23590774853043595}, {\"X\": 6.016016016016016, \"y\": -0.9970246879191025, \"ymin\": -1.789926308803031, \"ymax\": -0.20816848346825512}, {\"X\": 6.026026026026026, \"y\": -0.9556116241061283, \"ymin\": -1.7349898603428797, \"ymax\": -0.18020980744201343}, {\"X\": 6.036036036036036, \"y\": -0.9138372012664278, \"ymin\": -1.6795556884552223, \"ymax\": -0.15202544105308646}, {\"X\": 6.046046046046046, \"y\": -0.8716994370572315, \"ymin\": -1.6236260926742716, \"ymax\": -0.1236091419280333}, {\"X\": 6.056056056056056, \"y\": -0.8291964429469305, \"ymin\": -1.5672035182980248, \"ymax\": -0.09495470981701526}, {\"X\": 6.066066066066066, \"y\": -0.7863264282494562, \"ymin\": -1.5102905593428677, \"ymax\": -0.0660559917024397}, {\"X\": 6.076076076076076, \"y\": -0.7430877041349646, \"ymin\": -1.4528899614436912, \"ymax\": -0.0369068869145478}, {\"X\": 6.086086086086086, \"y\": -0.6994786876135635, \"ymin\": -1.3950046246962993, \"ymax\": -0.0075013522506376384}, {\"X\": 6.096096096096096, \"y\": -0.6554979054888528, \"ymin\": -1.3366376064389662, \"ymax\": 0.02216659290539269}, {\"X\": 6.106106106106106, \"y\": -0.6111439982780151, \"ymin\": -1.2777921239700023, \"ymax\": 0.052102861466563954}, {\"X\": 6.116116116116116, \"y\": -0.5664157240952274, \"ymin\": -1.2184715571982239, \"ymax\": 0.08231329353275363}, {\"X\": 6.126126126126126, \"y\": -0.5213119624951505, \"ymin\": -1.1586794512232645, \"ymax\": 0.1128036512904731}, {\"X\": 6.136136136136136, \"y\": -0.47583171827328474, \"ymin\": -1.0984195188426975, \"ymax\": 0.1435796139258757}, {\"X\": 6.146146146146146, \"y\": -0.4299741252199525, \"ymin\": -1.0376956429829565, \"ymax\": 0.1746467725544648}, {\"X\": 6.156156156156156, \"y\": -0.38373844982474825, \"ymin\": -0.9765118790511584, \"ymax\": 0.20601062517091495}, {\"X\": 6.166166166166166, \"y\": -0.33712409492823303, \"ymin\": -0.9148724572048442, \"ymax\": 0.23767657162247713}, {\"X\": 6.176176176176176, \"y\": -0.29013060331773444, \"ymin\": -0.852781784536865, \"ymax\": 0.2696499086094618}, {\"X\": 6.186186186186186, \"y\": -0.2427576612641178, \"ymin\": -0.7902444471725549, \"ymax\": 0.30193582471621516}, {\"X\": 6.196196196196196, \"y\": -0.19500510199638565, \"ymin\": -0.7272652122764499, \"ymax\": 0.3345393954761272}, {\"X\": 6.206206206206206, \"y\": -0.146872909111047, \"ymin\": -0.6638490299658707, \"ymax\": 0.3674655784741093}, {\"X\": 6.216216216216216, \"y\": -0.09836121991317892, \"ymin\": -0.6000010351287186, \"ymax\": 0.40071920849003656}, {\"X\": 6.226226226226226, \"y\": -0.049470328686158194, \"ymin\": -0.53572654914291, \"ymax\": 0.4343049926866306}, {\"X\": 6.236236236236236, \"y\": -0.00020068988707677704, \"ymin\": -0.47103108149493567, \"ymax\": 0.4682275058452318}, {\"X\": 6.246246246246246, \"y\": 0.04944707873512222, \"ymin\": -0.4059203312951055, \"ymax\": 0.5024911856529508}, {\"X\": 6.256256256256256, \"y\": 0.09947219310169464, \"ymin\": -0.3404001886870807, \"ymax\": 0.5371003280446089}, {\"X\": 6.266266266266266, \"y\": 0.14987369984921184, \"ymin\": -0.2744767361494111, \"ymax\": 0.5720590826029439}, {\"X\": 6.276276276276276, \"y\": 0.2006504734605703, \"ymin\": -0.2081562496868014, \"ymax\": 0.6073714480204554}, {\"X\": 6.286286286286286, \"y\": 0.2518012134846619, \"ymin\": -0.14144519990900573, \"ymax\": 0.6430412676263211}, {\"X\": 6.296296296296296, \"y\": 0.3033244418474639, \"ymin\": -0.07435025299518833, \"ymax\": 0.6790722249817351}, {\"X\": 6.306306306306306, \"y\": 0.3552185002572008, \"ymin\": -0.006878271541808867, \"ymax\": 0.7154678395470319}, {\"X\": 6.316316316316316, \"y\": 0.40748154770622014, \"ymin\": 0.06096368470791047, \"ymax\": 0.7522314624239261}, {\"X\": 6.326326326326326, \"y\": 0.46011155807214665, \"ymin\": 0.12916835825480022, \"ymax\": 0.7893662721761393}, {\"X\": 6.336336336336336, \"y\": 0.5131063178208213, \"ymin\": 0.19772829335656433, \"ymax\": 0.8268752707316892}, {\"X\": 6.346346346346346, \"y\": 0.5664634238134836, \"ymin\": 0.2666358356642877, \"ymax\": 0.8647612793700814}, {\"X\": 6.356356356356356, \"y\": 0.6201802812205748, \"ymin\": 0.33588313198423736, \"ymax\": 0.9030269347975431}, {\"X\": 6.366366366366366, \"y\": 0.6742541015444838, \"ymin\": 0.40546213016636906, \"ymax\": 0.9416746853135266}, {\"X\": 6.376376376376376, \"y\": 0.7286819007534944, \"ymin\": 0.4753645791210446, \"ymax\": 0.980706787071493}, {\"X\": 6.386386386386386, \"y\": 0.7834604975291106, \"ymin\": 0.5455820289651686, \"ymax\": 1.0201253004371142}, {\"X\": 6.396396396396396, \"y\": 0.8385865116288747, \"ymin\": 0.6161058312989965, \"ymax\": 1.0599320864468655}, {\"X\": 6.406406406406406, \"y\": 0.8940563623667099, \"ymin\": 0.6869271396147084, \"ymax\": 1.1001288033699768}, {\"X\": 6.416416416416417, \"y\": 0.9498662672127729, \"ymin\": 0.7580369098377602, \"ymax\": 1.1407169033766886}, {\"X\": 6.426426426426427, \"y\": 1.0060122405146403, \"ymin\": 0.8294259010018548, \"ymax\": 1.181697629315626}, {\"X\": 6.436436436436437, \"y\": 1.062490092341739, \"ymin\": 0.9010846760584352, \"ymax\": 1.2230720116031892}, {\"X\": 6.446446446446447, \"y\": 1.1192954274546234, \"ymin\": 0.973003602821187, \"ymax\": 1.264840865227685}, {\"X\": 6.456456456456457, \"y\": 1.1764236444008258, \"ymin\": 1.04517285504616, \"ymax\": 1.3070047868710288}, {\"X\": 6.466466466466467, \"y\": 1.2338699347388, \"ymin\": 1.117582413647671, \"ymax\": 1.3495641521508925}, {\"X\": 6.476476476476477, \"y\": 1.2916292823914337, \"ymin\": 1.1902220680498803, \"ymax\": 1.3925191129863466}, {\"X\": 6.486486486486487, \"y\": 1.3496964631305155, \"ymin\": 1.2630814176730019, \"ymax\": 1.435869595090797}, {\"X\": 6.496496496496497, \"y\": 1.4080660441934372, \"ymin\": 1.3361498735509092, \"ymax\": 1.479615295597993}, {\"X\": 6.506506506506507, \"y\": 1.4667323840333477, \"ymin\": 1.4094166600698323, \"ymax\": 1.5237556808337838}, {\"X\": 6.516516516516517, \"y\": 1.52568963220385, \"ymin\": 1.4828708167904727, \"ymax\": 1.5682899842732816}, {\"X\": 6.526526526526527, \"y\": 1.5849317293792713, \"ymin\": 1.5565012001638463, \"ymax\": 1.6132172048742095}, {\"X\": 6.536536536536537, \"y\": 1.644452407511416, \"ymin\": 1.6302964834374647, \"ymax\": 1.658536107482949}, {\"X\": 6.546546546546547, \"y\": 1.7042451901236295, \"ymin\": 1.704225590133699, \"ymax\": 1.7042646901136116}, {\"X\": 6.556556556556557, \"y\": 1.7643033927428973, \"ymin\": 1.7502711630417453, \"ymax\": 1.7782640294353698}, {\"X\": 6.566566566566567, \"y\": 1.8246201234706105, \"ymin\": 1.796684337221059, \"ymax\": 1.8524133801984808}, {\"X\": 6.576576576576577, \"y\": 1.8851882836925324, \"ymin\": 1.8434825112446034, \"ymax\": 1.9266812715871557}, {\"X\": 6.586586586586587, \"y\": 1.9460005689283757, \"ymin\": 1.8906632678677697, \"ymax\": 2.001055536820305}, {\"X\": 6.596596596596597, \"y\": 2.0070494698213417, \"ymin\": 1.938223941930279, \"ymax\": 2.075523847059899}, {\"X\": 6.606606606606607, \"y\": 2.0683272732678386, \"ymin\": 1.9861616217659275, \"ymax\": 2.150073712262087}, {\"X\": 6.616616616616617, \"y\": 2.129826063687496, \"ymin\": 2.034473148814863, \"ymax\": 2.2246924840964937}, {\"X\": 6.626626626626627, \"y\": 2.1915377244335157, \"ymin\": 2.0831551171430007, \"ymax\": 2.2993673592378547}, {\"X\": 6.636636636636637, \"y\": 2.2534539393432573, \"ymin\": 2.1322038730590585, \"ymax\": 2.374085382840292}, {\"X\": 6.646646646646647, \"y\": 2.315566194428888, \"ymin\": 2.1816155148681853, \"ymax\": 2.4488334521550974}, {\"X\": 6.656656656656657, \"y\": 2.377865779707801, \"ymin\": 2.2313858927732255, \"ymax\": 2.523598320280465}, {\"X\": 6.666666666666667, \"y\": 2.440343791172413, \"ymin\": 2.281510608928126, \"ymax\": 2.5983666000379024}, {\"X\": 6.676676676676677, \"y\": 2.502991132898834, \"ymin\": 2.331985017645339, \"ymax\": 2.673124767972464}, {\"X\": 6.686686686686687, \"y\": 2.565798519293818, \"ymin\": 2.3828042257585307, \"ymax\": 2.747859168474334}, {\"X\": 6.696696696696697, \"y\": 2.628756477479286, \"ymin\": 2.4339630931413088, \"ymax\": 2.8225560180196205}, {\"X\": 6.706706706706707, \"y\": 2.691855349813606, \"ymin\": 2.4854562333825063, \"ymax\": 2.89720140952822}, {\"X\": 6.716716716716717, \"y\": 2.7550852965487125, \"ymin\": 2.5372780146183755, \"ymax\": 2.9717813168365477}, {\"X\": 6.726726726726727, \"y\": 2.8184362986220557, \"ymin\": 2.589422560521926, \"ymax\": 3.046281599282899}, {\"X\": 6.736736736736737, \"y\": 2.881898160582254, \"ymin\": 2.641883751449472, \"ymax\": 3.120688006403134}, {\"X\": 6.746746746746747, \"y\": 2.9454605136472165, \"ymin\": 2.69465522574436, \"ymax\": 3.1949861827342416}, {\"X\": 6.756756756756757, \"y\": 3.0091128188934237, \"ymin\": 2.747730381197737, \"ymax\": 3.2691616727233157}, {\"X\": 6.766766766766767, \"y\": 3.0728443705749138, \"ymin\": 2.8011023766660643, \"ymax\": 3.3431999257393303}, {\"X\": 6.776776776776777, \"y\": 3.136644299570469, \"ymin\": 2.854764133845021, \"ymax\": 3.4170863011850727}, {\"X\": 6.786786786786787, \"y\": 3.2005015769573486, \"ymin\": 2.90870833919929, \"ymax\": 3.490806073706438}, {\"X\": 6.796796796796797, \"y\": 3.2644050177098523, \"ymin\": 2.962927446047581, \"ymax\": 3.5643444384962955}, {\"X\": 6.806806806806807, \"y\": 3.3283432845208645, \"ymin\": 3.017413676802217, \"ymax\": 3.6376865166899273}, {\"X\": 6.816816816816817, \"y\": 3.3923048917444945, \"ymin\": 3.0721590253624056, \"ymax\": 3.710817360849124}, {\"X\": 6.826826826826827, \"y\": 3.456278209457722, \"ymin\": 3.1271552596602348, \"ymax\": 3.7837219605317527}, {\"X\": 6.836836836836837, \"y\": 3.5202514676389973, \"ymin\": 3.1823939243583577, \"ymax\": 3.8563852479437153}, {\"X\": 6.846846846846847, \"y\": 3.584212760461548, \"ymin\": 3.2378663436981396, \"ymax\": 3.9287921036700406}, {\"X\": 6.856856856856857, \"y\": 3.6481500506990736, \"ymin\": 3.293563624496995, \"ymax\": 4.000927362481754}, {\"X\": 6.866866866866867, \"y\": 3.7120511742414815, \"ymin\": 3.3494766592935195, \"ymax\": 4.072775819215219}, {\"X\": 6.876876876876877, \"y\": 3.775903844718124, \"ymin\": 3.405596129638862, \"ymax\": 4.144322234720451}, {\"X\": 6.886886886886887, \"y\": 3.8396956582260002, \"ymin\": 3.4619125095327306, \"ymax\": 4.215551341874916}, {\"X\": 6.896896896896897, \"y\": 3.903414098160245, \"ymin\": 3.518416069002294, \"ymax\": 4.286447851659227}, {\"X\": 6.906906906906907, \"y\": 3.9670465401441763, \"ymin\": 3.5750968778221126, \"ymax\": 4.356996459291127}, {\"X\": 6.916916916916917, \"y\": 4.030580257056055, \"ymin\": 3.6319448093731515, \"ymax\": 4.427181850414046}, {\"X\": 6.926926926926927, \"y\": 4.094002424149672, \"ymin\": 3.688949544638813, \"ymax\": 4.496988707336497}, {\"X\": 6.936936936936937, \"y\": 4.157300124265756, \"ymin\": 3.7461005763358175, \"ymax\": 4.566401715318501}, {\"X\": 6.946946946946947, \"y\": 4.220460353131167, \"ymin\": 3.803387213177658, \"ymax\": 4.6354055689012394}, {\"X\": 6.956956956956957, \"y\": 4.2834700247427175, \"ymin\": 3.860798584268247, \"ymax\": 4.703984978275992}, {\"X\": 6.966966966966967, \"y\": 4.346315976832418, \"ymin\": 3.918323643623283, \"ymax\": 4.7721246756884454}, {\"X\": 6.976976976976977, \"y\": 4.408984976410879, \"ymin\": 3.975951174816772, \"ymax\": 4.839809421874403}, {\"X\": 6.986986986986987, \"y\": 4.4714637253855205, \"ymin\": 4.033669795749992, \"ymax\": 4.907024012522909}, {\"X\": 6.996996996996997, \"y\": 4.533738866250182, \"ymin\": 4.0914679635401745, \"ymax\": 4.97375328476269}, {\"X\": 7.007007007007007, \"y\": 4.5957969878426415, \"ymin\": 4.149333979526, \"ymax\": 5.039982123667871}, {\"X\": 7.017017017017017, \"y\": 4.657624631166552, \"ymin\": 4.207255994386979, \"ymax\": 5.105695468778883}, {\"X\": 7.027027027027027, \"y\": 4.71920829527417, \"ymin\": 4.2652220133736325, \"ymax\": 5.170878320634397}, {\"X\": 7.037037037037037, \"y\": 4.78053444320624, \"ymin\": 4.323219901645393, \"ymax\": 5.235515747310144}, {\"X\": 7.047047047047047, \"y\": 4.84158950798537, \"ymin\": 4.38123738971294, \"ymax\": 5.299592890960493}, {\"X\": 7.057057057057057, \"y\": 4.9023598986591015, \"ymin\": 4.439262078981702, \"ymax\": 5.363094974358555}, {\"X\": 7.067067067067067, \"y\": 4.962832006388928, \"ymin\": 4.497281447393148, \"ymax\": 5.426007307430648}, {\"X\": 7.077077077077077, \"y\": 5.022992210581411, \"ymin\": 4.555282855160362, \"ymax\": 5.488315293780925}, {\"X\": 7.087087087087087, \"y\": 5.082826885057517, \"ymin\": 4.6132535505944015, \"ymax\": 5.5500044372019435}, {\"X\": 7.097097097097097, \"y\": 5.1423224042562605, \"ymin\": 4.671180676017792, \"ymax\": 5.6110603481669825}, {\"X\": 7.107107107107107, \"y\": 5.201465149468719, \"ymin\": 4.7290512737614865, \"ymax\": 5.671468750299894}, {\"X\": 7.117117117117117, \"y\": 5.260241515098447, \"ymin\": 4.786852292241569, \"ymax\": 5.731215486818301}, {\"X\": 7.127127127127127, \"y\": 5.31863791494424, \"ymin\": 4.844570592111792, \"ymax\": 5.790286526945911}, {\"X\": 7.137137137137137, \"y\": 5.376640788501273, \"ymin\": 4.902192952488171, \"ymax\": 5.848667972289819}, {\"X\": 7.147147147147147, \"y\": 5.434236607276528, \"ymin\": 4.959706077241632, \"ymax\": 5.906346063178592}, {\"X\": 7.157157157157157, \"y\": 5.491411881114431, \"ymin\": 5.017096601354724, \"ymax\": 5.963307184956996}, {\"X\": 7.167167167167167, \"y\": 5.548153164528638, \"ymin\": 5.074351097338373, \"ymax\": 6.019537874233238}, {\"X\": 7.177177177177177, \"y\": 5.6044470630358365, \"ymin\": 5.131456081704531, \"ymax\": 6.075024825074635}, {\"X\": 7.187187187187187, \"y\": 5.660280239487474, \"ymin\": 5.188398021490631, \"ymax\": 6.129754895147598}, {\"X\": 7.197197197197197, \"y\": 5.715639420395278, \"ymin\": 5.24516334083158, \"ymax\": 6.183715111797937}, {\"X\": 7.207207207207207, \"y\": 5.770511402246461, \"ymin\": 5.30173842757514, \"ymax\": 6.236892678067418}, {\"X\": 7.217217217217217, \"y\": 5.824883057804486, \"ymin\": 5.358109639936382, \"ymax\": 6.289274978642652}, {\"X\": 7.227227227227227, \"y\": 5.878741342391266, \"ymin\": 5.414263313186889, \"ymax\": 6.3408495857323555}, {\"X\": 7.237237237237237, \"y\": 5.932073300146688, \"ymin\": 5.470185766374434, \"ymax\": 6.391604264869083}, {\"X\": 7.247247247247247, \"y\": 5.98486607026138, \"ymin\": 5.525863309068719, \"ymax\": 6.44152698063163}, {\"X\": 7.257257257257257, \"y\": 6.037106893178608, \"ymin\": 5.5812822481288205, \"ymax\": 6.490605902284265}, {\"X\": 7.267267267267267, \"y\": 6.088783116761242, \"ymin\": 5.636428894487921, \"ymax\": 6.538829409329088}, {\"X\": 7.277277277277277, \"y\": 6.139882202419735, \"ymin\": 5.691289569950899, \"ymax\": 6.586186096967812}, {\"X\": 7.287287287287287, \"y\": 6.1903917311971, \"ymin\": 5.745850614000382, \"ymax\": 6.632664781469345}, {\"X\": 7.297297297297297, \"y\": 6.240299409806859, \"ymin\": 5.800098390606753, \"ymax\": 6.678254505439617}, {\"X\": 7.307307307307307, \"y\": 6.2895930766200046, \"ymin\": 5.854019295037715, \"ymax\": 6.722944542990139}, {\"X\": 7.317317317317317, \"y\": 6.338260707597033, \"ymin\": 5.9075997606629365, \"ymax\": 6.766724404801875}, {\"X\": 7.327327327327327, \"y\": 6.38629042216113, \"ymin\": 5.960826265749313, \"ymax\": 6.809583843081049}, {\"X\": 7.337337337337337, \"y\": 6.433670489008656, \"ymin\": 6.013685340242433, \"ymax\": 6.851512856403623}, {\"X\": 7.347347347347347, \"y\": 6.4803893318531, \"ymin\": 6.066163572529758, \"ymax\": 6.8925016944452}, {\"X\": 7.357357357357357, \"y\": 6.526435535098702, \"ymin\": 6.118247616181133, \"ymax\": 6.932540862593222}, {\"X\": 7.367367367367367, \"y\": 6.571797849440057, \"ymin\": 6.169924196662183, \"ymax\": 6.971621126438452}, {\"X\": 7.377377377377377, \"y\": 6.616465197383953, \"ymin\": 6.221180118016211, \"ymax\": 7.009733516142674}, {\"X\": 7.387387387387387, \"y\": 6.6604266786898725, \"ymin\": 6.272002269510228, \"ymax\": 7.046869330679825}, {\"X\": 7.397397397397397, \"y\": 6.703671575725554, \"ymin\": 6.322377632240758, \"ymax\": 7.083020141947673}, {\"X\": 7.407407407407407, \"y\": 6.746189358734089, \"ymin\": 6.372293285695088, \"ymax\": 7.11817779874738}, {\"X\": 7.4174174174174174, \"y\": 6.787969691009138, \"ymin\": 6.421736414263715, \"ymax\": 7.15233443062831}, {\"X\": 7.4274274274274275, \"y\": 6.829002433974861, \"ymin\": 6.4706943136997035, \"ymax\": 7.185482451595554}, {\"X\": 7.4374374374374375, \"y\": 6.86927765216722, \"ymin\": 6.519154397520739, \"ymax\": 7.21761456367775}, {\"X\": 7.4474474474474475, \"y\": 6.908785618113449, \"ymin\": 6.567104203349739, \"ymax\": 7.2487237603528545}, {\"X\": 7.4574574574574575, \"y\": 6.947516817106479, \"ymin\": 6.614531399189881, \"ymax\": 7.278803329829624}, {\"X\": 7.4674674674674675, \"y\": 6.985461951871231, \"ymin\": 6.661423789629947, \"ymax\": 7.307846858182712}, {\"X\": 7.4774774774774775, \"y\": 7.0226119471197626, \"ymin\": 6.707769321976036, \"ymax\": 7.335848232339286}, {\"X\": 7.4874874874874875, \"y\": 7.058957953992292, \"ymin\": 6.753556092305574, \"ymax\": 7.362801642915302}, {\"X\": 7.4974974974974975, \"y\": 7.094491354381292, \"ymin\": 6.798772351439838, \"ymax\": 7.388701586899575}, {\"X\": 7.5075075075075075, \"y\": 7.12920376513581, \"ymin\": 6.843406510831003, \"ymax\": 7.41354287018396}, {\"X\": 7.5175175175175175, \"y\": 7.163087042143385, \"ymin\": 6.887447148360085, \"ymax\": 7.437320609937995}, {\"X\": 7.5275275275275275, \"y\": 7.196133284286924, \"ymin\": 6.930883014041949, \"ymax\": 7.460030236826569}, {\"X\": 7.5375375375375375, \"y\": 7.228334837274035, \"ymin\": 6.973703035633776, \"ymax\": 7.481667497069191}, {\"X\": 7.5475475475475475, \"y\": 7.2596842973364115, \"ymin\": 7.01589632414347, \"ymax\": 7.502228454339592}, {\"X\": 7.5575575575575575, \"y\": 7.290174514796928, \"ymin\": 7.057452179234414, \"ymax\": 7.521709491504532}, {\"X\": 7.5675675675675675, \"y\": 7.319798597502217, \"ymin\": 7.098360094523241, \"ymax\": 7.540107312200687}, {\"X\": 7.5775775775775776, \"y\": 7.348549914118628, \"ymin\": 7.138609762767254, \"ymax\": 7.557418942248822}, {\"X\": 7.587587587587588, \"y\": 7.376422097289507, \"ymin\": 7.178191080938243, \"ymax\": 7.573641730904285}, {\"X\": 7.597597597597598, \"y\": 7.403409046651866, \"ymin\": 7.2170941551795185, \"ymax\": 7.5887733519432325}, {\"X\": 7.607607607607608, \"y\": 7.429504931710662, \"ymin\": 7.255309305643114, \"ymax\": 7.602811804583988}, {\"X\": 7.617617617617618, \"y\": 7.454704194568898, \"ymin\": 7.292827071204119, \"ymax\": 7.615755414243042}, {\"X\": 7.627627627627628, \"y\": 7.479001552511987, \"ymin\": 7.329638214049229, \"ymax\": 7.627602833125444}, {\"X\": 7.637637637637638, \"y\": 7.502392000444811, \"ymin\": 7.365733724136653, \"ymax\": 7.638353040649355}, {\"X\": 7.647647647647648, \"y\": 7.524870813180144, \"ymin\": 7.401104823524574, \"ymax\": 7.648005343704818}, {\"X\": 7.657657657657658, \"y\": 7.546433547577054, \"ymin\": 7.4357429705652685, \"ymax\": 7.6565593767469435}, {\"X\": 7.667667667667668, \"y\": 7.5670760445281875, \"ymin\": 7.46963986396191, \"ymax\": 7.664015101724229}, {\"X\": 7.677677677677678, \"y\": 7.586794430794782, \"ymin\": 7.502787446684319, \"ymax\": 7.670372807843457}, {\"X\": 7.687687687687688, \"y\": 7.605585120688483, \"ymin\": 7.535177909737964, \"ymax\": 7.675633111174968}, {\"X\": 7.697697697697698, \"y\": 7.623444817599108, \"ymin\": 7.5668036957742135, \"ymax\": 7.679796954108569}, {\"X\": 7.707707707707708, \"y\": 7.640370515367597, \"ymin\": 7.597657502502589, \"ymax\": 7.68286560469758}, {\"X\": 7.717717717717718, \"y\": 7.656359499503518, \"ymin\": 7.627732285718691, \"ymax\": 7.684840656075156}, {\"X\": 7.727727727727728, \"y\": 7.671409348246618, \"ymin\": 7.657021260285784, \"ymax\": 7.685724027595406}, {\"X\": 7.737737737737738, \"y\": 7.685517933472003, \"ymin\": 7.685498333471192, \"ymax\": 7.68553743347281}, {\"X\": 7.747747747747748, \"y\": 7.698683421438657, \"ymin\": 7.6841508068032836, \"ymax\": 7.713141890080993}, {\"X\": 7.757757757757758, \"y\": 7.7109042733811055, \"ymin\": 7.681698977688563, \"ymax\": 7.739960562462972}, {\"X\": 7.767767767767768, \"y\": 7.722179245944153, \"ymin\": 7.678165641035392, \"ymax\": 7.765968291644196}, {\"X\": 7.777777777777778, \"y\": 7.73250739146075, \"ymin\": 7.673554335426172, \"ymax\": 7.791159666597192}, {\"X\": 7.787787787787788, \"y\": 7.741888058073119, \"ymin\": 7.667868910727373, \"ymax\": 7.815529556707917}, {\"X\": 7.797797797797798, \"y\": 7.75032088969742, \"ymin\": 7.661113528122268, \"ymax\": 7.8390731116726995}, {\"X\": 7.807807807807808, \"y\": 7.75780582583231, \"ymin\": 7.653292658093731, \"ymax\": 7.861785763123244}, {\"X\": 7.817817817817818, \"y\": 7.764343101211903, \"ymin\": 7.6444110780190515, \"ymax\": 7.88366322632724}, {\"X\": 7.827827827827828, \"y\": 7.769933245303706, \"ymin\": 7.634473869563024, \"ymax\": 7.904701501780405}, {\"X\": 7.837837837837838, \"y\": 7.774577081652226, \"ymin\": 7.623486415908438, \"ymax\": 7.924896876652423}, {\"X\": 7.847847847847848, \"y\": 7.778275727069097, \"ymin\": 7.611454398835895, \"ymax\": 7.944245926076619}, {\"X\": 7.857857857857858, \"y\": 7.7810305906705715, \"ymin\": 7.598383795658496, \"ymax\": 7.962745514279525}, {\"X\": 7.867867867867868, \"y\": 7.7828433727634785, \"ymin\": 7.58428087601505, \"ymax\": 7.980392795548904}, {\"X\": 7.877877877877878, \"y\": 7.783716063580711, \"ymin\": 7.5691521985246, \"ymax\": 7.997185215039598}, {\"X\": 7.887887887887888, \"y\": 7.783650941867502, \"ymin\": 7.553004607305011, \"ymax\": 8.013120509416918}, {\"X\": 7.897897897897898, \"y\": 7.782650573319818, \"ymin\": 7.535845228358292, \"ymax\": 8.028196707337662}, {\"X\": 7.907907907907908, \"y\": 7.780717808876285, \"ymin\": 7.517681465825259, \"ymax\": 8.042412129768888}, {\"X\": 7.917917917917918, \"y\": 7.777855782865201, \"ymin\": 7.498520998112347, \"ymax\": 8.055765390144826}, {\"X\": 7.927927927927928, \"y\": 7.774067911008244, \"ymin\": 7.478371773893342, \"ymax\": 8.068255394362355}, {\"X\": 7.937937937937938, \"y\": 7.769357888282596, \"ymin\": 7.45724200798884, \"ymax\": 8.07988134061567}, {\"X\": 7.947947947947948, \"y\": 7.763729686643333, \"ymin\": 7.435140177126455, \"ymax\": 8.09064271907084}, {\"X\": 7.957957957957958, \"y\": 7.757187552607936, \"ymin\": 7.4120750155847, \"ymax\": 8.100539311381054}, {\"X\": 7.967967967967968, \"y\": 7.749736004704981, \"ymin\": 7.388055510723665, \"ymax\": 8.109571190043535}, {\"X\": 7.977977977977978, \"y\": 7.741379830789054, \"ymin\": 7.363090898405586, \"ymax\": 8.117738717599137}, {\"X\": 7.987987987987988, \"y\": 7.732124085224077, \"ymin\": 7.337190658308515, \"ymax\": 8.125042545675784}, {\"X\": 7.997997997997998, \"y\": 7.721974085937326, \"ymin\": 7.310364509136389, \"ymax\": 8.131483613877034}, {\"X\": 8.008008008008009, \"y\": 7.710935411346428, \"ymin\": 7.2826224037287215, \"ymax\": 8.137063148517106}, {\"X\": 8.018018018018019, \"y\": 7.699013897161839, \"ymin\": 7.253974524073425, \"ymax\": 8.141782661203884}, {\"X\": 8.028028028028029, \"y\": 7.686215633067211, \"ymin\": 7.224431276226047, \"ymax\": 8.145643947271429}, {\"X\": 8.038038038038039, \"y\": 7.672546959280287, \"ymin\": 7.194003285139004, \"ymax\": 8.148649084063706}, {\"X\": 8.048048048048049, \"y\": 7.658014462996948, \"ymin\": 7.1627013894042815, \"ymax\": 8.150800429071285}, {\"X\": 8.058058058058059, \"y\": 7.642624974721117, \"ymin\": 7.130536635913187, \"ymax\": 8.152100617922883}, {\"X\": 8.068068068068069, \"y\": 7.626385564483329, \"ymin\": 7.097520274436759, \"ymax\": 8.152552562233744}, {\"X\": 8.078078078078079, \"y\": 7.6093035379508, \"ymin\": 7.063663752130479, \"ymax\": 8.152159447312854}, {\"X\": 8.088088088088089, \"y\": 7.591386432431893, \"ymin\": 7.028978707966957, \"ymax\": 8.150924729731193}, {\"X\": 8.098098098098099, \"y\": 7.572642012778008, \"ymin\": 6.993476967100337, \"ymax\": 8.148852134753243}, {\"X\": 8.108108108108109, \"y\": 7.553078267185856, \"ymin\": 6.957170535166126, \"ymax\": 8.145945653634056}, {\"X\": 8.118118118118119, \"y\": 7.532703402903259, \"ymin\": 6.920071592520245, \"ymax\": 8.142209540784318}, {\"X\": 8.128128128128129, \"y\": 7.511525841841561, \"ymin\": 6.882192488421051, \"ymax\": 8.137648310805844}, {\"X\": 8.138138138138139, \"y\": 7.489554216097915, \"ymin\": 6.843545735158238, \"ymax\": 8.132266735400144}, {\"X\": 8.148148148148149, \"y\": 7.466797363390558, \"ymin\": 6.804144002132279, \"ymax\": 8.12606984015262}, {\"X\": 8.158158158158159, \"y\": 7.443264322410487, \"ymin\": 6.7640001098884515, \"ymax\": 8.119062901195164}, {\"X\": 8.168168168168169, \"y\": 7.418964328092735, \"ymin\": 6.723127024109124, \"ymax\": 8.111251441749898}, {\"X\": 8.178178178178179, \"y\": 7.39390680681068, \"ymin\": 6.681537849568264, \"ymax\": 8.10264122855696}, {\"X\": 8.188188188188189, \"y\": 7.36810137149674, \"ymin\": 6.639245824052007, \"ymax\": 8.093238268189204}, {\"X\": 8.198198198198199, \"y\": 7.3415578166928785, \"ymin\": 6.596264312249129, \"ymax\": 8.083048803256814}, {\"X\": 8.208208208208209, \"y\": 7.314286113534373, \"ymin\": 6.55260679961531, \"ymax\": 8.07207930850487}, {\"X\": 8.218218218218219, \"y\": 7.286296404670352, \"ymin\": 6.508286886215059, \"ymax\": 8.060336486806996}, {\"X\": 8.228228228228229, \"y\": 7.257598999124534, \"ymin\": 6.4633182805450975, \"ymax\": 8.047827265058157}, {\"X\": 8.238238238238239, \"y\": 7.228204367099766, \"ymin\": 6.417714793343106, \"ymax\": 8.034558789969914}, {\"X\": 8.248248248248249, \"y\": 7.1981231347298404, \"ymin\": 6.371490331385609, \"ymax\": 8.020538423771296}, {\"X\": 8.258258258258259, \"y\": 7.167366078782177, \"ymin\": 6.32465889127885, \"ymax\": 8.00577373981865}, {\"X\": 8.268268268268269, \"y\": 7.135944121314913, \"ymin\": 6.2772345532463945, \"ymax\": 7.990272518117775}, {\"X\": 8.278278278278279, \"y\": 7.103868324291996, \"ymin\": 6.22923147491729, \"ymax\": 7.974042740761729}, {\"X\": 8.288288288288289, \"y\": 7.071149884159832, \"ymin\": 6.180663885118468, \"ymax\": 7.957092587287718}, {\"X\": 8.298298298298299, \"y\": 7.037800126389093, \"ymin\": 6.131546077675152, \"ymax\": 7.939430429956534}, {\"X\": 8.308308308308309, \"y\": 7.003830499985246, \"ymin\": 6.081892405222897, \"ymax\": 7.9210648289579915}, {\"X\": 8.318318318318319, \"y\": 6.969252571971406, \"ymin\": 6.031717273034981, \"ymax\": 7.902004527545911}, {\"X\": 8.328328328328329, \"y\": 6.93407802184706, \"ymin\": 5.981035132868699, \"ymax\": 7.882258447106143}, {\"X\": 8.338338338338339, \"y\": 6.898318636026236, \"ymin\": 5.929860476834164, \"ymax\": 7.861835682161205}, {\"X\": 8.348348348348349, \"y\": 6.861986302258683, \"ymin\": 5.878207831289151, \"ymax\": 7.8407454953151055}, {\"X\": 8.358358358358359, \"y\": 6.8250930040375835, \"ymin\": 5.826091750763458, \"ymax\": 7.818997312141943}, {\"X\": 8.368368368368369, \"y\": 6.787650814997331, \"ymin\": 5.773526811916247, \"ymax\": 7.79660071602188}, {\"X\": 8.378378378378379, \"y\": 6.74967189330487, \"ymin\": 5.720527607529736, \"ymax\": 7.77356544292809}, {\"X\": 8.388388388388389, \"y\": 6.711168476048079, \"ymin\": 5.6671087405425995, \"ymax\": 7.749901376168326}, {\"X\": 8.398398398398399, \"y\": 6.672152873624674, \"ymin\": 5.613284818126383, \"ymax\": 7.725618541084708}, {\"X\": 8.408408408408409, \"y\": 6.632637464135013, \"ymin\": 5.559070445808114, \"ymax\": 7.700727099715346}, {\"X\": 8.418418418418419, \"y\": 6.592634687782274, \"ymin\": 5.504480221642368, \"ymax\": 7.675237345421467}, {\"X\": 8.428428428428429, \"y\": 6.552157041283291, \"ymin\": 5.449528730435808, \"ymax\": 7.649159697483593}, {\"X\": 8.438438438438439, \"y\": 6.511217072293461, \"ymin\": 5.394230538027356, \"ymax\": 7.622504695670454}, {\"X\": 8.448448448448449, \"y\": 6.469827373848949, \"ymin\": 5.338600185626889, \"ymax\": 7.59528299478416}, {\"X\": 8.458458458458459, \"y\": 6.428000578829502, \"ymin\": 5.282652184215474, \"ymax\": 7.567505359185295}, {\"X\": 8.468468468468469, \"y\": 6.3857493544450525, \"ymin\": 5.226401009009921, \"ymax\": 7.539182657301433}, {\"X\": 8.478478478478479, \"y\": 6.343086396749308, \"ymin\": 5.16986109399452, \"ymax\": 7.5103258561226935}, {\"X\": 8.488488488488489, \"y\": 6.30002442518342, \"ymin\": 5.113046826522602, \"ymax\": 7.480946015687804}, {\"X\": 8.498498498498499, \"y\": 6.2565761771528505, \"ymin\": 5.055972541990638, \"ymax\": 7.451054283564235}, {\"X\": 8.508508508508509, \"y\": 6.212754402640442, \"ymin\": 4.998652518587407, \"ymax\": 7.42066188932586}, {\"X\": 8.518518518518519, \"y\": 6.168571858858649, \"ymin\": 4.9411009721207275, \"ymax\": 7.389780139031581}, {\"X\": 8.528528528528529, \"y\": 6.124041304943905, \"ymin\": 4.883332050924215, \"ymax\": 7.358420409708391}, {\"X\": 8.538538538538539, \"y\": 6.0791754966959255, \"ymin\": 4.825359830846339, \"ymax\": 7.326594143842198}, {\"X\": 8.548548548548549, \"y\": 6.033987181364827, \"ymin\": 4.767198310324107, \"ymax\": 7.294312843879829}, {\"X\": 8.558558558558559, \"y\": 5.988489092488737, \"ymin\": 4.708861405543507, \"ymax\": 7.261588066745471}, {\"X\": 8.568568568568569, \"y\": 5.9426939447846525, \"ymin\": 4.650362945688845, \"ymax\": 7.2284314183748695}, {\"X\": 8.578578578578579, \"y\": 5.8966144290951235, \"ymin\": 4.591716668282957, \"ymax\": 7.194854548270493}, {\"X\": 8.588588588588589, \"y\": 5.850263207393352, \"ymin\": 4.532936214620271, \"ymax\": 7.160869144080856}, {\"X\": 8.598598598598599, \"y\": 5.803652907849193, \"ymin\": 4.474035125294533, \"ymax\": 7.1264869262071455}, {\"X\": 8.608608608608609, \"y\": 5.756796119958485, \"ymin\": 4.415026835822972, \"ymax\": 7.091719642440246}, {\"X\": 8.618618618618619, \"y\": 5.709705389738094, \"ymin\": 4.355924672368607, \"ymax\": 7.056579062631205}, {\"X\": 8.62862862862863, \"y\": 5.662393214988913, \"ymin\": 4.296741847562233, \"ymax\": 7.0210769733981095}, {\"X\": 8.63863863863864, \"y\": 5.614872040629118, \"ymin\": 4.237491456425657, \"ymax\": 6.985225172872357}, {\"X\": 8.64864864864865, \"y\": 5.567154254099754, \"ymin\": 4.1781864723975515, \"ymax\": 6.94903546548715}, {\"X\": 8.65865865865866, \"y\": 5.519252180844777, \"ymin\": 4.1188397434632815, \"ymax\": 6.912519656811061}, {\"X\": 8.66866866866867, \"y\": 5.47117807986755, \"ymin\": 4.059463988389948, \"ymax\": 6.875689548429451}, {\"X\": 8.67867867867868, \"y\": 5.422944139365703, \"ymin\": 4.000071793067783, \"ymax\": 6.838556932876388}, {\"X\": 8.68868868868869, \"y\": 5.374562472446247, \"ymin\": 3.9406756069589974, \"ymax\": 6.801133588619785}, {\"X\": 8.6986986986987, \"y\": 5.326045112922694, \"ymin\": 3.8812877396550287, \"ymax\": 6.763431275102259}, {\"X\": 8.70870870870871, \"y\": 5.277404011195898, \"ymin\": 3.8219203575430925, \"ymax\": 6.725461727840272}, {\"X\": 8.71871871871872, \"y\": 5.228651030220259, \"ymin\": 3.76258548058286, \"ymax\": 6.687236653583999}, {\"X\": 8.72872872872873, \"y\": 5.179797941556799, \"ymin\": 3.703294979193932, \"ymax\": 6.648767725540265}, {\"X\": 8.73873873873874, \"y\": 5.130856421514643, \"ymin\": 3.6440605712547987, \"ymax\": 6.610066578660918}, {\"X\": 8.74874874874875, \"y\": 5.081838047382234, \"ymin\": 3.5848938192137627, \"ymax\": 6.571144804998826}, {\"X\": 8.75875875875876, \"y\": 5.03275429374966, \"ymin\": 3.5258061273123467, \"ymax\": 6.532013949133721}, {\"X\": 8.76876876876877, \"y\": 4.983616528923269, \"ymin\": 3.4668087389214897, \"ymax\": 6.492685503669938}, {\"X\": 8.77877877877878, \"y\": 4.93443601143379, \"ymin\": 3.4079127339908704, \"ymax\": 6.453170904808123}, {\"X\": 8.78878878878879, \"y\": 4.885223886639, \"ymin\": 3.349129026611538, \"ymax\": 6.413481527992854}, {\"X\": 8.7987987987988, \"y\": 4.835991183421947, \"ymin\": 3.29046836269194, \"ymax\": 6.3736286836380245}, {\"X\": 8.80880880880881, \"y\": 4.786748810985665, \"ymin\": 3.231941317747437, \"ymax\": 6.33362361293186}, {\"X\": 8.81881881881882, \"y\": 4.737507555745215, \"ymin\": 3.1735582948031977, \"ymax\": 6.293477483723243}, {\"X\": 8.82882882882883, \"y\": 4.68827807831781, \"ymin\": 3.115329522410369, \"ymax\": 6.25320138649103}, {\"X\": 8.83883883883884, \"y\": 4.639070910611749, \"ymin\": 3.0572650527753416, \"ymax\": 6.212806330397971}, {\"X\": 8.84884884884885, \"y\": 4.5898964530147035, \"ymin\": 2.999374760001735, \"ymax\": 6.172303239430667}, {\"X\": 8.85885885885886, \"y\": 4.540764971681975, \"ymin\": 2.9416683384448383, \"ymax\": 6.131702948627086}, {\"X\": 8.86886886886887, \"y\": 4.491686595925112, \"ymin\": 2.884155301177984, \"ymax\": 6.091016200392919}, {\"X\": 8.87887887887888, \"y\": 4.442671315701302, \"ymin\": 2.826844978570369, \"ymax\": 6.050253640908098}, {\"X\": 8.88888888888889, \"y\": 4.393728979203833, \"ymin\": 2.7697465169757196, \"ymax\": 6.00942581662466}, {\"X\": 8.8988988988989, \"y\": 4.344869290553866, \"ymin\": 2.7128688775311387, \"ymax\": 5.968543170857091}, {\"X\": 8.90890890890891, \"y\": 4.296101807593672, \"ymin\": 2.656220835065394, \"ymax\": 5.9276160404661935}, {\"X\": 8.91891891891892, \"y\": 4.247435939781401, \"ymin\": 2.599810977115826, \"ymax\": 5.886654652637459}, {\"X\": 8.92892892892893, \"y\": 4.198880946187421, \"ymin\": 2.543647703053015, \"ymax\": 5.845669121754814}, {\"X\": 8.93893893893894, \"y\": 4.150445933592153, \"ymin\": 2.4877392233122597, \"ymax\": 5.804669446370619}, {\"X\": 8.94894894894895, \"y\": 4.102139854685278, \"ymin\": 2.432093558730851, \"ymax\": 5.763665506272591}, {\"X\": 8.95895895895896, \"y\": 4.053971506366109, \"ymin\": 2.376718539990077, \"ymax\": 5.722667059648385}, {\"X\": 8.96896896896897, \"y\": 4.005949528144859, \"ymin\": 2.3216218071608092, \"ymax\": 5.681683740348378}, {\"X\": 8.97897897897898, \"y\": 3.9580824006444892, \"ymin\": 2.2668108093514974, \"ymax\": 5.640725055247211}, {\"X\": 8.98898898898899, \"y\": 3.9103784442027107, \"ymin\": 2.2122928044573005, \"ymax\": 5.599800381704522}, {\"X\": 8.998998998999, \"y\": 3.86284581757368, \"ymin\": 2.158074859009049, \"ymax\": 5.558918965125226}, {\"X\": 9.00900900900901, \"y\": 3.815492516728881, \"ymin\": 2.1041638481206903, \"ymax\": 5.518089916619683}, {\"X\": 9.01901901901902, \"y\": 3.768326373756558, \"ymin\": 2.05056645553377, \"ymax\": 5.477322210763924}, {\"X\": 9.02902902902903, \"y\": 3.721355055859086, \"ymin\": 1.9972891737575076, \"ymax\": 5.436624683460146}, {\"X\": 9.03903903903904, \"y\": 3.6745860644475403, \"ymin\": 1.944338304302939, \"ymax\": 5.396006029897526}, {\"X\": 9.04904904904905, \"y\": 3.6280267343327, \"ymin\": 1.8917199580095625, \"ymax\": 5.355474802613372}, {\"X\": 9.05905905905906, \"y\": 3.581684233011662, \"ymin\": 1.8394400554628856, \"ymax\": 5.315039409654577}, {\"X\": 9.06906906906907, \"y\": 3.5355655600491653, \"ymin\": 1.7875043275012104, \"ymax\": 5.274708112839223}, {\"X\": 9.07907907907908, \"y\": 3.4896775465527066, \"ymin\": 1.7359183158099845, \"ymax\": 5.23448902611817}, {\"X\": 9.08908908908909, \"y\": 3.4440268547404322, \"ymin\": 1.684687373601962, \"ymax\": 5.194390114036359}, {\"X\": 9.0990990990991, \"y\": 3.398619977600789, \"ymin\": 1.6338166663814373, \"ymax\": 5.1544191902935115}, {\"X\": 9.10910910910911, \"y\": 3.353463238642813, \"ymin\": 1.5833111727907156, \"ymax\": 5.114583916403829}, {\"X\": 9.11911911911912, \"y\": 3.3085627917359455, \"ymin\": 1.5331756855370238, \"ymax\": 5.07489180045426}, {\"X\": 9.12912912912913, \"y\": 3.2639246210381616, \"ymin\": 1.4834148123979625, \"ymax\": 5.035350195960809}, {\"X\": 9.13913913913914, \"y\": 3.219554541011201, \"ymin\": 1.434032977303631, \"ymax\": 4.995966300822304}, {\"X\": 9.14914914914915, \"y\": 3.175458196521613, \"ymin\": 1.385034421493495, \"ymax\": 4.956747156371016}, {\"X\": 9.15915915915916, \"y\": 3.1316410630263056, \"ymin\": 1.336423204746057, \"ymax\": 4.91769964651941}, {\"X\": 9.16916916916917, \"y\": 3.0881084468412383, \"ymin\": 1.288203206679361, \"ymax\": 4.87883049700229}, {\"X\": 9.17917917917918, \"y\": 3.04486548549187, \"ymin\": 1.240378128120356, \"ymax\": 4.840146274713529}, {\"X\": 9.18918918918919, \"y\": 3.0019171481439226, \"ymin\": 1.1929514925411049, \"ymax\": 4.801653387136522}, {\"X\": 9.1991991991992, \"y\": 2.959268236113005, \"ymin\": 1.145926647559826, \"ymax\": 4.763358081867443}, {\"X\": 9.20920920920921, \"y\": 2.916923383451586, \"ymin\": 1.0993067665047365, \"ymax\": 4.725266446230339}, {\"X\": 9.21921921921922, \"y\": 2.8748870576118004, \"ymin\": 1.0530948500386514, \"ymax\": 4.687384406983046}, {\"X\": 9.22922922922923, \"y\": 2.8331635601825114, \"ymin\": 1.007293727842284, \"ymax\": 4.649717730112839}, {\"X\": 9.23923923923924, \"y\": 2.7917570276990578, \"ymin\": 0.9619060603541927, \"ymax\": 4.612272020720734}, {\"X\": 9.24924924924925, \"y\": 2.750671432524062, \"ymin\": 0.9169343405653032, \"ymax\": 4.575052722993235}, {\"X\": 9.25925925925926, \"y\": 2.7099105837976545, \"ymin\": 0.8723808958659316, \"ymax\": 4.538065120260338}, {\"X\": 9.26926926926927, \"y\": 2.669478128455471, \"ymin\": 0.8282478899432526, \"ymax\": 4.501314335138545}, {\"X\": 9.27927927927928, \"y\": 2.6293775523127163, \"ymin\": 0.7845373247271199, \"ymax\": 4.46480532975757}, {\"X\": 9.28928928928929, \"y\": 2.5896121812126136, \"ymin\": 0.7412510423821923, \"ymax\": 4.42854290606941}, {\"X\": 9.2992992992993, \"y\": 2.550185182237496, \"ymin\": 0.6983907273442751, \"ymax\": 4.392531706238405}, {\"X\": 9.30930930930931, \"y\": 2.5110995649808237, \"ymin\": 0.6559579083988387, \"ymax\": 4.35677621311086}, {\"X\": 9.31931931931932, \"y\": 2.472358182878363, \"ymin\": 0.6139539607996558, \"ymax\": 4.321280750762791}, {\"X\": 9.32932932932933, \"y\": 2.433963734596761, \"ymin\": 0.5723801084254985, \"ymax\": 4.286049485124293}, {\"X\": 9.33933933933934, \"y\": 2.3959187654777505, \"ymin\": 0.5312374259728905, \"ymax\": 4.2510864246790145}, {\"X\": 9.34934934934935, \"y\": 2.358225669036186, \"ymin\": 0.4905268411828718, \"ymax\": 4.216395421237188}, {\"X\": 9.35935935935936, \"y\": 2.320886688510126, \"ymin\": 0.4502491370997803, \"ymax\": 4.181980170780623}, {\"X\": 9.36936936936937, \"y\": 2.283903918461156, \"ymin\": 0.4104049543600583, \"ymax\": 4.147844214378065}, {\"X\": 9.37937937937938, \"y\": 2.2472793064231493, \"ymin\": 0.370994793509116, \"ymax\": 4.113990939169254}, {\"X\": 9.38938938938939, \"y\": 2.211014654597648, \"ymin\": 0.33201901734428185, \"ymax\": 4.080423579416048}, {\"X\": 9.3993993993994, \"y\": 2.1751116215940667, \"ymin\": 0.2934778532819302, \"ymax\": 4.047145217618896}, {\"X\": 9.40940940940941, \"y\": 2.139571724212891, \"ymin\": 0.2553713957468515, \"ymax\": 4.014158785696961}, {\"X\": 9.41941941941942, \"y\": 2.1043963392700697, \"ymin\": 0.21769960858198445, \"ymax\": 3.9814670662301546}, {\"X\": 9.42942942942943, \"y\": 2.0695867054607877, \"ymin\": 0.18046232747664925, \"ymax\": 3.949072693761334}, {\"X\": 9.43943943943944, \"y\": 2.0351439252608143, \"ymin\": 0.14365926241142857, \"ymax\": 3.916978156156887}, {\"X\": 9.44944944944945, \"y\": 2.0010689668636266, \"ymin\": 0.10729000011789158, \"ymax\": 3.885185796023924}, {\"X\": 9.45945945945946, \"y\": 1.967362666151511, \"ymin\": 0.07135400655137092, \"ymax\": 3.8536978121822623}, {\"X\": 9.46946946946947, \"y\": 1.9340257286988654, \"ymin\": 0.03585062937503469, \"ymax\": 3.822516261189411}, {\"X\": 9.47947947947948, \"y\": 1.9010587318059093, \"ymin\": 0.0007791004535202539, \"ymax\": 3.7916430589167045}, {\"X\": 9.48948948948949, \"y\": 1.8684621265610522, \"ymin\": -0.03386146164556103, \"ymax\": 3.7610799821747745}, {\"X\": 9.4994994994995, \"y\": 1.836236239930147, \"ymin\": -0.06807204914392506, \"ymax\": 3.7308286703864946}, {\"X\": 9.50950950950951, \"y\": 1.804381276870903, \"ymin\": -0.10185376254034817, \"ymax\": 3.7008906273055664}, {\"X\": 9.51951951951952, \"y\": 1.7728973224707116, \"ymin\": -0.13520780809544397, \"ymax\": 3.6712672227788765}, {\"X\": 9.52952952952953, \"y\": 1.7417843441061844, \"ymin\": -0.1681354953150449, \"ymax\": 3.641959694550775}, {\"X\": 9.53953953953954, \"y\": 1.711042193622696, \"ymin\": -0.20063823443373208, \"ymax\": 3.612969150107408}, {\"X\": 9.54954954954955, \"y\": 1.680670609532259, \"ymin\": -0.2327175339000025, \"ymax\": 3.584296568559254}, {\"X\": 9.55955955955956, \"y\": 1.6506692192280554, \"ymin\": -0.26437499786455265, \"ymax\": 3.5559428025599873}, {\"X\": 9.56956956956957, \"y\": 1.621037541213995, \"ymin\": -0.2956123236730934, \"ymax\": 3.5279085802598225}, {\"X\": 9.57957957957958, \"y\": 1.5917749873476654, \"ymin\": -0.3264312993651004, \"ymax\": 3.5001945072914884}, {\"X\": 9.58958958958959, \"y\": 1.5628808650950765, \"ymin\": -0.35683380117984953, \"ymax\": 3.4728010687869673}, {\"X\": 9.5995995995996, \"y\": 1.5343543797956152, \"ymin\": -0.3868217910710625, \"ymax\": 3.445728631423177}, {\"X\": 9.60960960960961, \"y\": 1.5061946369356547, \"ymin\": -0.416397314231439, \"ymax\": 3.418977445494753}, {\"X\": 9.61961961961962, \"y\": 1.4784006444292825, \"ymin\": -0.4455624966283247, \"ymax\": 3.392547647012106}, {\"X\": 9.62962962962963, \"y\": 1.450971314904632, \"ymin\": -0.4743195425517246, \"ymax\": 3.366439259822946}, {\"X\": 9.63963963963964, \"y\": 1.4239054679943395, \"ymin\": -0.5026707321758253, \"ymax\": 3.340652197755473}, {\"X\": 9.64964964964965, \"y\": 1.3972018326286633, \"ymin\": -0.5306184191351637, \"ymax\": 3.3151862667814505}, {\"X\": 9.65965965965966, \"y\": 1.370859049329827, \"ymin\": -0.5581650281165365, \"ymax\": 3.2900411671973826}, {\"X\": 9.66966966966967, \"y\": 1.3448756725061881, \"ymin\": -0.5853130524677044, \"ymax\": 3.2652164958220506}, {\"X\": 9.67967967967968, \"y\": 1.3192501727448493, \"ymin\": -0.6120650518239119, \"ymax\": 3.240711748208668}, {\"X\": 9.68968968968969, \"y\": 1.293980939101358, \"ymin\": -0.638423649753209, \"ymax\": 3.2165263208699324}, {\"X\": 9.6996996996997, \"y\": 1.2690662813851796, \"ymin\": -0.6643915314215085, \"ymax\": 3.1926595135142826}, {\"X\": 9.70970970970971, \"y\": 1.2445044324396446, \"ymin\": -0.6899714412783, \"ymax\": 3.1691105312916816}, {\"X\": 9.71971971971972, \"y\": 1.2202935504151133, \"ymin\": -0.7151661807638752, \"ymax\": 3.1458784870472702}, {\"X\": 9.72972972972973, \"y\": 1.1964317210341142, \"ymin\": -0.7399786060389169, \"ymax\": 3.1229624035812624}, {\"X\": 9.73973973973974, \"y\": 1.1729169598472668, \"ymin\": -0.7644116257372278, \"ymax\": 3.1003612159134732}, {\"X\": 9.74974974974975, \"y\": 1.1497472144788015, \"ymin\": -0.7884681987423854, \"ymax\": 3.0780737735509005}, {\"X\": 9.75975975975976, \"y\": 1.1269203668605547, \"ymin\": -0.812151331989015, \"ymax\": 3.0560988427568105}, {\"X\": 9.76976976976977, \"y\": 1.1044342354533063, \"ymin\": -0.8354640782894112, \"ymax\": 3.0344351088197854}, {\"X\": 9.77977977977978, \"y\": 1.0822865774543995, \"ymin\": -0.8584095341861306, \"ymax\": 3.0130811783212534}, {\"X\": 9.78978978978979, \"y\": 1.0604750909905907, \"ymin\": -0.8809908378311906, \"ymax\": 2.9920355814000157}, {\"X\": 9.7997997997998, \"y\": 1.0389974172951146, \"ymin\": -0.9032111668924601, \"ymax\": 2.9712967740123446}, {\"X\": 9.80980980980981, \"y\": 1.0178511428679768, \"ymin\": -0.9250737364877997, \"ymax\": 2.950863140186224}, {\"X\": 9.81981981981982, \"y\": 0.9970338016185389, \"ymin\": -0.9465817971474586, \"ymax\": 2.9307329942683835}, {\"X\": 9.82982982982983, \"y\": 0.9765428769894584, \"ymin\": -0.9677386328052346, \"ymax\": 2.9109045831627496}, {\"X\": 9.83983983983984, \"y\": 0.9563758040611181, \"ymin\": -0.9885475588188353, \"ymax\": 2.891376088559031}, {\"X\": 9.84984984984985, \"y\": 0.9365299716356731, \"ymin\": -1.0090119200198822, \"ymax\": 2.8721456291501286}, {\"X\": 9.85985985985986, \"y\": 0.9170027242999109, \"ymin\": -1.029135088793939, \"ymax\": 2.8532112628371595}, {\"X\": 9.86986986986987, \"y\": 0.897791364466125, \"ymin\": -1.048920463190934, \"ymax\": 2.834570988920852}, {\"X\": 9.87987987987988, \"y\": 0.8788931543902494, \"ymin\": -1.0683714650663145, \"ymax\": 2.8162227502781576}, {\"X\": 9.88988988988989, \"y\": 0.8603053181665353, \"ymin\": -1.0874915382532282, \"ymax\": 2.7981644355229327}, {\"X\": 9.8998998998999, \"y\": 0.8420250436980683, \"ymin\": -1.1062841467660212, \"ymax\": 2.780393881149586}, {\"X\": 9.90990990990991, \"y\": 0.8240494846424725, \"ymin\": -1.1247527730352966, \"ymax\": 2.7629088736586205}, {\"X\": 9.91991991991992, \"y\": 0.8063757623321753, \"ymin\": -1.1429009161747525, \"ymax\": 2.7457071516630474}, {\"X\": 9.92992992992993, \"y\": 0.789000967668628, \"ymin\": -1.1607320902800053, \"ymax\": 2.728786407974666}, {\"X\": 9.93993993993994, \"y\": 0.771922162989926, \"ymin\": -1.1782498227595584, \"ymax\": 2.7121442916692597}, {\"X\": 9.94994994994995, \"y\": 0.7551363839112869, \"ymin\": -1.1954576526980727, \"ymax\": 2.6957784101297824}, {\"X\": 9.95995995995996, \"y\": 0.7386406411378899, \"ymin\": -1.2123591292520475, \"ymax\": 2.679686331066654}, {\"X\": 9.96996996996997, \"y\": 0.7224319222495961, \"ymin\": -1.2289578100780219, \"ymax\": 2.663865584514318}, {\"X\": 9.97997997997998, \"y\": 0.7065071934571137, \"ymin\": -1.245257259793362, \"ymax\": 2.64831366480325}, {\"X\": 9.98998998998999, \"y\": 0.690863401329191, \"ymin\": -1.261261048469687, \"ymax\": 2.633028032506646}, {\"X\": 10.0, \"y\": 0.6754974744904585, \"ymin\": -1.276972750158966, \"ymax\": 2.6180061163610593}], \"data-bf8072546c2cf667dd8534dd4a1b3339\": [{\"X\": 0.0, \"y\": 0.0}, {\"X\": 0.01001001001001001, \"y\": 0.00010019862705885069}, {\"X\": 0.02002002002002002, \"y\": 0.00040077442853800755}, {\"X\": 0.03003003003003003, \"y\": 0.0009016671683632474}, {\"X\": 0.04004004004004004, \"y\": 0.0016027764631370027}, {\"X\": 0.050050050050050046, \"y\": 0.0025039617972261573}, {\"X\": 0.06006006006006006, \"y\": 0.0036050425438821404}, {\"X\": 0.07007007007007007, \"y\": 0.004905797992390491}, {\"X\": 0.08008008008008008, \"y\": 0.00640596738124627}, {\"X\": 0.09009009009009009, \"y\": 0.008105249937350897}, {\"X\": 0.10010010010010009, \"y\": 0.01000330492122515}, {\"X\": 0.11011011011011011, \"y\": 0.012099751678232311}, {\"X\": 0.12012012012012012, \"y\": 0.0143941696958046}, {\"X\": 0.13013013013013014, \"y\": 0.01688609866666527}, {\"X\": 0.14014014014014015, \"y\": 0.019575038558037876}, {\"X\": 0.15015015015015015, \"y\": 0.022460449686833514}, {\"X\": 0.16016016016016016, \"y\": 0.025541752800805957}, {\"X\": 0.17017017017017017, \"y\": 0.028818329165663858}, {\"X\": 0.18018018018018017, \"y\": 0.032289520658128346}, {\"X\": 0.19019019019019018, \"y\": 0.03595462986492365}, {\"X\": 0.20020020020020018, \"y\": 0.039812920187687395}, {\"X\": 0.21021021021021022, \"y\": 0.04386361595378674}, {\"X\": 0.22022022022022023, \"y\": 0.048105902533025276}, {\"X\": 0.23023023023023023, \"y\": 0.052538926460225434}, {\"X\": 0.24024024024024024, \"y\": 0.05716179556366966}, {\"X\": 0.2502502502502503, \"y\": 0.061973579099383426}, {\"X\": 0.2602602602602603, \"y\": 0.06697330789124199}, {\"X\": 0.2702702702702703, \"y\": 0.07215997447688234}, {\"X\": 0.2802802802802803, \"y\": 0.0775325332594006}, {\"X\": 0.2902902902902903, \"y\": 0.08308990066481473}, {\"X\": 0.3003003003003003, \"y\": 0.08883095530527145}, {\"X\": 0.3103103103103103, \"y\": 0.09475453814797564}, {\"X\": 0.3203203203203203, \"y\": 0.10085945268981938}, {\"X\": 0.3303303303303303, \"y\": 0.1071444651376876}, {\"X\": 0.34034034034034033, \"y\": 0.11360830459441587}, {\"X\": 0.35035035035035034, \"y\": 0.12024966325037585}, {\"X\": 0.36036036036036034, \"y\": 0.1270671965806623}, {\"X\": 0.37037037037037035, \"y\": 0.13405952354785572}, {\"X\": 0.38038038038038036, \"y\": 0.14122522681033314}, {\"X\": 0.39039039039039036, \"y\": 0.14856285293609947}, {\"X\": 0.40040040040040037, \"y\": 0.1560709126221104}, {\"X\": 0.41041041041041043, \"y\": 0.16374788091905795}, {\"X\": 0.42042042042042044, \"y\": 0.1715921974615882}, {\"X\": 0.43043043043043044, \"y\": 0.1796022667039206}, {\"X\": 0.44044044044044045, \"y\": 0.18777645816083735}, {\"X\": 0.45045045045045046, \"y\": 0.19611310665401024}, {\"X\": 0.46046046046046046, \"y\": 0.20461051256363216}, {\"X\": 0.47047047047047047, \"y\": 0.21326694208531988}, {\"X\": 0.4804804804804805, \"y\": 0.22208062749225305}, {\"X\": 0.4904904904904905, \"y\": 0.23104976740251498}, {\"X\": 0.5005005005005005, \"y\": 0.24017252705159875}, {\"X\": 0.5105105105105106, \"y\": 0.24944703857004227}, {\"X\": 0.5205205205205206, \"y\": 0.25887140126615577}, {\"X\": 0.5305305305305306, \"y\": 0.26844368191380275}, {\"X\": 0.5405405405405406, \"y\": 0.2781619150451965}, {\"X\": 0.5505505505505506, \"y\": 0.28802410324867256}, {\"X\": 0.5605605605605606, \"y\": 0.2980282174713976}, {\"X\": 0.5705705705705706, \"y\": 0.30817219732697376}, {\"X\": 0.5805805805805806, \"y\": 0.31845395140789706}, {\"X\": 0.5905905905905906, \"y\": 0.32887135760282854}, {\"X\": 0.6006006006006006, \"y\": 0.3394222634186349}, {\"X\": 0.6106106106106106, \"y\": 0.35010448630715557}, {\"X\": 0.6206206206206206, \"y\": 0.36091581399665323}, {\"X\": 0.6306306306306306, \"y\": 0.3718540048279011}, {\"X\": 0.6406406406406406, \"y\": 0.3829167880948647}, {\"X\": 0.6506506506506506, \"y\": 0.3941018643899297}, {\"X\": 0.6606606606606606, \"y\": 0.4054069059536316}, {\"X\": 0.6706706706706707, \"y\": 0.4168295570288385}, {\"X\": 0.6806806806806807, \"y\": 0.4283674342193406}, {\"X\": 0.6906906906906907, \"y\": 0.4400181268527975}, {\"X\": 0.7007007007007007, \"y\": 0.4517791973479949}, {\"X\": 0.7107107107107107, \"y\": 0.46364818158636106}, {\"X\": 0.7207207207207207, \"y\": 0.4756225892876934}, {\"X\": 0.7307307307307307, \"y\": 0.4876999043900437}, {\"X\": 0.7407407407407407, \"y\": 0.4998775854337123}, {\"X\": 0.7507507507507507, \"y\": 0.5121530659492985}, {\"X\": 0.7607607607607607, \"y\": 0.5245237548497551}, {\"X\": 0.7707707707707707, \"y\": 0.5369870368263944}, {\"X\": 0.7807807807807807, \"y\": 0.5495402727487924}, {\"X\": 0.7907907907907907, \"y\": 0.5621808000685372}, {\"X\": 0.8008008008008007, \"y\": 0.5749059332267675}, {\"X\": 0.8108108108108109, \"y\": 0.5877129640654452}, {\"X\": 0.8208208208208209, \"y\": 0.6005991622423078}, {\"X\": 0.8308308308308309, \"y\": 0.6135617756494453}, {\"X\": 0.8408408408408409, \"y\": 0.6265980308354417}, {\"X\": 0.8508508508508509, \"y\": 0.6397051334310294}, {\"X\": 0.8608608608608609, \"y\": 0.6528802685781935}, {\"X\": 0.8708708708708709, \"y\": 0.6661206013626725}, {\"X\": 0.8808808808808809, \"y\": 0.6794232772497943}, {\"X\": 0.8908908908908909, \"y\": 0.6927854225235902}, {\"X\": 0.9009009009009009, \"y\": 0.7062041447291262}, {\"X\": 0.9109109109109109, \"y\": 0.7196765331179931}, {\"X\": 0.9209209209209209, \"y\": 0.7331996590968939}, {\"X\": 0.9309309309309309, \"y\": 0.7467705766792695}, {\"X\": 0.9409409409409409, \"y\": 0.7603863229398992}, {\"X\": 0.950950950950951, \"y\": 0.7740439184724174}, {\"X\": 0.960960960960961, \"y\": 0.7877403678496817}, {\"X\": 0.970970970970971, \"y\": 0.8014726600869324}, {\"X\": 0.980980980980981, \"y\": 0.8152377691076788}, {\"X\": 0.990990990990991, \"y\": 0.8290326542122504}, {\"X\": 1.001001001001001, \"y\": 0.8428542605489495}, {\"X\": 1.011011011011011, \"y\": 0.8566995195877402}, {\"X\": 1.021021021021021, \"y\": 0.8705653495964102}, {\"X\": 1.031031031031031, \"y\": 0.8844486561191419}, {\"X\": 1.0410410410410411, \"y\": 0.8983463324574259}, {\"X\": 1.0510510510510511, \"y\": 0.9122552601532515}, {\"X\": 1.0610610610610611, \"y\": 0.9261723094745125}, {\"X\": 1.0710710710710711, \"y\": 0.9400943399025553}, {\"X\": 1.0810810810810811, \"y\": 0.9540182006218112}, {\"X\": 1.0910910910910911, \"y\": 0.9679407310114391}, {\"X\": 1.1011011011011012, \"y\": 0.981858761138916}, {\"X\": 1.1111111111111112, \"y\": 0.9957691122555071}, {\"X\": 1.1211211211211212, \"y\": 1.0096685972935475}, {\"X\": 1.1311311311311312, \"y\": 1.023554021365468}, {\"X\": 1.1411411411411412, \"y\": 1.0374221822644973}, {\"X\": 1.1511511511511512, \"y\": 1.051269870966972}, {\"X\": 1.1611611611611612, \"y\": 1.065093872136187}, {\"X\": 1.1711711711711712, \"y\": 1.0788909646277134}, {\"X\": 1.1811811811811812, \"y\": 1.0926579219961232}, {\"X\": 1.1911911911911912, \"y\": 1.1063915130030415}, {\"X\": 1.2012012012012012, \"y\": 1.1200885021264653}, {\"X\": 1.2112112112112112, \"y\": 1.1337456500712728}, {\"X\": 1.2212212212212212, \"y\": 1.1473597142808594}, {\"X\": 1.2312312312312312, \"y\": 1.1609274494498245}, {\"X\": 1.2412412412412412, \"y\": 1.1744456080376438}, {\"X\": 1.2512512512512513, \"y\": 1.1879109407832529}, {\"X\": 1.2612612612612613, \"y\": 1.2013201972204757}, {\"X\": 1.2712712712712713, \"y\": 1.2146701261942217}, {\"X\": 1.2812812812812813, \"y\": 1.2279574763773868}, {\"X\": 1.2912912912912913, \"y\": 1.241178996788384}, {\"X\": 1.3013013013013013, \"y\": 1.254331437309231}, {\"X\": 1.3113113113113113, \"y\": 1.2674115492041282}, {\"X\": 1.3213213213213213, \"y\": 1.2804160856384523}, {\"X\": 1.3313313313313313, \"y\": 1.293341802198095}, {\"X\": 1.3413413413413413, \"y\": 1.3061854574090743}, {\"X\": 1.3513513513513513, \"y\": 1.3189438132573512}, {\"X\": 1.3613613613613613, \"y\": 1.3316136357087727}, {\"X\": 1.3713713713713713, \"y\": 1.344191695229077}, {\"X\": 1.3813813813813813, \"y\": 1.3566747673038846}, {\"X\": 1.3913913913913913, \"y\": 1.3690596329586038}, {\"X\": 1.4014014014014013, \"y\": 1.3813430792781811}, {\"X\": 1.4114114114114114, \"y\": 1.3935218999266228}, {\"X\": 1.4214214214214214, \"y\": 1.4055928956662158}, {\"X\": 1.4314314314314314, \"y\": 1.417552874876378}, {\"X\": 1.4414414414414414, \"y\": 1.4293986540720616}, {\"X\": 1.4514514514514514, \"y\": 1.4411270584216453}, {\"X\": 1.4614614614614614, \"y\": 1.4527349222642345}, {\"X\": 1.4714714714714714, \"y\": 1.4642190896263043}, {\"X\": 1.4814814814814814, \"y\": 1.4755764147376116}, {\"X\": 1.4914914914914914, \"y\": 1.486803762546303}, {\"X\": 1.5015015015015014, \"y\": 1.4978980092331498}, {\"X\": 1.5115115115115114, \"y\": 1.5088560427248359}, {\"X\": 1.5215215215215214, \"y\": 1.5196747632062282}, {\"X\": 1.5315315315315314, \"y\": 1.5303510836315586}, {\"X\": 1.5415415415415414, \"y\": 1.5408819302344463}, {\"X\": 1.5515515515515514, \"y\": 1.5512642430366852}, {\"X\": 1.5615615615615615, \"y\": 1.5614949763557349}, {\"X\": 1.5715715715715715, \"y\": 1.5715710993108303}, {\"X\": 1.5815815815815815, \"y\": 1.5814895963276552}, {\"X\": 1.5915915915915915, \"y\": 1.5912474676414934}, {\"X\": 1.6016016016016015, \"y\": 1.600841729798799}, {\"X\": 1.6116116116116117, \"y\": 1.610269416157108}, {\"X\": 1.6216216216216217, \"y\": 1.619527577383225}, {\"X\": 1.6316316316316317, \"y\": 1.628613281949613}, {\"X\": 1.6416416416416417, \"y\": 1.6375236166289173}, {\"X\": 1.6516516516516517, \"y\": 1.6462556869865526}, {\"X\": 1.6616616616616617, \"y\": 1.6548066178712861}, {\"X\": 1.6716716716716717, \"y\": 1.6631735539037449}, {\"X\": 1.6816816816816818, \"y\": 1.6713536599627803}, {\"X\": 1.6916916916916918, \"y\": 1.67934412166962}, {\"X\": 1.7017017017017018, \"y\": 1.6871421458697384}, {\"X\": 1.7117117117117118, \"y\": 1.6947449611123777}, {\"X\": 1.7217217217217218, \"y\": 1.7021498181276526}, {\"X\": 1.7317317317317318, \"y\": 1.70935399030117}, {\"X\": 1.7417417417417418, \"y\": 1.7163547741460936}, {\"X\": 1.7517517517517518, \"y\": 1.7231494897725912}, {\"X\": 1.7617617617617618, \"y\": 1.7297354813545953}, {\"X\": 1.7717717717717718, \"y\": 1.736110117593808}, {\"X\": 1.7817817817817818, \"y\": 1.7422707921808875}, {\"X\": 1.7917917917917918, \"y\": 1.7482149242537495}, {\"X\": 1.8018018018018018, \"y\": 1.7539399588529159}, {\"X\": 1.8118118118118118, \"y\": 1.759443367373848}, {\"X\": 1.8218218218218218, \"y\": 1.7647226480161962}, {\"X\": 1.8318318318318318, \"y\": 1.7697753262299045}, {\"X\": 1.8418418418418419, \"y\": 1.7745989551581043}, {\"X\": 1.8518518518518519, \"y\": 1.7791911160767337}, {\"X\": 1.8618618618618619, \"y\": 1.7835494188308176}, {\"X\": 1.8718718718718719, \"y\": 1.7876715022673473}, {\"X\": 1.8818818818818819, \"y\": 1.7915550346646965}, {\"X\": 1.8918918918918919, \"y\": 1.7951977141585096}, {\"X\": 1.901901901901902, \"y\": 1.7985972691640035}, {\"X\": 1.911911911911912, \"y\": 1.8017514587946173}, {\"X\": 1.921921921921922, \"y\": 1.804658073276953}, {\"X\": 1.931931931931932, \"y\": 1.807314934361944}, {\"X\": 1.941941941941942, \"y\": 1.8097198957321905}, {\"X\": 1.951951951951952, \"y\": 1.8118708434054065}, {\"X\": 1.961961961961962, \"y\": 1.813765696133912}, {\"X\": 1.971971971971972, \"y\": 1.8154024058001186}, {\"X\": 1.981981981981982, \"y\": 1.8167789578079447}, {\"X\": 1.991991991991992, \"y\": 1.8178933714701084}, {\"X\": 2.002002002002002, \"y\": 1.8187437003912312}, {\"X\": 2.012012012012012, \"y\": 1.8193280328467076}, {\"X\": 2.022022022022022, \"y\": 1.8196444921572745}, {\"X\": 2.032032032032032, \"y\": 1.8196912370592286}, {\"X\": 2.042042042042042, \"y\": 1.8194664620702368}, {\"X\": 2.052052052052052, \"y\": 1.8189683978506848}, {\"X\": 2.062062062062062, \"y\": 1.8181953115605047}, {\"X\": 2.0720720720720722, \"y\": 1.8171455072114382}, {\"X\": 2.0820820820820822, \"y\": 1.81581732601467}, {\"X\": 2.0920920920920922, \"y\": 1.8142091467237882}, {\"X\": 2.1021021021021022, \"y\": 1.8123193859730162}, {\"X\": 2.1121121121121122, \"y\": 1.8101464986106615}, {\"X\": 2.1221221221221223, \"y\": 1.8076889780277363}, {\"X\": 2.1321321321321323, \"y\": 1.8049453564816977}, {\"X\": 2.1421421421421423, \"y\": 1.801914205415252}, {\"X\": 2.1521521521521523, \"y\": 1.7985941357701842}, {\"X\": 2.1621621621621623, \"y\": 1.7949837982961556}, {\"X\": 2.1721721721721723, \"y\": 1.7910818838544247}, {\"X\": 2.1821821821821823, \"y\": 1.7868871237164459}, {\"X\": 2.1921921921921923, \"y\": 1.7823982898572959}, {\"X\": 2.2022022022022023, \"y\": 1.7776141952438826}, {\"X\": 2.2122122122122123, \"y\": 1.772533694117895}, {\"X\": 2.2222222222222223, \"y\": 1.7671556822734424}, {\"X\": 2.2322322322322323, \"y\": 1.761479097329344}, {\"X\": 2.2422422422422423, \"y\": 1.7555029189960234}, {\"X\": 2.2522522522522523, \"y\": 1.7492261693369686}, {\"X\": 2.2622622622622623, \"y\": 1.7426479130247063}, {\"X\": 2.2722722722722724, \"y\": 1.7357672575912615}, {\"X\": 2.2822822822822824, \"y\": 1.7285833536730508}, {\"X\": 2.2922922922922924, \"y\": 1.721095395250176}, {\"X\": 2.3023023023023024, \"y\": 1.7133026198800747}, {\"X\": 2.3123123123123124, \"y\": 1.705204308925493}, {\"X\": 2.3223223223223224, \"y\": 1.6967997877767371}, {\"X\": 2.3323323323323324, \"y\": 1.6880884260681717}, {\"X\": 2.3423423423423424, \"y\": 1.6790696378889252}, {\"X\": 2.3523523523523524, \"y\": 1.6697428819877669}, {\"X\": 2.3623623623623624, \"y\": 1.6601076619721213}, {\"X\": 2.3723723723723724, \"y\": 1.6501635265011856}, {\"X\": 2.3823823823823824, \"y\": 1.6399100694731128}, {\"X\": 2.3923923923923924, \"y\": 1.6293469302062344}, {\"X\": 2.4024024024024024, \"y\": 1.618473793614284}, {\"X\": 2.4124124124124124, \"y\": 1.607290390375593}, {\"X\": 2.4224224224224224, \"y\": 1.5957964970962286}, {\"X\": 2.4324324324324325, \"y\": 1.5839919364670423}, {\"X\": 2.4424424424424425, \"y\": 1.5718765774145993}, {\"X\": 2.4524524524524525, \"y\": 1.5594503352459645}, {\"X\": 2.4624624624624625, \"y\": 1.5467131717873102}, {\"X\": 2.4724724724724725, \"y\": 1.5336650955163256}, {\"X\": 2.4824824824824825, \"y\": 1.5203061616883984}, {\"X\": 2.4924924924924925, \"y\": 1.5066364724565433}, {\"X\": 2.5025025025025025, \"y\": 1.4926561769850533}, {\"X\": 2.5125125125125125, \"y\": 1.47836547155685}, {\"X\": 2.5225225225225225, \"y\": 1.4637645996745101}, {\"X\": 2.5325325325325325, \"y\": 1.4488538521549454}, {\"X\": 2.5425425425425425, \"y\": 1.4336335672177156}, {\"X\": 2.5525525525525525, \"y\": 1.4181041305669517}, {\"X\": 2.5625625625625625, \"y\": 1.4022659754668723}, {\"X\": 2.5725725725725725, \"y\": 1.3861195828108717}, {\"X\": 2.5825825825825826, \"y\": 1.3696654811841653}, {\"X\": 2.5925925925925926, \"y\": 1.3529042469199684}, {\"X\": 2.6026026026026026, \"y\": 1.3358365041491982}, {\"X\": 2.6126126126126126, \"y\": 1.3184629248436806}, {\"X\": 2.6226226226226226, \"y\": 1.3007842288528466}, {\"X\": 2.6326326326326326, \"y\": 1.2828011839339057}, {\"X\": 2.6426426426426426, \"y\": 1.2645146057754797}, {\"X\": 2.6526526526526526, \"y\": 1.245925358014688}, {\"X\": 2.6626626626626626, \"y\": 1.2270343522476737}, {\"X\": 2.6726726726726726, \"y\": 1.207842548033553}, {\"X\": 2.6826826826826826, \"y\": 1.1883509528917868}, {\"X\": 2.6926926926926926, \"y\": 1.1685606222929585}, {\"X\": 2.7027027027027026, \"y\": 1.1484726596429535}, {\"X\": 2.7127127127127126, \"y\": 1.128088216260531}, {\"X\": 2.7227227227227226, \"y\": 1.1074084913482827}, {\"X\": 2.7327327327327327, \"y\": 1.0864347319569734}, {\"X\": 2.7427427427427427, \"y\": 1.0651682329432546}, {\"X\": 2.7527527527527527, \"y\": 1.0436103369207537}, {\"X\": 2.7627627627627627, \"y\": 1.0217624342045282}, {\"X\": 2.7727727727727727, \"y\": 0.999625962748889}, {\"X\": 2.7827827827827827, \"y\": 0.977202408078587}, {\"X\": 2.7927927927927927, \"y\": 0.9544933032133638}, {\"X\": 2.8028028028028027, \"y\": 0.9315002285858681}, {\"X\": 2.8128128128128127, \"y\": 0.9082248119529355}, {\"X\": 2.8228228228228227, \"y\": 0.8846687283002376}, {\"X\": 2.8328328328328327, \"y\": 0.8608336997402996}, {\"X\": 2.8428428428428427, \"y\": 0.8367214954038927}, {\"X\": 2.8528528528528527, \"y\": 0.8123339313248045}, {\"X\": 2.8628628628628627, \"y\": 0.7876728703179916}, {\"X\": 2.8728728728728727, \"y\": 0.7627402218511246}, {\"X\": 2.8828828828828827, \"y\": 0.7375379419095265}, {\"X\": 2.8928928928928928, \"y\": 0.7120680328545188}, {\"X\": 2.9029029029029028, \"y\": 0.6863325432751789}, {\"X\": 2.9129129129129128, \"y\": 0.6603335678335215}, {\"X\": 2.9229229229229228, \"y\": 0.6340732471031131}, {\"X\": 2.932932932932933, \"y\": 0.6075537674011312}, {\"X\": 2.942942942942943, \"y\": 0.5807773606138806}, {\"X\": 2.952952952952953, \"y\": 0.55374630401578}, {\"X\": 2.962962962962963, \"y\": 0.5264629200818307}, {\"X\": 2.972972972972973, \"y\": 0.4989295762935868}, {\"X\": 2.982982982982983, \"y\": 0.4711486849386365}, {\"X\": 2.992992992992993, \"y\": 0.4431227029036156}, {\"X\": 3.003003003003003, \"y\": 0.41485413146076844}, {\"X\": 3.013013013013013, \"y\": 0.38634551604807427}, {\"X\": 3.023023023023023, \"y\": 0.3575994460429591}, {\"X\": 3.033033033033033, \"y\": 0.3286185545296116}, {\"X\": 3.043043043043043, \"y\": 0.2994055180599246}, {\"X\": 3.053053053053053, \"y\": 0.26996305640808294}, {\"X\": 3.063063063063063, \"y\": 0.2402939323188208}, {\"X\": 3.073073073073073, \"y\": 0.21040095124937075}, {\"X\": 3.083083083083083, \"y\": 0.18028696110512943}, {\"X\": 3.093093093093093, \"y\": 0.1499548519690634}, {\"X\": 3.103103103103103, \"y\": 0.11940755582488254}, {\"X\": 3.113113113113113, \"y\": 0.08864804627400559}, {\"X\": 3.123123123123123, \"y\": 0.05767933824634669}, {\"X\": 3.133133133133133, \"y\": 0.026504487704949925}, {\"X\": 3.143143143143143, \"y\": -0.004873408655498657}, {\"X\": 3.153153153153153, \"y\": -0.036451213716251894}, {\"X\": 3.163163163163163, \"y\": -0.06822575024814478}, {\"X\": 3.173173173173173, \"y\": -0.10019380123126885}, {\"X\": 3.183183183183183, \"y\": -0.13235211018064508}, {\"X\": 3.193193193193193, \"y\": -0.16469738147786325}, {\"X\": 3.203203203203203, \"y\": -0.19722628070865275}, {\"X\": 3.2132132132132134, \"y\": -0.229935435006353}, {\"X\": 3.2232232232232234, \"y\": -0.26282143340123837}, {\"X\": 3.2332332332332334, \"y\": -0.29588082717568387}, {\"X\": 3.2432432432432434, \"y\": -0.32911013022510566}, {\"X\": 3.2532532532532534, \"y\": -0.3625058194246598}, {\"X\": 3.2632632632632634, \"y\": -0.3960643350016528}, {\"X\": 3.2732732732732734, \"y\": -0.42978208091362585}, {\"X\": 3.2832832832832834, \"y\": -0.4636554252320724}, {\"X\": 3.2932932932932935, \"y\": -0.49768070053174945}, {\"X\": 3.3033033033033035, \"y\": -0.5318542042855389}, {\"X\": 3.3133133133133135, \"y\": -0.5661721992648184}, {\"X\": 3.3233233233233235, \"y\": -0.6006309139452992}, {\"X\": 3.3333333333333335, \"y\": -0.6352265429182846}, {\"X\": 3.3433433433433435, \"y\": -0.6699552473073065}, {\"X\": 3.3533533533533535, \"y\": -0.7048131551900945}, {\"X\": 3.3633633633633635, \"y\": -0.7397963620258311}, {\"X\": 3.3733733733733735, \"y\": -0.7749009310876468}, {\"X\": 3.3833833833833835, \"y\": -0.8101228939003065}, {\"X\": 3.3933933933933935, \"y\": -0.8454582506830399}, {\"X\": 3.4034034034034035, \"y\": -0.8809029707974682}, {\"X\": 3.4134134134134135, \"y\": -0.9164529932005735}, {\"X\": 3.4234234234234235, \"y\": -0.9521042269026668}, {\"X\": 3.4334334334334335, \"y\": -0.9878525514302965}, {\"X\": 3.4434434434434436, \"y\": -1.0236938172940515}, {\"X\": 3.4534534534534536, \"y\": -1.0596238464612042}, {\"X\": 3.4634634634634636, \"y\": -1.0956384328331383}, {\"X\": 3.4734734734734736, \"y\": -1.1317333427275136}, {\"X\": 3.4834834834834836, \"y\": -1.1679043153651056}, {\"X\": 3.4934934934934936, \"y\": -1.2041470633612712}, {\"X\": 3.5035035035035036, \"y\": -1.240457273221982}, {\"X\": 3.5135135135135136, \"y\": -1.276830605844369}, {\"X\": 3.5235235235235236, \"y\": -1.3132626970217225}, {\"X\": 3.5335335335335336, \"y\": -1.3497491579528877}, {\"X\": 3.5435435435435436, \"y\": -1.3862855757560006}, {\"X\": 3.5535535535535536, \"y\": -1.4228675139865037}, {\"X\": 3.5635635635635636, \"y\": -1.4594905131593805}, {\"X\": 3.5735735735735736, \"y\": -1.496150091275552}, {\"X\": 3.5835835835835836, \"y\": -1.5328417443523723}, {\"X\": 3.5935935935935936, \"y\": -1.5695609469581613}, {\"X\": 3.6036036036036037, \"y\": -1.606303152750715}, {\"X\": 3.6136136136136137, \"y\": -1.6430637950197302}, {\"X\": 3.6236236236236237, \"y\": -1.6798382872330777}, {\"X\": 3.6336336336336337, \"y\": -1.7166220235868646}, {\"X\": 3.6436436436436437, \"y\": -1.7534103795592197}, {\"X\": 3.6536536536536537, \"y\": -1.7901987124677354}, {\"X\": 3.6636636636636637, \"y\": -1.8269823620305046}, {\"X\": 3.6736736736736737, \"y\": -1.8637566509306822}, {\"X\": 3.6836836836836837, \"y\": -1.900516885384512}, {\"X\": 3.6936936936936937, \"y\": -1.9372583557127412}, {\"X\": 3.7037037037037037, \"y\": -1.9739763369153667}, {\"X\": 3.7137137137137137, \"y\": -2.010666089249639}, {\"X\": 3.7237237237237237, \"y\": -2.0473228588112526}, {\"X\": 3.7337337337337337, \"y\": -2.0839418781186634}, {\"X\": 3.7437437437437437, \"y\": -2.1205183667004537}, {\"X\": 3.7537537537537538, \"y\": -2.1570475316856825}, {\"X\": 3.7637637637637638, \"y\": -2.193524568397145}, {\"X\": 3.7737737737737738, \"y\": -2.229944660947475}, {\"X\": 3.7837837837837838, \"y\": -2.266302982838017}, {\"X\": 3.793793793793794, \"y\": -2.3025946975603935}, {\"X\": 3.803803803803804, \"y\": -2.3388149592007053}, {\"X\": 3.813813813813814, \"y\": -2.3749589130462785}, {\"X\": 3.823823823823824, \"y\": -2.411021696194893}, {\"X\": 3.833833833833834, \"y\": -2.446998438166425}, {\"X\": 3.843843843843844, \"y\": -2.4828842615168134}, {\"X\": 3.853853853853854, \"y\": -2.518674282454292}, {\"X\": 3.863863863863864, \"y\": -2.5543636114578048}, {\"X\": 3.873873873873874, \"y\": -2.5899473538975326}, {\"X\": 3.883883883883884, \"y\": -2.625420610657451}, {\"X\": 3.893893893893894, \"y\": -2.660778478759852}, {\"X\": 3.903903903903904, \"y\": -2.6960160519917427}, {\"X\": 3.913913913913914, \"y\": -2.7311284215330582}, {\"X\": 3.923923923923924, \"y\": -2.766110676586601}, {\"X\": 3.933933933933934, \"y\": -2.8009579050096294}, {\"X\": 3.943943943943944, \"y\": -2.835665193947031}, {\"X\": 3.953953953953954, \"y\": -2.8702276304659873}, {\"X\": 3.963963963963964, \"y\": -2.9046403021920626}, {\"X\": 3.973973973973974, \"y\": -2.938898297946632}, {\"X\": 3.983983983983984, \"y\": -2.972996708385578}, {\"X\": 3.993993993993994, \"y\": -3.006930626639167}, {\"X\": 4.004004004004004, \"y\": -3.0406951489530396}, {\"X\": 4.014014014014014, \"y\": -3.0742853753302155}, {\"X\": 4.024024024024024, \"y\": -3.107696410174063}, {\"X\": 4.034034034034034, \"y\": -3.140923362932123}, {\"X\": 4.044044044044044, \"y\": -3.1739613487407254}, {\"X\": 4.054054054054054, \"y\": -3.2068054890703173}, {\"X\": 4.064064064064064, \"y\": -3.239450912371413}, {\"X\": 4.074074074074074, \"y\": -3.2718927547210943}, {\"X\": 4.084084084084084, \"y\": -3.3041261604699814}, {\"X\": 4.094094094094094, \"y\": -3.3361462828895814}, {\"X\": 4.104104104104104, \"y\": -3.3679482848199482}, {\"X\": 4.114114114114114, \"y\": -3.3995273393175642}, {\"X\": 4.124124124124124, \"y\": -3.4308786303033654}, {\"X\": 4.134134134134134, \"y\": -3.4619973532108257}, {\"X\": 4.1441441441441444, \"y\": -3.4928787156340224}, {\"X\": 4.1541541541541545, \"y\": -3.523517937975599}, {\"X\": 4.1641641641641645, \"y\": -3.553910254094547}, {\"X\": 4.1741741741741745, \"y\": -3.5840509119537143}, {\"X\": 4.1841841841841845, \"y\": -3.613935174266978}, {\"X\": 4.1941941941941945, \"y\": -3.643558319145977}, {\"X\": 4.2042042042042045, \"y\": -3.672915640746339}, {\"X\": 4.2142142142142145, \"y\": -3.7020024499133104}, {\"X\": 4.2242242242242245, \"y\": -3.7308140748267173}, {\"X\": 4.2342342342342345, \"y\": -3.7593458616451567}, {\"X\": 4.2442442442442445, \"y\": -3.78759317514936}, {\"X\": 4.2542542542542545, \"y\": -3.815551399384627}, {\"X\": 4.2642642642642645, \"y\": -3.843215938302255}, {\"X\": 4.2742742742742745, \"y\": -3.8705822163998884}, {\"X\": 4.2842842842842845, \"y\": -3.8976456793606884}, {\"X\": 4.2942942942942945, \"y\": -3.9244017946912617}, {\"X\": 4.3043043043043046, \"y\": -3.950846052358252}, {\"X\": 4.314314314314315, \"y\": -3.9769739654235132}, {\"X\": 4.324324324324325, \"y\": -4.00278107067779}, {\"X\": 4.334334334334335, \"y\": -4.028262929272822}, {\"X\": 4.344344344344345, \"y\": -4.053415127351774}, {\"X\": 4.354354354354355, \"y\": -4.0782332766779374}, {\"X\": 4.364364364364365, \"y\": -4.102713015261602}, {\"X\": 4.374374374374375, \"y\": -4.126850007985022}, {\"X\": 4.384384384384385, \"y\": -4.150639947225389}, {\"X\": 4.394394394394395, \"y\": -4.174078553475748}, {\"X\": 4.404404404404405, \"y\": -4.197161575963751}, {\"X\": 4.414414414414415, \"y\": -4.219884793268189}, {\"X\": 4.424424424424425, \"y\": -4.242244013933206}, {\"X\": 4.434434434434435, \"y\": -4.264235077080124}, {\"X\": 4.444444444444445, \"y\": -4.285853853016792}, {\"X\": 4.454454454454455, \"y\": -4.307096243844387}, {\"X\": 4.464464464464465, \"y\": -4.327958184061571}, {\"X\": 4.474474474474475, \"y\": -4.348435641165947}, {\"X\": 4.484484484484485, \"y\": -4.368524616252714}, {\"X\": 4.494494494494495, \"y\": -4.388221144610445}, {\"X\": 4.504504504504505, \"y\": -4.407521296313932}, {\"X\": 4.514514514514515, \"y\": -4.426421176813972}, {\"X\": 4.524524524524525, \"y\": -4.44491692752407}, {\"X\": 4.534534534534535, \"y\": -4.463004726403937}, {\"X\": 4.544544544544545, \"y\": -4.480680788539724}, {\"X\": 4.554554554554555, \"y\": -4.49794136672092}, {\"X\": 4.564564564564565, \"y\": -4.514782752013822}, {\"X\": 4.574574574574575, \"y\": -4.531201274331501}, {\"X\": 4.584584584584585, \"y\": -4.5471933030002}, {\"X\": 4.594594594594595, \"y\": -4.562755247322081}, {\"X\": 4.604604604604605, \"y\": -4.577883557134229}, {\"X\": 4.614614614614615, \"y\": -4.592574723363869}, {\"X\": 4.624624624624625, \"y\": -4.606825278579686}, {\"X\": 4.634634634634635, \"y\": -4.6206317975392}, {\"X\": 4.644644644644645, \"y\": -4.633990897732107}, {\"X\": 4.654654654654655, \"y\": -4.64689923991951}, {\"X\": 4.664664664664665, \"y\": -4.659353528668979}, {\"X\": 4.674674674674675, \"y\": -4.6713505128853505}, {\"X\": 4.684684684684685, \"y\": -4.682886986337203}, {\"X\": 4.694694694694695, \"y\": -4.693959788178934}, {\"X\": 4.704704704704705, \"y\": -4.704565803468368}, {\"X\": 4.714714714714715, \"y\": -4.714701963679812}, {\"X\": 4.724724724724725, \"y\": -4.7243652472125035}, {\"X\": 4.734734734734735, \"y\": -4.733552679894369}, {\"X\": 4.744744744744745, \"y\": -4.742261335481028}, {\"X\": 4.754754754754755, \"y\": -4.750488336149967}, {\"X\": 4.764764764764765, \"y\": -4.758230852989817}, {\"X\": 4.774774774774775, \"y\": -4.765486106484666}, {\"X\": 4.784784784784785, \"y\": -4.772251366993338}, {\"X\": 4.794794794794795, \"y\": -4.778523955223565}, {\"X\": 4.804804804804805, \"y\": -4.784301242700996}, {\"X\": 4.814814814814815, \"y\": -4.78958065223296}, {\"X\": 4.824824824824825, \"y\": -4.794359658366931}, {\"X\": 4.834834834834835, \"y\": -4.79863578784362}, {\"X\": 4.844844844844845, \"y\": -4.802406620044633}, {\"X\": 4.854854854854855, \"y\": -4.80566978743463}, {\"X\": 4.864864864864865, \"y\": -4.808422975997917}, {\"X\": 4.874874874874875, \"y\": -4.810663925669406}, {\"X\": 4.884884884884885, \"y\": -4.812390430759893}, {\"X\": 4.894894894894895, \"y\": -4.813600340375577}, {\"X\": 4.904904904904905, \"y\": -4.814291558831758}, {\"X\": 4.914914914914915, \"y\": -4.814462046060665}, {\"X\": 4.924924924924925, \"y\": -4.814109818013349}, {\"X\": 4.934934934934935, \"y\": -4.81323294705556}, {\"X\": 4.944944944944945, \"y\": -4.811829562357595}, {\"X\": 4.954954954954955, \"y\": -4.809897850277997}, {\"X\": 4.964964964964965, \"y\": -4.807436054741113}, {\"X\": 4.974974974974975, \"y\": -4.804442477608394}, {\"X\": 4.984984984984985, \"y\": -4.800915479043415}, {\"X\": 4.994994994994995, \"y\": -4.796853477870563}, {\"X\": 5.005005005005005, \"y\": -4.7922549519272994}, {\"X\": 5.015015015015015, \"y\": -4.787118438409993}, {\"X\": 5.025025025025025, \"y\": -4.781442534213227}, {\"X\": 5.035035035035035, \"y\": -4.775225896262552}, {\"X\": 5.045045045045045, \"y\": -4.768467241840625}, {\"X\": 5.055055055055055, \"y\": -4.761165348906674}, {\"X\": 5.065065065065065, \"y\": -4.753319056409254}, {\"X\": 5.075075075075075, \"y\": -4.744927264592229}, {\"X\": 5.085085085085085, \"y\": -4.735988935293939}, {\"X\": 5.095095095095095, \"y\": -4.726503092239501}, {\"X\": 5.105105105105105, \"y\": -4.71646882132619}, {\"X\": 5.115115115115115, \"y\": -4.705885270901865}, {\"X\": 5.125125125125125, \"y\": -4.694751652036381}, {\"X\": 5.135135135135135, \"y\": -4.683067238785948}, {\"X\": 5.145145145145145, \"y\": -4.670831368450388}, {\"X\": 5.155155155155155, \"y\": -4.6580434418232555}, {\"X\": 5.165165165165165, \"y\": -4.64470292343476}, {\"X\": 5.175175175175175, \"y\": -4.630809341787467}, {\"X\": 5.185185185185185, \"y\": -4.616362289584719}, {\"X\": 5.195195195195195, \"y\": -4.601361423951755}, {\"X\": 5.205205205205205, \"y\": -4.585806466649461}, {\"X\": 5.215215215215215, \"y\": -4.569697204280745}, {\"X\": 5.225225225225225, \"y\": -4.553033488489465}, {\"X\": 5.235235235235235, \"y\": -4.535815236151901}, {\"X\": 5.245245245245245, \"y\": -4.518042429560712}, {\"X\": 5.255255255255255, \"y\": -4.499715116601354}, {\"X\": 5.265265265265265, \"y\": -4.480833410920927}, {\"X\": 5.275275275275275, \"y\": -4.4613974920894}, {\"X\": 5.285285285285285, \"y\": -4.441407605753196}, {\"X\": 5.295295295295295, \"y\": -4.420864063781105}, {\"X\": 5.305305305305305, \"y\": -4.399767244402477}, {\"X\": 5.315315315315315, \"y\": -4.378117592337685}, {\"X\": 5.325325325325325, \"y\": -4.3559156189208155}, {\"X\": 5.335335335335335, \"y\": -4.333161902214552}, {\"X\": 5.345345345345345, \"y\": -4.309857087117247}, {\"X\": 5.355355355355355, \"y\": -4.286001885462122}, {\"X\": 5.365365365365365, \"y\": -4.261597076108604}, {\"X\": 5.375375375375375, \"y\": -4.236643505025739}, {\"X\": 5.385385385385385, \"y\": -4.211142085367693}, {\"X\": 5.395395395395395, \"y\": -4.185093797541279}, {\"X\": 5.405405405405405, \"y\": -4.158499689265527}, {\"X\": 5.415415415415415, \"y\": -4.131360875623236}, {\"X\": 5.425425425425425, \"y\": -4.103678539104521}, {\"X\": 5.435435435435435, \"y\": -4.0754539296423165}, {\"X\": 5.445445445445445, \"y\": -4.046688364639814}, {\"X\": 5.455455455455455, \"y\": -4.017383228989835}, {\"X\": 5.465465465465465, \"y\": -3.9875399750861016}, {\"X\": 5.475475475475475, \"y\": -3.9571601228263993}, {\"X\": 5.485485485485485, \"y\": -3.9262452596076156}, {\"X\": 5.495495495495495, \"y\": -3.894797040312643}, {\"X\": 5.505505505505505, \"y\": -3.862817187289119}, {\"X\": 5.515515515515515, \"y\": -3.8303074903200116}, {\"X\": 5.525525525525525, \"y\": -3.7972698065860233}, {\"X\": 5.535535535535535, \"y\": -3.763706060619809}, {\"X\": 5.545545545545545, \"y\": -3.7296182442519985}, {\"X\": 5.555555555555555, \"y\": -3.695008416549013}, {\"X\": 5.565565565565565, \"y\": -3.6598787037426703}, {\"X\": 5.575575575575575, \"y\": -3.624231299151568}, {\"X\": 5.585585585585585, \"y\": -3.588068463094249}, {\"X\": 5.595595595595595, \"y\": -3.551392522794131}, {\"X\": 5.605605605605605, \"y\": -3.514205872276206}, {\"X\": 5.615615615615615, \"y\": -3.4765109722555048}, {\"X\": 5.625625625625625, \"y\": -3.4383103500173235}, {\"X\": 5.635635635635635, \"y\": -3.399606599289212}, {\"X\": 5.645645645645645, \"y\": -3.3604023801047287}, {\"X\": 5.655655655655655, \"y\": -3.320700418658948}, {\"X\": 5.665665665665665, \"y\": -3.2805035071557516}, {\"X\": 5.675675675675675, \"y\": -3.2398145036468695}, {\"X\": 5.685685685685685, \"y\": -3.198636331862712}, {\"X\": 5.6956956956956954, \"y\": -3.156971981034965}, {\"X\": 5.7057057057057055, \"y\": -3.1148245057109802}, {\"X\": 5.7157157157157155, \"y\": -3.0721970255599573}, {\"X\": 5.7257257257257255, \"y\": -3.0290927251709183}, {\"X\": 5.7357357357357355, \"y\": -2.9855148538424987}, {\"X\": 5.7457457457457455, \"y\": -2.9414667253645574}, {\"X\": 5.7557557557557555, \"y\": -2.8969517177916115}, {\"X\": 5.7657657657657655, \"y\": -2.851973273208123}, {\"X\": 5.7757757757757755, \"y\": -2.806534897485632}, {\"X\": 5.7857857857857855, \"y\": -2.760640160031768}, {\"X\": 5.7957957957957955, \"y\": -2.7142926935311396}, {\"X\": 5.8058058058058055, \"y\": -2.6674961936781303}, {\"X\": 5.8158158158158155, \"y\": -2.620254418901611}, {\"X\": 5.8258258258258255, \"y\": -2.5725711900815864}, {\"X\": 5.8358358358358355, \"y\": -2.524450390257802}, {\"X\": 5.8458458458458455, \"y\": -2.475895964330321}, {\"X\": 5.8558558558558556, \"y\": -2.426911918752101}, {\"X\": 5.865865865865866, \"y\": -2.3775023212135897}, {\"X\": 5.875875875875876, \"y\": -2.3276713003193583}, {\"X\": 5.885885885885886, \"y\": -2.2774230452568025}, {\"X\": 5.895895895895896, \"y\": -2.2267618054569374}, {\"X\": 5.905905905905906, \"y\": -2.1756918902473013}, {\"X\": 5.915915915915916, \"y\": -2.1242176684970078}, {\"X\": 5.925925925925926, \"y\": -2.072343568253969}, {\"X\": 5.935935935935936, \"y\": -2.020074076374314}, {\"X\": 5.945945945945946, \"y\": -1.967413738144045}, {\"X\": 5.955955955955956, \"y\": -1.9143671568929441}, {\"X\": 5.965965965965966, \"y\": -1.8609389936007796}, {\"X\": 5.975975975975976, \"y\": -1.8071339664958355}, {\"X\": 5.985985985985986, \"y\": -1.7529568506457966}, {\"X\": 5.995995995995996, \"y\": -1.6984124775410305}, {\"X\": 6.006006006006006, \"y\": -1.6435057346702964}, {\"X\": 6.016016016016016, \"y\": -1.588241565088919}, {\"X\": 6.026026026026026, \"y\": -1.5326249669794654}, {\"X\": 6.036036036036036, \"y\": -1.4766609932049648}, {\"X\": 6.046046046046046, \"y\": -1.4203547508547043}, {\"X\": 6.056056056056056, \"y\": -1.363711400782651}, {\"X\": 6.066066066066066, \"y\": -1.3067361571385314}, {\"X\": 6.076076076076076, \"y\": -1.2494342868916173}, {\"X\": 6.086086086086086, \"y\": -1.1918111093472592}, {\"X\": 6.096096096096096, \"y\": -1.1338719956562087}, {\"X\": 6.106106106106106, \"y\": -1.0756223683167792}, {\"X\": 6.116116116116116, \"y\": -1.0170677006698887}, {\"X\": 6.126126126126126, \"y\": -0.9582135163870288}, {\"X\": 6.136136136136136, \"y\": -0.899065388951213}, {\"X\": 6.146146146146146, \"y\": -0.8396289411309482}, {\"X\": 6.156156156156156, \"y\": -0.7799098444472815}, {\"X\": 6.166166166166166, \"y\": -0.7199138186339707}, {\"X\": 6.176176176176176, \"y\": -0.6596466310908324}, {\"X\": 6.186186186186186, \"y\": -0.5991140963303166}, {\"X\": 6.196196196196196, \"y\": -0.5383220754173634}, {\"X\": 6.206206206206206, \"y\": -0.47727647540259455}, {\"X\": 6.216216216216216, \"y\": -0.4159832487488944}, {\"X\": 6.226226226226226, \"y\": -0.35444839275143664}, {\"X\": 6.236236236236236, \"y\": -0.29267794895121246}, {\"X\": 6.246246246246246, \"y\": -0.23067800254211812}, {\"X\": 6.256256256256256, \"y\": -0.16845468177165973}, {\"X\": 6.266266266266266, \"y\": -0.10601415733533417}, {\"X\": 6.276276276276276, \"y\": -0.04336264176474644}, {\"X\": 6.286286286286286, \"y\": 0.01949361119047648}, {\"X\": 6.296296296296296, \"y\": 0.0825483071869133}, {\"X\": 6.306306306306306, \"y\": 0.1457951119176556}, {\"X\": 6.316316316316316, \"y\": 0.20922765174863117}, {\"X\": 6.326326326326326, \"y\": 0.27283951436087983}, {\"X\": 6.336336336336336, \"y\": 0.33662424939871693}, {\"X\": 6.346346346346346, \"y\": 0.40057536912371877}, {\"X\": 6.356356356356356, \"y\": 0.46468634907446404}, {\"X\": 6.366366366366366, \"y\": 0.528950628731964}, {\"X\": 6.376376376376376, \"y\": 0.5933616121907135}, {\"X\": 6.386386386386386, \"y\": 0.6579126688352942}, {\"X\": 6.396396396396396, \"y\": 0.7225971340224613}, {\"X\": 6.406406406406406, \"y\": 0.7874083097686422}, {\"X\": 6.416416416416417, \"y\": 0.8523394654427833}, {\"X\": 6.426426426426427, \"y\": 0.9173838384644388}, {\"X\": 6.436436436436437, \"y\": 0.9825346350071141}, {\"X\": 6.446446446446447, \"y\": 1.0477850307066778}, {\"X\": 6.456456456456457, \"y\": 1.113128171374853}, {\"X\": 6.466466466466467, \"y\": 1.1785571737176797}, {\"X\": 6.476476476476477, \"y\": 1.244065126058877}, {\"X\": 6.486486486486487, \"y\": 1.309645089068037}, {\"X\": 6.496496496496497, \"y\": 1.3752900964935595}, {\"X\": 6.506506506506507, \"y\": 1.4409931559002653}, {\"X\": 6.516516516516517, \"y\": 1.5067472494116005}, {\"X\": 6.526526526526527, \"y\": 1.5725453344563576}, {\"X\": 6.536536536536537, \"y\": 1.6383803445198317}, {\"X\": 6.546546546546547, \"y\": 1.7042451898993352}, {\"X\": 6.556556556556557, \"y\": 1.7701327584639868}, {\"X\": 6.566566566566567, \"y\": 1.836035916418697}, {\"X\": 6.576576576576577, \"y\": 1.9019475090722646}, {\"X\": 6.586586586586587, \"y\": 1.9678603616095085}, {\"X\": 6.596596596596597, \"y\": 2.033767279867343}, {\"X\": 6.606606606606607, \"y\": 2.09966105111472}, {\"X\": 6.616616616616617, \"y\": 2.1655344448363523}, {\"X\": 6.626626626626627, \"y\": 2.2313802135201315}, {\"X\": 6.636636636636637, \"y\": 2.2971910934481583}, {\"X\": 6.646646646646647, \"y\": 2.362959805491294}, {\"X\": 6.656656656656657, \"y\": 2.428679055907158}, {\"X\": 6.666666666666667, \"y\": 2.4943415371414663}, {\"X\": 6.676676676676677, \"y\": 2.559939928632647}, {\"X\": 6.686686686686687, \"y\": 2.625466897619622}, {\"X\": 6.696696696696697, \"y\": 2.690915099952682}, {\"X\": 6.706706706706707, \"y\": 2.756277180907361}, {\"X\": 6.716716716716717, \"y\": 2.8215457760012184}, {\"X\": 6.726726726726727, \"y\": 2.8867135118134426}, {\"X\": 6.736736736736737, \"y\": 2.9517730068071852}, {\"X\": 6.746746746746747, \"y\": 3.016716872154532}, {\"X\": 6.756756756756757, \"y\": 3.0815377125640255}, {\"X\": 6.766766766766767, \"y\": 3.1462281271106387}, {\"X\": 6.776776776776777, \"y\": 3.210780710068117}, {\"X\": 6.786786786786787, \"y\": 3.275188051743591}, {\"X\": 6.796796796796797, \"y\": 3.339442739314366}, {\"X\": 6.806806806806807, \"y\": 3.4035373576668}, {\"X\": 6.816816816816817, \"y\": 3.46746449023717}, {\"X\": 6.826826826826827, \"y\": 3.5312167198544384}, {\"X\": 6.836836836836837, \"y\": 3.594786629584823}, {\"X\": 6.846846846846847, \"y\": 3.6581668035780743}, {\"X\": 6.856856856856857, \"y\": 3.7213498279153643}, {\"X\": 6.866866866866867, \"y\": 3.7843282914586984}, {\"X\": 6.876876876876877, \"y\": 3.847094786701743}, {\"X\": 6.886886886886887, \"y\": 3.9096419106219837}, {\"X\": 6.896896896896897, \"y\": 3.971962265534114}, {\"X\": 6.906906906906907, \"y\": 4.034048459944549}, {\"X\": 6.916916916916917, \"y\": 4.095893109406988}, {\"X\": 6.926926926926927, \"y\": 4.157488837378901}, {\"X\": 6.936936936936937, \"y\": 4.218828276078869}, {\"X\": 6.946946946946947, \"y\": 4.279904067344661}, {\"X\": 6.956956956956957, \"y\": 4.340708863491956}, {\"X\": 6.966966966966967, \"y\": 4.401235328173619}, {\"X\": 6.976976976976977, \"y\": 4.461476137239414}, {\"X\": 6.986986986986987, \"y\": 4.521423979596082}, {\"X\": 6.996996996996997, \"y\": 4.581071558067658}, {\"X\": 7.007007007007007, \"y\": 4.640411590255944}, {\"X\": 7.017017017017017, \"y\": 4.69943680940104}, {\"X\": 7.027027027027027, \"y\": 4.758139965241821}, {\"X\": 7.037037037037037, \"y\": 4.816513824876277}, {\"X\": 7.047047047047047, \"y\": 4.874551173621598}, {\"X\": 7.057057057057057, \"y\": 4.932244815873922}, {\"X\": 7.067067067067067, \"y\": 4.989587575967635}, {\"X\": 7.077077077077077, \"y\": 5.046572299034126}, {\"X\": 7.087087087087087, \"y\": 5.103191851859897}, {\"X\": 7.097097097097097, \"y\": 5.15943912374393}, {\"X\": 7.107107107107107, \"y\": 5.215307027354207}, {\"X\": 7.117117117117117, \"y\": 5.270788499583283}, {\"X\": 7.127127127127127, \"y\": 5.325876502402817}, {\"X\": 7.137137137137137, \"y\": 5.380564023716955}, {\"X\": 7.147147147147147, \"y\": 5.434844078214468}, {\"X\": 7.157157157157157, \"y\": 5.488709708219536}, {\"X\": 7.167167167167167, \"y\": 5.542153984541101}, {\"X\": 7.177177177177177, \"y\": 5.59517000732065}, {\"X\": 7.187187187187187, \"y\": 5.647750906878373}, {\"X\": 7.197197197197197, \"y\": 5.699889844557555}, {\"X\": 7.207207207207207, \"y\": 5.75158001356713}, {\"X\": 7.217217217217217, \"y\": 5.802814639822282}, {\"X\": 7.227227227227227, \"y\": 5.853586982783002}, {\"X\": 7.237237237237237, \"y\": 5.903890336290486}, {\"X\": 7.247247247247247, \"y\": 5.953718029401297}, {\"X\": 7.257257257257257, \"y\": 6.003063427219171}, {\"X\": 7.267267267267267, \"y\": 6.051919931724376}, {\"X\": 7.277277277277277, \"y\": 6.100280982600521}, {\"X\": 7.287287287287287, \"y\": 6.148140058058728}, {\"X\": 7.297297297297297, \"y\": 6.195490675659041}, {\"X\": 7.307307307307307, \"y\": 6.242326393129003}, {\"X\": 7.317317317317317, \"y\": 6.288640809179284}, {\"X\": 7.327327327327327, \"y\": 6.334427564316259}, {\"X\": 7.337337337337337, \"y\": 6.379680341651463}, {\"X\": 7.347347347347347, \"y\": 6.424392867707775}, {\"X\": 7.357357357357357, \"y\": 6.468558913222297}, {\"X\": 7.367367367367367, \"y\": 6.512172293945772}, {\"X\": 7.377377377377377, \"y\": 6.555226871438479}, {\"X\": 7.387387387387387, \"y\": 6.597716553862497}, {\"X\": 7.397397397397397, \"y\": 6.639635296770233}, {\"X\": 7.407407407407407, \"y\": 6.6809771038891315}, {\"X\": 7.4174174174174174, \"y\": 6.7217360279024625}, {\"X\": 7.4274274274274275, \"y\": 6.761906171226083}, {\"X\": 7.4374374374374375, \"y\": 6.801481686781092}, {\"X\": 7.4474474474474475, \"y\": 6.84045677876228}, {\"X\": 7.4574574574574575, \"y\": 6.878825703402252}, {\"X\": 7.4674674674674675, \"y\": 6.916582769731178}, {\"X\": 7.4774774774774775, \"y\": 6.953722340332033}, {\"X\": 7.4874874874874875, \"y\": 6.990238832091244}, {\"X\": 7.4974974974974975, \"y\": 7.026126716944671}, {\"X\": 7.5075075075075075, \"y\": 7.061380522618796}, {\"X\": 7.5175175175175175, \"y\": 7.09599483336705}, {\"X\": 7.5275275275275275, \"y\": 7.129964290701177}, {\"X\": 7.5375375375375375, \"y\": 7.163283594117545}, {\"X\": 7.5475475475475475, \"y\": 7.195947501818309}, {\"X\": 7.5575575575575575, \"y\": 7.227950831427338}, {\"X\": 7.5675675675675675, \"y\": 7.259288460700816}, {\"X\": 7.5775775775775776, \"y\": 7.28995532823242}, {\"X\": 7.587587587587588, \"y\": 7.319946434152993}, {\"X\": 7.597597597597598, \"y\": 7.349256840824626}, {\"X\": 7.607607607607608, \"y\": 7.3778816735290365}, {\"X\": 7.617617617617618, \"y\": 7.405816121150186}, {\"X\": 7.627627627627628, \"y\": 7.433055436851035}, {\"X\": 7.637637637637638, \"y\": 7.459594938744339}, {\"X\": 7.647647647647648, \"y\": 7.485430010557418}, {\"X\": 7.657657657657658, \"y\": 7.51055610229079}, {\"X\": 7.667667667667668, \"y\": 7.534968730870612}, {\"X\": 7.677677677677678, \"y\": 7.558663480794813}, {\"X\": 7.687687687687688, \"y\": 7.581636004772859}, {\"X\": 7.697697697697698, \"y\": 7.603882024359047}, {\"X\": 7.707707707707708, \"y\": 7.625397330579264}, {\"X\": 7.717717717717718, \"y\": 7.6461777845511065}, {\"X\": 7.727727727727728, \"y\": 7.6662193180973}, {\"X\": 7.737737737737738, \"y\": 7.6855179343523226}, {\"X\": 7.747747747747748, \"y\": 7.704069708362153}, {\"X\": 7.757757757757758, \"y\": 7.721870787677078}, {\"X\": 7.767767767767768, \"y\": 7.738917392937452}, {\"X\": 7.777777777777778, \"y\": 7.755205818452359}, {\"X\": 7.787787787787788, \"y\": 7.770732432771086}, {\"X\": 7.797797797797798, \"y\": 7.78549367924732}, {\"X\": 7.807807807807808, \"y\": 7.799486076596015}, {\"X\": 7.817817817817818, \"y\": 7.812706219442832}, {\"X\": 7.827827827827828, \"y\": 7.825150778866097}, {\"X\": 7.837837837837838, \"y\": 7.836816502931172}, {\"X\": 7.847847847847848, \"y\": 7.847700217217209}, {\"X\": 7.857857857857858, \"y\": 7.85779882533617}, {\"X\": 7.867867867867868, \"y\": 7.86710930944407}, {\"X\": 7.877877877877878, \"y\": 7.875628730744361}, {\"X\": 7.887887887887888, \"y\": 7.883354229983387}, {\"X\": 7.897897897897898, \"y\": 7.890283027937839}, {\"X\": 7.907907907907908, \"y\": 7.896412425894147}, {\"X\": 7.917917917917918, \"y\": 7.901739806119734}, {\"X\": 7.927927927927928, \"y\": 7.906262632326069}, {\"X\": 7.937937937937938, \"y\": 7.909978450123447}, {\"X\": 7.947947947947948, \"y\": 7.91288488746744}, {\"X\": 7.957957957957958, \"y\": 7.914979655096946}, {\"X\": 7.967967967967968, \"y\": 7.916260546963773}, {\"X\": 7.977977977977978, \"y\": 7.916725440653694}, {\"X\": 7.987987987987988, \"y\": 7.916372297798923}, {\"X\": 7.997997997997998, \"y\": 7.91519916448193}, {\"X\": 8.008008008008009, \"y\": 7.913204171630549}, {\"X\": 8.018018018018019, \"y\": 7.91038553540432}, {\"X\": 8.028028028028029, \"y\": 7.906741557571992}, {\"X\": 8.038038038038039, \"y\": 7.902270625880156}, {\"X\": 8.048048048048049, \"y\": 7.896971214412912}, {\"X\": 8.058058058058059, \"y\": 7.8908418839425565}, {\"X\": 8.068068068068069, \"y\": 7.883881282271205}, {\"X\": 8.078078078078079, \"y\": 7.876088144563313}, {\"X\": 8.088088088088089, \"y\": 7.867461293669023}, {\"X\": 8.098098098098099, \"y\": 7.85799964043832}, {\"X\": 8.108108108108109, \"y\": 7.847702184025894}, {\"X\": 8.118118118118119, \"y\": 7.836568012186713}, {\"X\": 8.128128128128129, \"y\": 7.82459630156222}, {\"X\": 8.138138138138139, \"y\": 7.811786317957115}, {\"X\": 8.148148148148149, \"y\": 7.798137416606689}, {\"X\": 8.158158158158159, \"y\": 7.783649042434639}, {\"X\": 8.168168168168169, \"y\": 7.768320730301343}, {\"X\": 8.178178178178179, \"y\": 7.752152105242532}, {\"X\": 8.188188188188189, \"y\": 7.735142882698334}, {\"X\": 8.198198198198199, \"y\": 7.717292868732622}, {\"X\": 8.208208208208209, \"y\": 7.698601960242661}, {\"X\": 8.218218218218219, \"y\": 7.679070145158975}, {\"X\": 8.228228228228229, \"y\": 7.658697502635421}, {\"X\": 8.238238238238239, \"y\": 7.6374842032294294}, {\"X\": 8.248248248248249, \"y\": 7.615430509072361}, {\"X\": 8.258258258258259, \"y\": 7.592536774029958}, {\"X\": 8.268268268268269, \"y\": 7.568803443852847}, {\"X\": 8.278278278278279, \"y\": 7.5442310563170585}, {\"X\": 8.288288288288289, \"y\": 7.518820241354546}, {\"X\": 8.298298298298299, \"y\": 7.49257172117365}, {\"X\": 8.308308308308309, \"y\": 7.465486310369485}, {\"X\": 8.318318318318319, \"y\": 7.437564916024239}, {\"X\": 8.328328328328329, \"y\": 7.408808537797324}, {\"X\": 8.338338338338339, \"y\": 7.379218268005377}, {\"X\": 8.348348348348349, \"y\": 7.348795291692072}, {\"X\": 8.358358358358359, \"y\": 7.317540886687724}, {\"X\": 8.368368368368369, \"y\": 7.285456423658657}, {\"X\": 8.378378378378379, \"y\": 7.252543366146314}, {\"X\": 8.388388388388389, \"y\": 7.218803270596097}, {\"X\": 8.398398398398399, \"y\": 7.184237786375894}, {\"X\": 8.408408408408409, \"y\": 7.148848655784299}, {\"X\": 8.418418418418419, \"y\": 7.112637714048495}, {\"X\": 8.428428428428429, \"y\": 7.0756068893117785}, {\"X\": 8.438438438438439, \"y\": 7.037758202610718}, {\"X\": 8.448448448448449, \"y\": 6.999093767841922}, {\"X\": 8.458458458458459, \"y\": 6.959615791718425}, {\"X\": 8.468468468468469, \"y\": 6.9193265737156455}, {\"X\": 8.478478478478479, \"y\": 6.87822850600693}, {\"X\": 8.488488488488489, \"y\": 6.836324073388667}, {\"X\": 8.498498498498499, \"y\": 6.793615853194959}, {\"X\": 8.508508508508509, \"y\": 6.750106515201844}, {\"X\": 8.518518518518519, \"y\": 6.705798821521061}, {\"X\": 8.528528528528529, \"y\": 6.660695626483361}, {\"X\": 8.538538538538539, \"y\": 6.614799876511345}, {\"X\": 8.548548548548549, \"y\": 6.568114609981837}, {\"X\": 8.558558558558559, \"y\": 6.520642957077791}, {\"X\": 8.568568568568569, \"y\": 6.472388139629715}, {\"X\": 8.578578578578579, \"y\": 6.42335347094664}, {\"X\": 8.588588588588589, \"y\": 6.373542355636607}, {\"X\": 8.598598598598599, \"y\": 6.322958289416691}, {\"X\": 8.608608608608609, \"y\": 6.271604858912567}, {\"X\": 8.618618618618619, \"y\": 6.2194857414476115}, {\"X\": 8.62862862862863, \"y\": 6.166604704821558}, {\"X\": 8.63863863863864, \"y\": 6.112965607078706}, {\"X\": 8.64864864864865, \"y\": 6.058572396265693}, {\"X\": 8.65865865865866, \"y\": 6.003429110178845}, {\"X\": 8.66866866866867, \"y\": 5.9475398761011125}, {\"X\": 8.67867867867868, \"y\": 5.890908910528596}, {\"X\": 8.68868868868869, \"y\": 5.8335405188866964}, {\"X\": 8.6986986986987, \"y\": 5.775439095235879}, {\"X\": 8.70870870870871, \"y\": 5.716609121967084}, {\"X\": 8.71871871871872, \"y\": 5.657055169486794}, {\"X\": 8.72872872872873, \"y\": 5.59678189589178}, {\"X\": 8.73873873873874, \"y\": 5.5357940466335425}, {\"X\": 8.74874874874875, \"y\": 5.474096454172462}, {\"X\": 8.75875875875876, \"y\": 5.411694037621699}, {\"X\": 8.76876876876877, \"y\": 5.348591802380849}, {\"X\": 8.77877877877878, \"y\": 5.284794839759374}, {\"X\": 8.78878878878879, \"y\": 5.220308326589861}, {\"X\": 8.7987987987988, \"y\": 5.155137524831104}, {\"X\": 8.80880880880881, \"y\": 5.089287781161049}, {\"X\": 8.81881881881882, \"y\": 5.0227645265596434}, {\"X\": 8.82882882882883, \"y\": 4.955573275881597}, {\"X\": 8.83883883883884, \"y\": 4.887719627419099}, {\"X\": 8.84884884884885, \"y\": 4.819209262454521}, {\"X\": 8.85885885885886, \"y\": 4.7500479448031445}, {\"X\": 8.86886886886887, \"y\": 4.680241520345936}, {\"X\": 8.87887887887888, \"y\": 4.609795916552409}, {\"X\": 8.88888888888889, \"y\": 4.538717141993627}, {\"X\": 8.8988988988989, \"y\": 4.46701128584535}, {\"X\": 8.90890890890891, \"y\": 4.394684517381407}, {\"X\": 8.91891891891892, \"y\": 4.321743085457294}, {\"X\": 8.92892892892893, \"y\": 4.248193317984071}, {\"X\": 8.93893893893894, \"y\": 4.174041621392578}, {\"X\": 8.94894894894895, \"y\": 4.0992944800880355}, {\"X\": 8.95895895895896, \"y\": 4.023958455895043}, {\"X\": 8.96896896896897, \"y\": 3.9480401874930644}, {\"X\": 8.97897897897898, \"y\": 3.871546389842404}, {\"X\": 8.98898898898899, \"y\": 3.7944838536007555}, {\"X\": 8.998998998999, \"y\": 3.7168594445303507}, {\"X\": 9.00900900900901, \"y\": 3.6386801028957705}, {\"X\": 9.01901901901902, \"y\": 3.5599528428524705}, {\"X\": 9.02902902902903, \"y\": 3.4806847518260646}, {\"X\": 9.03903903903904, \"y\": 3.400882989882428}, {\"X\": 9.04904904904905, \"y\": 3.320554789088676}, {\"X\": 9.05905905905906, \"y\": 3.23970745286507}, {\"X\": 9.06906906906907, \"y\": 3.1583483553279073}, {\"X\": 9.07907907907908, \"y\": 3.07648494062346}, {\"X\": 9.08908908908909, \"y\": 2.994124722253015}, {\"X\": 9.0990990990991, \"y\": 2.9112752823890795}, {\"X\": 9.10910910910911, \"y\": 2.8279442711828136}, {\"X\": 9.11911911911912, \"y\": 2.7441394060627506}, {\"X\": 9.12912912912913, \"y\": 2.65986847102487}, {\"X\": 9.13913913913914, \"y\": 2.5751393159140883}, {\"X\": 9.14914914914915, \"y\": 2.4899598556972324}, {\"X\": 9.15915915915916, \"y\": 2.4043380697275674}, {\"X\": 9.16916916916917, \"y\": 2.3182820010009313}, {\"X\": 9.17917917917918, \"y\": 2.231799755403573}, {\"X\": 9.18918918918919, \"y\": 2.1448995009517327}, {\"X\": 9.1991991991992, \"y\": 2.0575894670230563}, {\"X\": 9.20920920920921, \"y\": 1.9698779435799143}, {\"X\": 9.21921921921922, \"y\": 1.8817732803846825}, {\"X\": 9.22922922922923, \"y\": 1.7932838862070821}, {\"X\": 9.23923923923924, \"y\": 1.7044182280236324}, {\"X\": 9.24924924924925, \"y\": 1.6151848302093077}, {\"X\": 9.25925925925926, \"y\": 1.525592273721465}, {\"X\": 9.26926926926927, \"y\": 1.435649195276128}, {\"X\": 9.27927927927928, \"y\": 1.3453642865167013}, {\"X\": 9.28928928928929, \"y\": 1.254746293175196}, {\"X\": 9.2992992992993, \"y\": 1.163804014226051}, {\"X\": 9.30930930930931, \"y\": 1.0725463010326237}, {\"X\": 9.31931931931932, \"y\": 0.9809820564864425}, {\"X\": 9.32932932932933, \"y\": 0.8891202341392976}, {\"X\": 9.33933933933934, \"y\": 0.7969698373282574}, {\"X\": 9.34934934934935, \"y\": 0.7045399182936967}, {\"X\": 9.35935935935936, \"y\": 0.6118395772904204}, {\"X\": 9.36936936936937, \"y\": 0.5188779616919723}, {\"X\": 9.37937937937938, \"y\": 0.42566426508821764}, {\"X\": 9.38938938938939, \"y\": 0.33220772637628426}, {\"X\": 9.3993993993994, \"y\": 0.23851762884495786}, {\"X\": 9.40940940940941, \"y\": 0.14460329925261775}, {\"X\": 9.41941941941942, \"y\": 0.050474106898806985}, {\"X\": 9.42942942942943, \"y\": -0.04386053731047188}, {\"X\": 9.43943943943944, \"y\": -0.13839118180364143}, {\"X\": 9.44944944944945, \"y\": -0.2331083352905207}, {\"X\": 9.45945945945946, \"y\": -0.32800246771528835}, {\"X\": 9.46946946946947, \"y\": -0.4230640112153417}, {\"X\": 9.47947947947948, \"y\": -0.5182833610859555}, {\"X\": 9.48948948948949, \"y\": -0.613650876750643}, {\"X\": 9.4994994994995, \"y\": -0.7091568827371212}, {\"X\": 9.50950950950951, \"y\": -0.8047916696587818}, {\"X\": 9.51951951951952, \"y\": -0.900545495201568}, {\"X\": 9.52952952952953, \"y\": -0.9964085851161569}, {\"X\": 9.53953953953954, \"y\": -1.0923711342153464}, {\"X\": 9.54954954954955, \"y\": -1.188423307376546}, {\"X\": 9.55955955955956, \"y\": -1.2845552405492662}, {\"X\": 9.56956956956957, \"y\": -1.3807570417675081}, {\"X\": 9.57957957957958, \"y\": -1.4770187921669418}, {\"X\": 9.58958958958959, \"y\": -1.573330547006779}, {\"X\": 9.5995995995996, \"y\": -1.6696823366962272}, {\"X\": 9.60960960960961, \"y\": -1.7660641678254188}, {\"X\": 9.61961961961962, \"y\": -1.8624660242007163}, {\"X\": 9.62962962962963, \"y\": -1.9588778678842802}, {\"X\": 9.63963963963964, \"y\": -2.055289640237791}, {\"X\": 9.64964964964965, \"y\": -2.1516912629702216}, {\"X\": 9.65965965965966, \"y\": -2.2480726391895507}, {\"X\": 9.66966966966967, \"y\": -2.3444236544582995}, {\"X\": 9.67967967967968, \"y\": -2.440734177852794}, {\"X\": 9.68968968968969, \"y\": -2.5369940630260333}, {\"X\": 9.6996996996997, \"y\": -2.633193149274055}, {\"X\": 9.70970970970971, \"y\": -2.7293212626056875}, {\"X\": 9.71971971971972, \"y\": -2.825368216815573}, {\"X\": 9.72972972972973, \"y\": -2.921323814560354}, {\"X\": 9.73973973973974, \"y\": -3.017177848437904}, {\"X\": 9.74974974974975, \"y\": -3.1129201020694937}, {\"X\": 9.75975975975976, \"y\": -3.208540351184771}, {\"X\": 9.76976976976977, \"y\": -3.304028364709452}, {\"X\": 9.77977977977978, \"y\": -3.399373905855594}, {\"X\": 9.78978978978979, \"y\": -3.4945667332143433}, {\"X\": 9.7997997997998, \"y\": -3.5895966018510435}, {\"X\": 9.80980980980981, \"y\": -3.6844532644025754}, {\"X\": 9.81981981981982, \"y\": -3.779126472176824}, {\"X\": 9.82982982982983, \"y\": -3.873605976254156}, {\"X\": 9.83983983983984, \"y\": -3.9678815285907745}, {\"X\": 9.84984984984985, \"y\": -4.061942883123851}, {\"X\": 9.85985985985986, \"y\": -4.155779796878303}, {\"X\": 9.86986986986987, \"y\": -4.249382031075107}, {\"X\": 9.87987987987988, \"y\": -4.342739352241024}, {\"X\": 9.88988988988989, \"y\": -4.435841533319613}, {\"X\": 9.8998998998999, \"y\": -4.528678354783424}, {\"X\": 9.90990990990991, \"y\": -4.621239605747239}, {\"X\": 9.91991991991992, \"y\": -4.713515085082246}, {\"X\": 9.92992992992993, \"y\": -4.805494602531032}, {\"X\": 9.93993993993994, \"y\": -4.897167979823247}, {\"X\": 9.94994994994995, \"y\": -4.988525051791866}, {\"X\": 9.95995995995996, \"y\": -5.079555667489872}, {\"X\": 9.96996996996997, \"y\": -5.17024969130728}, {\"X\": 9.97997997997998, \"y\": -5.2605970040883605}, {\"X\": 9.98998998998999, \"y\": -5.350587504248947}, {\"X\": 10.0, \"y\": -5.440211108893697}], \"data-87b5e316d128eb754bf87a407adf0b8f\": [{\"X\": 0.8908908908908909, \"y\": 0.6927854225235902}, {\"X\": 7.737737737737738, \"y\": 7.6855179343523226}, {\"X\": 6.546546546546547, \"y\": 1.7042451898993352}, {\"X\": 4.384384384384385, \"y\": -4.150639947225389}]}}, {\"mode\": \"vega-lite\"});\n",
              "</script>"
            ],
            "text/plain": [
              "alt.LayerChart(...)"
            ]
          },
          "metadata": {},
          "execution_count": 22
        }
      ]
    },
    {
      "cell_type": "markdown",
      "source": [
        "보다시피, 학습 데이터로 활용된 지점(빨간색)에는 95% 신뢰 구간이 없어진 것을 알 수 있다. 또한, 그 인근의 데이터 또한 95% 신뢰 구간이 작아진 것을 확인할 수 있다. 이는 다음과 같은 의미를 가지고 있다:\n",
        "\n",
        "* 확률 분포로 표현한다는 것의 의미는 아직 관측되지 않은 데이터가 어떠한 분포로 존재하는지를 추정한다는 의미다.\n",
        "* 이미 관측된 지점은 어떠한 분포로 존재하는지를 알고 있다. 따라서, 95% 신뢰 구간이 없어진 것이다.\n",
        "* 한 샘플과 인접한 샘플은 서로 큰 관련성이 있다.\n",
        "\n",
        "이 정도면 확률적 회귀 모델이 Surrogate Model로 어떻게 활용되는지 감이 올 것이다.\n",
        "* 아직 탐색되지 않은 초매개변수에 대해서 성능치가 어떠한 분포로 존재하는지를 추정한다.\n",
        "* 이미 탐색한 초매개변수는 어떠한 분포로 존재하는지 알고 있다. 따라서, 95% 신뢰 구간이 없어질 것이다.\n",
        "* 한 초매개변수와 인접한 초매개변수는 서로 큰 관련성이 있을 것이다.\n",
        "\n",
        "여기서, **인접한**의 의미를 생각해야 한다. 물론, 당연히 **거리**를 의미하는 것이 맞다. 하지만, Gaussian Process에서는 두 샘플 간의 거리를 측정하는 함수를 **커널Kernel**이라고 한다. SVM에서 배웠던 그 커널과 똑같다. Gaussian Process는 이 커널 함수의 값을 활용해서 한 샘플이 독립적인 확률 분포를 띄는 게 아니라, 다른 샘플과 연관성 있는 확률 분포를 모델링하게 된다.\n",
        "\n",
        "이론적인 내용은 이정도로 마무리하고, 실제로 초매개변수 최적화에 적용해보자. 먼저, 검색 공간을 정의하자.\n"
      ],
      "metadata": {
        "id": "ktdAcCDt381I"
      }
    },
    {
      "cell_type": "code",
      "source": [
        "from skopt.space import Categorical, Integer, Real\n",
        "\n",
        "\n",
        "search_space = {\n",
        "    'n_estimators': Integer(5, 200), # 5 ~ 200 사이의 정수를 균일 분포 확률Uniformly Random로 뽑는다.\n",
        "    'criterion': Categorical(['gini', 'entropy']), # 'gini' 와 'entropy'를 중 하나를 균일 분포 확률Uniformly Random로 뽑는다.\n",
        "    'max_depth': Integer(3, 20), # 3 ~ 20 사이의 정수를 균일 분포 확률Uniformly Random로 뽑는다.\n",
        "    'class_weight': Categorical(['balanced', 'balanced_subsample']), # 'balanced' 와 'balanced_subsample'를 중 하나를 균일 분포 확률Uniformly Random로 뽑는다.\n",
        "    'min_samples_split': Real(0.01, 0.5), # 0.01 ~ 0.5 사이의 실수를 균일 분포 확률Uniformly Random로 뽑는다.\n",
        "}"
      ],
      "metadata": {
        "id": "LpcX9-oz6mht"
      },
      "execution_count": null,
      "outputs": []
    },
    {
      "cell_type": "markdown",
      "source": [
        "그 다음에는 Surrogate Model과 Acquisition Function을 정의해야 한다. 보다 자세한 것은 [skopt.Optimizer](https://scikit-optimize.github.io/stable/modules/generated/skopt.Optimizer.html#skopt.Optimizer)를 참조하자."
      ],
      "metadata": {
        "id": "EJtkDhgo8g-b"
      }
    },
    {
      "cell_type": "code",
      "source": [
        "optim_params = dict(\n",
        "    base_estimator='GP', # Gaussian Process를 Surrogate Model로 사용한다\n",
        "    n_initial_points=10, # 초기 확률 분포를 생성하기 위해 탐색할 초매개변수 조합 수를 의미한다.\n",
        "                         # 예를 들어, 10으로 설정했다면 초매개변수를 10회 추출한 이후에 Acquisition Function을 활용해 다음의 초매개변수를 탐색한다.\n",
        "    acq_func='EI', # Expected Improvement를 Acqusition Function으로 사용한다.\n",
        "    acq_func_kwargs=dict(xi=0.01) # Expected Improvement의 Exploration을 위한 초매개변수인 xi를 의미한다.\n",
        ")"
      ],
      "metadata": {
        "id": "x84AIxmJ8wg-"
      },
      "execution_count": null,
      "outputs": []
    },
    {
      "cell_type": "markdown",
      "source": [
        "이제, Bayesian Optimization을 다음과 같이 실행해보자."
      ],
      "metadata": {
        "id": "vJGv-Rc9-DBt"
      }
    },
    {
      "cell_type": "code",
      "source": [
        "from skopt import BayesSearchCV\n",
        "from sklearn.ensemble import RandomForestClassifier\n",
        "\n",
        "\n",
        "optimizer = BayesSearchCV(\n",
        "    estimator=RandomForestClassifier(random_state=42), # 초매개변수를 찾을 학습 모델,\n",
        "    search_spaces=search_space, # 초매개변수 검색 공간,\n",
        "    scoring='f1', # 성능 측정치; F1 score를 활용한다,\n",
        "    cv=3, # 내부 CV의 설정; 3를 넣을 시 Stratified 3-Fold CV를 수행한다. 또는, Cross-Validation 시간에 배웠던 Splitter 클래스들을 넣어도 된다.\n",
        "    n_jobs=-1, # 병렬로 실행할 작업의 개수를 의미한다. -1일 경우 모든 프로세서를 활용한다는 의미다.\n",
        "    n_iter=50, # 몇 회나 초매개변수 공간에서 초매개변수의 조합을 추출할 건지를 정한다. 총 50회를 해보겠다.\n",
        "    optimizer_kwargs=optim_params # Surrogate Model 및 Acquisition Function의 정의\n",
        ")\n",
        "\n",
        "optimizer.fit(X_train, y_train)"
      ],
      "metadata": {
        "id": "iwo0ZKH06bpi",
        "colab": {
          "base_uri": "https://localhost:8080/",
          "height": 118
        },
        "outputId": "4597ea28-f22d-4fc8-ee9c-4c14b74a40b7"
      },
      "execution_count": null,
      "outputs": [
        {
          "output_type": "execute_result",
          "data": {
            "text/plain": [
              "BayesSearchCV(cv=3, estimator=RandomForestClassifier(random_state=42),\n",
              "              n_jobs=-1,\n",
              "              optimizer_kwargs={'acq_func': 'EI',\n",
              "                                'acq_func_kwargs': {'xi': 0.01},\n",
              "                                'base_estimator': 'GP',\n",
              "                                'n_initial_points': 10},\n",
              "              scoring='f1',\n",
              "              search_spaces={'class_weight': Categorical(categories=('balanced', 'balanced_subsample'), prior=None),\n",
              "                             'criterion': Categorical(categories=('gini', 'entropy'), prior=None),\n",
              "                             'max_depth': Integer(low=3, high=20, prior='uniform', transform='normalize'),\n",
              "                             'min_samples_split': Real(low=0.01, high=0.5, prior='uniform', transform='normalize'),\n",
              "                             'n_estimators': Integer(low=5, high=200, prior='uniform', transform='normalize')})"
            ],
            "text/html": [
              "<style>#sk-container-id-3 {color: black;background-color: white;}#sk-container-id-3 pre{padding: 0;}#sk-container-id-3 div.sk-toggleable {background-color: white;}#sk-container-id-3 label.sk-toggleable__label {cursor: pointer;display: block;width: 100%;margin-bottom: 0;padding: 0.3em;box-sizing: border-box;text-align: center;}#sk-container-id-3 label.sk-toggleable__label-arrow:before {content: \"▸\";float: left;margin-right: 0.25em;color: #696969;}#sk-container-id-3 label.sk-toggleable__label-arrow:hover:before {color: black;}#sk-container-id-3 div.sk-estimator:hover label.sk-toggleable__label-arrow:before {color: black;}#sk-container-id-3 div.sk-toggleable__content {max-height: 0;max-width: 0;overflow: hidden;text-align: left;background-color: #f0f8ff;}#sk-container-id-3 div.sk-toggleable__content pre {margin: 0.2em;color: black;border-radius: 0.25em;background-color: #f0f8ff;}#sk-container-id-3 input.sk-toggleable__control:checked~div.sk-toggleable__content {max-height: 200px;max-width: 100%;overflow: auto;}#sk-container-id-3 input.sk-toggleable__control:checked~label.sk-toggleable__label-arrow:before {content: \"▾\";}#sk-container-id-3 div.sk-estimator input.sk-toggleable__control:checked~label.sk-toggleable__label {background-color: #d4ebff;}#sk-container-id-3 div.sk-label input.sk-toggleable__control:checked~label.sk-toggleable__label {background-color: #d4ebff;}#sk-container-id-3 input.sk-hidden--visually {border: 0;clip: rect(1px 1px 1px 1px);clip: rect(1px, 1px, 1px, 1px);height: 1px;margin: -1px;overflow: hidden;padding: 0;position: absolute;width: 1px;}#sk-container-id-3 div.sk-estimator {font-family: monospace;background-color: #f0f8ff;border: 1px dotted black;border-radius: 0.25em;box-sizing: border-box;margin-bottom: 0.5em;}#sk-container-id-3 div.sk-estimator:hover {background-color: #d4ebff;}#sk-container-id-3 div.sk-parallel-item::after {content: \"\";width: 100%;border-bottom: 1px solid gray;flex-grow: 1;}#sk-container-id-3 div.sk-label:hover label.sk-toggleable__label {background-color: #d4ebff;}#sk-container-id-3 div.sk-serial::before {content: \"\";position: absolute;border-left: 1px solid gray;box-sizing: border-box;top: 0;bottom: 0;left: 50%;z-index: 0;}#sk-container-id-3 div.sk-serial {display: flex;flex-direction: column;align-items: center;background-color: white;padding-right: 0.2em;padding-left: 0.2em;position: relative;}#sk-container-id-3 div.sk-item {position: relative;z-index: 1;}#sk-container-id-3 div.sk-parallel {display: flex;align-items: stretch;justify-content: center;background-color: white;position: relative;}#sk-container-id-3 div.sk-item::before, #sk-container-id-3 div.sk-parallel-item::before {content: \"\";position: absolute;border-left: 1px solid gray;box-sizing: border-box;top: 0;bottom: 0;left: 50%;z-index: -1;}#sk-container-id-3 div.sk-parallel-item {display: flex;flex-direction: column;z-index: 1;position: relative;background-color: white;}#sk-container-id-3 div.sk-parallel-item:first-child::after {align-self: flex-end;width: 50%;}#sk-container-id-3 div.sk-parallel-item:last-child::after {align-self: flex-start;width: 50%;}#sk-container-id-3 div.sk-parallel-item:only-child::after {width: 0;}#sk-container-id-3 div.sk-dashed-wrapped {border: 1px dashed gray;margin: 0 0.4em 0.5em 0.4em;box-sizing: border-box;padding-bottom: 0.4em;background-color: white;}#sk-container-id-3 div.sk-label label {font-family: monospace;font-weight: bold;display: inline-block;line-height: 1.2em;}#sk-container-id-3 div.sk-label-container {text-align: center;}#sk-container-id-3 div.sk-container {/* jupyter's `normalize.less` sets `[hidden] { display: none; }` but bootstrap.min.css set `[hidden] { display: none !important; }` so we also need the `!important` here to be able to override the default hidden behavior on the sphinx rendered scikit-learn.org. See: https://github.com/scikit-learn/scikit-learn/issues/21755 */display: inline-block !important;position: relative;}#sk-container-id-3 div.sk-text-repr-fallback {display: none;}</style><div id=\"sk-container-id-3\" class=\"sk-top-container\"><div class=\"sk-text-repr-fallback\"><pre>BayesSearchCV(cv=3, estimator=RandomForestClassifier(random_state=42),\n",
              "              n_jobs=-1,\n",
              "              optimizer_kwargs={&#x27;acq_func&#x27;: &#x27;EI&#x27;,\n",
              "                                &#x27;acq_func_kwargs&#x27;: {&#x27;xi&#x27;: 0.01},\n",
              "                                &#x27;base_estimator&#x27;: &#x27;GP&#x27;,\n",
              "                                &#x27;n_initial_points&#x27;: 10},\n",
              "              scoring=&#x27;f1&#x27;,\n",
              "              search_spaces={&#x27;class_weight&#x27;: Categorical(categories=(&#x27;balanced&#x27;, &#x27;balanced_subsample&#x27;), prior=None),\n",
              "                             &#x27;criterion&#x27;: Categorical(categories=(&#x27;gini&#x27;, &#x27;entropy&#x27;), prior=None),\n",
              "                             &#x27;max_depth&#x27;: Integer(low=3, high=20, prior=&#x27;uniform&#x27;, transform=&#x27;normalize&#x27;),\n",
              "                             &#x27;min_samples_split&#x27;: Real(low=0.01, high=0.5, prior=&#x27;uniform&#x27;, transform=&#x27;normalize&#x27;),\n",
              "                             &#x27;n_estimators&#x27;: Integer(low=5, high=200, prior=&#x27;uniform&#x27;, transform=&#x27;normalize&#x27;)})</pre><b>In a Jupyter environment, please rerun this cell to show the HTML representation or trust the notebook. <br />On GitHub, the HTML representation is unable to render, please try loading this page with nbviewer.org.</b></div><div class=\"sk-container\" hidden><div class=\"sk-item sk-dashed-wrapped\"><div class=\"sk-label-container\"><div class=\"sk-label sk-toggleable\"><input class=\"sk-toggleable__control sk-hidden--visually\" id=\"sk-estimator-id-7\" type=\"checkbox\" ><label for=\"sk-estimator-id-7\" class=\"sk-toggleable__label sk-toggleable__label-arrow\">BayesSearchCV</label><div class=\"sk-toggleable__content\"><pre>BayesSearchCV(cv=3, estimator=RandomForestClassifier(random_state=42),\n",
              "              n_jobs=-1,\n",
              "              optimizer_kwargs={&#x27;acq_func&#x27;: &#x27;EI&#x27;,\n",
              "                                &#x27;acq_func_kwargs&#x27;: {&#x27;xi&#x27;: 0.01},\n",
              "                                &#x27;base_estimator&#x27;: &#x27;GP&#x27;,\n",
              "                                &#x27;n_initial_points&#x27;: 10},\n",
              "              scoring=&#x27;f1&#x27;,\n",
              "              search_spaces={&#x27;class_weight&#x27;: Categorical(categories=(&#x27;balanced&#x27;, &#x27;balanced_subsample&#x27;), prior=None),\n",
              "                             &#x27;criterion&#x27;: Categorical(categories=(&#x27;gini&#x27;, &#x27;entropy&#x27;), prior=None),\n",
              "                             &#x27;max_depth&#x27;: Integer(low=3, high=20, prior=&#x27;uniform&#x27;, transform=&#x27;normalize&#x27;),\n",
              "                             &#x27;min_samples_split&#x27;: Real(low=0.01, high=0.5, prior=&#x27;uniform&#x27;, transform=&#x27;normalize&#x27;),\n",
              "                             &#x27;n_estimators&#x27;: Integer(low=5, high=200, prior=&#x27;uniform&#x27;, transform=&#x27;normalize&#x27;)})</pre></div></div></div><div class=\"sk-parallel\"><div class=\"sk-parallel-item\"><div class=\"sk-item\"><div class=\"sk-label-container\"><div class=\"sk-label sk-toggleable\"><input class=\"sk-toggleable__control sk-hidden--visually\" id=\"sk-estimator-id-8\" type=\"checkbox\" ><label for=\"sk-estimator-id-8\" class=\"sk-toggleable__label sk-toggleable__label-arrow\">estimator: RandomForestClassifier</label><div class=\"sk-toggleable__content\"><pre>RandomForestClassifier(random_state=42)</pre></div></div></div><div class=\"sk-serial\"><div class=\"sk-item\"><div class=\"sk-estimator sk-toggleable\"><input class=\"sk-toggleable__control sk-hidden--visually\" id=\"sk-estimator-id-9\" type=\"checkbox\" ><label for=\"sk-estimator-id-9\" class=\"sk-toggleable__label sk-toggleable__label-arrow\">RandomForestClassifier</label><div class=\"sk-toggleable__content\"><pre>RandomForestClassifier(random_state=42)</pre></div></div></div></div></div></div></div></div></div></div>"
            ]
          },
          "metadata": {},
          "execution_count": 25
        }
      ]
    },
    {
      "cell_type": "markdown",
      "source": [
        "찾아낸 최적의 초매개변수와 성능은 다음과 같다:"
      ],
      "metadata": {
        "id": "0YnywFGoeJBX"
      }
    },
    {
      "cell_type": "code",
      "source": [
        "from sklearn.metrics import f1_score\n",
        "\n",
        "\n",
        "y_pred = optimizer.best_estimator_.predict(X_test)\n",
        "\n",
        "print(f'Best F1 Score: {optimizer.best_score_}')\n",
        "print('Best Hyperparameters:')\n",
        "print(optimizer.best_params_)\n",
        "print('F1 Score on Validation set: ', f1_score(y_test, y_pred, pos_label=1))"
      ],
      "metadata": {
        "colab": {
          "base_uri": "https://localhost:8080/"
        },
        "outputId": "aff28dd2-4ff0-4dc1-bfa0-6b65d77d2984",
        "id": "9Ju5lpaJMkwU"
      },
      "execution_count": null,
      "outputs": [
        {
          "output_type": "stream",
          "name": "stdout",
          "text": [
            "Best F1 Score: 0.5549388945014703\n",
            "Best Hyperparameters:\n"
          ]
        },
        {
          "output_type": "execute_result",
          "data": {
            "text/plain": [
              "OrderedDict([('class_weight', 'balanced_subsample'),\n",
              "             ('criterion', 'entropy'),\n",
              "             ('max_depth', 17),\n",
              "             ('min_samples_split', 0.01),\n",
              "             ('n_estimators', 200)])"
            ]
          },
          "metadata": {},
          "execution_count": 26
        }
      ]
    },
    {
      "cell_type": "markdown",
      "source": [
        "## Sequential Model-based Algorithm Configuration\n",
        "scikit-optimize에서는 Gaussian Process 말고도, 다른 확률적 회귀 모델을 Surrogate Model로 활용할 수 있다.\n"
      ],
      "metadata": {
        "id": "g2gkSNcOGSc7"
      }
    },
    {
      "cell_type": "code",
      "source": [
        "optim_params = dict(\n",
        "    base_estimator='RF', # Random Forest를 Surrogate Model로 사용한다; 이 외에도, ET (ExtraTrees), GBRT (Gradient Boosted Tree)를 Surrogate Model로 사용할 수 있다.\n",
        "    n_initial_points=10, # 초기 확률 분포를 생성하기 위해 탐색할 초매개변수 조합 수를 의미한다.\n",
        "                         # 예를 들어, 10으로 설정했다면 초매개변수를 10회 추출한 이후에 Acquisition Function을 활용해 다음의 초매개변수를 탐색한다.\n",
        "    acq_func='EI', # Expected Improvement를 Acqusition Function으로 사용한다.\n",
        "    acq_func_kwargs=dict(xi=0.01) # Expected Improvement의 Exploration을 위한 초매개변수인 xi를 의미한다.\n",
        ")"
      ],
      "metadata": {
        "id": "T0pOGJjcOWkp"
      },
      "execution_count": null,
      "outputs": []
    },
    {
      "cell_type": "code",
      "source": [
        "from skopt import BayesSearchCV\n",
        "from sklearn.ensemble import RandomForestClassifier\n",
        "\n",
        "\n",
        "optimizer = BayesSearchCV(\n",
        "    estimator=RandomForestClassifier(random_state=42), # 초매개변수를 찾을 학습 모델,\n",
        "    search_spaces=search_space, # 초매개변수 검색 공간,\n",
        "    scoring='f1', # 성능 측정치; F1 score를 활용한다,\n",
        "    cv=3, # 내부 CV의 설정; 3를 넣을 시 Stratified 3-Fold CV를 수행한다. 또는, Cross-Validation 시간에 배웠던 Splitter 클래스들을 넣어도 된다.\n",
        "    n_jobs=-1, # 병렬로 실행할 작업의 개수를 의미한다. -1일 경우 모든 프로세서를 활용한다는 의미다.\n",
        "    n_iter=50, # 몇 회나 초매개변수 공간에서 초매개변수의 조합을 추출할 건지를 정한다. 총 50회를 해보겠다.\n",
        "    optimizer_kwargs=optim_params # Surrogate Model 및 Acquisition Function의 정의\n",
        ")\n",
        "\n",
        "optimizer.fit(X_train, y_train)"
      ],
      "metadata": {
        "colab": {
          "base_uri": "https://localhost:8080/",
          "height": 118
        },
        "id": "9CvikHMMOkoe",
        "outputId": "18605528-9f30-4e1c-f9bb-124e3e118344"
      },
      "execution_count": null,
      "outputs": [
        {
          "output_type": "execute_result",
          "data": {
            "text/plain": [
              "BayesSearchCV(cv=3, estimator=RandomForestClassifier(random_state=42),\n",
              "              n_jobs=-1,\n",
              "              optimizer_kwargs={'acq_func': 'EI',\n",
              "                                'acq_func_kwargs': {'xi': 0.01},\n",
              "                                'base_estimator': 'RF',\n",
              "                                'n_initial_points': 10},\n",
              "              scoring='f1',\n",
              "              search_spaces={'class_weight': Categorical(categories=('balanced', 'balanced_subsample'), prior=None),\n",
              "                             'criterion': Categorical(categories=('gini', 'entropy'), prior=None),\n",
              "                             'max_depth': Integer(low=3, high=20, prior='uniform', transform='normalize'),\n",
              "                             'min_samples_split': Real(low=0.01, high=0.5, prior='uniform', transform='normalize'),\n",
              "                             'n_estimators': Integer(low=5, high=200, prior='uniform', transform='normalize')})"
            ],
            "text/html": [
              "<style>#sk-container-id-4 {color: black;background-color: white;}#sk-container-id-4 pre{padding: 0;}#sk-container-id-4 div.sk-toggleable {background-color: white;}#sk-container-id-4 label.sk-toggleable__label {cursor: pointer;display: block;width: 100%;margin-bottom: 0;padding: 0.3em;box-sizing: border-box;text-align: center;}#sk-container-id-4 label.sk-toggleable__label-arrow:before {content: \"▸\";float: left;margin-right: 0.25em;color: #696969;}#sk-container-id-4 label.sk-toggleable__label-arrow:hover:before {color: black;}#sk-container-id-4 div.sk-estimator:hover label.sk-toggleable__label-arrow:before {color: black;}#sk-container-id-4 div.sk-toggleable__content {max-height: 0;max-width: 0;overflow: hidden;text-align: left;background-color: #f0f8ff;}#sk-container-id-4 div.sk-toggleable__content pre {margin: 0.2em;color: black;border-radius: 0.25em;background-color: #f0f8ff;}#sk-container-id-4 input.sk-toggleable__control:checked~div.sk-toggleable__content {max-height: 200px;max-width: 100%;overflow: auto;}#sk-container-id-4 input.sk-toggleable__control:checked~label.sk-toggleable__label-arrow:before {content: \"▾\";}#sk-container-id-4 div.sk-estimator input.sk-toggleable__control:checked~label.sk-toggleable__label {background-color: #d4ebff;}#sk-container-id-4 div.sk-label input.sk-toggleable__control:checked~label.sk-toggleable__label {background-color: #d4ebff;}#sk-container-id-4 input.sk-hidden--visually {border: 0;clip: rect(1px 1px 1px 1px);clip: rect(1px, 1px, 1px, 1px);height: 1px;margin: -1px;overflow: hidden;padding: 0;position: absolute;width: 1px;}#sk-container-id-4 div.sk-estimator {font-family: monospace;background-color: #f0f8ff;border: 1px dotted black;border-radius: 0.25em;box-sizing: border-box;margin-bottom: 0.5em;}#sk-container-id-4 div.sk-estimator:hover {background-color: #d4ebff;}#sk-container-id-4 div.sk-parallel-item::after {content: \"\";width: 100%;border-bottom: 1px solid gray;flex-grow: 1;}#sk-container-id-4 div.sk-label:hover label.sk-toggleable__label {background-color: #d4ebff;}#sk-container-id-4 div.sk-serial::before {content: \"\";position: absolute;border-left: 1px solid gray;box-sizing: border-box;top: 0;bottom: 0;left: 50%;z-index: 0;}#sk-container-id-4 div.sk-serial {display: flex;flex-direction: column;align-items: center;background-color: white;padding-right: 0.2em;padding-left: 0.2em;position: relative;}#sk-container-id-4 div.sk-item {position: relative;z-index: 1;}#sk-container-id-4 div.sk-parallel {display: flex;align-items: stretch;justify-content: center;background-color: white;position: relative;}#sk-container-id-4 div.sk-item::before, #sk-container-id-4 div.sk-parallel-item::before {content: \"\";position: absolute;border-left: 1px solid gray;box-sizing: border-box;top: 0;bottom: 0;left: 50%;z-index: -1;}#sk-container-id-4 div.sk-parallel-item {display: flex;flex-direction: column;z-index: 1;position: relative;background-color: white;}#sk-container-id-4 div.sk-parallel-item:first-child::after {align-self: flex-end;width: 50%;}#sk-container-id-4 div.sk-parallel-item:last-child::after {align-self: flex-start;width: 50%;}#sk-container-id-4 div.sk-parallel-item:only-child::after {width: 0;}#sk-container-id-4 div.sk-dashed-wrapped {border: 1px dashed gray;margin: 0 0.4em 0.5em 0.4em;box-sizing: border-box;padding-bottom: 0.4em;background-color: white;}#sk-container-id-4 div.sk-label label {font-family: monospace;font-weight: bold;display: inline-block;line-height: 1.2em;}#sk-container-id-4 div.sk-label-container {text-align: center;}#sk-container-id-4 div.sk-container {/* jupyter's `normalize.less` sets `[hidden] { display: none; }` but bootstrap.min.css set `[hidden] { display: none !important; }` so we also need the `!important` here to be able to override the default hidden behavior on the sphinx rendered scikit-learn.org. See: https://github.com/scikit-learn/scikit-learn/issues/21755 */display: inline-block !important;position: relative;}#sk-container-id-4 div.sk-text-repr-fallback {display: none;}</style><div id=\"sk-container-id-4\" class=\"sk-top-container\"><div class=\"sk-text-repr-fallback\"><pre>BayesSearchCV(cv=3, estimator=RandomForestClassifier(random_state=42),\n",
              "              n_jobs=-1,\n",
              "              optimizer_kwargs={&#x27;acq_func&#x27;: &#x27;EI&#x27;,\n",
              "                                &#x27;acq_func_kwargs&#x27;: {&#x27;xi&#x27;: 0.01},\n",
              "                                &#x27;base_estimator&#x27;: &#x27;RF&#x27;,\n",
              "                                &#x27;n_initial_points&#x27;: 10},\n",
              "              scoring=&#x27;f1&#x27;,\n",
              "              search_spaces={&#x27;class_weight&#x27;: Categorical(categories=(&#x27;balanced&#x27;, &#x27;balanced_subsample&#x27;), prior=None),\n",
              "                             &#x27;criterion&#x27;: Categorical(categories=(&#x27;gini&#x27;, &#x27;entropy&#x27;), prior=None),\n",
              "                             &#x27;max_depth&#x27;: Integer(low=3, high=20, prior=&#x27;uniform&#x27;, transform=&#x27;normalize&#x27;),\n",
              "                             &#x27;min_samples_split&#x27;: Real(low=0.01, high=0.5, prior=&#x27;uniform&#x27;, transform=&#x27;normalize&#x27;),\n",
              "                             &#x27;n_estimators&#x27;: Integer(low=5, high=200, prior=&#x27;uniform&#x27;, transform=&#x27;normalize&#x27;)})</pre><b>In a Jupyter environment, please rerun this cell to show the HTML representation or trust the notebook. <br />On GitHub, the HTML representation is unable to render, please try loading this page with nbviewer.org.</b></div><div class=\"sk-container\" hidden><div class=\"sk-item sk-dashed-wrapped\"><div class=\"sk-label-container\"><div class=\"sk-label sk-toggleable\"><input class=\"sk-toggleable__control sk-hidden--visually\" id=\"sk-estimator-id-10\" type=\"checkbox\" ><label for=\"sk-estimator-id-10\" class=\"sk-toggleable__label sk-toggleable__label-arrow\">BayesSearchCV</label><div class=\"sk-toggleable__content\"><pre>BayesSearchCV(cv=3, estimator=RandomForestClassifier(random_state=42),\n",
              "              n_jobs=-1,\n",
              "              optimizer_kwargs={&#x27;acq_func&#x27;: &#x27;EI&#x27;,\n",
              "                                &#x27;acq_func_kwargs&#x27;: {&#x27;xi&#x27;: 0.01},\n",
              "                                &#x27;base_estimator&#x27;: &#x27;RF&#x27;,\n",
              "                                &#x27;n_initial_points&#x27;: 10},\n",
              "              scoring=&#x27;f1&#x27;,\n",
              "              search_spaces={&#x27;class_weight&#x27;: Categorical(categories=(&#x27;balanced&#x27;, &#x27;balanced_subsample&#x27;), prior=None),\n",
              "                             &#x27;criterion&#x27;: Categorical(categories=(&#x27;gini&#x27;, &#x27;entropy&#x27;), prior=None),\n",
              "                             &#x27;max_depth&#x27;: Integer(low=3, high=20, prior=&#x27;uniform&#x27;, transform=&#x27;normalize&#x27;),\n",
              "                             &#x27;min_samples_split&#x27;: Real(low=0.01, high=0.5, prior=&#x27;uniform&#x27;, transform=&#x27;normalize&#x27;),\n",
              "                             &#x27;n_estimators&#x27;: Integer(low=5, high=200, prior=&#x27;uniform&#x27;, transform=&#x27;normalize&#x27;)})</pre></div></div></div><div class=\"sk-parallel\"><div class=\"sk-parallel-item\"><div class=\"sk-item\"><div class=\"sk-label-container\"><div class=\"sk-label sk-toggleable\"><input class=\"sk-toggleable__control sk-hidden--visually\" id=\"sk-estimator-id-11\" type=\"checkbox\" ><label for=\"sk-estimator-id-11\" class=\"sk-toggleable__label sk-toggleable__label-arrow\">estimator: RandomForestClassifier</label><div class=\"sk-toggleable__content\"><pre>RandomForestClassifier(random_state=42)</pre></div></div></div><div class=\"sk-serial\"><div class=\"sk-item\"><div class=\"sk-estimator sk-toggleable\"><input class=\"sk-toggleable__control sk-hidden--visually\" id=\"sk-estimator-id-12\" type=\"checkbox\" ><label for=\"sk-estimator-id-12\" class=\"sk-toggleable__label sk-toggleable__label-arrow\">RandomForestClassifier</label><div class=\"sk-toggleable__content\"><pre>RandomForestClassifier(random_state=42)</pre></div></div></div></div></div></div></div></div></div></div>"
            ]
          },
          "metadata": {},
          "execution_count": 28
        }
      ]
    },
    {
      "cell_type": "code",
      "source": [
        "from sklearn.metrics import f1_score\n",
        "\n",
        "\n",
        "y_pred = optimizer.best_estimator_.predict(X_test)\n",
        "\n",
        "print(f'Best F1 Score: {optimizer.best_score_}')\n",
        "print('Best Hyperparameters:')\n",
        "print(optimizer.best_params_)\n",
        "print('F1 Score on Validation set: ', f1_score(y_test, y_pred, pos_label=1))"
      ],
      "metadata": {
        "colab": {
          "base_uri": "https://localhost:8080/"
        },
        "id": "I0Xpj58sOlwV",
        "outputId": "8bf367fc-c76e-4845-a644-e601afade364"
      },
      "execution_count": null,
      "outputs": [
        {
          "output_type": "stream",
          "name": "stdout",
          "text": [
            "Best F1 Score: 0.5547725709781511\n",
            "Best Hyperparameters:\n",
            "OrderedDict([('class_weight', 'balanced_subsample'), ('criterion', 'entropy'), ('max_depth', 20), ('min_samples_split', 0.010042562181452535), ('n_estimators', 199)])\n",
            "F1 Score on Validation set:  0.5486080746246903\n"
          ]
        }
      ]
    },
    {
      "cell_type": "markdown",
      "source": [
        "## Tree Parzen Estimator - hyperopt\n",
        "이번엔 주어진 초매개변수가 낼 성능치를 추정하는 대신, 주어진 성능에서 초매개변수가 속할 확률을 사용하는 Tree Parzen Estimator를 사용해보자. 안타깝게도, scikit-learn 또는 scikit-optimize에서는 제공하지 않는다. 대신, 별도의 라이브러리를 써보자. 바로, [hyperopt](https://hyperopt.github.io/hyperopt)이다.\n",
        "\n",
        "먼저, 검색 공간을 정의하자."
      ],
      "metadata": {
        "id": "tafAk9GBOm5M"
      }
    },
    {
      "cell_type": "code",
      "source": [
        "from hyperopt import hp\n",
        "\n",
        "\n",
        "search_space = {\n",
        "    'n_estimators': 5 + hp.randint('n_estimators', 195), # 5 ~ 200 사이의 정수를 균일 분포 확률Uniformly Random로 뽑는다.\n",
        "    'criterion': hp.choice('criterion', ['gini', 'entropy']), # 'gini' 와 'entropy'를 중 하나를 균일 분포 확률Uniformly Random로 뽑는다.\n",
        "    'max_depth': 3 + hp.randint('max_depth', 17), # 3 ~ 20 사이의 정수를 균일 분포 확률Uniformly Random로 뽑는다.\n",
        "    'class_weight': hp.choice('class_weight', ['balanced', 'balanced_subsample']), # 'balanced' 와 'balanced_subsample'를 중 하나를 균일 분포 확률Uniformly Random로 뽑는다.\n",
        "    'min_samples_split': hp.uniform('min_samples_split', 0.01, 0.5), # 0.01 ~ 0.5 사이의 실수를 균일 분포 확률Uniformly Random로 뽑는다.\n",
        "}"
      ],
      "metadata": {
        "id": "sgHgTWCiPSUk"
      },
      "execution_count": null,
      "outputs": []
    },
    {
      "cell_type": "markdown",
      "source": [
        "이 외에도, 다양한 확률 분포에서 초매개변수를 추출할 수 있다. 보다 자세한 건 다음 문서를 참조하자: [Link](https://hyperopt.github.io/hyperopt/getting-started/search_spaces/)"
      ],
      "metadata": {
        "id": "KdaRJ8HGQYz4"
      }
    },
    {
      "cell_type": "markdown",
      "source": [
        "다음은, 목적 함수를 정의해야 한다. hyperopt에서 목적 함수란, 초매개변수들을 입력으로 받아서 성능 측정치를 출력으로 내놓는 함수를 의미한다. 다음과 같이 정의해보자."
      ],
      "metadata": {
        "id": "lDIgmNjLQogi"
      }
    },
    {
      "cell_type": "code",
      "source": [
        "from sklearn.metrics import f1_score\n",
        "from sklearn.ensemble import RandomForestClassifier\n",
        "from sklearn.model_selection import StratifiedKFold\n",
        "\n",
        "\n",
        "def objective(hyperparams):\n",
        "    splitter = StratifiedKFold(n_splits=3, shuffle=True, random_state=42)\n",
        "    scores = []\n",
        "\n",
        "    for I_train, I_test in splitter.split(X_train, y_train):\n",
        "        X_inner_train, X_inner_test, y_inner_train, y_inner_test = X_train[I_train], X_train[I_test], y_train[I_train], y_train[I_test]\n",
        "        model = RandomForestClassifier(random_state=42)\n",
        "        model.set_params(**hyperparams)\n",
        "        model.fit(X_inner_train, y_inner_train)\n",
        "        y_pred = model.predict(X_inner_test)\n",
        "        f1 = f1_score(y_true=y_inner_test, y_pred=y_pred, pos_label=1)\n",
        "        scores.append(f1)\n",
        "\n",
        "    return -np.mean(scores)"
      ],
      "metadata": {
        "id": "7omQFBU5Q3j0"
      },
      "execution_count": null,
      "outputs": []
    },
    {
      "cell_type": "markdown",
      "source": [
        "목적 함수의 출력으로 해줄 평균 F1 Score를 음수로 해준 것을 유념하자. hyperopt는 목적 함수의 값을 항상 **최소화**하는 방향으로만 동작한다.\n",
        "\n",
        "마지막으로 다음과 같이 최적의 매개변수를 찾아보자."
      ],
      "metadata": {
        "id": "xLrx5TNHSj6i"
      }
    },
    {
      "cell_type": "code",
      "source": [
        "from hyperopt import fmin, tpe\n",
        "\n",
        "\n",
        "best = fmin(\n",
        "    fn=objective, # 정의한 목적 함수를 입력한다.\n",
        "    space=search_space, # 검색 공간을 정의한다.\n",
        "    algo=tpe.suggest, # Tree Parzen Estimator를 활용한다.\n",
        "    max_evals=50 # 총 50회의 초매개변수 조합을 탐색한다.\n",
        ")"
      ],
      "metadata": {
        "colab": {
          "base_uri": "https://localhost:8080/"
        },
        "id": "YtxTeubAUNeo",
        "outputId": "c3bf9ceb-3f8c-4583-81a6-4239159f0c20"
      },
      "execution_count": null,
      "outputs": [
        {
          "output_type": "stream",
          "name": "stdout",
          "text": [
            "100%|██████████| 50/50 [04:22<00:00,  5.25s/trial, best loss: -0.5455671095354293]\n"
          ]
        }
      ]
    },
    {
      "cell_type": "markdown",
      "source": [
        "찾아낸 최적의 초매개변수는 다음과 같다."
      ],
      "metadata": {
        "id": "Q8idggyqXB6I"
      }
    },
    {
      "cell_type": "code",
      "source": [
        "best"
      ],
      "metadata": {
        "colab": {
          "base_uri": "https://localhost:8080/"
        },
        "id": "leAfA9NXWMZf",
        "outputId": "c32df589-713b-404f-de74-acf6586f398b"
      },
      "execution_count": null,
      "outputs": [
        {
          "output_type": "execute_result",
          "data": {
            "text/plain": [
              "{'class_weight': 1,\n",
              " 'criterion': 1,\n",
              " 'max_depth': 11,\n",
              " 'min_samples_split': 0.010751511046357519,\n",
              " 'n_estimators': 87}"
            ]
          },
          "metadata": {},
          "execution_count": 33
        }
      ]
    },
    {
      "cell_type": "code",
      "source": [
        "from sklearn.ensemble import RandomForestClassifier\n",
        "from sklearn.metrics import f1_score\n",
        "\n",
        "\n",
        "model = RandomForestClassifier(\n",
        "    random_state=42,\n",
        "    class_weight='balanced_subsample',\n",
        "    criterion='entropy',\n",
        "    max_depth=11,\n",
        "    min_samples_split=0.010751511046357519,\n",
        "    n_estimators=87\n",
        ").fit(X_train, y_train)\n",
        "\n",
        "y_pred = model.predict(X_test)\n",
        "f1_score(y_test, y_pred, pos_label=1)"
      ],
      "metadata": {
        "colab": {
          "base_uri": "https://localhost:8080/"
        },
        "id": "jj0109AtWn4E",
        "outputId": "5cff03fe-1e96-497c-8543-15903ec5ddd2"
      },
      "execution_count": null,
      "outputs": [
        {
          "output_type": "execute_result",
          "data": {
            "text/plain": [
              "0.5420749279538906"
            ]
          },
          "metadata": {},
          "execution_count": 35
        }
      ]
    },
    {
      "cell_type": "markdown",
      "source": [
        "## Tree Parzen Estimator - optuna"
      ],
      "metadata": {
        "id": "ftXq6GnFRWPb"
      }
    },
    {
      "cell_type": "markdown",
      "source": [
        "TPE를 실행하는 또 다른 방법은 optuna 라이브러리를 활용하는 것이다. hyperopt와 유사하게 optuna도 목적 함수를 정의해야 한다. 하지만, 다른 점은 검색 공간의 정의를 별도로 하는 것이 아니라, 목적 함수 내에서 한다는 것이다.\n",
        "\n",
        "다음과 같이 목적 함수를 만들어보자."
      ],
      "metadata": {
        "id": "h19G_0NORa58"
      }
    },
    {
      "cell_type": "code",
      "source": [
        "from sklearn.metrics import f1_score\n",
        "from sklearn.ensemble import RandomForestClassifier\n",
        "from sklearn.model_selection import StratifiedKFold\n",
        "import optuna\n",
        "import numpy as np\n",
        "\n",
        "\n",
        "# optuna에서는 목적 함수의 입력으로 Trial 인스턴스를 받는다.\n",
        "# Trial은 하나의 초매개변수 후보에 대해서 성능 측정을 하는 단위 과업을 의미한다.\n",
        "def objective(trial: optuna.Trial):\n",
        "    # 아래처럼 검색 공간을 정의하고, 초매개변수를 추출한다.\n",
        "    # 이 추출은 후술할 Sampler에 의해 특정한 확률로 추출된다.\n",
        "    n_estimators = trial.suggest_int('n_estimators', 5, 200)\n",
        "    criterion = trial.suggest_categorical('criterion', ['gini', 'entropy'])\n",
        "    max_depth = trial.suggest_int('max_depth', 3, 20)\n",
        "    class_weight = trial.suggest_categorical('class_weight', ['balanced', 'balanced_subsample'])\n",
        "    min_samples_split = trial.suggest_float('min_samples_split', 0.01, 0.05)\n",
        "\n",
        "    # 여기서부턴 3-Fold CV를 통해 추출한 초매개변수에 대한 성능을 추정한다.\n",
        "    splitter = StratifiedKFold(n_splits=3, shuffle=True, random_state=42)\n",
        "    scores = []\n",
        "\n",
        "    for I_train, I_test in splitter.split(X_train, y_train):\n",
        "        X_inner_train, X_inner_test, y_inner_train, y_inner_test = X_train[I_train], X_train[I_test], y_train[I_train], y_train[I_test]\n",
        "        model = RandomForestClassifier(\n",
        "            random_state=42,\n",
        "            n_estimators=n_estimators,\n",
        "            criterion=criterion,\n",
        "            max_depth=max_depth,\n",
        "            class_weight=class_weight,\n",
        "            min_samples_split=min_samples_split\n",
        "        )\n",
        "        model.fit(X_inner_train, y_inner_train)\n",
        "        y_pred = model.predict(X_inner_test)\n",
        "        f1 = f1_score(y_true=y_inner_test, y_pred=y_pred, pos_label=1)\n",
        "        scores.append(f1)\n",
        "\n",
        "    return np.mean(scores)"
      ],
      "metadata": {
        "id": "T3T0kjFeRnyy"
      },
      "execution_count": null,
      "outputs": []
    },
    {
      "cell_type": "markdown",
      "source": [
        "그 다음에는 초매개변수를 추출하기 위한 공간을 정의하는 Sampler 인스턴스를 정의해야 한다. 우리는 Tree Parzen Estimator를 사용하므로, [optuna.samplers.TPESampler](https://optuna.readthedocs.io/en/stable/reference/samplers/generated/optuna.samplers.TPESampler.html)를 다음과 같이 정의하자."
      ],
      "metadata": {
        "id": "ketuotuiUddc"
      }
    },
    {
      "cell_type": "code",
      "source": [
        "from optuna.samplers import TPESampler\n",
        "\n",
        "\n",
        "sampler = TPESampler()"
      ],
      "metadata": {
        "id": "SjfxyPxVU6CG"
      },
      "execution_count": null,
      "outputs": []
    },
    {
      "cell_type": "markdown",
      "source": [
        "이제 최적의 초매개변수를 찾을 차례다."
      ],
      "metadata": {
        "id": "Uf5PkullVdtW"
      }
    },
    {
      "cell_type": "code",
      "source": [
        "import optuna\n",
        "\n",
        "\n",
        "study = optuna.create_study(\n",
        "    study_name ='Random Forest with Tree Parzen Estimator', # 이름을 임의로 설정한다.\n",
        "    sampler=sampler, # 초매개변수를 추출하기 위한 공간을 정의한다.\n",
        "    direction='maximize', # F1 Score를 최대화하는 초매개변수를 찾는다.\n",
        ")\n",
        "\n",
        "optuna.logging.set_verbosity(optuna.logging.WARNING) # 불필요한 로그는 보여주지 말자.\n",
        "\n",
        "study.optimize(\n",
        "    func=objective, # 목적 함수를 의미한다\n",
        "    n_trials=50, # 탐색할 초매개변수들의 개수를 의미한다\n",
        "    show_progress_bar=True # 표준 출력에 프로그레스 바를 보여준다.\n",
        ")"
      ],
      "metadata": {
        "colab": {
          "base_uri": "https://localhost:8080/",
          "height": 49,
          "referenced_widgets": [
            "69d495142bbe436f829d8ddff83285fd",
            "92b686600a4f4e0883a0521ccc3b3493",
            "9602928d02da450993536e123d1e710a",
            "73f6fb8066564defaa590cd125aadc6d",
            "96d5090d2c294f79a57965439be7360d",
            "c2d0c66740584673ad62306f43ddaa40",
            "6bb00e64c26647c6a10207db2ec5205c",
            "d0aa55b1085c42c4a9992ee8726ccb06",
            "fafc6f92721a45189753a849b79358b0",
            "4cad9afa58a44dddb4891f81d1b4536a",
            "26346145f3b54611a9a133f972b526b4"
          ]
        },
        "id": "BlZ-7co3VheS",
        "outputId": "d394d4f5-1cc5-45fd-94cf-3cd911900bfb"
      },
      "execution_count": null,
      "outputs": [
        {
          "output_type": "display_data",
          "data": {
            "text/plain": [
              "  0%|          | 0/50 [00:00<?, ?it/s]"
            ],
            "application/vnd.jupyter.widget-view+json": {
              "version_major": 2,
              "version_minor": 0,
              "model_id": "69d495142bbe436f829d8ddff83285fd"
            }
          },
          "metadata": {}
        }
      ]
    },
    {
      "cell_type": "markdown",
      "source": [
        "찾아낸 최적의 초매개변수는 다음과 같다."
      ],
      "metadata": {
        "id": "dHc4rPrTYl9K"
      }
    },
    {
      "cell_type": "code",
      "source": [
        "study.best_params"
      ],
      "metadata": {
        "colab": {
          "base_uri": "https://localhost:8080/"
        },
        "id": "IN8X8VRaYiKs",
        "outputId": "41881a9a-f749-4820-a906-735f91924dc6"
      },
      "execution_count": null,
      "outputs": [
        {
          "output_type": "execute_result",
          "data": {
            "text/plain": [
              "{'n_estimators': 171,\n",
              " 'criterion': 'entropy',\n",
              " 'max_depth': 15,\n",
              " 'class_weight': 'balanced_subsample',\n",
              " 'min_samples_split': 0.01022540757290028}"
            ]
          },
          "metadata": {},
          "execution_count": 44
        }
      ]
    },
    {
      "cell_type": "code",
      "source": [
        "from sklearn.ensemble import RandomForestClassifier\n",
        "from sklearn.metrics import f1_score\n",
        "\n",
        "\n",
        "model = RandomForestClassifier(\n",
        "    random_state=42,\n",
        "    **study.best_params\n",
        ").fit(X_train, y_train)\n",
        "\n",
        "y_pred = model.predict(X_test)\n",
        "f1_score(y_test, y_pred, pos_label=1)"
      ],
      "metadata": {
        "colab": {
          "base_uri": "https://localhost:8080/"
        },
        "id": "pifmPnHYWvlm",
        "outputId": "85430138-b233-4950-b6ff-f27a20c25ff1"
      },
      "execution_count": null,
      "outputs": [
        {
          "output_type": "execute_result",
          "data": {
            "text/plain": [
              "0.5475218658892128"
            ]
          },
          "metadata": {},
          "execution_count": 45
        }
      ]
    }
  ]
}